{
 "cells": [
  {
   "cell_type": "code",
   "execution_count": 1,
   "metadata": {
    "collapsed": true
   },
   "outputs": [],
   "source": [
    "import pandas as pd\n",
    "import numpy as np"
   ]
  },
  {
   "cell_type": "code",
   "execution_count": 2,
   "metadata": {
    "collapsed": true
   },
   "outputs": [],
   "source": [
    "filename='report_2016_09_01-2016_12_01'"
   ]
  },
  {
   "cell_type": "code",
   "execution_count": 4,
   "metadata": {
    "collapsed": false
   },
   "outputs": [
    {
     "name": "stdout",
     "output_type": "stream",
     "text": [
      "total 16121840\r\n",
      "-rw-rw-r-- 1 sean sean       88495 Jan  3 01:33 crealytics.ipynb\r\n",
      "-rw-rw-r-- 1 sean sean         275 Jan  2 22:17 crealytics.py\r\n",
      "-rw-rw-r-- 1 sean sean     2750153 Jan  2 22:17 report_2016_02_01-2016_12_01_10000.csv\r\n",
      "-rw-rw-r-- 1 sean sean 12575272973 Jan  2 22:11 report_2016_02_01-2016_12_01.csv\r\n",
      "-rw-rw-r-- 1 sean sean        8715 Jan  3 01:47 report_2016_02_01-2016_12_01_datadict.csv\r\n",
      "-rw-rw-r-- 1 sean sean  3930615902 Jan  2 22:22 report_2016_09_01-2016_12_01.csv\r\n"
     ]
    }
   ],
   "source": [
    "!ls -l"
   ]
  },
  {
   "cell_type": "code",
   "execution_count": 2,
   "metadata": {
    "collapsed": true
   },
   "outputs": [],
   "source": [
    "df_test=pd.read_csv('report_2016_02_01-2016_12_01.csv.gz',nrows=100000)"
   ]
  },
  {
   "cell_type": "code",
   "execution_count": null,
   "metadata": {
    "collapsed": true
   },
   "outputs": [],
   "source": []
  },
  {
   "cell_type": "code",
   "execution_count": 24,
   "metadata": {
    "collapsed": true
   },
   "outputs": [],
   "source": [
    "reader = pd.read_csv('report_2016_02_01-2016_12_01.csv', chunksize=1000000)"
   ]
  },
  {
   "cell_type": "code",
   "execution_count": 28,
   "metadata": {
    "collapsed": false
   },
   "outputs": [
    {
     "data": {
      "text/plain": [
       "array(['Ad group ID', 'Ad group', 'Brand', 'Campaign ID', 'Campaign',\n",
       "       'Category (1st level)', 'Category (2nd level)',\n",
       "       'Category (3rd level)', 'Category (4th level)',\n",
       "       'Category (5th level)', 'Country/Territory', 'Custom label 0',\n",
       "       'Custom label 1', 'Custom label 2', 'Custom label 3',\n",
       "       'Custom label 4', 'Device', 'Item Id', 'Product type (1st level)',\n",
       "       'Product type (2nd level)', 'Product type (3rd level)',\n",
       "       'Product type (4th level)', 'Product type (5th level)'], dtype=object)"
      ]
     },
     "execution_count": 28,
     "metadata": {},
     "output_type": "execute_result"
    }
   ],
   "source": [
    "cat_types"
   ]
  },
  {
   "cell_type": "code",
   "execution_count": 29,
   "metadata": {
    "collapsed": false
   },
   "outputs": [
    {
     "name": "stderr",
     "output_type": "stream",
     "text": [
      "/home/sean/anaconda2/lib/python2.7/site-packages/IPython/core/interactiveshell.py:2821: DtypeWarning: Columns (13,26) have mixed types. Specify dtype option on import or set low_memory=False.\n",
      "  if self.run_code(code, result):\n",
      "/home/sean/anaconda2/lib/python2.7/site-packages/IPython/core/interactiveshell.py:2821: DtypeWarning: Columns (13) have mixed types. Specify dtype option on import or set low_memory=False.\n",
      "  if self.run_code(code, result):\n"
     ]
    }
   ],
   "source": [
    "dfs=[]\n",
    "for chunk in reader:\n",
    "    df=cast_categ(chunk,cat_types)\n",
    "    dfs.append(cast_categ)"
   ]
  },
  {
   "cell_type": "code",
   "execution_count": 2,
   "metadata": {
    "collapsed": true
   },
   "outputs": [],
   "source": [
    "from collections import OrderedDict\n",
    "\n",
    "\n",
    "def do_lookup(cat, typ):\n",
    "    lookups[cat]={}\n",
    "    \n",
    "    def lookup( val):\n",
    "        if val not in lookups[cat]:\n",
    "            lookups[cat][val]=typ(len(lookups[cat]))\n",
    "        return lookups[cat][val]\n",
    "    return lookup"
   ]
  },
  {
   "cell_type": "code",
   "execution_count": 3,
   "metadata": {
    "collapsed": false
   },
   "outputs": [],
   "source": [
    "data_dict=pd.read_excel('datadict.xlsx',usecols=range(5), index_col=1)\n",
    "id_types=data_dict.index[data_dict.data_class=='id'].values\n",
    "data_dict.loc[data_dict.data_type.notnull(), 'data_type'] = \\\n",
    "    data_dict.loc[data_dict.data_type.notnull(), 'data_type'].map(eval)"
   ]
  },
  {
   "cell_type": "code",
   "execution_count": 4,
   "metadata": {
    "collapsed": false
   },
   "outputs": [],
   "source": [
    "lookups={}\n",
    "converters={id:do_lookup(id, data_dict.at[id, 'data_type']) for id in id_types  }\n",
    "converters['CTR'] = lambda(x): np.float32(x[:-1])/100\n",
    "converters['Conv. rate'] =  lambda(x): np.float32(x[:-1])/100\n",
    "converters['Total conv. value'] =  lambda(x): np.float32(x.replace(',',''))\n",
    "\n",
    "parse_dates=['Day']\n",
    "dtype={ nam: data_dict.at[nam, 'data_type']  for nam in data_dict.index[data_dict.data_type.notnull()]}\n",
    "# http://stackoverflow.com/a/1176179\n"
   ]
  },
  {
   "cell_type": "code",
   "execution_count": 5,
   "metadata": {
    "collapsed": false
   },
   "outputs": [
    {
     "ename": "KeyboardInterrupt",
     "evalue": "",
     "output_type": "error",
     "traceback": [
      "\u001b[0;31m---------------------------------------------------------------------------\u001b[0m",
      "\u001b[0;31mKeyboardInterrupt\u001b[0m                         Traceback (most recent call last)",
      "\u001b[0;32m<ipython-input-5-81d096e3c5e3>\u001b[0m in \u001b[0;36m<module>\u001b[0;34m()\u001b[0m\n\u001b[1;32m      1\u001b[0m df3=pd.read_csv('report_2016_09_01-2016_12_01.csv', \n\u001b[0;32m----> 2\u001b[0;31m                 converters=converters, parse_dates=parse_dates, dtype=dtype)\n\u001b[0m",
      "\u001b[0;32m/home/sean/anaconda2/lib/python2.7/site-packages/pandas/io/parsers.pyc\u001b[0m in \u001b[0;36mparser_f\u001b[0;34m(filepath_or_buffer, sep, delimiter, header, names, index_col, usecols, squeeze, prefix, mangle_dupe_cols, dtype, engine, converters, true_values, false_values, skipinitialspace, skiprows, skipfooter, nrows, na_values, keep_default_na, na_filter, verbose, skip_blank_lines, parse_dates, infer_datetime_format, keep_date_col, date_parser, dayfirst, iterator, chunksize, compression, thousands, decimal, lineterminator, quotechar, quoting, escapechar, comment, encoding, dialect, tupleize_cols, error_bad_lines, warn_bad_lines, skip_footer, doublequote, delim_whitespace, as_recarray, compact_ints, use_unsigned, low_memory, buffer_lines, memory_map, float_precision)\u001b[0m\n\u001b[1;32m    560\u001b[0m                     skip_blank_lines=skip_blank_lines)\n\u001b[1;32m    561\u001b[0m \u001b[0;34m\u001b[0m\u001b[0m\n\u001b[0;32m--> 562\u001b[0;31m         \u001b[0;32mreturn\u001b[0m \u001b[0m_read\u001b[0m\u001b[0;34m(\u001b[0m\u001b[0mfilepath_or_buffer\u001b[0m\u001b[0;34m,\u001b[0m \u001b[0mkwds\u001b[0m\u001b[0;34m)\u001b[0m\u001b[0;34m\u001b[0m\u001b[0m\n\u001b[0m\u001b[1;32m    563\u001b[0m \u001b[0;34m\u001b[0m\u001b[0m\n\u001b[1;32m    564\u001b[0m     \u001b[0mparser_f\u001b[0m\u001b[0;34m.\u001b[0m\u001b[0m__name__\u001b[0m \u001b[0;34m=\u001b[0m \u001b[0mname\u001b[0m\u001b[0;34m\u001b[0m\u001b[0m\n",
      "\u001b[0;32m/home/sean/anaconda2/lib/python2.7/site-packages/pandas/io/parsers.pyc\u001b[0m in \u001b[0;36m_read\u001b[0;34m(filepath_or_buffer, kwds)\u001b[0m\n\u001b[1;32m    323\u001b[0m         \u001b[0;32mreturn\u001b[0m \u001b[0mparser\u001b[0m\u001b[0;34m\u001b[0m\u001b[0m\n\u001b[1;32m    324\u001b[0m \u001b[0;34m\u001b[0m\u001b[0m\n\u001b[0;32m--> 325\u001b[0;31m     \u001b[0;32mreturn\u001b[0m \u001b[0mparser\u001b[0m\u001b[0;34m.\u001b[0m\u001b[0mread\u001b[0m\u001b[0;34m(\u001b[0m\u001b[0;34m)\u001b[0m\u001b[0;34m\u001b[0m\u001b[0m\n\u001b[0m\u001b[1;32m    326\u001b[0m \u001b[0;34m\u001b[0m\u001b[0m\n\u001b[1;32m    327\u001b[0m _parser_defaults = {\n",
      "\u001b[0;32m/home/sean/anaconda2/lib/python2.7/site-packages/pandas/io/parsers.pyc\u001b[0m in \u001b[0;36mread\u001b[0;34m(self, nrows)\u001b[0m\n\u001b[1;32m    813\u001b[0m                 \u001b[0;32mraise\u001b[0m \u001b[0mValueError\u001b[0m\u001b[0;34m(\u001b[0m\u001b[0;34m'skip_footer not supported for iteration'\u001b[0m\u001b[0;34m)\u001b[0m\u001b[0;34m\u001b[0m\u001b[0m\n\u001b[1;32m    814\u001b[0m \u001b[0;34m\u001b[0m\u001b[0m\n\u001b[0;32m--> 815\u001b[0;31m         \u001b[0mret\u001b[0m \u001b[0;34m=\u001b[0m \u001b[0mself\u001b[0m\u001b[0;34m.\u001b[0m\u001b[0m_engine\u001b[0m\u001b[0;34m.\u001b[0m\u001b[0mread\u001b[0m\u001b[0;34m(\u001b[0m\u001b[0mnrows\u001b[0m\u001b[0;34m)\u001b[0m\u001b[0;34m\u001b[0m\u001b[0m\n\u001b[0m\u001b[1;32m    816\u001b[0m \u001b[0;34m\u001b[0m\u001b[0m\n\u001b[1;32m    817\u001b[0m         \u001b[0;32mif\u001b[0m \u001b[0mself\u001b[0m\u001b[0;34m.\u001b[0m\u001b[0moptions\u001b[0m\u001b[0;34m.\u001b[0m\u001b[0mget\u001b[0m\u001b[0;34m(\u001b[0m\u001b[0;34m'as_recarray'\u001b[0m\u001b[0;34m)\u001b[0m\u001b[0;34m:\u001b[0m\u001b[0;34m\u001b[0m\u001b[0m\n",
      "\u001b[0;32m/home/sean/anaconda2/lib/python2.7/site-packages/pandas/io/parsers.pyc\u001b[0m in \u001b[0;36mread\u001b[0;34m(self, nrows)\u001b[0m\n\u001b[1;32m   1312\u001b[0m     \u001b[0;32mdef\u001b[0m \u001b[0mread\u001b[0m\u001b[0;34m(\u001b[0m\u001b[0mself\u001b[0m\u001b[0;34m,\u001b[0m \u001b[0mnrows\u001b[0m\u001b[0;34m=\u001b[0m\u001b[0mNone\u001b[0m\u001b[0;34m)\u001b[0m\u001b[0;34m:\u001b[0m\u001b[0;34m\u001b[0m\u001b[0m\n\u001b[1;32m   1313\u001b[0m         \u001b[0;32mtry\u001b[0m\u001b[0;34m:\u001b[0m\u001b[0;34m\u001b[0m\u001b[0m\n\u001b[0;32m-> 1314\u001b[0;31m             \u001b[0mdata\u001b[0m \u001b[0;34m=\u001b[0m \u001b[0mself\u001b[0m\u001b[0;34m.\u001b[0m\u001b[0m_reader\u001b[0m\u001b[0;34m.\u001b[0m\u001b[0mread\u001b[0m\u001b[0;34m(\u001b[0m\u001b[0mnrows\u001b[0m\u001b[0;34m)\u001b[0m\u001b[0;34m\u001b[0m\u001b[0m\n\u001b[0m\u001b[1;32m   1315\u001b[0m         \u001b[0;32mexcept\u001b[0m \u001b[0mStopIteration\u001b[0m\u001b[0;34m:\u001b[0m\u001b[0;34m\u001b[0m\u001b[0m\n\u001b[1;32m   1316\u001b[0m             \u001b[0;32mif\u001b[0m \u001b[0mself\u001b[0m\u001b[0;34m.\u001b[0m\u001b[0m_first_chunk\u001b[0m\u001b[0;34m:\u001b[0m\u001b[0;34m\u001b[0m\u001b[0m\n",
      "\u001b[0;32mpandas/parser.pyx\u001b[0m in \u001b[0;36mpandas.parser.TextReader.read (pandas/parser.c:8748)\u001b[0;34m()\u001b[0m\n",
      "\u001b[0;32mpandas/parser.pyx\u001b[0m in \u001b[0;36mpandas.parser.TextReader._read_low_memory (pandas/parser.c:9003)\u001b[0;34m()\u001b[0m\n",
      "\u001b[0;32mpandas/parser.pyx\u001b[0m in \u001b[0;36mpandas.parser.TextReader._read_rows (pandas/parser.c:10022)\u001b[0;34m()\u001b[0m\n",
      "\u001b[0;32mpandas/parser.pyx\u001b[0m in \u001b[0;36mpandas.parser.TextReader._convert_column_data (pandas/parser.c:11364)\u001b[0;34m()\u001b[0m\n",
      "\u001b[0;32mpandas/parser.pyx\u001b[0m in \u001b[0;36mpandas.parser._apply_converter (pandas/parser.c:26160)\u001b[0;34m()\u001b[0m\n",
      "\u001b[0;32m<ipython-input-2-cba3fe720bec>\u001b[0m in \u001b[0;36mlookup\u001b[0;34m(val)\u001b[0m\n\u001b[1;32m      5\u001b[0m     \u001b[0mlookups\u001b[0m\u001b[0;34m[\u001b[0m\u001b[0mcat\u001b[0m\u001b[0;34m]\u001b[0m\u001b[0;34m=\u001b[0m\u001b[0;34m{\u001b[0m\u001b[0;34m}\u001b[0m\u001b[0;34m\u001b[0m\u001b[0m\n\u001b[1;32m      6\u001b[0m \u001b[0;34m\u001b[0m\u001b[0m\n\u001b[0;32m----> 7\u001b[0;31m     \u001b[0;32mdef\u001b[0m \u001b[0mlookup\u001b[0m\u001b[0;34m(\u001b[0m \u001b[0mval\u001b[0m\u001b[0;34m)\u001b[0m\u001b[0;34m:\u001b[0m\u001b[0;34m\u001b[0m\u001b[0m\n\u001b[0m\u001b[1;32m      8\u001b[0m         \u001b[0;32mif\u001b[0m \u001b[0mval\u001b[0m \u001b[0;32mnot\u001b[0m \u001b[0;32min\u001b[0m \u001b[0mlookups\u001b[0m\u001b[0;34m[\u001b[0m\u001b[0mcat\u001b[0m\u001b[0;34m]\u001b[0m\u001b[0;34m:\u001b[0m\u001b[0;34m\u001b[0m\u001b[0m\n\u001b[1;32m      9\u001b[0m             \u001b[0mlookups\u001b[0m\u001b[0;34m[\u001b[0m\u001b[0mcat\u001b[0m\u001b[0;34m]\u001b[0m\u001b[0;34m[\u001b[0m\u001b[0mval\u001b[0m\u001b[0;34m]\u001b[0m\u001b[0;34m=\u001b[0m\u001b[0mtyp\u001b[0m\u001b[0;34m(\u001b[0m\u001b[0mlen\u001b[0m\u001b[0;34m(\u001b[0m\u001b[0mlookups\u001b[0m\u001b[0;34m[\u001b[0m\u001b[0mcat\u001b[0m\u001b[0;34m]\u001b[0m\u001b[0;34m)\u001b[0m\u001b[0;34m)\u001b[0m\u001b[0;34m\u001b[0m\u001b[0m\n",
      "\u001b[0;31mKeyboardInterrupt\u001b[0m: "
     ]
    }
   ],
   "source": [
    "df3=pd.read_csv('report_2016_09_01-2016_12_01.csv', \n",
    "                converters=converters, parse_dates=parse_dates, dtype=dtype)"
   ]
  },
  {
   "cell_type": "markdown",
   "metadata": {},
   "source": [
    " wc report_2016_09_01-2016_12_01.csv \n",
    "  14466685  282408421 3930615902 report_2016_09_01-2016_12_01.csv\n"
   ]
  },
  {
   "cell_type": "code",
   "execution_count": 6,
   "metadata": {
    "collapsed": true
   },
   "outputs": [],
   "source": [
    "reader = pd.read_csv('report_2016_09_01-2016_12_01.csv', converters=converters, \n",
    "                     parse_dates=parse_dates, dtype=dtype, chunksize=1000000)"
   ]
  },
  {
   "cell_type": "code",
   "execution_count": 7,
   "metadata": {
    "collapsed": false
   },
   "outputs": [
    {
     "name": "stdout",
     "output_type": "stream",
     "text": [
      "0\n",
      "1\n",
      "2\n",
      "3\n",
      "4\n",
      "5\n",
      "6\n",
      "7\n",
      "8\n",
      "9\n",
      "10\n",
      "11\n",
      "12\n",
      "13\n",
      "14\n"
     ]
    }
   ],
   "source": [
    "dfs=[]\n",
    "for i,ch in enumerate(reader):\n",
    "    print i\n",
    "    ch.to_csv('report_2016_09_01-2016_12_01_{:02d}.csv'.format(i),index=False)\n",
    "    dfs.append(ch)"
   ]
  },
  {
   "cell_type": "code",
   "execution_count": 9,
   "metadata": {
    "collapsed": true
   },
   "outputs": [],
   "source": [
    "df_mg=pd.concat(dfs)"
   ]
  },
  {
   "cell_type": "code",
   "execution_count": 11,
   "metadata": {
    "collapsed": true
   },
   "outputs": [],
   "source": [
    "del dfs"
   ]
  },
  {
   "cell_type": "code",
   "execution_count": 10,
   "metadata": {
    "collapsed": false
   },
   "outputs": [],
   "source": [
    "df_mg.to_pickle('report_2016_09_01-2016_12_01.pkl')"
   ]
  },
  {
   "cell_type": "code",
   "execution_count": 20,
   "metadata": {
    "collapsed": false
   },
   "outputs": [
    {
     "data": {
      "text/plain": [
       "Ad group ID                          int64\n",
       "Ad group                             int64\n",
       "Brand                                int64\n",
       "Campaign ID                          int64\n",
       "Campaign                             int64\n",
       "Category (1st level)                 int64\n",
       "Category (2nd level)                 int64\n",
       "Category (3rd level)                 int64\n",
       "Category (4th level)                 int64\n",
       "Category (5th level)                 int64\n",
       "Clicks                              uint16\n",
       "Conv. rate                         float64\n",
       "Conversions                         uint16\n",
       "Total conv. value                  float64\n",
       "Cost                               float32\n",
       "Country/Territory                    int64\n",
       "Cross-device conv.                  uint16\n",
       "CTR                                float64\n",
       "Custom label 0                       int64\n",
       "Custom label 1                       int64\n",
       "Custom label 2                       int64\n",
       "Custom label 3                       int64\n",
       "Custom label 4                       int64\n",
       "Day                         datetime64[ns]\n",
       "Device                               int64\n",
       "Impressions                         uint16\n",
       "Item Id                              int64\n",
       "Product type (1st level)             int64\n",
       "Product type (2nd level)             int64\n",
       "Product type (3rd level)             int64\n",
       "Product type (4th level)             int64\n",
       "Product type (5th level)             int64\n",
       "Click share                         object\n",
       "Search Impr. share                  object\n",
       "dtype: object"
      ]
     },
     "execution_count": 20,
     "metadata": {},
     "output_type": "execute_result"
    }
   ],
   "source": [
    "df_mg.dtypes"
   ]
  },
  {
   "cell_type": "code",
   "execution_count": 12,
   "metadata": {
    "collapsed": false
   },
   "outputs": [],
   "source": [
    "lookups_df = pd.concat({id: pd.Series(lookups[id]) for id in lookups}).reset_index()\n",
    "lookups_df.columns=['id_name','id', 'id_index']"
   ]
  },
  {
   "cell_type": "code",
   "execution_count": null,
   "metadata": {
    "collapsed": true
   },
   "outputs": [],
   "source": []
  },
  {
   "cell_type": "code",
   "execution_count": 14,
   "metadata": {
    "collapsed": false
   },
   "outputs": [],
   "source": [
    "lookups_df.to_pickle('lookup_report_2016_09_01-2016_12_01.pkl')"
   ]
  },
  {
   "cell_type": "markdown",
   "metadata": {},
   "source": [
    "Produce histogram of impressions by each id type\n",
    "sort by impressions\n",
    "plot ctr and cvr\n"
   ]
  },
  {
   "cell_type": "code",
   "execution_count": 17,
   "metadata": {
    "collapsed": false
   },
   "outputs": [],
   "source": [
    "a1=df_mg.groupby('Brand')[['Impressions','Clicks','Conversions', 'Cross-device conv.', 'Total conv. value']].sum()"
   ]
  },
  {
   "cell_type": "code",
   "execution_count": 18,
   "metadata": {
    "collapsed": true
   },
   "outputs": [],
   "source": [
    "a1['CTR']=a1['Clicks'].div(a1['Impressions'])\n",
    "a1['CVR']=a1['Conversions'].div(a1['Clicks'])\n"
   ]
  },
  {
   "cell_type": "code",
   "execution_count": 21,
   "metadata": {
    "collapsed": false
   },
   "outputs": [],
   "source": [
    "a1.sort_values('Impressions',ascending=False, inplace=True)"
   ]
  },
  {
   "cell_type": "code",
   "execution_count": 22,
   "metadata": {
    "collapsed": false
   },
   "outputs": [
    {
     "data": {
      "text/html": [
       "<div>\n",
       "<table border=\"1\" class=\"dataframe\">\n",
       "  <thead>\n",
       "    <tr style=\"text-align: right;\">\n",
       "      <th></th>\n",
       "      <th>Impressions</th>\n",
       "      <th>Clicks</th>\n",
       "      <th>Conversions</th>\n",
       "      <th>Cross-device conv.</th>\n",
       "      <th>Total conv. value</th>\n",
       "      <th>CTR</th>\n",
       "      <th>CVR</th>\n",
       "    </tr>\n",
       "    <tr>\n",
       "      <th>Brand</th>\n",
       "      <th></th>\n",
       "      <th></th>\n",
       "      <th></th>\n",
       "      <th></th>\n",
       "      <th></th>\n",
       "      <th></th>\n",
       "      <th></th>\n",
       "    </tr>\n",
       "  </thead>\n",
       "  <tbody>\n",
       "    <tr>\n",
       "      <th>19</th>\n",
       "      <td>5653465.0</td>\n",
       "      <td>132052.0</td>\n",
       "      <td>674.0</td>\n",
       "      <td>6.0</td>\n",
       "      <td>186885.390566</td>\n",
       "      <td>0.023358</td>\n",
       "      <td>0.005104</td>\n",
       "    </tr>\n",
       "    <tr>\n",
       "      <th>21</th>\n",
       "      <td>2229866.0</td>\n",
       "      <td>36833.0</td>\n",
       "      <td>674.0</td>\n",
       "      <td>0.0</td>\n",
       "      <td>146943.010303</td>\n",
       "      <td>0.016518</td>\n",
       "      <td>0.018299</td>\n",
       "    </tr>\n",
       "    <tr>\n",
       "      <th>58</th>\n",
       "      <td>2198560.0</td>\n",
       "      <td>31683.0</td>\n",
       "      <td>452.0</td>\n",
       "      <td>0.0</td>\n",
       "      <td>134021.030163</td>\n",
       "      <td>0.014411</td>\n",
       "      <td>0.014266</td>\n",
       "    </tr>\n",
       "    <tr>\n",
       "      <th>63</th>\n",
       "      <td>1895228.0</td>\n",
       "      <td>19856.0</td>\n",
       "      <td>204.0</td>\n",
       "      <td>0.0</td>\n",
       "      <td>118038.810158</td>\n",
       "      <td>0.010477</td>\n",
       "      <td>0.010274</td>\n",
       "    </tr>\n",
       "    <tr>\n",
       "      <th>40</th>\n",
       "      <td>1724266.0</td>\n",
       "      <td>24891.0</td>\n",
       "      <td>301.0</td>\n",
       "      <td>0.0</td>\n",
       "      <td>93540.389893</td>\n",
       "      <td>0.014436</td>\n",
       "      <td>0.012093</td>\n",
       "    </tr>\n",
       "  </tbody>\n",
       "</table>\n",
       "</div>"
      ],
      "text/plain": [
       "       Impressions    Clicks  Conversions  Cross-device conv.  \\\n",
       "Brand                                                           \n",
       "19       5653465.0  132052.0        674.0                 6.0   \n",
       "21       2229866.0   36833.0        674.0                 0.0   \n",
       "58       2198560.0   31683.0        452.0                 0.0   \n",
       "63       1895228.0   19856.0        204.0                 0.0   \n",
       "40       1724266.0   24891.0        301.0                 0.0   \n",
       "\n",
       "       Total conv. value       CTR       CVR  \n",
       "Brand                                         \n",
       "19         186885.390566  0.023358  0.005104  \n",
       "21         146943.010303  0.016518  0.018299  \n",
       "58         134021.030163  0.014411  0.014266  \n",
       "63         118038.810158  0.010477  0.010274  \n",
       "40          93540.389893  0.014436  0.012093  "
      ]
     },
     "execution_count": 22,
     "metadata": {},
     "output_type": "execute_result"
    }
   ],
   "source": [
    "a1.head()"
   ]
  },
  {
   "cell_type": "code",
   "execution_count": 23,
   "metadata": {
    "collapsed": true
   },
   "outputs": [],
   "source": [
    "lookups_df1=lookups_df.set_index(['id_name','id_index'])"
   ]
  },
  {
   "cell_type": "code",
   "execution_count": 39,
   "metadata": {
    "collapsed": true
   },
   "outputs": [],
   "source": [
    "x=lookups_df1.xs('Brand').id"
   ]
  },
  {
   "cell_type": "code",
   "execution_count": 40,
   "metadata": {
    "collapsed": false
   },
   "outputs": [
    {
     "data": {
      "text/plain": [
       "id_index\n",
       "1085            --\n",
       "359     0039 italy\n",
       "479       120%lino\n",
       "1021    4 barra 12\n",
       "1053          4lou\n",
       "Name: id, dtype: object"
      ]
     },
     "execution_count": 40,
     "metadata": {},
     "output_type": "execute_result"
    }
   ],
   "source": [
    "x.head()"
   ]
  },
  {
   "cell_type": "code",
   "execution_count": 43,
   "metadata": {
    "collapsed": false
   },
   "outputs": [
    {
     "data": {
      "text/plain": [
       "'aeronautica'"
      ]
     },
     "execution_count": 43,
     "metadata": {},
     "output_type": "execute_result"
    }
   ],
   "source": [
    "x.iloc[21]"
   ]
  },
  {
   "cell_type": "code",
   "execution_count": 37,
   "metadata": {
    "collapsed": false
   },
   "outputs": [
    {
     "data": {
      "text/plain": [
       "id    wellensteyn\n",
       "Name: (Brand, 19), dtype: object"
      ]
     },
     "execution_count": 37,
     "metadata": {},
     "output_type": "execute_result"
    }
   ],
   "source": [
    "lookups_df1.loc['Brand',19]"
   ]
  },
  {
   "cell_type": "code",
   "execution_count": 26,
   "metadata": {
    "collapsed": false
   },
   "outputs": [
    {
     "data": {
      "text/html": [
       "<div>\n",
       "<table border=\"1\" class=\"dataframe\">\n",
       "  <thead>\n",
       "    <tr style=\"text-align: right;\">\n",
       "      <th></th>\n",
       "      <th>id</th>\n",
       "    </tr>\n",
       "    <tr>\n",
       "      <th>id_index</th>\n",
       "      <th></th>\n",
       "    </tr>\n",
       "  </thead>\n",
       "  <tbody>\n",
       "    <tr>\n",
       "      <th>1085</th>\n",
       "      <td>--</td>\n",
       "    </tr>\n",
       "    <tr>\n",
       "      <th>359</th>\n",
       "      <td>0039 italy</td>\n",
       "    </tr>\n",
       "    <tr>\n",
       "      <th>479</th>\n",
       "      <td>120%lino</td>\n",
       "    </tr>\n",
       "    <tr>\n",
       "      <th>1021</th>\n",
       "      <td>4 barra 12</td>\n",
       "    </tr>\n",
       "    <tr>\n",
       "      <th>1053</th>\n",
       "      <td>4lou</td>\n",
       "    </tr>\n",
       "  </tbody>\n",
       "</table>\n",
       "</div>"
      ],
      "text/plain": [
       "                  id\n",
       "id_index            \n",
       "1085              --\n",
       "359       0039 italy\n",
       "479         120%lino\n",
       "1021      4 barra 12\n",
       "1053            4lou"
      ]
     },
     "execution_count": 26,
     "metadata": {},
     "output_type": "execute_result"
    }
   ],
   "source": [
    "x.head()"
   ]
  },
  {
   "cell_type": "code",
   "execution_count": 54,
   "metadata": {
    "collapsed": false
   },
   "outputs": [],
   "source": [
    "a1['Brand_name']=a1.reset_index()['Brand'].map(lookups_df1.xs('Brand').id)"
   ]
  },
  {
   "cell_type": "code",
   "execution_count": 59,
   "metadata": {
    "collapsed": true
   },
   "outputs": [],
   "source": [
    "a2=a1.reset_index()"
   ]
  },
  {
   "cell_type": "code",
   "execution_count": 58,
   "metadata": {
    "collapsed": false
   },
   "outputs": [
    {
     "data": {
      "text/plain": [
       "0    19\n",
       "1    21\n",
       "2    58\n",
       "3    63\n",
       "4    40\n",
       "Name: Brand, dtype: int64"
      ]
     },
     "execution_count": 58,
     "metadata": {},
     "output_type": "execute_result"
    }
   ],
   "source": [
    "a2.head()"
   ]
  },
  {
   "cell_type": "code",
   "execution_count": 60,
   "metadata": {
    "collapsed": false
   },
   "outputs": [],
   "source": [
    "a2['Brand_name']=a2['Brand'].map(lookups_df1.xs('Brand').id)"
   ]
  },
  {
   "cell_type": "code",
   "execution_count": 61,
   "metadata": {
    "collapsed": false
   },
   "outputs": [
    {
     "data": {
      "text/html": [
       "<div>\n",
       "<table border=\"1\" class=\"dataframe\">\n",
       "  <thead>\n",
       "    <tr style=\"text-align: right;\">\n",
       "      <th></th>\n",
       "      <th>Brand</th>\n",
       "      <th>Impressions</th>\n",
       "      <th>Clicks</th>\n",
       "      <th>Conversions</th>\n",
       "      <th>Cross-device conv.</th>\n",
       "      <th>Total conv. value</th>\n",
       "      <th>CTR</th>\n",
       "      <th>CVR</th>\n",
       "      <th>Brand_name</th>\n",
       "    </tr>\n",
       "  </thead>\n",
       "  <tbody>\n",
       "    <tr>\n",
       "      <th>0</th>\n",
       "      <td>19</td>\n",
       "      <td>5653465.0</td>\n",
       "      <td>132052.0</td>\n",
       "      <td>674.0</td>\n",
       "      <td>6.0</td>\n",
       "      <td>186885.390566</td>\n",
       "      <td>0.023358</td>\n",
       "      <td>0.005104</td>\n",
       "      <td>wellensteyn</td>\n",
       "    </tr>\n",
       "    <tr>\n",
       "      <th>1</th>\n",
       "      <td>21</td>\n",
       "      <td>2229866.0</td>\n",
       "      <td>36833.0</td>\n",
       "      <td>674.0</td>\n",
       "      <td>0.0</td>\n",
       "      <td>146943.010303</td>\n",
       "      <td>0.016518</td>\n",
       "      <td>0.018299</td>\n",
       "      <td>marc o'polo</td>\n",
       "    </tr>\n",
       "    <tr>\n",
       "      <th>2</th>\n",
       "      <td>58</td>\n",
       "      <td>2198560.0</td>\n",
       "      <td>31683.0</td>\n",
       "      <td>452.0</td>\n",
       "      <td>0.0</td>\n",
       "      <td>134021.030163</td>\n",
       "      <td>0.014411</td>\n",
       "      <td>0.014266</td>\n",
       "      <td>hugo</td>\n",
       "    </tr>\n",
       "    <tr>\n",
       "      <th>3</th>\n",
       "      <td>63</td>\n",
       "      <td>1895228.0</td>\n",
       "      <td>19856.0</td>\n",
       "      <td>204.0</td>\n",
       "      <td>0.0</td>\n",
       "      <td>118038.810158</td>\n",
       "      <td>0.010477</td>\n",
       "      <td>0.010274</td>\n",
       "      <td>moncler</td>\n",
       "    </tr>\n",
       "    <tr>\n",
       "      <th>4</th>\n",
       "      <td>40</td>\n",
       "      <td>1724266.0</td>\n",
       "      <td>24891.0</td>\n",
       "      <td>301.0</td>\n",
       "      <td>0.0</td>\n",
       "      <td>93540.389893</td>\n",
       "      <td>0.014436</td>\n",
       "      <td>0.012093</td>\n",
       "      <td>boss</td>\n",
       "    </tr>\n",
       "  </tbody>\n",
       "</table>\n",
       "</div>"
      ],
      "text/plain": [
       "   Brand  Impressions    Clicks  Conversions  Cross-device conv.  \\\n",
       "0     19    5653465.0  132052.0        674.0                 6.0   \n",
       "1     21    2229866.0   36833.0        674.0                 0.0   \n",
       "2     58    2198560.0   31683.0        452.0                 0.0   \n",
       "3     63    1895228.0   19856.0        204.0                 0.0   \n",
       "4     40    1724266.0   24891.0        301.0                 0.0   \n",
       "\n",
       "   Total conv. value       CTR       CVR   Brand_name  \n",
       "0      186885.390566  0.023358  0.005104  wellensteyn  \n",
       "1      146943.010303  0.016518  0.018299  marc o'polo  \n",
       "2      134021.030163  0.014411  0.014266         hugo  \n",
       "3      118038.810158  0.010477  0.010274      moncler  \n",
       "4       93540.389893  0.014436  0.012093         boss  "
      ]
     },
     "execution_count": 61,
     "metadata": {},
     "output_type": "execute_result"
    }
   ],
   "source": [
    "a2.head()"
   ]
  },
  {
   "cell_type": "code",
   "execution_count": 63,
   "metadata": {
    "collapsed": false
   },
   "outputs": [
    {
     "name": "stderr",
     "output_type": "stream",
     "text": [
      "/home/sean/anaconda2/lib/python2.7/site-packages/numpy/lib/function_base.py:3834: RuntimeWarning: Invalid value encountered in percentile\n",
      "  RuntimeWarning)\n"
     ]
    },
    {
     "data": {
      "text/html": [
       "<div>\n",
       "<table border=\"1\" class=\"dataframe\">\n",
       "  <thead>\n",
       "    <tr style=\"text-align: right;\">\n",
       "      <th></th>\n",
       "      <th>Brand</th>\n",
       "      <th>Impressions</th>\n",
       "      <th>Clicks</th>\n",
       "      <th>Conversions</th>\n",
       "      <th>Cross-device conv.</th>\n",
       "      <th>Total conv. value</th>\n",
       "      <th>CTR</th>\n",
       "      <th>CVR</th>\n",
       "    </tr>\n",
       "  </thead>\n",
       "  <tbody>\n",
       "    <tr>\n",
       "      <th>count</th>\n",
       "      <td>1144.00000</td>\n",
       "      <td>1.144000e+03</td>\n",
       "      <td>1144.000000</td>\n",
       "      <td>1144.000000</td>\n",
       "      <td>1144.000000</td>\n",
       "      <td>1144.000000</td>\n",
       "      <td>1138.000000</td>\n",
       "      <td>1032.000000</td>\n",
       "    </tr>\n",
       "    <tr>\n",
       "      <th>mean</th>\n",
       "      <td>571.50000</td>\n",
       "      <td>5.794697e+04</td>\n",
       "      <td>887.131119</td>\n",
       "      <td>14.180070</td>\n",
       "      <td>0.076923</td>\n",
       "      <td>2984.878167</td>\n",
       "      <td>0.016644</td>\n",
       "      <td>inf</td>\n",
       "    </tr>\n",
       "    <tr>\n",
       "      <th>std</th>\n",
       "      <td>330.38866</td>\n",
       "      <td>2.481357e+05</td>\n",
       "      <td>4698.710545</td>\n",
       "      <td>48.244519</td>\n",
       "      <td>0.865005</td>\n",
       "      <td>11579.911007</td>\n",
       "      <td>0.015730</td>\n",
       "      <td>NaN</td>\n",
       "    </tr>\n",
       "    <tr>\n",
       "      <th>min</th>\n",
       "      <td>0.00000</td>\n",
       "      <td>0.000000e+00</td>\n",
       "      <td>0.000000</td>\n",
       "      <td>0.000000</td>\n",
       "      <td>0.000000</td>\n",
       "      <td>0.000000</td>\n",
       "      <td>0.000000</td>\n",
       "      <td>0.000000</td>\n",
       "    </tr>\n",
       "    <tr>\n",
       "      <th>25%</th>\n",
       "      <td>285.75000</td>\n",
       "      <td>4.690000e+02</td>\n",
       "      <td>6.000000</td>\n",
       "      <td>0.000000</td>\n",
       "      <td>0.000000</td>\n",
       "      <td>0.000000</td>\n",
       "      <td>NaN</td>\n",
       "      <td>NaN</td>\n",
       "    </tr>\n",
       "    <tr>\n",
       "      <th>50%</th>\n",
       "      <td>571.50000</td>\n",
       "      <td>2.987000e+03</td>\n",
       "      <td>45.500000</td>\n",
       "      <td>1.000000</td>\n",
       "      <td>0.000000</td>\n",
       "      <td>77.400002</td>\n",
       "      <td>NaN</td>\n",
       "      <td>NaN</td>\n",
       "    </tr>\n",
       "    <tr>\n",
       "      <th>75%</th>\n",
       "      <td>857.25000</td>\n",
       "      <td>2.398975e+04</td>\n",
       "      <td>335.500000</td>\n",
       "      <td>7.000000</td>\n",
       "      <td>0.000000</td>\n",
       "      <td>1514.622499</td>\n",
       "      <td>NaN</td>\n",
       "      <td>NaN</td>\n",
       "    </tr>\n",
       "    <tr>\n",
       "      <th>max</th>\n",
       "      <td>1143.00000</td>\n",
       "      <td>5.653465e+06</td>\n",
       "      <td>132052.000000</td>\n",
       "      <td>674.000000</td>\n",
       "      <td>17.000000</td>\n",
       "      <td>186885.390566</td>\n",
       "      <td>0.263158</td>\n",
       "      <td>inf</td>\n",
       "    </tr>\n",
       "  </tbody>\n",
       "</table>\n",
       "</div>"
      ],
      "text/plain": [
       "            Brand   Impressions         Clicks  Conversions  \\\n",
       "count  1144.00000  1.144000e+03    1144.000000  1144.000000   \n",
       "mean    571.50000  5.794697e+04     887.131119    14.180070   \n",
       "std     330.38866  2.481357e+05    4698.710545    48.244519   \n",
       "min       0.00000  0.000000e+00       0.000000     0.000000   \n",
       "25%     285.75000  4.690000e+02       6.000000     0.000000   \n",
       "50%     571.50000  2.987000e+03      45.500000     1.000000   \n",
       "75%     857.25000  2.398975e+04     335.500000     7.000000   \n",
       "max    1143.00000  5.653465e+06  132052.000000   674.000000   \n",
       "\n",
       "       Cross-device conv.  Total conv. value          CTR          CVR  \n",
       "count         1144.000000        1144.000000  1138.000000  1032.000000  \n",
       "mean             0.076923        2984.878167     0.016644          inf  \n",
       "std              0.865005       11579.911007     0.015730          NaN  \n",
       "min              0.000000           0.000000     0.000000     0.000000  \n",
       "25%              0.000000           0.000000          NaN          NaN  \n",
       "50%              0.000000          77.400002          NaN          NaN  \n",
       "75%              0.000000        1514.622499          NaN          NaN  \n",
       "max             17.000000      186885.390566     0.263158          inf  "
      ]
     },
     "execution_count": 63,
     "metadata": {},
     "output_type": "execute_result"
    }
   ],
   "source": [
    "a2.describe()"
   ]
  },
  {
   "cell_type": "markdown",
   "metadata": {},
   "source": [
    "1144 brands, max 5 million impressions"
   ]
  },
  {
   "cell_type": "code",
   "execution_count": 73,
   "metadata": {
    "collapsed": false
   },
   "outputs": [
    {
     "data": {
      "text/plain": [
       "array([<matplotlib.axes._subplots.AxesSubplot object at 0x7f8a4fbcdcd0>,\n",
       "       <matplotlib.axes._subplots.AxesSubplot object at 0x7f8a4f44b8d0>,\n",
       "       <matplotlib.axes._subplots.AxesSubplot object at 0x7f8a4f34f5d0>], dtype=object)"
      ]
     },
     "execution_count": 73,
     "metadata": {},
     "output_type": "execute_result"
    }
   ],
   "source": [
    "a2[:50].plot(x='Brand_name',y=['Impressions','CTR','CVR'],subplots=True,kind='bar')"
   ]
  },
  {
   "cell_type": "code",
   "execution_count": 65,
   "metadata": {
    "collapsed": true
   },
   "outputs": [],
   "source": [
    "import matplotlib.pyplot as plt"
   ]
  },
  {
   "cell_type": "code",
   "execution_count": 66,
   "metadata": {
    "collapsed": true
   },
   "outputs": [],
   "source": [
    "f=plt.figure()"
   ]
  },
  {
   "cell_type": "code",
   "execution_count": 70,
   "metadata": {
    "collapsed": false
   },
   "outputs": [],
   "source": [
    "z=plt.subplot('311')"
   ]
  },
  {
   "cell_type": "code",
   "execution_count": 62,
   "metadata": {
    "collapsed": false
   },
   "outputs": [
    {
     "name": "stdout",
     "output_type": "stream",
     "text": [
      "Using matplotlib backend: Qt5Agg\n"
     ]
    }
   ],
   "source": [
    "%matplotlib"
   ]
  },
  {
   "cell_type": "code",
   "execution_count": 46,
   "metadata": {
    "collapsed": true
   },
   "outputs": [],
   "source": [
    "ll=lookups_df1.xs('Brand').id"
   ]
  },
  {
   "cell_type": "code",
   "execution_count": 44,
   "metadata": {
    "collapsed": true
   },
   "outputs": [],
   "source": [
    "a2=a1.head(20).copy()"
   ]
  },
  {
   "cell_type": "code",
   "execution_count": 51,
   "metadata": {
    "collapsed": true
   },
   "outputs": [],
   "source": [
    "a3=a2.reset_index()"
   ]
  },
  {
   "cell_type": "code",
   "execution_count": 52,
   "metadata": {
    "collapsed": false
   },
   "outputs": [],
   "source": [
    "a3['Brand_name']=a3['Brand'].map(ll)"
   ]
  },
  {
   "cell_type": "code",
   "execution_count": 53,
   "metadata": {
    "collapsed": false
   },
   "outputs": [
    {
     "data": {
      "text/html": [
       "<div>\n",
       "<table border=\"1\" class=\"dataframe\">\n",
       "  <thead>\n",
       "    <tr style=\"text-align: right;\">\n",
       "      <th></th>\n",
       "      <th>Brand</th>\n",
       "      <th>Impressions</th>\n",
       "      <th>Clicks</th>\n",
       "      <th>Conversions</th>\n",
       "      <th>Cross-device conv.</th>\n",
       "      <th>Total conv. value</th>\n",
       "      <th>CTR</th>\n",
       "      <th>CVR</th>\n",
       "      <th>Brand_name</th>\n",
       "    </tr>\n",
       "  </thead>\n",
       "  <tbody>\n",
       "    <tr>\n",
       "      <th>0</th>\n",
       "      <td>19</td>\n",
       "      <td>5653465.0</td>\n",
       "      <td>132052.0</td>\n",
       "      <td>674.0</td>\n",
       "      <td>6.0</td>\n",
       "      <td>186885.390566</td>\n",
       "      <td>0.023358</td>\n",
       "      <td>0.005104</td>\n",
       "      <td>wellensteyn</td>\n",
       "    </tr>\n",
       "    <tr>\n",
       "      <th>1</th>\n",
       "      <td>21</td>\n",
       "      <td>2229866.0</td>\n",
       "      <td>36833.0</td>\n",
       "      <td>674.0</td>\n",
       "      <td>0.0</td>\n",
       "      <td>146943.010303</td>\n",
       "      <td>0.016518</td>\n",
       "      <td>0.018299</td>\n",
       "      <td>marc o'polo</td>\n",
       "    </tr>\n",
       "    <tr>\n",
       "      <th>2</th>\n",
       "      <td>58</td>\n",
       "      <td>2198560.0</td>\n",
       "      <td>31683.0</td>\n",
       "      <td>452.0</td>\n",
       "      <td>0.0</td>\n",
       "      <td>134021.030163</td>\n",
       "      <td>0.014411</td>\n",
       "      <td>0.014266</td>\n",
       "      <td>hugo</td>\n",
       "    </tr>\n",
       "    <tr>\n",
       "      <th>3</th>\n",
       "      <td>63</td>\n",
       "      <td>1895228.0</td>\n",
       "      <td>19856.0</td>\n",
       "      <td>204.0</td>\n",
       "      <td>0.0</td>\n",
       "      <td>118038.810158</td>\n",
       "      <td>0.010477</td>\n",
       "      <td>0.010274</td>\n",
       "      <td>moncler</td>\n",
       "    </tr>\n",
       "    <tr>\n",
       "      <th>4</th>\n",
       "      <td>40</td>\n",
       "      <td>1724266.0</td>\n",
       "      <td>24891.0</td>\n",
       "      <td>301.0</td>\n",
       "      <td>0.0</td>\n",
       "      <td>93540.389893</td>\n",
       "      <td>0.014436</td>\n",
       "      <td>0.012093</td>\n",
       "      <td>boss</td>\n",
       "    </tr>\n",
       "    <tr>\n",
       "      <th>5</th>\n",
       "      <td>8</td>\n",
       "      <td>1666476.0</td>\n",
       "      <td>14575.0</td>\n",
       "      <td>296.0</td>\n",
       "      <td>0.0</td>\n",
       "      <td>64470.710548</td>\n",
       "      <td>0.008746</td>\n",
       "      <td>0.020309</td>\n",
       "      <td>paul green</td>\n",
       "    </tr>\n",
       "    <tr>\n",
       "      <th>6</th>\n",
       "      <td>38</td>\n",
       "      <td>1630998.0</td>\n",
       "      <td>19760.0</td>\n",
       "      <td>134.0</td>\n",
       "      <td>8.0</td>\n",
       "      <td>60419.470354</td>\n",
       "      <td>0.012115</td>\n",
       "      <td>0.006781</td>\n",
       "      <td>burberry</td>\n",
       "    </tr>\n",
       "    <tr>\n",
       "      <th>7</th>\n",
       "      <td>57</td>\n",
       "      <td>1313391.0</td>\n",
       "      <td>18037.0</td>\n",
       "      <td>106.0</td>\n",
       "      <td>0.0</td>\n",
       "      <td>61218.799752</td>\n",
       "      <td>0.013733</td>\n",
       "      <td>0.005877</td>\n",
       "      <td>woolrich</td>\n",
       "    </tr>\n",
       "    <tr>\n",
       "      <th>8</th>\n",
       "      <td>2</td>\n",
       "      <td>1232592.0</td>\n",
       "      <td>19081.0</td>\n",
       "      <td>338.0</td>\n",
       "      <td>0.0</td>\n",
       "      <td>80710.010141</td>\n",
       "      <td>0.015480</td>\n",
       "      <td>0.017714</td>\n",
       "      <td>boss orange</td>\n",
       "    </tr>\n",
       "    <tr>\n",
       "      <th>9</th>\n",
       "      <td>13</td>\n",
       "      <td>1200424.0</td>\n",
       "      <td>14882.0</td>\n",
       "      <td>169.0</td>\n",
       "      <td>0.0</td>\n",
       "      <td>21111.800037</td>\n",
       "      <td>0.012397</td>\n",
       "      <td>0.011356</td>\n",
       "      <td>camp david</td>\n",
       "    </tr>\n",
       "    <tr>\n",
       "      <th>10</th>\n",
       "      <td>69</td>\n",
       "      <td>1091993.0</td>\n",
       "      <td>22134.0</td>\n",
       "      <td>125.0</td>\n",
       "      <td>0.0</td>\n",
       "      <td>67641.249468</td>\n",
       "      <td>0.020269</td>\n",
       "      <td>0.005647</td>\n",
       "      <td>parajumpers</td>\n",
       "    </tr>\n",
       "    <tr>\n",
       "      <th>11</th>\n",
       "      <td>10</td>\n",
       "      <td>1064266.0</td>\n",
       "      <td>14361.0</td>\n",
       "      <td>519.0</td>\n",
       "      <td>0.0</td>\n",
       "      <td>21873.659962</td>\n",
       "      <td>0.013494</td>\n",
       "      <td>0.036140</td>\n",
       "      <td>m.a.c</td>\n",
       "    </tr>\n",
       "    <tr>\n",
       "      <th>12</th>\n",
       "      <td>131</td>\n",
       "      <td>945139.0</td>\n",
       "      <td>14079.0</td>\n",
       "      <td>194.0</td>\n",
       "      <td>0.0</td>\n",
       "      <td>22990.790180</td>\n",
       "      <td>0.014896</td>\n",
       "      <td>0.013779</td>\n",
       "      <td>adidas</td>\n",
       "    </tr>\n",
       "    <tr>\n",
       "      <th>13</th>\n",
       "      <td>15</td>\n",
       "      <td>895583.0</td>\n",
       "      <td>7977.0</td>\n",
       "      <td>213.0</td>\n",
       "      <td>0.0</td>\n",
       "      <td>61878.920076</td>\n",
       "      <td>0.008907</td>\n",
       "      <td>0.026702</td>\n",
       "      <td>kennel &amp; schmenger</td>\n",
       "    </tr>\n",
       "    <tr>\n",
       "      <th>14</th>\n",
       "      <td>157</td>\n",
       "      <td>797408.0</td>\n",
       "      <td>12232.0</td>\n",
       "      <td>117.0</td>\n",
       "      <td>0.0</td>\n",
       "      <td>37783.790169</td>\n",
       "      <td>0.015340</td>\n",
       "      <td>0.009565</td>\n",
       "      <td>stone island</td>\n",
       "    </tr>\n",
       "    <tr>\n",
       "      <th>15</th>\n",
       "      <td>121</td>\n",
       "      <td>705430.0</td>\n",
       "      <td>7556.0</td>\n",
       "      <td>145.0</td>\n",
       "      <td>0.0</td>\n",
       "      <td>11777.290000</td>\n",
       "      <td>0.010711</td>\n",
       "      <td>0.019190</td>\n",
       "      <td>calvin klein</td>\n",
       "    </tr>\n",
       "    <tr>\n",
       "      <th>16</th>\n",
       "      <td>27</td>\n",
       "      <td>702655.0</td>\n",
       "      <td>9768.0</td>\n",
       "      <td>163.0</td>\n",
       "      <td>0.0</td>\n",
       "      <td>20020.329941</td>\n",
       "      <td>0.013902</td>\n",
       "      <td>0.016687</td>\n",
       "      <td>chanel</td>\n",
       "    </tr>\n",
       "    <tr>\n",
       "      <th>17</th>\n",
       "      <td>59</td>\n",
       "      <td>670670.0</td>\n",
       "      <td>7370.0</td>\n",
       "      <td>96.0</td>\n",
       "      <td>0.0</td>\n",
       "      <td>35760.280224</td>\n",
       "      <td>0.010989</td>\n",
       "      <td>0.013026</td>\n",
       "      <td>fire + ice</td>\n",
       "    </tr>\n",
       "    <tr>\n",
       "      <th>18</th>\n",
       "      <td>37</td>\n",
       "      <td>665870.0</td>\n",
       "      <td>11687.0</td>\n",
       "      <td>117.0</td>\n",
       "      <td>0.0</td>\n",
       "      <td>28499.629817</td>\n",
       "      <td>0.017551</td>\n",
       "      <td>0.010011</td>\n",
       "      <td>strellson</td>\n",
       "    </tr>\n",
       "    <tr>\n",
       "      <th>19</th>\n",
       "      <td>51</td>\n",
       "      <td>644793.0</td>\n",
       "      <td>10645.0</td>\n",
       "      <td>266.0</td>\n",
       "      <td>0.0</td>\n",
       "      <td>28381.669996</td>\n",
       "      <td>0.016509</td>\n",
       "      <td>0.024988</td>\n",
       "      <td>cmp</td>\n",
       "    </tr>\n",
       "  </tbody>\n",
       "</table>\n",
       "</div>"
      ],
      "text/plain": [
       "    Brand  Impressions    Clicks  Conversions  Cross-device conv.  \\\n",
       "0      19    5653465.0  132052.0        674.0                 6.0   \n",
       "1      21    2229866.0   36833.0        674.0                 0.0   \n",
       "2      58    2198560.0   31683.0        452.0                 0.0   \n",
       "3      63    1895228.0   19856.0        204.0                 0.0   \n",
       "4      40    1724266.0   24891.0        301.0                 0.0   \n",
       "5       8    1666476.0   14575.0        296.0                 0.0   \n",
       "6      38    1630998.0   19760.0        134.0                 8.0   \n",
       "7      57    1313391.0   18037.0        106.0                 0.0   \n",
       "8       2    1232592.0   19081.0        338.0                 0.0   \n",
       "9      13    1200424.0   14882.0        169.0                 0.0   \n",
       "10     69    1091993.0   22134.0        125.0                 0.0   \n",
       "11     10    1064266.0   14361.0        519.0                 0.0   \n",
       "12    131     945139.0   14079.0        194.0                 0.0   \n",
       "13     15     895583.0    7977.0        213.0                 0.0   \n",
       "14    157     797408.0   12232.0        117.0                 0.0   \n",
       "15    121     705430.0    7556.0        145.0                 0.0   \n",
       "16     27     702655.0    9768.0        163.0                 0.0   \n",
       "17     59     670670.0    7370.0         96.0                 0.0   \n",
       "18     37     665870.0   11687.0        117.0                 0.0   \n",
       "19     51     644793.0   10645.0        266.0                 0.0   \n",
       "\n",
       "    Total conv. value       CTR       CVR          Brand_name  \n",
       "0       186885.390566  0.023358  0.005104         wellensteyn  \n",
       "1       146943.010303  0.016518  0.018299         marc o'polo  \n",
       "2       134021.030163  0.014411  0.014266                hugo  \n",
       "3       118038.810158  0.010477  0.010274             moncler  \n",
       "4        93540.389893  0.014436  0.012093                boss  \n",
       "5        64470.710548  0.008746  0.020309          paul green  \n",
       "6        60419.470354  0.012115  0.006781            burberry  \n",
       "7        61218.799752  0.013733  0.005877            woolrich  \n",
       "8        80710.010141  0.015480  0.017714         boss orange  \n",
       "9        21111.800037  0.012397  0.011356          camp david  \n",
       "10       67641.249468  0.020269  0.005647         parajumpers  \n",
       "11       21873.659962  0.013494  0.036140               m.a.c  \n",
       "12       22990.790180  0.014896  0.013779              adidas  \n",
       "13       61878.920076  0.008907  0.026702  kennel & schmenger  \n",
       "14       37783.790169  0.015340  0.009565        stone island  \n",
       "15       11777.290000  0.010711  0.019190        calvin klein  \n",
       "16       20020.329941  0.013902  0.016687              chanel  \n",
       "17       35760.280224  0.010989  0.013026          fire + ice  \n",
       "18       28499.629817  0.017551  0.010011           strellson  \n",
       "19       28381.669996  0.016509  0.024988                 cmp  "
      ]
     },
     "execution_count": 53,
     "metadata": {},
     "output_type": "execute_result"
    }
   ],
   "source": [
    "a3"
   ]
  },
  {
   "cell_type": "code",
   "execution_count": 29,
   "metadata": {
    "collapsed": false
   },
   "outputs": [
    {
     "data": {
      "text/html": [
       "<div>\n",
       "<table border=\"1\" class=\"dataframe\">\n",
       "  <thead>\n",
       "    <tr style=\"text-align: right;\">\n",
       "      <th></th>\n",
       "      <th>Impressions</th>\n",
       "      <th>Clicks</th>\n",
       "      <th>Conversions</th>\n",
       "      <th>Cross-device conv.</th>\n",
       "      <th>Total conv. value</th>\n",
       "      <th>CTR</th>\n",
       "      <th>CVR</th>\n",
       "      <th>Brand_name</th>\n",
       "    </tr>\n",
       "    <tr>\n",
       "      <th>Brand</th>\n",
       "      <th></th>\n",
       "      <th></th>\n",
       "      <th></th>\n",
       "      <th></th>\n",
       "      <th></th>\n",
       "      <th></th>\n",
       "      <th></th>\n",
       "      <th></th>\n",
       "    </tr>\n",
       "  </thead>\n",
       "  <tbody>\n",
       "    <tr>\n",
       "      <th>19</th>\n",
       "      <td>5653465.0</td>\n",
       "      <td>132052.0</td>\n",
       "      <td>674.0</td>\n",
       "      <td>6.0</td>\n",
       "      <td>186885.390566</td>\n",
       "      <td>0.023358</td>\n",
       "      <td>0.005104</td>\n",
       "      <td>cmp</td>\n",
       "    </tr>\n",
       "    <tr>\n",
       "      <th>21</th>\n",
       "      <td>2229866.0</td>\n",
       "      <td>36833.0</td>\n",
       "      <td>674.0</td>\n",
       "      <td>0.0</td>\n",
       "      <td>146943.010303</td>\n",
       "      <td>0.016518</td>\n",
       "      <td>0.018299</td>\n",
       "      <td>joop!</td>\n",
       "    </tr>\n",
       "    <tr>\n",
       "      <th>58</th>\n",
       "      <td>2198560.0</td>\n",
       "      <td>31683.0</td>\n",
       "      <td>452.0</td>\n",
       "      <td>0.0</td>\n",
       "      <td>134021.030163</td>\n",
       "      <td>0.014411</td>\n",
       "      <td>0.014266</td>\n",
       "      <td>monari</td>\n",
       "    </tr>\n",
       "    <tr>\n",
       "      <th>63</th>\n",
       "      <td>1895228.0</td>\n",
       "      <td>19856.0</td>\n",
       "      <td>204.0</td>\n",
       "      <td>0.0</td>\n",
       "      <td>118038.810158</td>\n",
       "      <td>0.010477</td>\n",
       "      <td>0.010274</td>\n",
       "      <td>dior</td>\n",
       "    </tr>\n",
       "    <tr>\n",
       "      <th>40</th>\n",
       "      <td>1724266.0</td>\n",
       "      <td>24891.0</td>\n",
       "      <td>301.0</td>\n",
       "      <td>0.0</td>\n",
       "      <td>93540.389893</td>\n",
       "      <td>0.014436</td>\n",
       "      <td>0.012093</td>\n",
       "      <td>cambio</td>\n",
       "    </tr>\n",
       "  </tbody>\n",
       "</table>\n",
       "</div>"
      ],
      "text/plain": [
       "       Impressions    Clicks  Conversions  Cross-device conv.  \\\n",
       "Brand                                                           \n",
       "19       5653465.0  132052.0        674.0                 6.0   \n",
       "21       2229866.0   36833.0        674.0                 0.0   \n",
       "58       2198560.0   31683.0        452.0                 0.0   \n",
       "63       1895228.0   19856.0        204.0                 0.0   \n",
       "40       1724266.0   24891.0        301.0                 0.0   \n",
       "\n",
       "       Total conv. value       CTR       CVR Brand_name  \n",
       "Brand                                                    \n",
       "19         186885.390566  0.023358  0.005104        cmp  \n",
       "21         146943.010303  0.016518  0.018299      joop!  \n",
       "58         134021.030163  0.014411  0.014266     monari  \n",
       "63         118038.810158  0.010477  0.010274       dior  \n",
       "40          93540.389893  0.014436  0.012093     cambio  "
      ]
     },
     "execution_count": 29,
     "metadata": {},
     "output_type": "execute_result"
    }
   ],
   "source": [
    "a1.head()"
   ]
  },
  {
   "cell_type": "code",
   "execution_count": 63,
   "metadata": {
    "collapsed": false
   },
   "outputs": [
    {
     "data": {
      "text/plain": [
       "{' --': 9,\n",
       " 'Baby & Kleinkind': 7,\n",
       " 'Bekleidung & Accessoires': 0,\n",
       " 'B\\xc3\\xbcrobedarf': 5,\n",
       " 'Elektronik': 6,\n",
       " 'Gesundheit & Sch\\xc3\\xb6nheit': 1,\n",
       " 'Heim & Garten': 3,\n",
       " 'Kunst & Unterhaltung': 8,\n",
       " 'Religion & Feierlichkeiten': 10,\n",
       " 'Sportartikel': 2,\n",
       " 'Taschen & Gep\\xc3\\xa4ck': 4}"
      ]
     },
     "execution_count": 63,
     "metadata": {},
     "output_type": "execute_result"
    }
   ],
   "source": [
    "lookups['Category (1st level)']"
   ]
  },
  {
   "cell_type": "code",
   "execution_count": 73,
   "metadata": {
    "collapsed": false
   },
   "outputs": [
    {
     "data": {
      "text/html": [
       "<div>\n",
       "<table border=\"1\" class=\"dataframe\">\n",
       "  <thead>\n",
       "    <tr style=\"text-align: right;\">\n",
       "      <th></th>\n",
       "      <th>level_0</th>\n",
       "      <th>level_1</th>\n",
       "      <th>0</th>\n",
       "    </tr>\n",
       "  </thead>\n",
       "  <tbody>\n",
       "    <tr>\n",
       "      <th>0</th>\n",
       "      <td>Ad group</td>\n",
       "      <td>0039 italy</td>\n",
       "      <td>380</td>\n",
       "    </tr>\n",
       "    <tr>\n",
       "      <th>1</th>\n",
       "      <td>Ad group</td>\n",
       "      <td>120%lino</td>\n",
       "      <td>515</td>\n",
       "    </tr>\n",
       "    <tr>\n",
       "      <th>2</th>\n",
       "      <td>Ad group</td>\n",
       "      <td>4 barra 12</td>\n",
       "      <td>1373</td>\n",
       "    </tr>\n",
       "    <tr>\n",
       "      <th>3</th>\n",
       "      <td>Ad group</td>\n",
       "      <td>4lou</td>\n",
       "      <td>1445</td>\n",
       "    </tr>\n",
       "    <tr>\n",
       "      <th>4</th>\n",
       "      <td>Ad group</td>\n",
       "      <td>7 for all mankind</td>\n",
       "      <td>461</td>\n",
       "    </tr>\n",
       "  </tbody>\n",
       "</table>\n",
       "</div>"
      ],
      "text/plain": [
       "    level_0            level_1     0\n",
       "0  Ad group         0039 italy   380\n",
       "1  Ad group           120%lino   515\n",
       "2  Ad group         4 barra 12  1373\n",
       "3  Ad group               4lou  1445\n",
       "4  Ad group  7 for all mankind   461"
      ]
     },
     "execution_count": 73,
     "metadata": {},
     "output_type": "execute_result"
    }
   ],
   "source": [
    "a1.head()"
   ]
  },
  {
   "cell_type": "code",
   "execution_count": 45,
   "metadata": {
    "collapsed": false
   },
   "outputs": [
    {
     "data": {
      "text/plain": [
       "{u'Ad group': u'np.uint16',\n",
       " u'Ad group ID': u'np.uint16',\n",
       " u'Brand': u'np.uint16',\n",
       " u'CTR': u'np.float32',\n",
       " u'Campaign': u'np.uint16',\n",
       " u'Campaign ID': u'np.uint16',\n",
       " u'Category (1st level)': u'np.uint16',\n",
       " u'Category (2nd level)': u'np.uint16',\n",
       " u'Category (3rd level)': u'np.uint16',\n",
       " u'Category (4th level)': u'np.uint16',\n",
       " u'Category (5th level)': u'np.uint16',\n",
       " u'Click share': u'str',\n",
       " u'Clicks': u'np.uint16',\n",
       " u'Conv. rate': u'np.float32',\n",
       " u'Conversions': u'np.uint16',\n",
       " u'Cost': u'np.float32',\n",
       " u'Country/Territory': u'np.uint16',\n",
       " u'Cross-device conv.': u'np.uint16',\n",
       " u'Custom label 0': u'np.uint16',\n",
       " u'Custom label 1': u'np.uint16',\n",
       " u'Custom label 2': u'np.uint16',\n",
       " u'Custom label 3': u'np.uint16',\n",
       " u'Custom label 4': u'np.uint16',\n",
       " u'Device': u'np.uint8',\n",
       " u'Impressions': u'np.uint16',\n",
       " u'Item Id': u'np.uint32',\n",
       " u'Product type (1st level)': u'np.uint16',\n",
       " u'Product type (2nd level)': u'np.uint16',\n",
       " u'Product type (3rd level)': u'np.uint16',\n",
       " u'Product type (4th level)': u'np.uint16',\n",
       " u'Product type (5th level)': u'np.uint16',\n",
       " u'Search Impr. share': u'str',\n",
       " u'Total conv. value': u'np.float32'}"
      ]
     },
     "execution_count": 45,
     "metadata": {},
     "output_type": "execute_result"
    }
   ],
   "source": [
    "dtype"
   ]
  },
  {
   "cell_type": "code",
   "execution_count": 44,
   "metadata": {
    "collapsed": false
   },
   "outputs": [
    {
     "data": {
      "text/plain": [
       "{u'Ad group': <function __main__.lookup>,\n",
       " u'Ad group ID': <function __main__.lookup>,\n",
       " u'Brand': <function __main__.lookup>,\n",
       " 'CTR': <function __main__.<lambda>>,\n",
       " u'Campaign': <function __main__.lookup>,\n",
       " u'Campaign ID': <function __main__.lookup>,\n",
       " u'Category (1st level)': <function __main__.lookup>,\n",
       " u'Category (2nd level)': <function __main__.lookup>,\n",
       " u'Category (3rd level)': <function __main__.lookup>,\n",
       " u'Category (4th level)': <function __main__.lookup>,\n",
       " u'Category (5th level)': <function __main__.lookup>,\n",
       " 'Conv. rate': <function __main__.<lambda>>,\n",
       " u'Country/Territory': <function __main__.lookup>,\n",
       " u'Custom label 0': <function __main__.lookup>,\n",
       " u'Custom label 1': <function __main__.lookup>,\n",
       " u'Custom label 2': <function __main__.lookup>,\n",
       " u'Custom label 3': <function __main__.lookup>,\n",
       " u'Custom label 4': <function __main__.lookup>,\n",
       " u'Device': <function __main__.lookup>,\n",
       " u'Item Id': <function __main__.lookup>,\n",
       " u'Product type (1st level)': <function __main__.lookup>,\n",
       " u'Product type (2nd level)': <function __main__.lookup>,\n",
       " u'Product type (3rd level)': <function __main__.lookup>,\n",
       " u'Product type (4th level)': <function __main__.lookup>,\n",
       " u'Product type (5th level)': <function __main__.lookup>}"
      ]
     },
     "execution_count": 44,
     "metadata": {},
     "output_type": "execute_result"
    }
   ],
   "source": [
    "converters"
   ]
  },
  {
   "cell_type": "code",
   "execution_count": 5,
   "metadata": {
    "collapsed": false
   },
   "outputs": [
    {
     "name": "stderr",
     "output_type": "stream",
     "text": [
      "/home/sean/anaconda2/lib/python2.7/site-packages/IPython/core/interactiveshell.py:2717: DtypeWarning: Columns (13) have mixed types. Specify dtype option on import or set low_memory=False.\n",
      "  interactivity=interactivity, compiler=compiler, result=result)\n"
     ]
    }
   ],
   "source": [
    "df1=pd.read_csv('report_2016_09_01-2016_12_01.csv', nrows=2000000)"
   ]
  },
  {
   "cell_type": "code",
   "execution_count": 27,
   "metadata": {
    "collapsed": false
   },
   "outputs": [],
   "source": [
    "\n",
    "lookups['a']={}\n",
    "a=do_lookup('a', np.uint16)"
   ]
  },
  {
   "cell_type": "code",
   "execution_count": 28,
   "metadata": {
    "collapsed": false
   },
   "outputs": [
    {
     "data": {
      "text/plain": [
       "1"
      ]
     },
     "execution_count": 28,
     "metadata": {},
     "output_type": "execute_result"
    }
   ],
   "source": [
    "a('hello')\n",
    "a('hi')"
   ]
  },
  {
   "cell_type": "code",
   "execution_count": 29,
   "metadata": {
    "collapsed": false
   },
   "outputs": [
    {
     "data": {
      "text/plain": [
       "{'a': {'hello': 0, 'hi': 1}}"
      ]
     },
     "execution_count": 29,
     "metadata": {},
     "output_type": "execute_result"
    }
   ],
   "source": [
    "lookups"
   ]
  },
  {
   "cell_type": "code",
   "execution_count": 6,
   "metadata": {
    "collapsed": false
   },
   "outputs": [
    {
     "data": {
      "text/plain": [
       "'9142330195969'"
      ]
     },
     "execution_count": 6,
     "metadata": {},
     "output_type": "execute_result"
    }
   ],
   "source": [
    "df1['Item Id'].max()"
   ]
  },
  {
   "cell_type": "code",
   "execution_count": 20,
   "metadata": {
    "collapsed": true
   },
   "outputs": [],
   "source": [
    "def cast_categ(df_inp, cat_types):\n",
    "    for c in cat_types:\n",
    "        df_inp[c]=df_inp[c].astype('category')"
   ]
  },
  {
   "cell_type": "code",
   "execution_count": 48,
   "metadata": {
    "collapsed": false
   },
   "outputs": [],
   "source": [
    "cast_categ(df1,cat_types)"
   ]
  },
  {
   "cell_type": "code",
   "execution_count": 30,
   "metadata": {
    "collapsed": false,
    "scrolled": true
   },
   "outputs": [
    {
     "data": {
      "text/html": [
       "<div>\n",
       "<table border=\"1\" class=\"dataframe\">\n",
       "  <thead>\n",
       "    <tr style=\"text-align: right;\">\n",
       "      <th></th>\n",
       "      <th>count</th>\n",
       "      <th>unique</th>\n",
       "      <th>top</th>\n",
       "      <th>freq</th>\n",
       "      <th>mean</th>\n",
       "      <th>std</th>\n",
       "      <th>min</th>\n",
       "      <th>25%</th>\n",
       "      <th>50%</th>\n",
       "      <th>75%</th>\n",
       "      <th>max</th>\n",
       "    </tr>\n",
       "  </thead>\n",
       "  <tbody>\n",
       "    <tr>\n",
       "      <th>Ad group ID</th>\n",
       "      <td>2e+06</td>\n",
       "      <td>NaN</td>\n",
       "      <td>NaN</td>\n",
       "      <td>NaN</td>\n",
       "      <td>3.33161e+10</td>\n",
       "      <td>1.96886e+09</td>\n",
       "      <td>1.76012e+10</td>\n",
       "      <td>3.35848e+10</td>\n",
       "      <td>3.35849e+10</td>\n",
       "      <td>3.35849e+10</td>\n",
       "      <td>4.38938e+10</td>\n",
       "    </tr>\n",
       "    <tr>\n",
       "      <th>Ad group</th>\n",
       "      <td>2000000</td>\n",
       "      <td>1539</td>\n",
       "      <td>marc o'polo</td>\n",
       "      <td>82865</td>\n",
       "      <td>NaN</td>\n",
       "      <td>NaN</td>\n",
       "      <td>NaN</td>\n",
       "      <td>NaN</td>\n",
       "      <td>NaN</td>\n",
       "      <td>NaN</td>\n",
       "      <td>NaN</td>\n",
       "    </tr>\n",
       "    <tr>\n",
       "      <th>Brand</th>\n",
       "      <td>2000000</td>\n",
       "      <td>1114</td>\n",
       "      <td>marc o'polo</td>\n",
       "      <td>84825</td>\n",
       "      <td>NaN</td>\n",
       "      <td>NaN</td>\n",
       "      <td>NaN</td>\n",
       "      <td>NaN</td>\n",
       "      <td>NaN</td>\n",
       "      <td>NaN</td>\n",
       "      <td>NaN</td>\n",
       "    </tr>\n",
       "    <tr>\n",
       "      <th>Campaign ID</th>\n",
       "      <td>2e+06</td>\n",
       "      <td>NaN</td>\n",
       "      <td>NaN</td>\n",
       "      <td>NaN</td>\n",
       "      <td>6.33312e+08</td>\n",
       "      <td>6.86819e+07</td>\n",
       "      <td>2.01385e+08</td>\n",
       "      <td>6.44233e+08</td>\n",
       "      <td>6.44233e+08</td>\n",
       "      <td>6.44233e+08</td>\n",
       "      <td>7.04892e+08</td>\n",
       "    </tr>\n",
       "    <tr>\n",
       "      <th>Campaign</th>\n",
       "      <td>2000000</td>\n",
       "      <td>6</td>\n",
       "      <td>camato Designer</td>\n",
       "      <td>1256943</td>\n",
       "      <td>NaN</td>\n",
       "      <td>NaN</td>\n",
       "      <td>NaN</td>\n",
       "      <td>NaN</td>\n",
       "      <td>NaN</td>\n",
       "      <td>NaN</td>\n",
       "      <td>NaN</td>\n",
       "    </tr>\n",
       "    <tr>\n",
       "      <th>Category (1st level)</th>\n",
       "      <td>2000000</td>\n",
       "      <td>11</td>\n",
       "      <td>Bekleidung &amp; Accessoires</td>\n",
       "      <td>1702086</td>\n",
       "      <td>NaN</td>\n",
       "      <td>NaN</td>\n",
       "      <td>NaN</td>\n",
       "      <td>NaN</td>\n",
       "      <td>NaN</td>\n",
       "      <td>NaN</td>\n",
       "      <td>NaN</td>\n",
       "    </tr>\n",
       "    <tr>\n",
       "      <th>Category (2nd level)</th>\n",
       "      <td>2000000</td>\n",
       "      <td>34</td>\n",
       "      <td>Bekleidung</td>\n",
       "      <td>1351333</td>\n",
       "      <td>NaN</td>\n",
       "      <td>NaN</td>\n",
       "      <td>NaN</td>\n",
       "      <td>NaN</td>\n",
       "      <td>NaN</td>\n",
       "      <td>NaN</td>\n",
       "      <td>NaN</td>\n",
       "    </tr>\n",
       "    <tr>\n",
       "      <th>Category (3rd level)</th>\n",
       "      <td>2000000</td>\n",
       "      <td>69</td>\n",
       "      <td>Überbekleidung</td>\n",
       "      <td>439678</td>\n",
       "      <td>NaN</td>\n",
       "      <td>NaN</td>\n",
       "      <td>NaN</td>\n",
       "      <td>NaN</td>\n",
       "      <td>NaN</td>\n",
       "      <td>NaN</td>\n",
       "      <td>NaN</td>\n",
       "    </tr>\n",
       "    <tr>\n",
       "      <th>Category (4th level)</th>\n",
       "      <td>2000000</td>\n",
       "      <td>93</td>\n",
       "      <td>--</td>\n",
       "      <td>1137782</td>\n",
       "      <td>NaN</td>\n",
       "      <td>NaN</td>\n",
       "      <td>NaN</td>\n",
       "      <td>NaN</td>\n",
       "      <td>NaN</td>\n",
       "      <td>NaN</td>\n",
       "      <td>NaN</td>\n",
       "    </tr>\n",
       "    <tr>\n",
       "      <th>Category (5th level)</th>\n",
       "      <td>2000000</td>\n",
       "      <td>55</td>\n",
       "      <td>--</td>\n",
       "      <td>1847175</td>\n",
       "      <td>NaN</td>\n",
       "      <td>NaN</td>\n",
       "      <td>NaN</td>\n",
       "      <td>NaN</td>\n",
       "      <td>NaN</td>\n",
       "      <td>NaN</td>\n",
       "      <td>NaN</td>\n",
       "    </tr>\n",
       "    <tr>\n",
       "      <th>Clicks</th>\n",
       "      <td>2e+06</td>\n",
       "      <td>NaN</td>\n",
       "      <td>NaN</td>\n",
       "      <td>NaN</td>\n",
       "      <td>0.092653</td>\n",
       "      <td>1.42558</td>\n",
       "      <td>0</td>\n",
       "      <td>0</td>\n",
       "      <td>0</td>\n",
       "      <td>0</td>\n",
       "      <td>707</td>\n",
       "    </tr>\n",
       "    <tr>\n",
       "      <th>Conv. rate</th>\n",
       "      <td>2000000</td>\n",
       "      <td>94</td>\n",
       "      <td>0.00%</td>\n",
       "      <td>1997229</td>\n",
       "      <td>NaN</td>\n",
       "      <td>NaN</td>\n",
       "      <td>NaN</td>\n",
       "      <td>NaN</td>\n",
       "      <td>NaN</td>\n",
       "      <td>NaN</td>\n",
       "      <td>NaN</td>\n",
       "    </tr>\n",
       "    <tr>\n",
       "      <th>Conversions</th>\n",
       "      <td>2e+06</td>\n",
       "      <td>NaN</td>\n",
       "      <td>NaN</td>\n",
       "      <td>NaN</td>\n",
       "      <td>0.001496</td>\n",
       "      <td>0.0420804</td>\n",
       "      <td>0</td>\n",
       "      <td>0</td>\n",
       "      <td>0</td>\n",
       "      <td>0</td>\n",
       "      <td>7</td>\n",
       "    </tr>\n",
       "    <tr>\n",
       "      <th>Total conv. value</th>\n",
       "      <td>2e+06</td>\n",
       "      <td>1519</td>\n",
       "      <td>0</td>\n",
       "      <td>1.16286e+06</td>\n",
       "      <td>NaN</td>\n",
       "      <td>NaN</td>\n",
       "      <td>NaN</td>\n",
       "      <td>NaN</td>\n",
       "      <td>NaN</td>\n",
       "      <td>NaN</td>\n",
       "      <td>NaN</td>\n",
       "    </tr>\n",
       "    <tr>\n",
       "      <th>Cost</th>\n",
       "      <td>2e+06</td>\n",
       "      <td>NaN</td>\n",
       "      <td>NaN</td>\n",
       "      <td>NaN</td>\n",
       "      <td>59308.1</td>\n",
       "      <td>640767</td>\n",
       "      <td>0</td>\n",
       "      <td>0</td>\n",
       "      <td>0</td>\n",
       "      <td>0</td>\n",
       "      <td>3.3239e+08</td>\n",
       "    </tr>\n",
       "    <tr>\n",
       "      <th>Country/Territory</th>\n",
       "      <td>2e+06</td>\n",
       "      <td>NaN</td>\n",
       "      <td>NaN</td>\n",
       "      <td>NaN</td>\n",
       "      <td>2276</td>\n",
       "      <td>0</td>\n",
       "      <td>2276</td>\n",
       "      <td>2276</td>\n",
       "      <td>2276</td>\n",
       "      <td>2276</td>\n",
       "      <td>2276</td>\n",
       "    </tr>\n",
       "    <tr>\n",
       "      <th>Cross-device conv.</th>\n",
       "      <td>2e+06</td>\n",
       "      <td>NaN</td>\n",
       "      <td>NaN</td>\n",
       "      <td>NaN</td>\n",
       "      <td>1.25e-05</td>\n",
       "      <td>0.0132853</td>\n",
       "      <td>0</td>\n",
       "      <td>0</td>\n",
       "      <td>0</td>\n",
       "      <td>0</td>\n",
       "      <td>17</td>\n",
       "    </tr>\n",
       "    <tr>\n",
       "      <th>CTR</th>\n",
       "      <td>2000000</td>\n",
       "      <td>1004</td>\n",
       "      <td>0.00%</td>\n",
       "      <td>1891327</td>\n",
       "      <td>NaN</td>\n",
       "      <td>NaN</td>\n",
       "      <td>NaN</td>\n",
       "      <td>NaN</td>\n",
       "      <td>NaN</td>\n",
       "      <td>NaN</td>\n",
       "      <td>NaN</td>\n",
       "    </tr>\n",
       "    <tr>\n",
       "      <th>Custom label 0</th>\n",
       "      <td>2000000</td>\n",
       "      <td>1</td>\n",
       "      <td>--</td>\n",
       "      <td>2000000</td>\n",
       "      <td>NaN</td>\n",
       "      <td>NaN</td>\n",
       "      <td>NaN</td>\n",
       "      <td>NaN</td>\n",
       "      <td>NaN</td>\n",
       "      <td>NaN</td>\n",
       "      <td>NaN</td>\n",
       "    </tr>\n",
       "    <tr>\n",
       "      <th>Custom label 1</th>\n",
       "      <td>2000000</td>\n",
       "      <td>1</td>\n",
       "      <td>--</td>\n",
       "      <td>2000000</td>\n",
       "      <td>NaN</td>\n",
       "      <td>NaN</td>\n",
       "      <td>NaN</td>\n",
       "      <td>NaN</td>\n",
       "      <td>NaN</td>\n",
       "      <td>NaN</td>\n",
       "      <td>NaN</td>\n",
       "    </tr>\n",
       "    <tr>\n",
       "      <th>Custom label 2</th>\n",
       "      <td>2000000</td>\n",
       "      <td>1</td>\n",
       "      <td>--</td>\n",
       "      <td>2000000</td>\n",
       "      <td>NaN</td>\n",
       "      <td>NaN</td>\n",
       "      <td>NaN</td>\n",
       "      <td>NaN</td>\n",
       "      <td>NaN</td>\n",
       "      <td>NaN</td>\n",
       "      <td>NaN</td>\n",
       "    </tr>\n",
       "    <tr>\n",
       "      <th>Custom label 3</th>\n",
       "      <td>2000000</td>\n",
       "      <td>1</td>\n",
       "      <td>--</td>\n",
       "      <td>2000000</td>\n",
       "      <td>NaN</td>\n",
       "      <td>NaN</td>\n",
       "      <td>NaN</td>\n",
       "      <td>NaN</td>\n",
       "      <td>NaN</td>\n",
       "      <td>NaN</td>\n",
       "      <td>NaN</td>\n",
       "    </tr>\n",
       "    <tr>\n",
       "      <th>Custom label 4</th>\n",
       "      <td>2000000</td>\n",
       "      <td>1</td>\n",
       "      <td>--</td>\n",
       "      <td>2000000</td>\n",
       "      <td>NaN</td>\n",
       "      <td>NaN</td>\n",
       "      <td>NaN</td>\n",
       "      <td>NaN</td>\n",
       "      <td>NaN</td>\n",
       "      <td>NaN</td>\n",
       "      <td>NaN</td>\n",
       "    </tr>\n",
       "    <tr>\n",
       "      <th>Day</th>\n",
       "      <td>2000000</td>\n",
       "      <td>92</td>\n",
       "      <td>2016-11-13</td>\n",
       "      <td>30254</td>\n",
       "      <td>NaN</td>\n",
       "      <td>NaN</td>\n",
       "      <td>NaN</td>\n",
       "      <td>NaN</td>\n",
       "      <td>NaN</td>\n",
       "      <td>NaN</td>\n",
       "      <td>NaN</td>\n",
       "    </tr>\n",
       "    <tr>\n",
       "      <th>Device</th>\n",
       "      <td>2000000</td>\n",
       "      <td>3</td>\n",
       "      <td>Computers</td>\n",
       "      <td>787065</td>\n",
       "      <td>NaN</td>\n",
       "      <td>NaN</td>\n",
       "      <td>NaN</td>\n",
       "      <td>NaN</td>\n",
       "      <td>NaN</td>\n",
       "      <td>NaN</td>\n",
       "      <td>NaN</td>\n",
       "    </tr>\n",
       "    <tr>\n",
       "      <th>Impressions</th>\n",
       "      <td>2e+06</td>\n",
       "      <td>NaN</td>\n",
       "      <td>NaN</td>\n",
       "      <td>NaN</td>\n",
       "      <td>6.00128</td>\n",
       "      <td>47.9178</td>\n",
       "      <td>0</td>\n",
       "      <td>1</td>\n",
       "      <td>2</td>\n",
       "      <td>4</td>\n",
       "      <td>18955</td>\n",
       "    </tr>\n",
       "    <tr>\n",
       "      <th>Item Id</th>\n",
       "      <td>2000000</td>\n",
       "      <td>166453</td>\n",
       "      <td>--</td>\n",
       "      <td>66235</td>\n",
       "      <td>NaN</td>\n",
       "      <td>NaN</td>\n",
       "      <td>NaN</td>\n",
       "      <td>NaN</td>\n",
       "      <td>NaN</td>\n",
       "      <td>NaN</td>\n",
       "      <td>NaN</td>\n",
       "    </tr>\n",
       "    <tr>\n",
       "      <th>Product type (1st level)</th>\n",
       "      <td>2000000</td>\n",
       "      <td>9</td>\n",
       "      <td>damen</td>\n",
       "      <td>870277</td>\n",
       "      <td>NaN</td>\n",
       "      <td>NaN</td>\n",
       "      <td>NaN</td>\n",
       "      <td>NaN</td>\n",
       "      <td>NaN</td>\n",
       "      <td>NaN</td>\n",
       "      <td>NaN</td>\n",
       "    </tr>\n",
       "    <tr>\n",
       "      <th>Product type (2nd level)</th>\n",
       "      <td>2000000</td>\n",
       "      <td>53</td>\n",
       "      <td>schuhe</td>\n",
       "      <td>167488</td>\n",
       "      <td>NaN</td>\n",
       "      <td>NaN</td>\n",
       "      <td>NaN</td>\n",
       "      <td>NaN</td>\n",
       "      <td>NaN</td>\n",
       "      <td>NaN</td>\n",
       "      <td>NaN</td>\n",
       "    </tr>\n",
       "    <tr>\n",
       "      <th>Product type (3rd level)</th>\n",
       "      <td>2000000</td>\n",
       "      <td>330</td>\n",
       "      <td>outdoor</td>\n",
       "      <td>65872</td>\n",
       "      <td>NaN</td>\n",
       "      <td>NaN</td>\n",
       "      <td>NaN</td>\n",
       "      <td>NaN</td>\n",
       "      <td>NaN</td>\n",
       "      <td>NaN</td>\n",
       "      <td>NaN</td>\n",
       "    </tr>\n",
       "    <tr>\n",
       "      <th>Product type (4th level)</th>\n",
       "      <td>2000000</td>\n",
       "      <td>322</td>\n",
       "      <td>--</td>\n",
       "      <td>1252927</td>\n",
       "      <td>NaN</td>\n",
       "      <td>NaN</td>\n",
       "      <td>NaN</td>\n",
       "      <td>NaN</td>\n",
       "      <td>NaN</td>\n",
       "      <td>NaN</td>\n",
       "      <td>NaN</td>\n",
       "    </tr>\n",
       "    <tr>\n",
       "      <th>Product type (5th level)</th>\n",
       "      <td>2000000</td>\n",
       "      <td>44</td>\n",
       "      <td>--</td>\n",
       "      <td>1926091</td>\n",
       "      <td>NaN</td>\n",
       "      <td>NaN</td>\n",
       "      <td>NaN</td>\n",
       "      <td>NaN</td>\n",
       "      <td>NaN</td>\n",
       "      <td>NaN</td>\n",
       "      <td>NaN</td>\n",
       "    </tr>\n",
       "    <tr>\n",
       "      <th>Click share</th>\n",
       "      <td>2000000</td>\n",
       "      <td>4177</td>\n",
       "      <td>--</td>\n",
       "      <td>1924085</td>\n",
       "      <td>NaN</td>\n",
       "      <td>NaN</td>\n",
       "      <td>NaN</td>\n",
       "      <td>NaN</td>\n",
       "      <td>NaN</td>\n",
       "      <td>NaN</td>\n",
       "      <td>NaN</td>\n",
       "    </tr>\n",
       "    <tr>\n",
       "      <th>Search Impr. share</th>\n",
       "      <td>2000000</td>\n",
       "      <td>5954</td>\n",
       "      <td>--</td>\n",
       "      <td>1927336</td>\n",
       "      <td>NaN</td>\n",
       "      <td>NaN</td>\n",
       "      <td>NaN</td>\n",
       "      <td>NaN</td>\n",
       "      <td>NaN</td>\n",
       "      <td>NaN</td>\n",
       "      <td>NaN</td>\n",
       "    </tr>\n",
       "  </tbody>\n",
       "</table>\n",
       "</div>"
      ],
      "text/plain": [
       "                            count  unique                       top  \\\n",
       "Ad group ID                 2e+06     NaN                       NaN   \n",
       "Ad group                  2000000    1539               marc o'polo   \n",
       "Brand                     2000000    1114               marc o'polo   \n",
       "Campaign ID                 2e+06     NaN                       NaN   \n",
       "Campaign                  2000000       6           camato Designer   \n",
       "Category (1st level)      2000000      11  Bekleidung & Accessoires   \n",
       "Category (2nd level)      2000000      34                Bekleidung   \n",
       "Category (3rd level)      2000000      69            Überbekleidung   \n",
       "Category (4th level)      2000000      93                        --   \n",
       "Category (5th level)      2000000      55                        --   \n",
       "Clicks                      2e+06     NaN                       NaN   \n",
       "Conv. rate                2000000      94                     0.00%   \n",
       "Conversions                 2e+06     NaN                       NaN   \n",
       "Total conv. value           2e+06    1519                         0   \n",
       "Cost                        2e+06     NaN                       NaN   \n",
       "Country/Territory           2e+06     NaN                       NaN   \n",
       "Cross-device conv.          2e+06     NaN                       NaN   \n",
       "CTR                       2000000    1004                     0.00%   \n",
       "Custom label 0            2000000       1                        --   \n",
       "Custom label 1            2000000       1                        --   \n",
       "Custom label 2            2000000       1                        --   \n",
       "Custom label 3            2000000       1                        --   \n",
       "Custom label 4            2000000       1                        --   \n",
       "Day                       2000000      92                2016-11-13   \n",
       "Device                    2000000       3                 Computers   \n",
       "Impressions                 2e+06     NaN                       NaN   \n",
       "Item Id                   2000000  166453                        --   \n",
       "Product type (1st level)  2000000       9                     damen   \n",
       "Product type (2nd level)  2000000      53                    schuhe   \n",
       "Product type (3rd level)  2000000     330                   outdoor   \n",
       "Product type (4th level)  2000000     322                        --   \n",
       "Product type (5th level)  2000000      44                        --   \n",
       "Click share               2000000    4177                        --   \n",
       "Search Impr. share        2000000    5954                        --   \n",
       "\n",
       "                                 freq         mean          std          min  \\\n",
       "Ad group ID                       NaN  3.33161e+10  1.96886e+09  1.76012e+10   \n",
       "Ad group                        82865          NaN          NaN          NaN   \n",
       "Brand                           84825          NaN          NaN          NaN   \n",
       "Campaign ID                       NaN  6.33312e+08  6.86819e+07  2.01385e+08   \n",
       "Campaign                      1256943          NaN          NaN          NaN   \n",
       "Category (1st level)          1702086          NaN          NaN          NaN   \n",
       "Category (2nd level)          1351333          NaN          NaN          NaN   \n",
       "Category (3rd level)           439678          NaN          NaN          NaN   \n",
       "Category (4th level)          1137782          NaN          NaN          NaN   \n",
       "Category (5th level)          1847175          NaN          NaN          NaN   \n",
       "Clicks                            NaN     0.092653      1.42558            0   \n",
       "Conv. rate                    1997229          NaN          NaN          NaN   \n",
       "Conversions                       NaN     0.001496    0.0420804            0   \n",
       "Total conv. value         1.16286e+06          NaN          NaN          NaN   \n",
       "Cost                              NaN      59308.1       640767            0   \n",
       "Country/Territory                 NaN         2276            0         2276   \n",
       "Cross-device conv.                NaN     1.25e-05    0.0132853            0   \n",
       "CTR                           1891327          NaN          NaN          NaN   \n",
       "Custom label 0                2000000          NaN          NaN          NaN   \n",
       "Custom label 1                2000000          NaN          NaN          NaN   \n",
       "Custom label 2                2000000          NaN          NaN          NaN   \n",
       "Custom label 3                2000000          NaN          NaN          NaN   \n",
       "Custom label 4                2000000          NaN          NaN          NaN   \n",
       "Day                             30254          NaN          NaN          NaN   \n",
       "Device                         787065          NaN          NaN          NaN   \n",
       "Impressions                       NaN      6.00128      47.9178            0   \n",
       "Item Id                         66235          NaN          NaN          NaN   \n",
       "Product type (1st level)       870277          NaN          NaN          NaN   \n",
       "Product type (2nd level)       167488          NaN          NaN          NaN   \n",
       "Product type (3rd level)        65872          NaN          NaN          NaN   \n",
       "Product type (4th level)      1252927          NaN          NaN          NaN   \n",
       "Product type (5th level)      1926091          NaN          NaN          NaN   \n",
       "Click share                   1924085          NaN          NaN          NaN   \n",
       "Search Impr. share            1927336          NaN          NaN          NaN   \n",
       "\n",
       "                                  25%          50%          75%          max  \n",
       "Ad group ID               3.35848e+10  3.35849e+10  3.35849e+10  4.38938e+10  \n",
       "Ad group                          NaN          NaN          NaN          NaN  \n",
       "Brand                             NaN          NaN          NaN          NaN  \n",
       "Campaign ID               6.44233e+08  6.44233e+08  6.44233e+08  7.04892e+08  \n",
       "Campaign                          NaN          NaN          NaN          NaN  \n",
       "Category (1st level)              NaN          NaN          NaN          NaN  \n",
       "Category (2nd level)              NaN          NaN          NaN          NaN  \n",
       "Category (3rd level)              NaN          NaN          NaN          NaN  \n",
       "Category (4th level)              NaN          NaN          NaN          NaN  \n",
       "Category (5th level)              NaN          NaN          NaN          NaN  \n",
       "Clicks                              0            0            0          707  \n",
       "Conv. rate                        NaN          NaN          NaN          NaN  \n",
       "Conversions                         0            0            0            7  \n",
       "Total conv. value                 NaN          NaN          NaN          NaN  \n",
       "Cost                                0            0            0   3.3239e+08  \n",
       "Country/Territory                2276         2276         2276         2276  \n",
       "Cross-device conv.                  0            0            0           17  \n",
       "CTR                               NaN          NaN          NaN          NaN  \n",
       "Custom label 0                    NaN          NaN          NaN          NaN  \n",
       "Custom label 1                    NaN          NaN          NaN          NaN  \n",
       "Custom label 2                    NaN          NaN          NaN          NaN  \n",
       "Custom label 3                    NaN          NaN          NaN          NaN  \n",
       "Custom label 4                    NaN          NaN          NaN          NaN  \n",
       "Day                               NaN          NaN          NaN          NaN  \n",
       "Device                            NaN          NaN          NaN          NaN  \n",
       "Impressions                         1            2            4        18955  \n",
       "Item Id                           NaN          NaN          NaN          NaN  \n",
       "Product type (1st level)          NaN          NaN          NaN          NaN  \n",
       "Product type (2nd level)          NaN          NaN          NaN          NaN  \n",
       "Product type (3rd level)          NaN          NaN          NaN          NaN  \n",
       "Product type (4th level)          NaN          NaN          NaN          NaN  \n",
       "Product type (5th level)          NaN          NaN          NaN          NaN  \n",
       "Click share                       NaN          NaN          NaN          NaN  \n",
       "Search Impr. share                NaN          NaN          NaN          NaN  "
      ]
     },
     "execution_count": 30,
     "metadata": {},
     "output_type": "execute_result"
    }
   ],
   "source": [
    "df1.describe(include='all').T"
   ]
  },
  {
   "cell_type": "code",
   "execution_count": 31,
   "metadata": {
    "collapsed": false
   },
   "outputs": [
    {
     "ename": "NoClipboardProgramError",
     "evalue": "Pyperclip requires the gtk, PyQt4, or PySide module installed, or either the xclip or xsel command.",
     "output_type": "error",
     "traceback": [
      "\u001b[0;31m---------------------------------------------------------------------------\u001b[0m",
      "\u001b[0;31mNoClipboardProgramError\u001b[0m                   Traceback (most recent call last)",
      "\u001b[0;32m<ipython-input-31-d3e838b3a4c9>\u001b[0m in \u001b[0;36m<module>\u001b[0;34m()\u001b[0m\n\u001b[0;32m----> 1\u001b[0;31m \u001b[0m_\u001b[0m\u001b[0;34m.\u001b[0m\u001b[0mto_clipboard\u001b[0m\u001b[0;34m(\u001b[0m\u001b[0;34m)\u001b[0m\u001b[0;34m\u001b[0m\u001b[0m\n\u001b[0m",
      "\u001b[0;32m/home/sean/anaconda2/lib/python2.7/site-packages/pandas/core/generic.pyc\u001b[0m in \u001b[0;36mto_clipboard\u001b[0;34m(self, excel, sep, **kwargs)\u001b[0m\n\u001b[1;32m   1200\u001b[0m         \"\"\"\n\u001b[1;32m   1201\u001b[0m         \u001b[0;32mfrom\u001b[0m \u001b[0mpandas\u001b[0m\u001b[0;34m.\u001b[0m\u001b[0mio\u001b[0m \u001b[0;32mimport\u001b[0m \u001b[0mclipboard\u001b[0m\u001b[0;34m\u001b[0m\u001b[0m\n\u001b[0;32m-> 1202\u001b[0;31m         \u001b[0mclipboard\u001b[0m\u001b[0;34m.\u001b[0m\u001b[0mto_clipboard\u001b[0m\u001b[0;34m(\u001b[0m\u001b[0mself\u001b[0m\u001b[0;34m,\u001b[0m \u001b[0mexcel\u001b[0m\u001b[0;34m=\u001b[0m\u001b[0mexcel\u001b[0m\u001b[0;34m,\u001b[0m \u001b[0msep\u001b[0m\u001b[0;34m=\u001b[0m\u001b[0msep\u001b[0m\u001b[0;34m,\u001b[0m \u001b[0;34m**\u001b[0m\u001b[0mkwargs\u001b[0m\u001b[0;34m)\u001b[0m\u001b[0;34m\u001b[0m\u001b[0m\n\u001b[0m\u001b[1;32m   1203\u001b[0m \u001b[0;34m\u001b[0m\u001b[0m\n\u001b[1;32m   1204\u001b[0m     \u001b[0;32mdef\u001b[0m \u001b[0mto_xarray\u001b[0m\u001b[0;34m(\u001b[0m\u001b[0mself\u001b[0m\u001b[0;34m)\u001b[0m\u001b[0;34m:\u001b[0m\u001b[0;34m\u001b[0m\u001b[0m\n",
      "\u001b[0;32m/home/sean/anaconda2/lib/python2.7/site-packages/pandas/io/clipboard.pyc\u001b[0m in \u001b[0;36mto_clipboard\u001b[0;34m(obj, excel, sep, **kwargs)\u001b[0m\n\u001b[1;32m     75\u001b[0m       \u001b[0;34m-\u001b[0m \u001b[0mOS\u001b[0m \u001b[0mX\u001b[0m\u001b[0;34m:\u001b[0m\u001b[0;34m\u001b[0m\u001b[0m\n\u001b[1;32m     76\u001b[0m     \"\"\"\n\u001b[0;32m---> 77\u001b[0;31m     \u001b[0;32mfrom\u001b[0m \u001b[0mpandas\u001b[0m\u001b[0;34m.\u001b[0m\u001b[0mutil\u001b[0m\u001b[0;34m.\u001b[0m\u001b[0mclipboard\u001b[0m \u001b[0;32mimport\u001b[0m \u001b[0mclipboard_set\u001b[0m\u001b[0;34m\u001b[0m\u001b[0m\n\u001b[0m\u001b[1;32m     78\u001b[0m     \u001b[0;32mif\u001b[0m \u001b[0mexcel\u001b[0m \u001b[0;32mis\u001b[0m \u001b[0mNone\u001b[0m\u001b[0;34m:\u001b[0m\u001b[0;34m\u001b[0m\u001b[0m\n\u001b[1;32m     79\u001b[0m         \u001b[0mexcel\u001b[0m \u001b[0;34m=\u001b[0m \u001b[0mTrue\u001b[0m\u001b[0;34m\u001b[0m\u001b[0m\n",
      "\u001b[0;32m/home/sean/anaconda2/lib/python2.7/site-packages/pandas/util/clipboard.py\u001b[0m in \u001b[0;36m<module>\u001b[0;34m()\u001b[0m\n\u001b[1;32m    256\u001b[0m         \u001b[0mcopy\u001b[0m \u001b[0;34m=\u001b[0m \u001b[0m_copyXsel\u001b[0m\u001b[0;34m\u001b[0m\u001b[0m\n\u001b[1;32m    257\u001b[0m     \u001b[0;32melse\u001b[0m\u001b[0;34m:\u001b[0m\u001b[0;34m\u001b[0m\u001b[0m\n\u001b[0;32m--> 258\u001b[0;31m         raise NoClipboardProgramError('Pyperclip requires the gtk, PyQt4, or '\n\u001b[0m\u001b[1;32m    259\u001b[0m                                       \u001b[0;34m'PySide module installed, or either the '\u001b[0m\u001b[0;34m\u001b[0m\u001b[0m\n\u001b[1;32m    260\u001b[0m                                       'xclip or xsel command.')\n",
      "\u001b[0;31mNoClipboardProgramError\u001b[0m: Pyperclip requires the gtk, PyQt4, or PySide module installed, or either the xclip or xsel command."
     ]
    }
   ],
   "source": [
    "_.to_clipboard()"
   ]
  },
  {
   "cell_type": "code",
   "execution_count": 51,
   "metadata": {
    "collapsed": true
   },
   "outputs": [],
   "source": [
    "cnt=df1.groupby([ 'Ad group', 'Ad group ID']).size()"
   ]
  },
  {
   "cell_type": "code",
   "execution_count": 52,
   "metadata": {
    "collapsed": false
   },
   "outputs": [
    {
     "data": {
      "text/plain": [
       "(2576,)"
      ]
     },
     "execution_count": 52,
     "metadata": {},
     "output_type": "execute_result"
    }
   ],
   "source": [
    "cnt.shape"
   ]
  },
  {
   "cell_type": "code",
   "execution_count": 45,
   "metadata": {
    "collapsed": false
   },
   "outputs": [
    {
     "ename": "ValueError",
     "evalue": "Buffer dtype mismatch, expected 'Python object' but got 'long'",
     "output_type": "error",
     "traceback": [
      "\u001b[0;31m---------------------------------------------------------------------------\u001b[0m",
      "\u001b[0;31mValueError\u001b[0m                                Traceback (most recent call last)",
      "\u001b[0;32m/home/sean/anaconda2/lib/python2.7/site-packages/IPython/core/formatters.pyc\u001b[0m in \u001b[0;36m__call__\u001b[0;34m(self, obj)\u001b[0m\n\u001b[1;32m    670\u001b[0m                 \u001b[0mtype_pprinters\u001b[0m\u001b[0;34m=\u001b[0m\u001b[0mself\u001b[0m\u001b[0;34m.\u001b[0m\u001b[0mtype_printers\u001b[0m\u001b[0;34m,\u001b[0m\u001b[0;34m\u001b[0m\u001b[0m\n\u001b[1;32m    671\u001b[0m                 deferred_pprinters=self.deferred_printers)\n\u001b[0;32m--> 672\u001b[0;31m             \u001b[0mprinter\u001b[0m\u001b[0;34m.\u001b[0m\u001b[0mpretty\u001b[0m\u001b[0;34m(\u001b[0m\u001b[0mobj\u001b[0m\u001b[0;34m)\u001b[0m\u001b[0;34m\u001b[0m\u001b[0m\n\u001b[0m\u001b[1;32m    673\u001b[0m             \u001b[0mprinter\u001b[0m\u001b[0;34m.\u001b[0m\u001b[0mflush\u001b[0m\u001b[0;34m(\u001b[0m\u001b[0;34m)\u001b[0m\u001b[0;34m\u001b[0m\u001b[0m\n\u001b[1;32m    674\u001b[0m             \u001b[0;32mreturn\u001b[0m \u001b[0mstream\u001b[0m\u001b[0;34m.\u001b[0m\u001b[0mgetvalue\u001b[0m\u001b[0;34m(\u001b[0m\u001b[0;34m)\u001b[0m\u001b[0;34m\u001b[0m\u001b[0m\n",
      "\u001b[0;32m/home/sean/anaconda2/lib/python2.7/site-packages/IPython/lib/pretty.pyc\u001b[0m in \u001b[0;36mpretty\u001b[0;34m(self, obj)\u001b[0m\n\u001b[1;32m    381\u001b[0m                             \u001b[0;32mif\u001b[0m \u001b[0mcallable\u001b[0m\u001b[0;34m(\u001b[0m\u001b[0mmeth\u001b[0m\u001b[0;34m)\u001b[0m\u001b[0;34m:\u001b[0m\u001b[0;34m\u001b[0m\u001b[0m\n\u001b[1;32m    382\u001b[0m                                 \u001b[0;32mreturn\u001b[0m \u001b[0mmeth\u001b[0m\u001b[0;34m(\u001b[0m\u001b[0mobj\u001b[0m\u001b[0;34m,\u001b[0m \u001b[0mself\u001b[0m\u001b[0;34m,\u001b[0m \u001b[0mcycle\u001b[0m\u001b[0;34m)\u001b[0m\u001b[0;34m\u001b[0m\u001b[0m\n\u001b[0;32m--> 383\u001b[0;31m             \u001b[0;32mreturn\u001b[0m \u001b[0m_default_pprint\u001b[0m\u001b[0;34m(\u001b[0m\u001b[0mobj\u001b[0m\u001b[0;34m,\u001b[0m \u001b[0mself\u001b[0m\u001b[0;34m,\u001b[0m \u001b[0mcycle\u001b[0m\u001b[0;34m)\u001b[0m\u001b[0;34m\u001b[0m\u001b[0m\n\u001b[0m\u001b[1;32m    384\u001b[0m         \u001b[0;32mfinally\u001b[0m\u001b[0;34m:\u001b[0m\u001b[0;34m\u001b[0m\u001b[0m\n\u001b[1;32m    385\u001b[0m             \u001b[0mself\u001b[0m\u001b[0;34m.\u001b[0m\u001b[0mend_group\u001b[0m\u001b[0;34m(\u001b[0m\u001b[0;34m)\u001b[0m\u001b[0;34m\u001b[0m\u001b[0m\n",
      "\u001b[0;32m/home/sean/anaconda2/lib/python2.7/site-packages/IPython/lib/pretty.pyc\u001b[0m in \u001b[0;36m_default_pprint\u001b[0;34m(obj, p, cycle)\u001b[0m\n\u001b[1;32m    501\u001b[0m     \u001b[0;32mif\u001b[0m \u001b[0m_safe_getattr\u001b[0m\u001b[0;34m(\u001b[0m\u001b[0mklass\u001b[0m\u001b[0;34m,\u001b[0m \u001b[0;34m'__repr__'\u001b[0m\u001b[0;34m,\u001b[0m \u001b[0mNone\u001b[0m\u001b[0;34m)\u001b[0m \u001b[0;32mnot\u001b[0m \u001b[0;32min\u001b[0m \u001b[0m_baseclass_reprs\u001b[0m\u001b[0;34m:\u001b[0m\u001b[0;34m\u001b[0m\u001b[0m\n\u001b[1;32m    502\u001b[0m         \u001b[0;31m# A user-provided repr. Find newlines and replace them with p.break_()\u001b[0m\u001b[0;34m\u001b[0m\u001b[0;34m\u001b[0m\u001b[0m\n\u001b[0;32m--> 503\u001b[0;31m         \u001b[0m_repr_pprint\u001b[0m\u001b[0;34m(\u001b[0m\u001b[0mobj\u001b[0m\u001b[0;34m,\u001b[0m \u001b[0mp\u001b[0m\u001b[0;34m,\u001b[0m \u001b[0mcycle\u001b[0m\u001b[0;34m)\u001b[0m\u001b[0;34m\u001b[0m\u001b[0m\n\u001b[0m\u001b[1;32m    504\u001b[0m         \u001b[0;32mreturn\u001b[0m\u001b[0;34m\u001b[0m\u001b[0m\n\u001b[1;32m    505\u001b[0m     \u001b[0mp\u001b[0m\u001b[0;34m.\u001b[0m\u001b[0mbegin_group\u001b[0m\u001b[0;34m(\u001b[0m\u001b[0;36m1\u001b[0m\u001b[0;34m,\u001b[0m \u001b[0;34m'<'\u001b[0m\u001b[0;34m)\u001b[0m\u001b[0;34m\u001b[0m\u001b[0m\n",
      "\u001b[0;32m/home/sean/anaconda2/lib/python2.7/site-packages/IPython/lib/pretty.pyc\u001b[0m in \u001b[0;36m_repr_pprint\u001b[0;34m(obj, p, cycle)\u001b[0m\n\u001b[1;32m    699\u001b[0m     \u001b[0;34m\"\"\"A pprint that just redirects to the normal repr function.\"\"\"\u001b[0m\u001b[0;34m\u001b[0m\u001b[0m\n\u001b[1;32m    700\u001b[0m     \u001b[0;31m# Find newlines and replace them with p.break_()\u001b[0m\u001b[0;34m\u001b[0m\u001b[0;34m\u001b[0m\u001b[0m\n\u001b[0;32m--> 701\u001b[0;31m     \u001b[0moutput\u001b[0m \u001b[0;34m=\u001b[0m \u001b[0mrepr\u001b[0m\u001b[0;34m(\u001b[0m\u001b[0mobj\u001b[0m\u001b[0;34m)\u001b[0m\u001b[0;34m\u001b[0m\u001b[0m\n\u001b[0m\u001b[1;32m    702\u001b[0m     \u001b[0;32mfor\u001b[0m \u001b[0midx\u001b[0m\u001b[0;34m,\u001b[0m\u001b[0moutput_line\u001b[0m \u001b[0;32min\u001b[0m \u001b[0menumerate\u001b[0m\u001b[0;34m(\u001b[0m\u001b[0moutput\u001b[0m\u001b[0;34m.\u001b[0m\u001b[0msplitlines\u001b[0m\u001b[0;34m(\u001b[0m\u001b[0;34m)\u001b[0m\u001b[0;34m)\u001b[0m\u001b[0;34m:\u001b[0m\u001b[0;34m\u001b[0m\u001b[0m\n\u001b[1;32m    703\u001b[0m         \u001b[0;32mif\u001b[0m \u001b[0midx\u001b[0m\u001b[0;34m:\u001b[0m\u001b[0;34m\u001b[0m\u001b[0m\n",
      "\u001b[0;32m/home/sean/anaconda2/lib/python2.7/site-packages/pandas/core/base.pyc\u001b[0m in \u001b[0;36m__repr__\u001b[0;34m(self)\u001b[0m\n\u001b[1;32m     65\u001b[0m         \u001b[0mYields\u001b[0m \u001b[0mBytestring\u001b[0m \u001b[0;32min\u001b[0m \u001b[0mPy2\u001b[0m\u001b[0;34m,\u001b[0m \u001b[0mUnicode\u001b[0m \u001b[0mString\u001b[0m \u001b[0;32min\u001b[0m \u001b[0mpy3\u001b[0m\u001b[0;34m.\u001b[0m\u001b[0;34m\u001b[0m\u001b[0m\n\u001b[1;32m     66\u001b[0m         \"\"\"\n\u001b[0;32m---> 67\u001b[0;31m         \u001b[0;32mreturn\u001b[0m \u001b[0mstr\u001b[0m\u001b[0;34m(\u001b[0m\u001b[0mself\u001b[0m\u001b[0;34m)\u001b[0m\u001b[0;34m\u001b[0m\u001b[0m\n\u001b[0m\u001b[1;32m     68\u001b[0m \u001b[0;34m\u001b[0m\u001b[0m\n\u001b[1;32m     69\u001b[0m \u001b[0;34m\u001b[0m\u001b[0m\n",
      "\u001b[0;32m/home/sean/anaconda2/lib/python2.7/site-packages/pandas/core/base.pyc\u001b[0m in \u001b[0;36m__str__\u001b[0;34m(self)\u001b[0m\n\u001b[1;32m     45\u001b[0m         \u001b[0;32mif\u001b[0m \u001b[0mcompat\u001b[0m\u001b[0;34m.\u001b[0m\u001b[0mPY3\u001b[0m\u001b[0;34m:\u001b[0m\u001b[0;34m\u001b[0m\u001b[0m\n\u001b[1;32m     46\u001b[0m             \u001b[0;32mreturn\u001b[0m \u001b[0mself\u001b[0m\u001b[0;34m.\u001b[0m\u001b[0m__unicode__\u001b[0m\u001b[0;34m(\u001b[0m\u001b[0;34m)\u001b[0m\u001b[0;34m\u001b[0m\u001b[0m\n\u001b[0;32m---> 47\u001b[0;31m         \u001b[0;32mreturn\u001b[0m \u001b[0mself\u001b[0m\u001b[0;34m.\u001b[0m\u001b[0m__bytes__\u001b[0m\u001b[0;34m(\u001b[0m\u001b[0;34m)\u001b[0m\u001b[0;34m\u001b[0m\u001b[0m\n\u001b[0m\u001b[1;32m     48\u001b[0m \u001b[0;34m\u001b[0m\u001b[0m\n\u001b[1;32m     49\u001b[0m     \u001b[0;32mdef\u001b[0m \u001b[0m__bytes__\u001b[0m\u001b[0;34m(\u001b[0m\u001b[0mself\u001b[0m\u001b[0;34m)\u001b[0m\u001b[0;34m:\u001b[0m\u001b[0;34m\u001b[0m\u001b[0m\n",
      "\u001b[0;32m/home/sean/anaconda2/lib/python2.7/site-packages/pandas/core/base.pyc\u001b[0m in \u001b[0;36m__bytes__\u001b[0;34m(self)\u001b[0m\n\u001b[1;32m     57\u001b[0m \u001b[0;34m\u001b[0m\u001b[0m\n\u001b[1;32m     58\u001b[0m         \u001b[0mencoding\u001b[0m \u001b[0;34m=\u001b[0m \u001b[0mget_option\u001b[0m\u001b[0;34m(\u001b[0m\u001b[0;34m\"display.encoding\"\u001b[0m\u001b[0;34m)\u001b[0m\u001b[0;34m\u001b[0m\u001b[0m\n\u001b[0;32m---> 59\u001b[0;31m         \u001b[0;32mreturn\u001b[0m \u001b[0mself\u001b[0m\u001b[0;34m.\u001b[0m\u001b[0m__unicode__\u001b[0m\u001b[0;34m(\u001b[0m\u001b[0;34m)\u001b[0m\u001b[0;34m.\u001b[0m\u001b[0mencode\u001b[0m\u001b[0;34m(\u001b[0m\u001b[0mencoding\u001b[0m\u001b[0;34m,\u001b[0m \u001b[0;34m'replace'\u001b[0m\u001b[0;34m)\u001b[0m\u001b[0;34m\u001b[0m\u001b[0m\n\u001b[0m\u001b[1;32m     60\u001b[0m \u001b[0;34m\u001b[0m\u001b[0m\n\u001b[1;32m     61\u001b[0m     \u001b[0;32mdef\u001b[0m \u001b[0m__repr__\u001b[0m\u001b[0;34m(\u001b[0m\u001b[0mself\u001b[0m\u001b[0;34m)\u001b[0m\u001b[0;34m:\u001b[0m\u001b[0;34m\u001b[0m\u001b[0m\n",
      "\u001b[0;32m/home/sean/anaconda2/lib/python2.7/site-packages/pandas/core/frame.pyc\u001b[0m in \u001b[0;36m__unicode__\u001b[0;34m(self)\u001b[0m\n\u001b[1;32m    533\u001b[0m             \u001b[0mwidth\u001b[0m \u001b[0;34m=\u001b[0m \u001b[0mNone\u001b[0m\u001b[0;34m\u001b[0m\u001b[0m\n\u001b[1;32m    534\u001b[0m         self.to_string(buf=buf, max_rows=max_rows, max_cols=max_cols,\n\u001b[0;32m--> 535\u001b[0;31m                        line_width=width, show_dimensions=show_dimensions)\n\u001b[0m\u001b[1;32m    536\u001b[0m \u001b[0;34m\u001b[0m\u001b[0m\n\u001b[1;32m    537\u001b[0m         \u001b[0;32mreturn\u001b[0m \u001b[0mbuf\u001b[0m\u001b[0;34m.\u001b[0m\u001b[0mgetvalue\u001b[0m\u001b[0;34m(\u001b[0m\u001b[0;34m)\u001b[0m\u001b[0;34m\u001b[0m\u001b[0m\n",
      "\u001b[0;32m/home/sean/anaconda2/lib/python2.7/site-packages/pandas/core/frame.pyc\u001b[0m in \u001b[0;36mto_string\u001b[0;34m(self, buf, columns, col_space, header, index, na_rep, formatters, float_format, sparsify, index_names, justify, line_width, max_rows, max_cols, show_dimensions)\u001b[0m\n\u001b[1;32m   1486\u001b[0m                                            \u001b[0mmax_cols\u001b[0m\u001b[0;34m=\u001b[0m\u001b[0mmax_cols\u001b[0m\u001b[0;34m,\u001b[0m\u001b[0;34m\u001b[0m\u001b[0m\n\u001b[1;32m   1487\u001b[0m                                            show_dimensions=show_dimensions)\n\u001b[0;32m-> 1488\u001b[0;31m         \u001b[0mformatter\u001b[0m\u001b[0;34m.\u001b[0m\u001b[0mto_string\u001b[0m\u001b[0;34m(\u001b[0m\u001b[0;34m)\u001b[0m\u001b[0;34m\u001b[0m\u001b[0m\n\u001b[0m\u001b[1;32m   1489\u001b[0m \u001b[0;34m\u001b[0m\u001b[0m\n\u001b[1;32m   1490\u001b[0m         \u001b[0;32mif\u001b[0m \u001b[0mbuf\u001b[0m \u001b[0;32mis\u001b[0m \u001b[0mNone\u001b[0m\u001b[0;34m:\u001b[0m\u001b[0;34m\u001b[0m\u001b[0m\n",
      "\u001b[0;32m/home/sean/anaconda2/lib/python2.7/site-packages/pandas/formats/format.pyc\u001b[0m in \u001b[0;36mto_string\u001b[0;34m(self)\u001b[0m\n\u001b[1;32m    547\u001b[0m             \u001b[0mtext\u001b[0m \u001b[0;34m=\u001b[0m \u001b[0minfo_line\u001b[0m\u001b[0;34m\u001b[0m\u001b[0m\n\u001b[1;32m    548\u001b[0m         \u001b[0;32melse\u001b[0m\u001b[0;34m:\u001b[0m\u001b[0;34m\u001b[0m\u001b[0m\n\u001b[0;32m--> 549\u001b[0;31m             \u001b[0mstrcols\u001b[0m \u001b[0;34m=\u001b[0m \u001b[0mself\u001b[0m\u001b[0;34m.\u001b[0m\u001b[0m_to_str_columns\u001b[0m\u001b[0;34m(\u001b[0m\u001b[0;34m)\u001b[0m\u001b[0;34m\u001b[0m\u001b[0m\n\u001b[0m\u001b[1;32m    550\u001b[0m             \u001b[0;32mif\u001b[0m \u001b[0mself\u001b[0m\u001b[0;34m.\u001b[0m\u001b[0mline_width\u001b[0m \u001b[0;32mis\u001b[0m \u001b[0mNone\u001b[0m\u001b[0;34m:\u001b[0m  \u001b[0;31m# no need to wrap around just print\u001b[0m\u001b[0;34m\u001b[0m\u001b[0m\n\u001b[1;32m    551\u001b[0m                 \u001b[0;31m# the whole frame\u001b[0m\u001b[0;34m\u001b[0m\u001b[0;34m\u001b[0m\u001b[0m\n",
      "\u001b[0;32m/home/sean/anaconda2/lib/python2.7/site-packages/pandas/formats/format.pyc\u001b[0m in \u001b[0;36m_to_str_columns\u001b[0;34m(self)\u001b[0m\n\u001b[1;32m    466\u001b[0m \u001b[0;34m\u001b[0m\u001b[0m\n\u001b[1;32m    467\u001b[0m         \u001b[0mstr_index\u001b[0m \u001b[0;34m=\u001b[0m \u001b[0mself\u001b[0m\u001b[0;34m.\u001b[0m\u001b[0m_get_formatted_index\u001b[0m\u001b[0;34m(\u001b[0m\u001b[0mframe\u001b[0m\u001b[0;34m)\u001b[0m\u001b[0;34m\u001b[0m\u001b[0m\n\u001b[0;32m--> 468\u001b[0;31m         \u001b[0mstr_columns\u001b[0m \u001b[0;34m=\u001b[0m \u001b[0mself\u001b[0m\u001b[0;34m.\u001b[0m\u001b[0m_get_formatted_column_labels\u001b[0m\u001b[0;34m(\u001b[0m\u001b[0mframe\u001b[0m\u001b[0;34m)\u001b[0m\u001b[0;34m\u001b[0m\u001b[0m\n\u001b[0m\u001b[1;32m    469\u001b[0m \u001b[0;34m\u001b[0m\u001b[0m\n\u001b[1;32m    470\u001b[0m         \u001b[0;32mif\u001b[0m \u001b[0mself\u001b[0m\u001b[0;34m.\u001b[0m\u001b[0mheader\u001b[0m\u001b[0;34m:\u001b[0m\u001b[0;34m\u001b[0m\u001b[0m\n",
      "\u001b[0;32m/home/sean/anaconda2/lib/python2.7/site-packages/pandas/formats/format.pyc\u001b[0m in \u001b[0;36m_get_formatted_column_labels\u001b[0;34m(self, frame)\u001b[0m\n\u001b[1;32m    712\u001b[0m                             need_leadsp[x] else x]\n\u001b[1;32m    713\u001b[0m                            for i, (col, x) in enumerate(zip(columns,\n\u001b[0;32m--> 714\u001b[0;31m                                                             fmt_columns))]\n\u001b[0m\u001b[1;32m    715\u001b[0m \u001b[0;34m\u001b[0m\u001b[0m\n\u001b[1;32m    716\u001b[0m         \u001b[0;32mif\u001b[0m \u001b[0mself\u001b[0m\u001b[0;34m.\u001b[0m\u001b[0mshow_index_names\u001b[0m \u001b[0;32mand\u001b[0m \u001b[0mself\u001b[0m\u001b[0;34m.\u001b[0m\u001b[0mhas_index_names\u001b[0m\u001b[0;34m:\u001b[0m\u001b[0;34m\u001b[0m\u001b[0m\n",
      "\u001b[0;32m/home/sean/anaconda2/lib/python2.7/site-packages/pandas/formats/format.pyc\u001b[0m in \u001b[0;36m_get_formatter\u001b[0;34m(self, i)\u001b[0m\n\u001b[1;32m    318\u001b[0m                 \u001b[0;32mreturn\u001b[0m \u001b[0mNone\u001b[0m\u001b[0;34m\u001b[0m\u001b[0m\n\u001b[1;32m    319\u001b[0m         \u001b[0;32melse\u001b[0m\u001b[0;34m:\u001b[0m\u001b[0;34m\u001b[0m\u001b[0m\n\u001b[0;32m--> 320\u001b[0;31m             \u001b[0;32mif\u001b[0m \u001b[0mcom\u001b[0m\u001b[0;34m.\u001b[0m\u001b[0mis_integer\u001b[0m\u001b[0;34m(\u001b[0m\u001b[0mi\u001b[0m\u001b[0;34m)\u001b[0m \u001b[0;32mand\u001b[0m \u001b[0mi\u001b[0m \u001b[0;32mnot\u001b[0m \u001b[0;32min\u001b[0m \u001b[0mself\u001b[0m\u001b[0;34m.\u001b[0m\u001b[0mcolumns\u001b[0m\u001b[0;34m:\u001b[0m\u001b[0;34m\u001b[0m\u001b[0m\n\u001b[0m\u001b[1;32m    321\u001b[0m                 \u001b[0mi\u001b[0m \u001b[0;34m=\u001b[0m \u001b[0mself\u001b[0m\u001b[0;34m.\u001b[0m\u001b[0mcolumns\u001b[0m\u001b[0;34m[\u001b[0m\u001b[0mi\u001b[0m\u001b[0;34m]\u001b[0m\u001b[0;34m\u001b[0m\u001b[0m\n\u001b[1;32m    322\u001b[0m             \u001b[0;32mreturn\u001b[0m \u001b[0mself\u001b[0m\u001b[0;34m.\u001b[0m\u001b[0mformatters\u001b[0m\u001b[0;34m.\u001b[0m\u001b[0mget\u001b[0m\u001b[0;34m(\u001b[0m\u001b[0mi\u001b[0m\u001b[0;34m,\u001b[0m \u001b[0mNone\u001b[0m\u001b[0;34m)\u001b[0m\u001b[0;34m\u001b[0m\u001b[0m\n",
      "\u001b[0;32m/home/sean/anaconda2/lib/python2.7/site-packages/pandas/indexes/base.pyc\u001b[0m in \u001b[0;36m__contains__\u001b[0;34m(self, key)\u001b[0m\n\u001b[1;32m   1235\u001b[0m         \u001b[0;31m# work around some kind of odd cython bug\u001b[0m\u001b[0;34m\u001b[0m\u001b[0;34m\u001b[0m\u001b[0m\n\u001b[1;32m   1236\u001b[0m         \u001b[0;32mtry\u001b[0m\u001b[0;34m:\u001b[0m\u001b[0;34m\u001b[0m\u001b[0m\n\u001b[0;32m-> 1237\u001b[0;31m             \u001b[0;32mreturn\u001b[0m \u001b[0mkey\u001b[0m \u001b[0;32min\u001b[0m \u001b[0mself\u001b[0m\u001b[0;34m.\u001b[0m\u001b[0m_engine\u001b[0m\u001b[0;34m\u001b[0m\u001b[0m\n\u001b[0m\u001b[1;32m   1238\u001b[0m         \u001b[0;32mexcept\u001b[0m \u001b[0mTypeError\u001b[0m\u001b[0;34m:\u001b[0m\u001b[0;34m\u001b[0m\u001b[0m\n\u001b[1;32m   1239\u001b[0m             \u001b[0;32mreturn\u001b[0m \u001b[0mFalse\u001b[0m\u001b[0;34m\u001b[0m\u001b[0m\n",
      "\u001b[0;32mpandas/index.pyx\u001b[0m in \u001b[0;36mpandas.index.IndexEngine.__contains__ (pandas/index.c:2911)\u001b[0;34m()\u001b[0m\n",
      "\u001b[0;32mpandas/index.pyx\u001b[0m in \u001b[0;36mpandas.index.IndexEngine._ensure_mapping_populated (pandas/index.c:5656)\u001b[0;34m()\u001b[0m\n",
      "\u001b[0;32mpandas/index.pyx\u001b[0m in \u001b[0;36mpandas.index.IndexEngine.initialize (pandas/index.c:5763)\u001b[0;34m()\u001b[0m\n",
      "\u001b[0;32mpandas/hashtable.pyx\u001b[0m in \u001b[0;36mpandas.hashtable.PyObjectHashTable.map_locations (pandas/hashtable.c:12932)\u001b[0;34m()\u001b[0m\n",
      "\u001b[0;31mValueError\u001b[0m: Buffer dtype mismatch, expected 'Python object' but got 'long'"
     ]
    }
   ],
   "source": [
    "cnt.reset_index().describe()"
   ]
  },
  {
   "cell_type": "code",
   "execution_count": 53,
   "metadata": {
    "collapsed": false
   },
   "outputs": [],
   "source": [
    "cnt1=cnt.groupby(level='Ad group').size()"
   ]
  },
  {
   "cell_type": "code",
   "execution_count": 54,
   "metadata": {
    "collapsed": false
   },
   "outputs": [
    {
     "data": {
      "text/plain": [
       "Ad group\n",
       "0039 italy                            2\n",
       "120%lino                              2\n",
       "4lou                                  2\n",
       "7 for all mankind                     2\n",
       "81hours                               2\n",
       "a beautiful story                     2\n",
       "a-k-r-i-s-                            2\n",
       "abro                                  2\n",
       "acca kappa                            2\n",
       "acqua di parma                        2\n",
       "adenauer & co                         2\n",
       "adidas                                2\n",
       "adidas by raf simons                  2\n",
       "adidas by stella mccartney            2\n",
       "adidas originals                      2\n",
       "adidas stellasport                    2\n",
       "aeronautica militare                  2\n",
       "ag jeans                              2\n",
       "agl attilio giusti leombruni          2\n",
       "agl-attilio giusti leombruni          2\n",
       "aglini                                2\n",
       "agnona                                2\n",
       "aigner                                2\n",
       "airfield                              2\n",
       "airforce                              2\n",
       "alameda turquesa                      2\n",
       "alaïa paris                           2\n",
       "alberto                               2\n",
       "alexander mcqueen                     2\n",
       "alice & i                             2\n",
       "                                     ..\n",
       "windsor                               2\n",
       "witty knitters                        2\n",
       "wmf                                   2\n",
       "wolford                               2\n",
       "wood wood                             2\n",
       "wood'd                                2\n",
       "woolrich                              2\n",
       "würth                                 2\n",
       "x-socks                               2\n",
       "y-3                                   2\n",
       "yaya                                  2\n",
       "yippie hippie                         2\n",
       "yogistar                              2\n",
       "young couture by barbara schwarzer    2\n",
       "yves saint laurent beauté             2\n",
       "yves salomon                          2\n",
       "zadig & voltaire fragrances           2\n",
       "zarkoperfume                          2\n",
       "zaubermasche                          2\n",
       "zegna                                 2\n",
       "zhrill                                2\n",
       "ziener                                2\n",
       "zinda                                 2\n",
       "zinga                                 2\n",
       "zingaro                               2\n",
       "zizzi                                 2\n",
       "zoe karssen                           2\n",
       "zoeppritz                             2\n",
       "zwilling                              2\n",
       "zzegna                                2\n",
       "dtype: int64"
      ]
     },
     "execution_count": 54,
     "metadata": {},
     "output_type": "execute_result"
    }
   ],
   "source": [
    "cnt1[cnt1>1]"
   ]
  },
  {
   "cell_type": "code",
   "execution_count": 38,
   "metadata": {
    "collapsed": false
   },
   "outputs": [
    {
     "data": {
      "text/plain": [
       "Ad group         Ad group ID\n",
       "Marken_Barts     17602163553      125\n",
       "Marken_Boss      17601240513    12412\n",
       "Marken_Cambio    17602161273      424\n",
       "Marken_Desigual  17922688713      174\n",
       "Marken_Doell     17602162953       57\n",
       "dtype: int64"
      ]
     },
     "execution_count": 38,
     "metadata": {},
     "output_type": "execute_result"
    }
   ],
   "source": [
    "cnt.head()"
   ]
  },
  {
   "cell_type": "code",
   "execution_count": 36,
   "metadata": {
    "collapsed": false
   },
   "outputs": [
    {
     "data": {
      "text/plain": [
       "0"
      ]
     },
     "execution_count": 36,
     "metadata": {},
     "output_type": "execute_result"
    }
   ],
   "source": [
    "cnt.reset_index()['Ad group'].isnull().sum()"
   ]
  },
  {
   "cell_type": "code",
   "execution_count": 32,
   "metadata": {
    "collapsed": false
   },
   "outputs": [
    {
     "data": {
      "text/html": [
       "<div>\n",
       "<table border=\"1\" class=\"dataframe\">\n",
       "  <thead>\n",
       "    <tr style=\"text-align: right;\">\n",
       "      <th></th>\n",
       "      <th>Ad group ID</th>\n",
       "      <th>Ad group</th>\n",
       "      <th>Brand</th>\n",
       "    </tr>\n",
       "  </thead>\n",
       "  <tbody>\n",
       "    <tr>\n",
       "      <th>99468</th>\n",
       "      <td>17601222753</td>\n",
       "      <td>Marken_Marc-Cain</td>\n",
       "      <td>marccain</td>\n",
       "    </tr>\n",
       "    <tr>\n",
       "      <th>9072</th>\n",
       "      <td>17601240513</td>\n",
       "      <td>Marken_Boss</td>\n",
       "      <td>boss</td>\n",
       "    </tr>\n",
       "    <tr>\n",
       "      <th>71515</th>\n",
       "      <td>17601229593</td>\n",
       "      <td>Marken_Marc-O'Polo</td>\n",
       "      <td>marc o'polo</td>\n",
       "    </tr>\n",
       "    <tr>\n",
       "      <th>24755</th>\n",
       "      <td>17601222753</td>\n",
       "      <td>Marken_Marc-Cain</td>\n",
       "      <td>marccain</td>\n",
       "    </tr>\n",
       "    <tr>\n",
       "      <th>75791</th>\n",
       "      <td>17601222753</td>\n",
       "      <td>Marken_Marc-Cain</td>\n",
       "      <td>marccain</td>\n",
       "    </tr>\n",
       "    <tr>\n",
       "      <th>32600</th>\n",
       "      <td>17602244913</td>\n",
       "      <td>Marken_Rest</td>\n",
       "      <td>strenesse</td>\n",
       "    </tr>\n",
       "    <tr>\n",
       "      <th>22092</th>\n",
       "      <td>17601240513</td>\n",
       "      <td>Marken_Boss</td>\n",
       "      <td>boss</td>\n",
       "    </tr>\n",
       "    <tr>\n",
       "      <th>24520</th>\n",
       "      <td>17602244913</td>\n",
       "      <td>Marken_Rest</td>\n",
       "      <td>raffaello rossi</td>\n",
       "    </tr>\n",
       "    <tr>\n",
       "      <th>29028</th>\n",
       "      <td>17601230193</td>\n",
       "      <td>Marken_Drykorn</td>\n",
       "      <td>drykorn</td>\n",
       "    </tr>\n",
       "    <tr>\n",
       "      <th>94651</th>\n",
       "      <td>17601229593</td>\n",
       "      <td>Marken_Marc-O'Polo</td>\n",
       "      <td>marc o'polo pure</td>\n",
       "    </tr>\n",
       "    <tr>\n",
       "      <th>91525</th>\n",
       "      <td>17601229593</td>\n",
       "      <td>Marken_Marc-O'Polo</td>\n",
       "      <td>marc o'polo</td>\n",
       "    </tr>\n",
       "    <tr>\n",
       "      <th>63641</th>\n",
       "      <td>17601222753</td>\n",
       "      <td>Marken_Marc-Cain</td>\n",
       "      <td>marccain</td>\n",
       "    </tr>\n",
       "    <tr>\n",
       "      <th>62551</th>\n",
       "      <td>17601222753</td>\n",
       "      <td>Marken_Marc-Cain</td>\n",
       "      <td>marccain</td>\n",
       "    </tr>\n",
       "    <tr>\n",
       "      <th>93134</th>\n",
       "      <td>17601222753</td>\n",
       "      <td>Marken_Marc-Cain</td>\n",
       "      <td>marccain</td>\n",
       "    </tr>\n",
       "    <tr>\n",
       "      <th>57667</th>\n",
       "      <td>17601229593</td>\n",
       "      <td>Marken_Marc-O'Polo</td>\n",
       "      <td>marc o'polo</td>\n",
       "    </tr>\n",
       "    <tr>\n",
       "      <th>94688</th>\n",
       "      <td>17601240513</td>\n",
       "      <td>Marken_Boss</td>\n",
       "      <td>boss orange</td>\n",
       "    </tr>\n",
       "    <tr>\n",
       "      <th>46907</th>\n",
       "      <td>17601230193</td>\n",
       "      <td>Marken_Drykorn</td>\n",
       "      <td>drykorn</td>\n",
       "    </tr>\n",
       "    <tr>\n",
       "      <th>13174</th>\n",
       "      <td>17602244913</td>\n",
       "      <td>Marken_Rest</td>\n",
       "      <td>yaya</td>\n",
       "    </tr>\n",
       "    <tr>\n",
       "      <th>82236</th>\n",
       "      <td>17601222753</td>\n",
       "      <td>Marken_Marc-Cain</td>\n",
       "      <td>marccain</td>\n",
       "    </tr>\n",
       "    <tr>\n",
       "      <th>17976</th>\n",
       "      <td>17601240513</td>\n",
       "      <td>Marken_Boss</td>\n",
       "      <td>hugo</td>\n",
       "    </tr>\n",
       "    <tr>\n",
       "      <th>97071</th>\n",
       "      <td>17601230193</td>\n",
       "      <td>Marken_Drykorn</td>\n",
       "      <td>drykorn</td>\n",
       "    </tr>\n",
       "    <tr>\n",
       "      <th>93933</th>\n",
       "      <td>17601222753</td>\n",
       "      <td>Marken_Marc-Cain</td>\n",
       "      <td>marccain</td>\n",
       "    </tr>\n",
       "    <tr>\n",
       "      <th>36881</th>\n",
       "      <td>17601240513</td>\n",
       "      <td>Marken_Boss</td>\n",
       "      <td>boss</td>\n",
       "    </tr>\n",
       "    <tr>\n",
       "      <th>69192</th>\n",
       "      <td>17601222753</td>\n",
       "      <td>Marken_Marc-Cain</td>\n",
       "      <td>marccain</td>\n",
       "    </tr>\n",
       "    <tr>\n",
       "      <th>70220</th>\n",
       "      <td>17601222753</td>\n",
       "      <td>Marken_Marc-Cain</td>\n",
       "      <td>marccain</td>\n",
       "    </tr>\n",
       "    <tr>\n",
       "      <th>10833</th>\n",
       "      <td>17602244913</td>\n",
       "      <td>Marken_Rest</td>\n",
       "      <td>adidas by raf simons</td>\n",
       "    </tr>\n",
       "    <tr>\n",
       "      <th>51279</th>\n",
       "      <td>17601222633</td>\n",
       "      <td>Marken_Michael-Kors</td>\n",
       "      <td>michael kors</td>\n",
       "    </tr>\n",
       "    <tr>\n",
       "      <th>78204</th>\n",
       "      <td>17601222753</td>\n",
       "      <td>Marken_Marc-Cain</td>\n",
       "      <td>marccain</td>\n",
       "    </tr>\n",
       "    <tr>\n",
       "      <th>4201</th>\n",
       "      <td>17601240513</td>\n",
       "      <td>Marken_Boss</td>\n",
       "      <td>hugo</td>\n",
       "    </tr>\n",
       "    <tr>\n",
       "      <th>68089</th>\n",
       "      <td>17601229593</td>\n",
       "      <td>Marken_Marc-O'Polo</td>\n",
       "      <td>marc o'polo pure</td>\n",
       "    </tr>\n",
       "    <tr>\n",
       "      <th>67896</th>\n",
       "      <td>17601222753</td>\n",
       "      <td>Marken_Marc-Cain</td>\n",
       "      <td>marccain</td>\n",
       "    </tr>\n",
       "    <tr>\n",
       "      <th>25448</th>\n",
       "      <td>17601240513</td>\n",
       "      <td>Marken_Boss</td>\n",
       "      <td>hugo</td>\n",
       "    </tr>\n",
       "    <tr>\n",
       "      <th>80118</th>\n",
       "      <td>17601222753</td>\n",
       "      <td>Marken_Marc-Cain</td>\n",
       "      <td>marccain</td>\n",
       "    </tr>\n",
       "    <tr>\n",
       "      <th>9247</th>\n",
       "      <td>17602244913</td>\n",
       "      <td>Marken_Rest</td>\n",
       "      <td>young couture by barbara schwarzer</td>\n",
       "    </tr>\n",
       "    <tr>\n",
       "      <th>79214</th>\n",
       "      <td>17601229593</td>\n",
       "      <td>Marken_Marc-O'Polo</td>\n",
       "      <td>marc o'polo</td>\n",
       "    </tr>\n",
       "    <tr>\n",
       "      <th>40966</th>\n",
       "      <td>17601222753</td>\n",
       "      <td>Marken_Marc-Cain</td>\n",
       "      <td>marccain</td>\n",
       "    </tr>\n",
       "    <tr>\n",
       "      <th>31263</th>\n",
       "      <td>17601229593</td>\n",
       "      <td>Marken_Marc-O'Polo</td>\n",
       "      <td>marc o'polo</td>\n",
       "    </tr>\n",
       "    <tr>\n",
       "      <th>49227</th>\n",
       "      <td>17601240513</td>\n",
       "      <td>Marken_Boss</td>\n",
       "      <td>boss</td>\n",
       "    </tr>\n",
       "    <tr>\n",
       "      <th>78434</th>\n",
       "      <td>17601222753</td>\n",
       "      <td>Marken_Marc-Cain</td>\n",
       "      <td>marccain</td>\n",
       "    </tr>\n",
       "    <tr>\n",
       "      <th>71881</th>\n",
       "      <td>17601222753</td>\n",
       "      <td>Marken_Marc-Cain</td>\n",
       "      <td>marccain</td>\n",
       "    </tr>\n",
       "    <tr>\n",
       "      <th>20491</th>\n",
       "      <td>17602244913</td>\n",
       "      <td>Marken_Rest</td>\n",
       "      <td>artigiano</td>\n",
       "    </tr>\n",
       "    <tr>\n",
       "      <th>17045</th>\n",
       "      <td>17601222753</td>\n",
       "      <td>Marken_Marc-Cain</td>\n",
       "      <td>marccain</td>\n",
       "    </tr>\n",
       "    <tr>\n",
       "      <th>62302</th>\n",
       "      <td>17601229593</td>\n",
       "      <td>Marken_Marc-O'Polo</td>\n",
       "      <td>marc o'polo</td>\n",
       "    </tr>\n",
       "    <tr>\n",
       "      <th>42672</th>\n",
       "      <td>17601222753</td>\n",
       "      <td>Marken_Marc-Cain</td>\n",
       "      <td>marccain</td>\n",
       "    </tr>\n",
       "    <tr>\n",
       "      <th>72236</th>\n",
       "      <td>17601222633</td>\n",
       "      <td>Marken_Michael-Kors</td>\n",
       "      <td>michael kors</td>\n",
       "    </tr>\n",
       "    <tr>\n",
       "      <th>40231</th>\n",
       "      <td>17601222753</td>\n",
       "      <td>Marken_Marc-Cain</td>\n",
       "      <td>marccain</td>\n",
       "    </tr>\n",
       "    <tr>\n",
       "      <th>88285</th>\n",
       "      <td>17601222753</td>\n",
       "      <td>Marken_Marc-Cain</td>\n",
       "      <td>marccain</td>\n",
       "    </tr>\n",
       "    <tr>\n",
       "      <th>38939</th>\n",
       "      <td>17601222753</td>\n",
       "      <td>Marken_Marc-Cain</td>\n",
       "      <td>marccain</td>\n",
       "    </tr>\n",
       "    <tr>\n",
       "      <th>93013</th>\n",
       "      <td>17601240513</td>\n",
       "      <td>Marken_Boss</td>\n",
       "      <td>hugo</td>\n",
       "    </tr>\n",
       "    <tr>\n",
       "      <th>29885</th>\n",
       "      <td>17601240513</td>\n",
       "      <td>Marken_Boss</td>\n",
       "      <td>boss</td>\n",
       "    </tr>\n",
       "  </tbody>\n",
       "</table>\n",
       "</div>"
      ],
      "text/plain": [
       "       Ad group ID             Ad group                               Brand\n",
       "99468  17601222753     Marken_Marc-Cain                            marccain\n",
       "9072   17601240513          Marken_Boss                                boss\n",
       "71515  17601229593   Marken_Marc-O'Polo                         marc o'polo\n",
       "24755  17601222753     Marken_Marc-Cain                            marccain\n",
       "75791  17601222753     Marken_Marc-Cain                            marccain\n",
       "32600  17602244913          Marken_Rest                           strenesse\n",
       "22092  17601240513          Marken_Boss                                boss\n",
       "24520  17602244913          Marken_Rest                     raffaello rossi\n",
       "29028  17601230193       Marken_Drykorn                             drykorn\n",
       "94651  17601229593   Marken_Marc-O'Polo                    marc o'polo pure\n",
       "91525  17601229593   Marken_Marc-O'Polo                         marc o'polo\n",
       "63641  17601222753     Marken_Marc-Cain                            marccain\n",
       "62551  17601222753     Marken_Marc-Cain                            marccain\n",
       "93134  17601222753     Marken_Marc-Cain                            marccain\n",
       "57667  17601229593   Marken_Marc-O'Polo                         marc o'polo\n",
       "94688  17601240513          Marken_Boss                         boss orange\n",
       "46907  17601230193       Marken_Drykorn                             drykorn\n",
       "13174  17602244913          Marken_Rest                                yaya\n",
       "82236  17601222753     Marken_Marc-Cain                            marccain\n",
       "17976  17601240513          Marken_Boss                                hugo\n",
       "97071  17601230193       Marken_Drykorn                             drykorn\n",
       "93933  17601222753     Marken_Marc-Cain                            marccain\n",
       "36881  17601240513          Marken_Boss                                boss\n",
       "69192  17601222753     Marken_Marc-Cain                            marccain\n",
       "70220  17601222753     Marken_Marc-Cain                            marccain\n",
       "10833  17602244913          Marken_Rest                adidas by raf simons\n",
       "51279  17601222633  Marken_Michael-Kors                        michael kors\n",
       "78204  17601222753     Marken_Marc-Cain                            marccain\n",
       "4201   17601240513          Marken_Boss                                hugo\n",
       "68089  17601229593   Marken_Marc-O'Polo                    marc o'polo pure\n",
       "67896  17601222753     Marken_Marc-Cain                            marccain\n",
       "25448  17601240513          Marken_Boss                                hugo\n",
       "80118  17601222753     Marken_Marc-Cain                            marccain\n",
       "9247   17602244913          Marken_Rest  young couture by barbara schwarzer\n",
       "79214  17601229593   Marken_Marc-O'Polo                         marc o'polo\n",
       "40966  17601222753     Marken_Marc-Cain                            marccain\n",
       "31263  17601229593   Marken_Marc-O'Polo                         marc o'polo\n",
       "49227  17601240513          Marken_Boss                                boss\n",
       "78434  17601222753     Marken_Marc-Cain                            marccain\n",
       "71881  17601222753     Marken_Marc-Cain                            marccain\n",
       "20491  17602244913          Marken_Rest                           artigiano\n",
       "17045  17601222753     Marken_Marc-Cain                            marccain\n",
       "62302  17601229593   Marken_Marc-O'Polo                         marc o'polo\n",
       "42672  17601222753     Marken_Marc-Cain                            marccain\n",
       "72236  17601222633  Marken_Michael-Kors                        michael kors\n",
       "40231  17601222753     Marken_Marc-Cain                            marccain\n",
       "88285  17601222753     Marken_Marc-Cain                            marccain\n",
       "38939  17601222753     Marken_Marc-Cain                            marccain\n",
       "93013  17601240513          Marken_Boss                                hugo\n",
       "29885  17601240513          Marken_Boss                                boss"
      ]
     },
     "execution_count": 32,
     "metadata": {},
     "output_type": "execute_result"
    }
   ],
   "source": [
    "df_test[['Ad group ID', 'Ad group', 'Brand']].sample(50)"
   ]
  },
  {
   "cell_type": "code",
   "execution_count": 26,
   "metadata": {
    "collapsed": false
   },
   "outputs": [],
   "source": []
  },
  {
   "cell_type": "code",
   "execution_count": 27,
   "metadata": {
    "collapsed": true
   },
   "outputs": [],
   "source": []
  },
  {
   "cell_type": "code",
   "execution_count": 9,
   "metadata": {
    "collapsed": false
   },
   "outputs": [],
   "source": []
  },
  {
   "cell_type": "code",
   "execution_count": 10,
   "metadata": {
    "collapsed": false
   },
   "outputs": [
    {
     "data": {
      "text/html": [
       "<div>\n",
       "<table border=\"1\" class=\"dataframe\">\n",
       "  <thead>\n",
       "    <tr style=\"text-align: right;\">\n",
       "      <th></th>\n",
       "      <th>count</th>\n",
       "      <th>mean</th>\n",
       "      <th>std</th>\n",
       "      <th>min</th>\n",
       "      <th>25%</th>\n",
       "      <th>50%</th>\n",
       "      <th>75%</th>\n",
       "      <th>max</th>\n",
       "    </tr>\n",
       "  </thead>\n",
       "  <tbody>\n",
       "    <tr>\n",
       "      <th>Clicks</th>\n",
       "      <td>100000.0</td>\n",
       "      <td>0.00000</td>\n",
       "      <td>0.000000</td>\n",
       "      <td>0.0</td>\n",
       "      <td>0.0</td>\n",
       "      <td>0.0</td>\n",
       "      <td>0.0</td>\n",
       "      <td>0.0</td>\n",
       "    </tr>\n",
       "    <tr>\n",
       "      <th>Conversions</th>\n",
       "      <td>100000.0</td>\n",
       "      <td>0.00000</td>\n",
       "      <td>0.000000</td>\n",
       "      <td>0.0</td>\n",
       "      <td>0.0</td>\n",
       "      <td>0.0</td>\n",
       "      <td>0.0</td>\n",
       "      <td>0.0</td>\n",
       "    </tr>\n",
       "    <tr>\n",
       "      <th>Total conv. value</th>\n",
       "      <td>100000.0</td>\n",
       "      <td>0.00000</td>\n",
       "      <td>0.000000</td>\n",
       "      <td>0.0</td>\n",
       "      <td>0.0</td>\n",
       "      <td>0.0</td>\n",
       "      <td>0.0</td>\n",
       "      <td>0.0</td>\n",
       "    </tr>\n",
       "    <tr>\n",
       "      <th>Cost</th>\n",
       "      <td>100000.0</td>\n",
       "      <td>0.00000</td>\n",
       "      <td>0.000000</td>\n",
       "      <td>0.0</td>\n",
       "      <td>0.0</td>\n",
       "      <td>0.0</td>\n",
       "      <td>0.0</td>\n",
       "      <td>0.0</td>\n",
       "    </tr>\n",
       "    <tr>\n",
       "      <th>Country/Territory</th>\n",
       "      <td>100000.0</td>\n",
       "      <td>2276.00000</td>\n",
       "      <td>0.000000</td>\n",
       "      <td>2276.0</td>\n",
       "      <td>2276.0</td>\n",
       "      <td>2276.0</td>\n",
       "      <td>2276.0</td>\n",
       "      <td>2276.0</td>\n",
       "    </tr>\n",
       "    <tr>\n",
       "      <th>Cross-device conv.</th>\n",
       "      <td>100000.0</td>\n",
       "      <td>0.00000</td>\n",
       "      <td>0.000000</td>\n",
       "      <td>0.0</td>\n",
       "      <td>0.0</td>\n",
       "      <td>0.0</td>\n",
       "      <td>0.0</td>\n",
       "      <td>0.0</td>\n",
       "    </tr>\n",
       "    <tr>\n",
       "      <th>Impressions</th>\n",
       "      <td>100000.0</td>\n",
       "      <td>0.00003</td>\n",
       "      <td>0.005477</td>\n",
       "      <td>0.0</td>\n",
       "      <td>0.0</td>\n",
       "      <td>0.0</td>\n",
       "      <td>0.0</td>\n",
       "      <td>1.0</td>\n",
       "    </tr>\n",
       "  </tbody>\n",
       "</table>\n",
       "</div>"
      ],
      "text/plain": [
       "                       count        mean       std     min     25%     50%  \\\n",
       "Clicks              100000.0     0.00000  0.000000     0.0     0.0     0.0   \n",
       "Conversions         100000.0     0.00000  0.000000     0.0     0.0     0.0   \n",
       "Total conv. value   100000.0     0.00000  0.000000     0.0     0.0     0.0   \n",
       "Cost                100000.0     0.00000  0.000000     0.0     0.0     0.0   \n",
       "Country/Territory   100000.0  2276.00000  0.000000  2276.0  2276.0  2276.0   \n",
       "Cross-device conv.  100000.0     0.00000  0.000000     0.0     0.0     0.0   \n",
       "Impressions         100000.0     0.00003  0.005477     0.0     0.0     0.0   \n",
       "\n",
       "                       75%     max  \n",
       "Clicks                 0.0     0.0  \n",
       "Conversions            0.0     0.0  \n",
       "Total conv. value      0.0     0.0  \n",
       "Cost                   0.0     0.0  \n",
       "Country/Territory   2276.0  2276.0  \n",
       "Cross-device conv.     0.0     0.0  \n",
       "Impressions            0.0     1.0  "
      ]
     },
     "execution_count": 10,
     "metadata": {},
     "output_type": "execute_result"
    }
   ],
   "source": [
    "df_test.describe().T"
   ]
  },
  {
   "cell_type": "code",
   "execution_count": 7,
   "metadata": {
    "collapsed": false
   },
   "outputs": [
    {
     "data": {
      "text/html": [
       "<div>\n",
       "<table border=\"1\" class=\"dataframe\">\n",
       "  <thead>\n",
       "    <tr style=\"text-align: right;\">\n",
       "      <th></th>\n",
       "      <th>column_name</th>\n",
       "      <th>data_type</th>\n",
       "    </tr>\n",
       "  </thead>\n",
       "  <tbody>\n",
       "    <tr>\n",
       "      <th>0</th>\n",
       "      <td>Ad group ID</td>\n",
       "      <td>category</td>\n",
       "    </tr>\n",
       "    <tr>\n",
       "      <th>1</th>\n",
       "      <td>Ad group</td>\n",
       "      <td>category</td>\n",
       "    </tr>\n",
       "    <tr>\n",
       "      <th>2</th>\n",
       "      <td>Brand</td>\n",
       "      <td>category</td>\n",
       "    </tr>\n",
       "    <tr>\n",
       "      <th>3</th>\n",
       "      <td>Campaign ID</td>\n",
       "      <td>category</td>\n",
       "    </tr>\n",
       "    <tr>\n",
       "      <th>4</th>\n",
       "      <td>Campaign</td>\n",
       "      <td>category</td>\n",
       "    </tr>\n",
       "    <tr>\n",
       "      <th>5</th>\n",
       "      <td>Category (1st level)</td>\n",
       "      <td>category</td>\n",
       "    </tr>\n",
       "    <tr>\n",
       "      <th>6</th>\n",
       "      <td>Category (2nd level)</td>\n",
       "      <td>category</td>\n",
       "    </tr>\n",
       "    <tr>\n",
       "      <th>7</th>\n",
       "      <td>Category (3rd level)</td>\n",
       "      <td>category</td>\n",
       "    </tr>\n",
       "    <tr>\n",
       "      <th>8</th>\n",
       "      <td>Category (4th level)</td>\n",
       "      <td>category</td>\n",
       "    </tr>\n",
       "    <tr>\n",
       "      <th>9</th>\n",
       "      <td>Category (5th level)</td>\n",
       "      <td>category</td>\n",
       "    </tr>\n",
       "    <tr>\n",
       "      <th>10</th>\n",
       "      <td>Clicks</td>\n",
       "      <td>NaN</td>\n",
       "    </tr>\n",
       "    <tr>\n",
       "      <th>11</th>\n",
       "      <td>Conv. rate</td>\n",
       "      <td>NaN</td>\n",
       "    </tr>\n",
       "    <tr>\n",
       "      <th>12</th>\n",
       "      <td>Conversions</td>\n",
       "      <td>NaN</td>\n",
       "    </tr>\n",
       "    <tr>\n",
       "      <th>13</th>\n",
       "      <td>Total conv. value</td>\n",
       "      <td>NaN</td>\n",
       "    </tr>\n",
       "    <tr>\n",
       "      <th>14</th>\n",
       "      <td>Cost</td>\n",
       "      <td>NaN</td>\n",
       "    </tr>\n",
       "    <tr>\n",
       "      <th>15</th>\n",
       "      <td>Country/Territory</td>\n",
       "      <td>NaN</td>\n",
       "    </tr>\n",
       "    <tr>\n",
       "      <th>16</th>\n",
       "      <td>Cross-device conv.</td>\n",
       "      <td>NaN</td>\n",
       "    </tr>\n",
       "    <tr>\n",
       "      <th>17</th>\n",
       "      <td>CTR</td>\n",
       "      <td>NaN</td>\n",
       "    </tr>\n",
       "    <tr>\n",
       "      <th>18</th>\n",
       "      <td>Custom label 0</td>\n",
       "      <td>category</td>\n",
       "    </tr>\n",
       "    <tr>\n",
       "      <th>19</th>\n",
       "      <td>Custom label 1</td>\n",
       "      <td>category</td>\n",
       "    </tr>\n",
       "    <tr>\n",
       "      <th>20</th>\n",
       "      <td>Custom label 2</td>\n",
       "      <td>category</td>\n",
       "    </tr>\n",
       "    <tr>\n",
       "      <th>21</th>\n",
       "      <td>Custom label 3</td>\n",
       "      <td>category</td>\n",
       "    </tr>\n",
       "    <tr>\n",
       "      <th>22</th>\n",
       "      <td>Custom label 4</td>\n",
       "      <td>category</td>\n",
       "    </tr>\n",
       "    <tr>\n",
       "      <th>23</th>\n",
       "      <td>Day</td>\n",
       "      <td>NaN</td>\n",
       "    </tr>\n",
       "    <tr>\n",
       "      <th>24</th>\n",
       "      <td>Device</td>\n",
       "      <td>category</td>\n",
       "    </tr>\n",
       "    <tr>\n",
       "      <th>25</th>\n",
       "      <td>Impressions</td>\n",
       "      <td>NaN</td>\n",
       "    </tr>\n",
       "    <tr>\n",
       "      <th>26</th>\n",
       "      <td>Item Id</td>\n",
       "      <td>category</td>\n",
       "    </tr>\n",
       "    <tr>\n",
       "      <th>27</th>\n",
       "      <td>Product type (1st level)</td>\n",
       "      <td>category</td>\n",
       "    </tr>\n",
       "    <tr>\n",
       "      <th>28</th>\n",
       "      <td>Product type (2nd level)</td>\n",
       "      <td>category</td>\n",
       "    </tr>\n",
       "    <tr>\n",
       "      <th>29</th>\n",
       "      <td>Product type (3rd level)</td>\n",
       "      <td>category</td>\n",
       "    </tr>\n",
       "    <tr>\n",
       "      <th>30</th>\n",
       "      <td>Product type (4th level)</td>\n",
       "      <td>category</td>\n",
       "    </tr>\n",
       "    <tr>\n",
       "      <th>31</th>\n",
       "      <td>Product type (5th level)</td>\n",
       "      <td>category</td>\n",
       "    </tr>\n",
       "    <tr>\n",
       "      <th>32</th>\n",
       "      <td>Click share</td>\n",
       "      <td>NaN</td>\n",
       "    </tr>\n",
       "    <tr>\n",
       "      <th>33</th>\n",
       "      <td>Search Impr. share</td>\n",
       "      <td>NaN</td>\n",
       "    </tr>\n",
       "  </tbody>\n",
       "</table>\n",
       "</div>"
      ],
      "text/plain": [
       "                 column_name data_type\n",
       "0                Ad group ID  category\n",
       "1                   Ad group  category\n",
       "2                      Brand  category\n",
       "3                Campaign ID  category\n",
       "4                   Campaign  category\n",
       "5       Category (1st level)  category\n",
       "6       Category (2nd level)  category\n",
       "7       Category (3rd level)  category\n",
       "8       Category (4th level)  category\n",
       "9       Category (5th level)  category\n",
       "10                    Clicks       NaN\n",
       "11                Conv. rate       NaN\n",
       "12               Conversions       NaN\n",
       "13         Total conv. value       NaN\n",
       "14                      Cost       NaN\n",
       "15         Country/Territory       NaN\n",
       "16        Cross-device conv.       NaN\n",
       "17                       CTR       NaN\n",
       "18            Custom label 0  category\n",
       "19            Custom label 1  category\n",
       "20            Custom label 2  category\n",
       "21            Custom label 3  category\n",
       "22            Custom label 4  category\n",
       "23                       Day       NaN\n",
       "24                    Device  category\n",
       "25               Impressions       NaN\n",
       "26                   Item Id  category\n",
       "27  Product type (1st level)  category\n",
       "28  Product type (2nd level)  category\n",
       "29  Product type (3rd level)  category\n",
       "30  Product type (4th level)  category\n",
       "31  Product type (5th level)  category\n",
       "32               Click share       NaN\n",
       "33        Search Impr. share       NaN"
      ]
     },
     "execution_count": 7,
     "metadata": {},
     "output_type": "execute_result"
    }
   ],
   "source": [
    "dt"
   ]
  },
  {
   "cell_type": "code",
   "execution_count": null,
   "metadata": {
    "collapsed": true
   },
   "outputs": [],
   "source": []
  }
 ],
 "metadata": {
  "anaconda-cloud": {},
  "kernelspec": {
   "display_name": "Python 2",
   "language": "python",
   "name": "python2"
  },
  "language_info": {
   "codemirror_mode": {
    "name": "ipython",
    "version": 2
   },
   "file_extension": ".py",
   "mimetype": "text/x-python",
   "name": "python",
   "nbconvert_exporter": "python",
   "pygments_lexer": "ipython2",
   "version": "2.7.12"
  }
 },
 "nbformat": 4,
 "nbformat_minor": 1
}
