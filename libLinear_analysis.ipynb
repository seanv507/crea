{
 "metadata": {
  "name": "",
  "signature": "sha256:28ada3971a5aea4407c3b5cc5b513854b85d39d03e2ba2b8a9f4fd33e72859cd"
 },
 "nbformat": 3,
 "nbformat_minor": 0,
 "worksheets": [
  {
   "cells": [
    {
     "cell_type": "code",
     "collapsed": false,
     "input": [
      "import sys\n",
      "import os\n",
      "import numpy as np\n",
      "import pandas as pd\n",
      "import pandas.io.sql as psql\n",
      "import MySQLdb\n",
      "import cPickle as pkl\n"
     ],
     "language": "python",
     "metadata": {},
     "outputs": [],
     "prompt_number": 2
    },
    {
     "cell_type": "code",
     "collapsed": false,
     "input": [
      "sys.path"
     ],
     "language": "python",
     "metadata": {},
     "outputs": [
      {
       "metadata": {},
       "output_type": "pyout",
       "prompt_number": 2,
       "text": [
        "['',\n",
        " '/Users/sean/anaconda/lib/python2.7/site-packages/MySQL_python-1.2.4b4-py2.7-macosx-10.5-x86_64.egg',\n",
        " '/Users/sean/anaconda/lib/python2.7/site-packages/simplejson-3.3.1-py2.7-macosx-10.5-x86_64.egg',\n",
        " '/Users/sean/anaconda/lib/python2.7/site-packages/pydruid-0.2.0-py2.7.egg',\n",
        " '/Users/sean/projects/pylearn2',\n",
        " '/Users/sean/anaconda/lib/python2.7/site-packages/argparse-1.2.1-py2.7.egg',\n",
        " '/Users/sean/anaconda/lib/python2.7/site-packages/Theano-0.6.0-py2.7.egg',\n",
        " '/Users/sean/anaconda/python.app/Contents/lib/python27.zip',\n",
        " '/Users/sean/anaconda/python.app/Contents/lib/python2.7',\n",
        " '/Users/sean/anaconda/python.app/Contents/lib/python2.7/plat-darwin',\n",
        " '/Users/sean/anaconda/python.app/Contents/lib/python2.7/plat-mac',\n",
        " '/Users/sean/anaconda/python.app/Contents/lib/python2.7/plat-mac/lib-scriptpackages',\n",
        " '/Users/sean/anaconda/python.app/Contents/lib/python2.7/lib-tk',\n",
        " '/Users/sean/anaconda/python.app/Contents/lib/python2.7/lib-old',\n",
        " '/Users/sean/anaconda/python.app/Contents/lib/python2.7/lib-dynload',\n",
        " '/Users/sean/anaconda/lib/python2.7/site-packages/runipy-0.1.0-py2.7.egg',\n",
        " '/Users/sean/anaconda/lib/python2.7/site-packages/setuptools-3.6-py2.7.egg',\n",
        " '/Users/sean/anaconda/lib/python2.7/site-packages',\n",
        " '/Users/sean/anaconda/lib/python2.7/site-packages/PIL',\n",
        " '/Users/sean/anaconda/lib/python2.7/site-packages/IPython/extensions']"
       ]
      }
     ],
     "prompt_number": 2
    },
    {
     "cell_type": "code",
     "collapsed": false,
     "input": [
      "sys.path.insert(1,'../../../../lib/')"
     ],
     "language": "python",
     "metadata": {},
     "outputs": [],
     "prompt_number": 3
    },
    {
     "cell_type": "code",
     "collapsed": false,
     "input": [
      "sys.path.insert(1,'../../../../lib/liblinear-weights/python')"
     ],
     "language": "python",
     "metadata": {},
     "outputs": [],
     "prompt_number": 4
    },
    {
     "cell_type": "code",
     "collapsed": false,
     "input": [
      "import libLinear_functions\n",
      "import liblinearutil"
     ],
     "language": "python",
     "metadata": {},
     "outputs": [],
     "prompt_number": 4
    },
    {
     "cell_type": "code",
     "collapsed": false,
     "input": [
      "data_path='../data/'\n",
      "executable_path = '../../../../lib/liblinear-weights/'"
     ],
     "language": "python",
     "metadata": {},
     "outputs": [],
     "prompt_number": 5
    },
    {
     "cell_type": "code",
     "collapsed": false,
     "input": [
      "train_per\t= ['2014-06-24 01:00:00','2014-06-30 00:00:00']\n",
      "features=\"site+ad+banner_width*banner_height+site*banner_width*banner_height\".split('+')\n",
      "rtb_flag\t= [1,0]\n",
      "sql_fields = list(set(sum([fs.split('*') for fs in features], [])))\n",
      "sql_table = 'aggregated_ctr' #Data table"
     ],
     "language": "python",
     "metadata": {},
     "outputs": [],
     "prompt_number": 6
    },
    {
     "cell_type": "code",
     "collapsed": false,
     "input": [
      "factors = features[:]\n",
      "non_factors = []\n",
      "cut_off = 0\n"
     ],
     "language": "python",
     "metadata": {},
     "outputs": [],
     "prompt_number": 7
    },
    {
     "cell_type": "code",
     "collapsed": false,
     "input": [
      "train_df = libLinear_functions.MySQL_getdata(\"db.lqm.io\",\"dse\",\"dse\",\"dSe@lQm\",sql_table,train_per,sql_fields,rtb_flag)"
     ],
     "language": "python",
     "metadata": {},
     "outputs": [
      {
       "output_type": "stream",
       "stream": "stderr",
       "text": [
        "SELECT date, banner_height, banner_width, site, ad,  SUM(`clicks`) as clicks,\n",
        "             SUM(`instances`) as instances FROM `aggregated_ctr`\n",
        "             WHERE date >= '2014-06-24 01:00:00' AND date <= '2014-06-30 00:00:00' AND\n",
        "             (rtb in (1, 0)) GROUP BY date, banner_height, banner_width, site, ad;\n",
        "             \n",
        "/Users/sean/anaconda/lib/python2.7/site-packages/pandas/io/sql.py:1172: FutureWarning: frame_query is depreciated, use read_sql\n",
        "  warnings.warn(\"frame_query is depreciated, use read_sql\", FutureWarning)\n"
       ]
      }
     ],
     "prompt_number": 8
    },
    {
     "cell_type": "code",
     "collapsed": false,
     "input": [
      "\n",
      "hours_inc=48\n",
      "n_inc=10"
     ],
     "language": "python",
     "metadata": {},
     "outputs": [],
     "prompt_number": 8
    },
    {
     "cell_type": "code",
     "collapsed": false,
     "input": [
      "train_per_start=['2014-06-23 01:00:00','2014-07-07 00:00:00'] #train"
     ],
     "language": "python",
     "metadata": {},
     "outputs": [],
     "prompt_number": 12
    },
    {
     "cell_type": "code",
     "collapsed": false,
     "input": [
      "train_per_start=['2014-07-07 01:00:00','2014-07-07 03:00:00'] # test"
     ],
     "language": "python",
     "metadata": {},
     "outputs": [],
     "prompt_number": 124
    },
    {
     "cell_type": "code",
     "collapsed": false,
     "input": [
      "train_per_start=['2014-06-23 07:00:00','2014-07-07 06:00:00'] # train"
     ],
     "language": "python",
     "metadata": {},
     "outputs": []
    },
    {
     "cell_type": "code",
     "collapsed": false,
     "input": [
      "train_per_start=['2014-07-07 07:00:00','2014-07-07 09:00:00'] # test"
     ],
     "language": "python",
     "metadata": {},
     "outputs": [],
     "prompt_number": 120
    },
    {
     "cell_type": "code",
     "collapsed": false,
     "input": [
      "train_per_start=['2014-06-23 13:00:00','2014-07-07 12:00:00']"
     ],
     "language": "python",
     "metadata": {},
     "outputs": [],
     "prompt_number": 109
    },
    {
     "cell_type": "code",
     "collapsed": false,
     "input": [
      "train_per_start=['2014-07-07 13:00:00','2014-07-07 15:00:00'] # test"
     ],
     "language": "python",
     "metadata": {},
     "outputs": [],
     "prompt_number": 122
    },
    {
     "cell_type": "code",
     "collapsed": false,
     "input": [
      "train_per_start=['2014-06-23 19:00:00','2014-07-07 18:00:00']"
     ],
     "language": "python",
     "metadata": {},
     "outputs": [],
     "prompt_number": 111
    },
    {
     "cell_type": "code",
     "collapsed": false,
     "input": [
      "train_per_start=['2014-07-07 19:00:00','2014-07-07 21:00:00'] # test"
     ],
     "language": "python",
     "metadata": {},
     "outputs": [],
     "prompt_number": 126
    },
    {
     "cell_type": "code",
     "collapsed": false,
     "input": [
      "date_name(train_per_start[0])"
     ],
     "language": "python",
     "metadata": {},
     "outputs": [
      {
       "metadata": {},
       "output_type": "pyout",
       "prompt_number": 136,
       "text": [
        "'20140623T0100'"
       ]
      }
     ],
     "prompt_number": 136
    },
    {
     "cell_type": "code",
     "collapsed": false,
     "input": [
      "%run libLinear_functions.py"
     ],
     "language": "python",
     "metadata": {},
     "outputs": [],
     "prompt_number": 10
    },
    {
     "cell_type": "code",
     "collapsed": false,
     "input": [
      "cut_off_list=[0,100,1000]\n",
      "C_list=[0.0372, 0.372, 3.72]\n",
      "train_per_list=gen_dates(train_per_start,48, 5, 6, 4)\n",
      "print train_per_list"
     ],
     "language": "python",
     "metadata": {},
     "outputs": [
      {
       "output_type": "stream",
       "stream": "stdout",
       "text": [
        "[['2014-06-23 01:00:00', '2014-07-07 00:00:00'], ['2014-06-23 07:00:00', '2014-07-07 06:00:00'], ['2014-06-23 13:00:00', '2014-07-07 12:00:00'], ['2014-06-23 19:00:00', '2014-07-07 18:00:00'], ['2014-06-25 01:00:00', '2014-07-09 00:00:00'], ['2014-06-25 07:00:00', '2014-07-09 06:00:00'], ['2014-06-25 13:00:00', '2014-07-09 12:00:00'], ['2014-06-25 19:00:00', '2014-07-09 18:00:00'], ['2014-06-27 01:00:00', '2014-07-11 00:00:00'], ['2014-06-27 07:00:00', '2014-07-11 06:00:00'], ['2014-06-27 13:00:00', '2014-07-11 12:00:00'], ['2014-06-27 19:00:00', '2014-07-11 18:00:00'], ['2014-06-29 01:00:00', '2014-07-13 00:00:00'], ['2014-06-29 07:00:00', '2014-07-13 06:00:00'], ['2014-06-29 13:00:00', '2014-07-13 12:00:00'], ['2014-06-29 19:00:00', '2014-07-13 18:00:00'], ['2014-07-01 01:00:00', '2014-07-15 00:00:00'], ['2014-07-01 07:00:00', '2014-07-15 06:00:00'], ['2014-07-01 13:00:00', '2014-07-15 12:00:00'], ['2014-07-01 19:00:00', '2014-07-15 18:00:00']]\n"
       ]
      }
     ],
     "prompt_number": 13
    },
    {
     "cell_type": "code",
     "collapsed": false,
     "input": [
      "cut_off_list=[0]\n",
      "C_list=[ 0.372]\n",
      "train_per_list=[['2014-06-23 01:00:00', '2014-07-07 00:00:00']]\n",
      "print train_per_list"
     ],
     "language": "python",
     "metadata": {},
     "outputs": [
      {
       "output_type": "stream",
       "stream": "stdout",
       "text": [
        "[['2014-06-23 01:00:00', '2014-07-07 00:00:00']]\n"
       ]
      }
     ],
     "prompt_number": 9
    },
    {
     "cell_type": "code",
     "collapsed": false,
     "input": [
      "train_per=train_per_list[0]\n",
      "test_per = ( add_hour(train_per[1],1), add_hour(train_per[1],3))"
     ],
     "language": "python",
     "metadata": {},
     "outputs": [],
     "prompt_number": 12
    },
    {
     "cell_type": "code",
     "collapsed": false,
     "input": [
      "train_per_start=['2014-07-07 00:00:00','2014-07-08 01:00:00']"
     ],
     "language": "python",
     "metadata": {},
     "outputs": [],
     "prompt_number": 85
    },
    {
     "cell_type": "code",
     "collapsed": false,
     "input": [
      "weights_file = 'train_ais.txt'\n",
      "train_file = 'train_svm.txt'\n",
      "test_file = 'test_svm.txt'\n",
      "probability_file = 'preds_SummModel_py.txt'"
     ],
     "language": "python",
     "metadata": {},
     "outputs": [],
     "prompt_number": 11
    },
    {
     "cell_type": "code",
     "collapsed": false,
     "input": [
      "model_file = \\\n",
      "                    '{start}_{stop}_cut_{cut_off}_C_{C:0.3}.model'.format(\n",
      "                        start=date_name(train_per_list[0][0]),\n",
      "                        stop=date_name(train_per_list[0][1]),\n",
      "                        cut_off=cut_off_list[0], C=C_list[0])\n",
      "print model_file"
     ],
     "language": "python",
     "metadata": {},
     "outputs": [
      {
       "output_type": "stream",
       "stream": "stdout",
       "text": [
        "20140623T0100_20140707T0000_cut_0_C_0.372.model\n"
       ]
      }
     ],
     "prompt_number": 12
    },
    {
     "cell_type": "code",
     "collapsed": false,
     "input": [
      "data_file = data_path + 'valtrain_df_{0}_{1}.csv'.format(\n",
      "                    date_name(test_per[0]), date_name(test_per[1]))"
     ],
     "language": "python",
     "metadata": {},
     "outputs": [],
     "prompt_number": 12
    },
    {
     "cell_type": "code",
     "collapsed": false,
     "input": [
      "test_df = pd.read_csv(data_file)"
     ],
     "language": "python",
     "metadata": {},
     "outputs": [],
     "prompt_number": 46
    },
    {
     "cell_type": "code",
     "collapsed": false,
     "input": [
      "amounts = pd.DataFrame({\n",
      "                        'no_clicks':test_df['instances' ]-test_df['clicks'],\n",
      "                        'clicks':test_df['clicks']})"
     ],
     "language": "python",
     "metadata": {},
     "outputs": [],
     "prompt_number": 47
    },
    {
     "cell_type": "code",
     "collapsed": false,
     "input": [
      "sumll, ll = log_loss_weighted(pCTR, amounts)"
     ],
     "language": "python",
     "metadata": {},
     "outputs": [],
     "prompt_number": 49
    },
    {
     "cell_type": "code",
     "collapsed": false,
     "input": [
      "import cProfile"
     ],
     "language": "python",
     "metadata": {},
     "outputs": [],
     "prompt_number": 13
    },
    {
     "cell_type": "code",
     "collapsed": false,
     "input": [
      "results1=pd.DataFrame(results,columns=['dates','cutoff','C','logloss'])"
     ],
     "language": "python",
     "metadata": {},
     "outputs": [],
     "prompt_number": 24
    },
    {
     "cell_type": "code",
     "collapsed": false,
     "input": [
      "results1.groupby(['cutoff','C']).agg([np.mean,np.std]).unstack('C')"
     ],
     "language": "python",
     "metadata": {},
     "outputs": [
      {
       "html": [
        "<div style=\"max-height:1000px;max-width:1500px;overflow:auto;\">\n",
        "<table border=\"1\" class=\"dataframe\">\n",
        "  <thead>\n",
        "    <tr>\n",
        "      <th></th>\n",
        "      <th colspan=\"6\" halign=\"left\">logloss</th>\n",
        "    </tr>\n",
        "    <tr>\n",
        "      <th></th>\n",
        "      <th colspan=\"3\" halign=\"left\">mean</th>\n",
        "      <th colspan=\"3\" halign=\"left\">std</th>\n",
        "    </tr>\n",
        "    <tr>\n",
        "      <th>C</th>\n",
        "      <th>0.0372</th>\n",
        "      <th>0.3720</th>\n",
        "      <th>3.7200</th>\n",
        "      <th>0.0372</th>\n",
        "      <th>0.3720</th>\n",
        "      <th>3.7200</th>\n",
        "    </tr>\n",
        "    <tr>\n",
        "      <th>cutoff</th>\n",
        "      <th></th>\n",
        "      <th></th>\n",
        "      <th></th>\n",
        "      <th></th>\n",
        "      <th></th>\n",
        "      <th></th>\n",
        "    </tr>\n",
        "  </thead>\n",
        "  <tbody>\n",
        "    <tr>\n",
        "      <th>0   </th>\n",
        "      <td> 0.034376</td>\n",
        "      <td> 0.034293</td>\n",
        "      <td> 0.034319</td>\n",
        "      <td> 0.005701</td>\n",
        "      <td> 0.005699</td>\n",
        "      <td> 0.005717</td>\n",
        "    </tr>\n",
        "    <tr>\n",
        "      <th>100 </th>\n",
        "      <td> 0.034379</td>\n",
        "      <td> 0.034309</td>\n",
        "      <td> 0.034333</td>\n",
        "      <td> 0.005703</td>\n",
        "      <td> 0.005706</td>\n",
        "      <td> 0.005744</td>\n",
        "    </tr>\n",
        "    <tr>\n",
        "      <th>1000</th>\n",
        "      <td> 0.034453</td>\n",
        "      <td> 0.034417</td>\n",
        "      <td> 0.034504</td>\n",
        "      <td> 0.005725</td>\n",
        "      <td> 0.005734</td>\n",
        "      <td> 0.005819</td>\n",
        "    </tr>\n",
        "  </tbody>\n",
        "</table>\n",
        "</div>"
       ],
       "metadata": {},
       "output_type": "pyout",
       "prompt_number": 33,
       "text": [
        "         logloss                                                  \n",
        "            mean                           std                    \n",
        "C         0.0372    0.3720    3.7200    0.0372    0.3720    3.7200\n",
        "cutoff                                                            \n",
        "0       0.034376  0.034293  0.034319  0.005701  0.005699  0.005717\n",
        "100     0.034379  0.034309  0.034333  0.005703  0.005706  0.005744\n",
        "1000    0.034453  0.034417  0.034504  0.005725  0.005734  0.005819"
       ]
      }
     ],
     "prompt_number": 33
    },
    {
     "cell_type": "code",
     "collapsed": false,
     "input": [
      "results1.to_csv('../data/results_byfile.csv',index=False)"
     ],
     "language": "python",
     "metadata": {},
     "outputs": [],
     "prompt_number": 55
    },
    {
     "cell_type": "code",
     "collapsed": false,
     "input": [
      "%matplotlib osx"
     ],
     "language": "python",
     "metadata": {},
     "outputs": [],
     "prompt_number": 30
    },
    {
     "cell_type": "code",
     "collapsed": false,
     "input": [
      "len(train_per_list)"
     ],
     "language": "python",
     "metadata": {},
     "outputs": [
      {
       "metadata": {},
       "output_type": "pyout",
       "prompt_number": 34,
       "text": [
        "20"
       ]
      }
     ],
     "prompt_number": 34
    },
    {
     "cell_type": "code",
     "collapsed": false,
     "input": [
      "results_new=train_loop(train_per_list,cut_off_list,C_list,factors,non_factors, data_path, executable_path)"
     ],
     "language": "python",
     "metadata": {},
     "outputs": []
    },
    {
     "cell_type": "code",
     "collapsed": false,
     "input": [
      "results=train_loop(train_per_list,cut_off_list,C_list,factors,non_factors, data_path, executable_path)"
     ],
     "language": "python",
     "metadata": {},
     "outputs": [
      {
       "output_type": "stream",
       "stream": "stderr",
       "text": [
        "../../../../lib/liblinear-weights/train -s {model_type} -c 0.0372 -e 1e-08 -B 1 -W  ../data/train_ais.txt ../data/train_svm.txt ../data/20140623T0100_20140707T0000_cut_0_C_0.0372.model\n",
        "../../../../lib/liblinear-weights/predict -b 1 ../data/test_svm.txt ../data/20140623T0100_20140707T0000_cut_0_C_0.0372.model ../data/preds_SummModel_py.txt"
       ]
      },
      {
       "output_type": "stream",
       "stream": "stderr",
       "text": [
        "\n",
        "../../../../lib/liblinear-weights/train -s {model_type} -c 0.372 -e 1e-08 -B 1 -W  ../data/train_ais.txt ../data/train_svm.txt ../data/20140623T0100_20140707T0000_cut_0_C_0.372.model"
       ]
      },
      {
       "output_type": "stream",
       "stream": "stderr",
       "text": [
        "\n",
        "../../../../lib/liblinear-weights/predict -b 1 ../data/test_svm.txt ../data/20140623T0100_20140707T0000_cut_0_C_0.372.model ../data/preds_SummModel_py.txt"
       ]
      },
      {
       "output_type": "stream",
       "stream": "stderr",
       "text": [
        "\n",
        "../../../../lib/liblinear-weights/train -s {model_type} -c 3.72 -e 1e-08 -B 1 -W  ../data/train_ais.txt ../data/train_svm.txt ../data/20140623T0100_20140707T0000_cut_0_C_3.72.model"
       ]
      },
      {
       "output_type": "stream",
       "stream": "stderr",
       "text": [
        "\n",
        "../../../../lib/liblinear-weights/predict -b 1 ../data/test_svm.txt ../data/20140623T0100_20140707T0000_cut_0_C_3.72.model ../data/preds_SummModel_py.txt"
       ]
      },
      {
       "output_type": "stream",
       "stream": "stderr",
       "text": [
        "\n",
        "../../../../lib/liblinear-weights/train -s {model_type} -c 0.0372 -e 1e-08 -B 1 -W  ../data/train_ais.txt ../data/train_svm.txt ../data/20140623T0100_20140707T0000_cut_100_C_0.0372.model"
       ]
      },
      {
       "output_type": "stream",
       "stream": "stderr",
       "text": [
        "\n",
        "../../../../lib/liblinear-weights/predict -b 1 ../data/test_svm.txt ../data/20140623T0100_20140707T0000_cut_100_C_0.0372.model ../data/preds_SummModel_py.txt"
       ]
      },
      {
       "output_type": "stream",
       "stream": "stderr",
       "text": [
        "\n",
        "../../../../lib/liblinear-weights/train -s {model_type} -c 0.372 -e 1e-08 -B 1 -W  ../data/train_ais.txt ../data/train_svm.txt ../data/20140623T0100_20140707T0000_cut_100_C_0.372.model"
       ]
      },
      {
       "output_type": "stream",
       "stream": "stderr",
       "text": [
        "\n",
        "../../../../lib/liblinear-weights/predict -b 1 ../data/test_svm.txt ../data/20140623T0100_20140707T0000_cut_100_C_0.372.model ../data/preds_SummModel_py.txt"
       ]
      },
      {
       "output_type": "stream",
       "stream": "stderr",
       "text": [
        "\n",
        "../../../../lib/liblinear-weights/train -s {model_type} -c 3.72 -e 1e-08 -B 1 -W  ../data/train_ais.txt ../data/train_svm.txt ../data/20140623T0100_20140707T0000_cut_100_C_3.72.model"
       ]
      },
      {
       "output_type": "stream",
       "stream": "stderr",
       "text": [
        "\n",
        "../../../../lib/liblinear-weights/predict -b 1 ../data/test_svm.txt ../data/20140623T0100_20140707T0000_cut_100_C_3.72.model ../data/preds_SummModel_py.txt"
       ]
      },
      {
       "output_type": "stream",
       "stream": "stderr",
       "text": [
        "\n",
        "../../../../lib/liblinear-weights/train -s {model_type} -c 0.0372 -e 1e-08 -B 1 -W  ../data/train_ais.txt ../data/train_svm.txt ../data/20140623T0100_20140707T0000_cut_1000_C_0.0372.model"
       ]
      },
      {
       "output_type": "stream",
       "stream": "stderr",
       "text": [
        "\n",
        "../../../../lib/liblinear-weights/predict -b 1 ../data/test_svm.txt ../data/20140623T0100_20140707T0000_cut_1000_C_0.0372.model ../data/preds_SummModel_py.txt"
       ]
      },
      {
       "output_type": "stream",
       "stream": "stderr",
       "text": [
        "\n",
        "../../../../lib/liblinear-weights/train -s {model_type} -c 0.372 -e 1e-08 -B 1 -W  ../data/train_ais.txt ../data/train_svm.txt ../data/20140623T0100_20140707T0000_cut_1000_C_0.372.model"
       ]
      },
      {
       "output_type": "stream",
       "stream": "stderr",
       "text": [
        "\n",
        "../../../../lib/liblinear-weights/predict -b 1 ../data/test_svm.txt ../data/20140623T0100_20140707T0000_cut_1000_C_0.372.model ../data/preds_SummModel_py.txt"
       ]
      },
      {
       "output_type": "stream",
       "stream": "stderr",
       "text": [
        "\n",
        "../../../../lib/liblinear-weights/train -s {model_type} -c 3.72 -e 1e-08 -B 1 -W  ../data/train_ais.txt ../data/train_svm.txt ../data/20140623T0100_20140707T0000_cut_1000_C_3.72.model"
       ]
      },
      {
       "output_type": "stream",
       "stream": "stderr",
       "text": [
        "\n",
        "../../../../lib/liblinear-weights/predict -b 1 ../data/test_svm.txt ../data/20140623T0100_20140707T0000_cut_1000_C_3.72.model ../data/preds_SummModel_py.txt"
       ]
      },
      {
       "output_type": "stream",
       "stream": "stderr",
       "text": [
        "\n",
        "../../../../lib/liblinear-weights/train -s {model_type} -c 0.0372 -e 1e-08 -B 1 -W  ../data/train_ais.txt ../data/train_svm.txt ../data/20140623T0700_20140707T0600_cut_0_C_0.0372.model"
       ]
      },
      {
       "output_type": "stream",
       "stream": "stderr",
       "text": [
        "\n",
        "../../../../lib/liblinear-weights/predict -b 1 ../data/test_svm.txt ../data/20140623T0700_20140707T0600_cut_0_C_0.0372.model ../data/preds_SummModel_py.txt"
       ]
      },
      {
       "output_type": "stream",
       "stream": "stderr",
       "text": [
        "\n",
        "../../../../lib/liblinear-weights/train -s {model_type} -c 0.372 -e 1e-08 -B 1 -W  ../data/train_ais.txt ../data/train_svm.txt ../data/20140623T0700_20140707T0600_cut_0_C_0.372.model"
       ]
      },
      {
       "output_type": "stream",
       "stream": "stderr",
       "text": [
        "\n",
        "../../../../lib/liblinear-weights/predict -b 1 ../data/test_svm.txt ../data/20140623T0700_20140707T0600_cut_0_C_0.372.model ../data/preds_SummModel_py.txt"
       ]
      },
      {
       "output_type": "stream",
       "stream": "stderr",
       "text": [
        "\n",
        "../../../../lib/liblinear-weights/train -s {model_type} -c 3.72 -e 1e-08 -B 1 -W  ../data/train_ais.txt ../data/train_svm.txt ../data/20140623T0700_20140707T0600_cut_0_C_3.72.model"
       ]
      },
      {
       "output_type": "stream",
       "stream": "stderr",
       "text": [
        "\n",
        "../../../../lib/liblinear-weights/predict -b 1 ../data/test_svm.txt ../data/20140623T0700_20140707T0600_cut_0_C_3.72.model ../data/preds_SummModel_py.txt"
       ]
      },
      {
       "output_type": "stream",
       "stream": "stderr",
       "text": [
        "\n",
        "../../../../lib/liblinear-weights/train -s {model_type} -c 0.0372 -e 1e-08 -B 1 -W  ../data/train_ais.txt ../data/train_svm.txt ../data/20140623T0700_20140707T0600_cut_100_C_0.0372.model"
       ]
      },
      {
       "output_type": "stream",
       "stream": "stderr",
       "text": [
        "\n",
        "../../../../lib/liblinear-weights/predict -b 1 ../data/test_svm.txt ../data/20140623T0700_20140707T0600_cut_100_C_0.0372.model ../data/preds_SummModel_py.txt"
       ]
      },
      {
       "output_type": "stream",
       "stream": "stderr",
       "text": [
        "\n",
        "../../../../lib/liblinear-weights/train -s {model_type} -c 0.372 -e 1e-08 -B 1 -W  ../data/train_ais.txt ../data/train_svm.txt ../data/20140623T0700_20140707T0600_cut_100_C_0.372.model"
       ]
      },
      {
       "output_type": "stream",
       "stream": "stderr",
       "text": [
        "\n",
        "../../../../lib/liblinear-weights/predict -b 1 ../data/test_svm.txt ../data/20140623T0700_20140707T0600_cut_100_C_0.372.model ../data/preds_SummModel_py.txt"
       ]
      },
      {
       "output_type": "stream",
       "stream": "stderr",
       "text": [
        "\n",
        "../../../../lib/liblinear-weights/train -s {model_type} -c 3.72 -e 1e-08 -B 1 -W  ../data/train_ais.txt ../data/train_svm.txt ../data/20140623T0700_20140707T0600_cut_100_C_3.72.model"
       ]
      },
      {
       "output_type": "stream",
       "stream": "stderr",
       "text": [
        "\n",
        "../../../../lib/liblinear-weights/predict -b 1 ../data/test_svm.txt ../data/20140623T0700_20140707T0600_cut_100_C_3.72.model ../data/preds_SummModel_py.txt"
       ]
      },
      {
       "output_type": "stream",
       "stream": "stderr",
       "text": [
        "\n",
        "../../../../lib/liblinear-weights/train -s {model_type} -c 0.0372 -e 1e-08 -B 1 -W  ../data/train_ais.txt ../data/train_svm.txt ../data/20140623T0700_20140707T0600_cut_1000_C_0.0372.model"
       ]
      },
      {
       "output_type": "stream",
       "stream": "stderr",
       "text": [
        "\n",
        "../../../../lib/liblinear-weights/predict -b 1 ../data/test_svm.txt ../data/20140623T0700_20140707T0600_cut_1000_C_0.0372.model ../data/preds_SummModel_py.txt"
       ]
      },
      {
       "output_type": "stream",
       "stream": "stderr",
       "text": [
        "\n",
        "../../../../lib/liblinear-weights/train -s {model_type} -c 0.372 -e 1e-08 -B 1 -W  ../data/train_ais.txt ../data/train_svm.txt ../data/20140623T0700_20140707T0600_cut_1000_C_0.372.model"
       ]
      },
      {
       "output_type": "stream",
       "stream": "stderr",
       "text": [
        "\n",
        "../../../../lib/liblinear-weights/predict -b 1 ../data/test_svm.txt ../data/20140623T0700_20140707T0600_cut_1000_C_0.372.model ../data/preds_SummModel_py.txt"
       ]
      },
      {
       "output_type": "stream",
       "stream": "stderr",
       "text": [
        "\n",
        "../../../../lib/liblinear-weights/train -s {model_type} -c 3.72 -e 1e-08 -B 1 -W  ../data/train_ais.txt ../data/train_svm.txt ../data/20140623T0700_20140707T0600_cut_1000_C_3.72.model"
       ]
      },
      {
       "output_type": "stream",
       "stream": "stderr",
       "text": [
        "\n",
        "../../../../lib/liblinear-weights/predict -b 1 ../data/test_svm.txt ../data/20140623T0700_20140707T0600_cut_1000_C_3.72.model ../data/preds_SummModel_py.txt"
       ]
      },
      {
       "output_type": "stream",
       "stream": "stderr",
       "text": [
        "\n",
        "../../../../lib/liblinear-weights/train -s {model_type} -c 0.0372 -e 1e-08 -B 1 -W  ../data/train_ais.txt ../data/train_svm.txt ../data/20140623T1300_20140707T1200_cut_0_C_0.0372.model"
       ]
      },
      {
       "output_type": "stream",
       "stream": "stderr",
       "text": [
        "\n",
        "../../../../lib/liblinear-weights/predict -b 1 ../data/test_svm.txt ../data/20140623T1300_20140707T1200_cut_0_C_0.0372.model ../data/preds_SummModel_py.txt"
       ]
      },
      {
       "output_type": "stream",
       "stream": "stderr",
       "text": [
        "\n",
        "../../../../lib/liblinear-weights/train -s {model_type} -c 0.372 -e 1e-08 -B 1 -W  ../data/train_ais.txt ../data/train_svm.txt ../data/20140623T1300_20140707T1200_cut_0_C_0.372.model"
       ]
      },
      {
       "output_type": "stream",
       "stream": "stderr",
       "text": [
        "\n",
        "../../../../lib/liblinear-weights/predict -b 1 ../data/test_svm.txt ../data/20140623T1300_20140707T1200_cut_0_C_0.372.model ../data/preds_SummModel_py.txt"
       ]
      },
      {
       "output_type": "stream",
       "stream": "stderr",
       "text": [
        "\n",
        "../../../../lib/liblinear-weights/train -s {model_type} -c 3.72 -e 1e-08 -B 1 -W  ../data/train_ais.txt ../data/train_svm.txt ../data/20140623T1300_20140707T1200_cut_0_C_3.72.model"
       ]
      },
      {
       "output_type": "stream",
       "stream": "stderr",
       "text": [
        "\n",
        "../../../../lib/liblinear-weights/predict -b 1 ../data/test_svm.txt ../data/20140623T1300_20140707T1200_cut_0_C_3.72.model ../data/preds_SummModel_py.txt"
       ]
      },
      {
       "output_type": "stream",
       "stream": "stderr",
       "text": [
        "\n",
        "../../../../lib/liblinear-weights/train -s {model_type} -c 0.0372 -e 1e-08 -B 1 -W  ../data/train_ais.txt ../data/train_svm.txt ../data/20140623T1300_20140707T1200_cut_100_C_0.0372.model"
       ]
      },
      {
       "output_type": "stream",
       "stream": "stderr",
       "text": [
        "\n",
        "../../../../lib/liblinear-weights/predict -b 1 ../data/test_svm.txt ../data/20140623T1300_20140707T1200_cut_100_C_0.0372.model ../data/preds_SummModel_py.txt"
       ]
      },
      {
       "output_type": "stream",
       "stream": "stderr",
       "text": [
        "\n",
        "../../../../lib/liblinear-weights/train -s {model_type} -c 0.372 -e 1e-08 -B 1 -W  ../data/train_ais.txt ../data/train_svm.txt ../data/20140623T1300_20140707T1200_cut_100_C_0.372.model"
       ]
      },
      {
       "output_type": "stream",
       "stream": "stderr",
       "text": [
        "\n",
        "../../../../lib/liblinear-weights/predict -b 1 ../data/test_svm.txt ../data/20140623T1300_20140707T1200_cut_100_C_0.372.model ../data/preds_SummModel_py.txt"
       ]
      },
      {
       "output_type": "stream",
       "stream": "stderr",
       "text": [
        "\n",
        "../../../../lib/liblinear-weights/train -s {model_type} -c 3.72 -e 1e-08 -B 1 -W  ../data/train_ais.txt ../data/train_svm.txt ../data/20140623T1300_20140707T1200_cut_100_C_3.72.model"
       ]
      },
      {
       "output_type": "stream",
       "stream": "stderr",
       "text": [
        "\n",
        "../../../../lib/liblinear-weights/predict -b 1 ../data/test_svm.txt ../data/20140623T1300_20140707T1200_cut_100_C_3.72.model ../data/preds_SummModel_py.txt"
       ]
      },
      {
       "output_type": "stream",
       "stream": "stderr",
       "text": [
        "\n",
        "../../../../lib/liblinear-weights/train -s {model_type} -c 0.0372 -e 1e-08 -B 1 -W  ../data/train_ais.txt ../data/train_svm.txt ../data/20140623T1300_20140707T1200_cut_1000_C_0.0372.model"
       ]
      },
      {
       "output_type": "stream",
       "stream": "stderr",
       "text": [
        "\n",
        "../../../../lib/liblinear-weights/predict -b 1 ../data/test_svm.txt ../data/20140623T1300_20140707T1200_cut_1000_C_0.0372.model ../data/preds_SummModel_py.txt"
       ]
      },
      {
       "output_type": "stream",
       "stream": "stderr",
       "text": [
        "\n",
        "../../../../lib/liblinear-weights/train -s {model_type} -c 0.372 -e 1e-08 -B 1 -W  ../data/train_ais.txt ../data/train_svm.txt ../data/20140623T1300_20140707T1200_cut_1000_C_0.372.model"
       ]
      },
      {
       "output_type": "stream",
       "stream": "stderr",
       "text": [
        "\n",
        "../../../../lib/liblinear-weights/predict -b 1 ../data/test_svm.txt ../data/20140623T1300_20140707T1200_cut_1000_C_0.372.model ../data/preds_SummModel_py.txt"
       ]
      },
      {
       "output_type": "stream",
       "stream": "stderr",
       "text": [
        "\n",
        "../../../../lib/liblinear-weights/train -s {model_type} -c 3.72 -e 1e-08 -B 1 -W  ../data/train_ais.txt ../data/train_svm.txt ../data/20140623T1300_20140707T1200_cut_1000_C_3.72.model"
       ]
      },
      {
       "output_type": "stream",
       "stream": "stderr",
       "text": [
        "\n",
        "../../../../lib/liblinear-weights/predict -b 1 ../data/test_svm.txt ../data/20140623T1300_20140707T1200_cut_1000_C_3.72.model ../data/preds_SummModel_py.txt"
       ]
      },
      {
       "output_type": "stream",
       "stream": "stderr",
       "text": [
        "\n",
        "../../../../lib/liblinear-weights/train -s {model_type} -c 0.0372 -e 1e-08 -B 1 -W  ../data/train_ais.txt ../data/train_svm.txt ../data/20140623T1900_20140707T1800_cut_0_C_0.0372.model"
       ]
      },
      {
       "output_type": "stream",
       "stream": "stderr",
       "text": [
        "\n",
        "../../../../lib/liblinear-weights/predict -b 1 ../data/test_svm.txt ../data/20140623T1900_20140707T1800_cut_0_C_0.0372.model ../data/preds_SummModel_py.txt"
       ]
      },
      {
       "output_type": "stream",
       "stream": "stderr",
       "text": [
        "\n",
        "../../../../lib/liblinear-weights/train -s {model_type} -c 0.372 -e 1e-08 -B 1 -W  ../data/train_ais.txt ../data/train_svm.txt ../data/20140623T1900_20140707T1800_cut_0_C_0.372.model"
       ]
      },
      {
       "output_type": "stream",
       "stream": "stderr",
       "text": [
        "\n",
        "../../../../lib/liblinear-weights/predict -b 1 ../data/test_svm.txt ../data/20140623T1900_20140707T1800_cut_0_C_0.372.model ../data/preds_SummModel_py.txt"
       ]
      },
      {
       "output_type": "stream",
       "stream": "stderr",
       "text": [
        "\n",
        "../../../../lib/liblinear-weights/train -s {model_type} -c 3.72 -e 1e-08 -B 1 -W  ../data/train_ais.txt ../data/train_svm.txt ../data/20140623T1900_20140707T1800_cut_0_C_3.72.model"
       ]
      },
      {
       "output_type": "stream",
       "stream": "stderr",
       "text": [
        "\n",
        "../../../../lib/liblinear-weights/predict -b 1 ../data/test_svm.txt ../data/20140623T1900_20140707T1800_cut_0_C_3.72.model ../data/preds_SummModel_py.txt"
       ]
      },
      {
       "output_type": "stream",
       "stream": "stderr",
       "text": [
        "\n",
        "../../../../lib/liblinear-weights/train -s {model_type} -c 0.0372 -e 1e-08 -B 1 -W  ../data/train_ais.txt ../data/train_svm.txt ../data/20140623T1900_20140707T1800_cut_100_C_0.0372.model"
       ]
      },
      {
       "output_type": "stream",
       "stream": "stderr",
       "text": [
        "\n",
        "../../../../lib/liblinear-weights/predict -b 1 ../data/test_svm.txt ../data/20140623T1900_20140707T1800_cut_100_C_0.0372.model ../data/preds_SummModel_py.txt"
       ]
      },
      {
       "output_type": "stream",
       "stream": "stderr",
       "text": [
        "\n",
        "../../../../lib/liblinear-weights/train -s {model_type} -c 0.372 -e 1e-08 -B 1 -W  ../data/train_ais.txt ../data/train_svm.txt ../data/20140623T1900_20140707T1800_cut_100_C_0.372.model"
       ]
      },
      {
       "output_type": "stream",
       "stream": "stderr",
       "text": [
        "\n",
        "../../../../lib/liblinear-weights/predict -b 1 ../data/test_svm.txt ../data/20140623T1900_20140707T1800_cut_100_C_0.372.model ../data/preds_SummModel_py.txt"
       ]
      },
      {
       "output_type": "stream",
       "stream": "stderr",
       "text": [
        "\n",
        "../../../../lib/liblinear-weights/train -s {model_type} -c 3.72 -e 1e-08 -B 1 -W  ../data/train_ais.txt ../data/train_svm.txt ../data/20140623T1900_20140707T1800_cut_100_C_3.72.model"
       ]
      },
      {
       "output_type": "stream",
       "stream": "stderr",
       "text": [
        "\n",
        "../../../../lib/liblinear-weights/predict -b 1 ../data/test_svm.txt ../data/20140623T1900_20140707T1800_cut_100_C_3.72.model ../data/preds_SummModel_py.txt"
       ]
      },
      {
       "output_type": "stream",
       "stream": "stderr",
       "text": [
        "\n",
        "../../../../lib/liblinear-weights/train -s {model_type} -c 0.0372 -e 1e-08 -B 1 -W  ../data/train_ais.txt ../data/train_svm.txt ../data/20140623T1900_20140707T1800_cut_1000_C_0.0372.model"
       ]
      },
      {
       "output_type": "stream",
       "stream": "stderr",
       "text": [
        "\n",
        "../../../../lib/liblinear-weights/predict -b 1 ../data/test_svm.txt ../data/20140623T1900_20140707T1800_cut_1000_C_0.0372.model ../data/preds_SummModel_py.txt"
       ]
      },
      {
       "output_type": "stream",
       "stream": "stderr",
       "text": [
        "\n",
        "../../../../lib/liblinear-weights/train -s {model_type} -c 0.372 -e 1e-08 -B 1 -W  ../data/train_ais.txt ../data/train_svm.txt ../data/20140623T1900_20140707T1800_cut_1000_C_0.372.model\n",
        "../../../../lib/liblinear-weights/predict -b 1 ../data/test_svm.txt ../data/20140623T1900_20140707T1800_cut_1000_C_0.372.model ../data/preds_SummModel_py.txt"
       ]
      },
      {
       "output_type": "stream",
       "stream": "stderr",
       "text": [
        "\n",
        "../../../../lib/liblinear-weights/train -s {model_type} -c 3.72 -e 1e-08 -B 1 -W  ../data/train_ais.txt ../data/train_svm.txt ../data/20140623T1900_20140707T1800_cut_1000_C_3.72.model\n",
        "../../../../lib/liblinear-weights/predict -b 1 ../data/test_svm.txt ../data/20140623T1900_20140707T1800_cut_1000_C_3.72.model ../data/preds_SummModel_py.txt"
       ]
      },
      {
       "output_type": "stream",
       "stream": "stderr",
       "text": [
        "\n",
        "../../../../lib/liblinear-weights/train -s {model_type} -c 0.0372 -e 1e-08 -B 1 -W  ../data/train_ais.txt ../data/train_svm.txt ../data/20140625T0100_20140709T0000_cut_0_C_0.0372.model"
       ]
      },
      {
       "output_type": "stream",
       "stream": "stderr",
       "text": [
        "\n",
        "../../../../lib/liblinear-weights/predict -b 1 ../data/test_svm.txt ../data/20140625T0100_20140709T0000_cut_0_C_0.0372.model ../data/preds_SummModel_py.txt"
       ]
      },
      {
       "output_type": "stream",
       "stream": "stderr",
       "text": [
        "\n",
        "../../../../lib/liblinear-weights/train -s {model_type} -c 0.372 -e 1e-08 -B 1 -W  ../data/train_ais.txt ../data/train_svm.txt ../data/20140625T0100_20140709T0000_cut_0_C_0.372.model"
       ]
      },
      {
       "output_type": "stream",
       "stream": "stderr",
       "text": [
        "\n",
        "../../../../lib/liblinear-weights/predict -b 1 ../data/test_svm.txt ../data/20140625T0100_20140709T0000_cut_0_C_0.372.model ../data/preds_SummModel_py.txt"
       ]
      },
      {
       "output_type": "stream",
       "stream": "stderr",
       "text": [
        "\n",
        "../../../../lib/liblinear-weights/train -s {model_type} -c 3.72 -e 1e-08 -B 1 -W  ../data/train_ais.txt ../data/train_svm.txt ../data/20140625T0100_20140709T0000_cut_0_C_3.72.model"
       ]
      },
      {
       "output_type": "stream",
       "stream": "stderr",
       "text": [
        "\n",
        "../../../../lib/liblinear-weights/predict -b 1 ../data/test_svm.txt ../data/20140625T0100_20140709T0000_cut_0_C_3.72.model ../data/preds_SummModel_py.txt"
       ]
      },
      {
       "output_type": "stream",
       "stream": "stderr",
       "text": [
        "\n",
        "../../../../lib/liblinear-weights/train -s {model_type} -c 0.0372 -e 1e-08 -B 1 -W  ../data/train_ais.txt ../data/train_svm.txt ../data/20140625T0100_20140709T0000_cut_100_C_0.0372.model"
       ]
      },
      {
       "output_type": "stream",
       "stream": "stderr",
       "text": [
        "\n",
        "../../../../lib/liblinear-weights/predict -b 1 ../data/test_svm.txt ../data/20140625T0100_20140709T0000_cut_100_C_0.0372.model ../data/preds_SummModel_py.txt"
       ]
      },
      {
       "output_type": "stream",
       "stream": "stderr",
       "text": [
        "\n",
        "../../../../lib/liblinear-weights/train -s {model_type} -c 0.372 -e 1e-08 -B 1 -W  ../data/train_ais.txt ../data/train_svm.txt ../data/20140625T0100_20140709T0000_cut_100_C_0.372.model"
       ]
      },
      {
       "output_type": "stream",
       "stream": "stderr",
       "text": [
        "\n",
        "../../../../lib/liblinear-weights/predict -b 1 ../data/test_svm.txt ../data/20140625T0100_20140709T0000_cut_100_C_0.372.model ../data/preds_SummModel_py.txt"
       ]
      },
      {
       "output_type": "stream",
       "stream": "stderr",
       "text": [
        "\n",
        "../../../../lib/liblinear-weights/train -s {model_type} -c 3.72 -e 1e-08 -B 1 -W  ../data/train_ais.txt ../data/train_svm.txt ../data/20140625T0100_20140709T0000_cut_100_C_3.72.model"
       ]
      },
      {
       "output_type": "stream",
       "stream": "stderr",
       "text": [
        "\n",
        "../../../../lib/liblinear-weights/predict -b 1 ../data/test_svm.txt ../data/20140625T0100_20140709T0000_cut_100_C_3.72.model ../data/preds_SummModel_py.txt"
       ]
      },
      {
       "output_type": "stream",
       "stream": "stderr",
       "text": [
        "\n",
        "../../../../lib/liblinear-weights/train -s {model_type} -c 0.0372 -e 1e-08 -B 1 -W  ../data/train_ais.txt ../data/train_svm.txt ../data/20140625T0100_20140709T0000_cut_1000_C_0.0372.model"
       ]
      },
      {
       "output_type": "stream",
       "stream": "stderr",
       "text": [
        "\n",
        "../../../../lib/liblinear-weights/predict -b 1 ../data/test_svm.txt ../data/20140625T0100_20140709T0000_cut_1000_C_0.0372.model ../data/preds_SummModel_py.txt"
       ]
      },
      {
       "output_type": "stream",
       "stream": "stderr",
       "text": [
        "\n",
        "../../../../lib/liblinear-weights/train -s {model_type} -c 0.372 -e 1e-08 -B 1 -W  ../data/train_ais.txt ../data/train_svm.txt ../data/20140625T0100_20140709T0000_cut_1000_C_0.372.model\n",
        "../../../../lib/liblinear-weights/predict -b 1 ../data/test_svm.txt ../data/20140625T0100_20140709T0000_cut_1000_C_0.372.model ../data/preds_SummModel_py.txt"
       ]
      },
      {
       "output_type": "stream",
       "stream": "stderr",
       "text": [
        "\n",
        "../../../../lib/liblinear-weights/train -s {model_type} -c 3.72 -e 1e-08 -B 1 -W  ../data/train_ais.txt ../data/train_svm.txt ../data/20140625T0100_20140709T0000_cut_1000_C_3.72.model"
       ]
      },
      {
       "output_type": "stream",
       "stream": "stderr",
       "text": [
        "\n",
        "../../../../lib/liblinear-weights/predict -b 1 ../data/test_svm.txt ../data/20140625T0100_20140709T0000_cut_1000_C_3.72.model ../data/preds_SummModel_py.txt"
       ]
      },
      {
       "output_type": "stream",
       "stream": "stderr",
       "text": [
        "\n",
        "../../../../lib/liblinear-weights/train -s {model_type} -c 0.0372 -e 1e-08 -B 1 -W  ../data/train_ais.txt ../data/train_svm.txt ../data/20140625T0700_20140709T0600_cut_0_C_0.0372.model"
       ]
      },
      {
       "output_type": "stream",
       "stream": "stderr",
       "text": [
        "\n",
        "../../../../lib/liblinear-weights/predict -b 1 ../data/test_svm.txt ../data/20140625T0700_20140709T0600_cut_0_C_0.0372.model ../data/preds_SummModel_py.txt"
       ]
      },
      {
       "output_type": "stream",
       "stream": "stderr",
       "text": [
        "\n",
        "../../../../lib/liblinear-weights/train -s {model_type} -c 0.372 -e 1e-08 -B 1 -W  ../data/train_ais.txt ../data/train_svm.txt ../data/20140625T0700_20140709T0600_cut_0_C_0.372.model"
       ]
      },
      {
       "output_type": "stream",
       "stream": "stderr",
       "text": [
        "\n",
        "../../../../lib/liblinear-weights/predict -b 1 ../data/test_svm.txt ../data/20140625T0700_20140709T0600_cut_0_C_0.372.model ../data/preds_SummModel_py.txt"
       ]
      },
      {
       "output_type": "stream",
       "stream": "stderr",
       "text": [
        "\n",
        "../../../../lib/liblinear-weights/train -s {model_type} -c 3.72 -e 1e-08 -B 1 -W  ../data/train_ais.txt ../data/train_svm.txt ../data/20140625T0700_20140709T0600_cut_0_C_3.72.model"
       ]
      },
      {
       "output_type": "stream",
       "stream": "stderr",
       "text": [
        "\n",
        "../../../../lib/liblinear-weights/predict -b 1 ../data/test_svm.txt ../data/20140625T0700_20140709T0600_cut_0_C_3.72.model ../data/preds_SummModel_py.txt"
       ]
      },
      {
       "output_type": "stream",
       "stream": "stderr",
       "text": [
        "\n",
        "../../../../lib/liblinear-weights/train -s {model_type} -c 0.0372 -e 1e-08 -B 1 -W  ../data/train_ais.txt ../data/train_svm.txt ../data/20140625T0700_20140709T0600_cut_100_C_0.0372.model"
       ]
      },
      {
       "output_type": "stream",
       "stream": "stderr",
       "text": [
        "\n",
        "../../../../lib/liblinear-weights/predict -b 1 ../data/test_svm.txt ../data/20140625T0700_20140709T0600_cut_100_C_0.0372.model ../data/preds_SummModel_py.txt"
       ]
      },
      {
       "output_type": "stream",
       "stream": "stderr",
       "text": [
        "\n",
        "../../../../lib/liblinear-weights/train -s {model_type} -c 0.372 -e 1e-08 -B 1 -W  ../data/train_ais.txt ../data/train_svm.txt ../data/20140625T0700_20140709T0600_cut_100_C_0.372.model"
       ]
      },
      {
       "output_type": "stream",
       "stream": "stderr",
       "text": [
        "\n",
        "../../../../lib/liblinear-weights/predict -b 1 ../data/test_svm.txt ../data/20140625T0700_20140709T0600_cut_100_C_0.372.model ../data/preds_SummModel_py.txt"
       ]
      },
      {
       "output_type": "stream",
       "stream": "stderr",
       "text": [
        "\n",
        "../../../../lib/liblinear-weights/train -s {model_type} -c 3.72 -e 1e-08 -B 1 -W  ../data/train_ais.txt ../data/train_svm.txt ../data/20140625T0700_20140709T0600_cut_100_C_3.72.model"
       ]
      },
      {
       "output_type": "stream",
       "stream": "stderr",
       "text": [
        "\n",
        "../../../../lib/liblinear-weights/predict -b 1 ../data/test_svm.txt ../data/20140625T0700_20140709T0600_cut_100_C_3.72.model ../data/preds_SummModel_py.txt"
       ]
      },
      {
       "output_type": "stream",
       "stream": "stderr",
       "text": [
        "\n",
        "../../../../lib/liblinear-weights/train -s {model_type} -c 0.0372 -e 1e-08 -B 1 -W  ../data/train_ais.txt ../data/train_svm.txt ../data/20140625T0700_20140709T0600_cut_1000_C_0.0372.model"
       ]
      },
      {
       "output_type": "stream",
       "stream": "stderr",
       "text": [
        "\n",
        "../../../../lib/liblinear-weights/predict -b 1 ../data/test_svm.txt ../data/20140625T0700_20140709T0600_cut_1000_C_0.0372.model ../data/preds_SummModel_py.txt"
       ]
      },
      {
       "output_type": "stream",
       "stream": "stderr",
       "text": [
        "\n",
        "../../../../lib/liblinear-weights/train -s {model_type} -c 0.372 -e 1e-08 -B 1 -W  ../data/train_ais.txt ../data/train_svm.txt ../data/20140625T0700_20140709T0600_cut_1000_C_0.372.model"
       ]
      },
      {
       "output_type": "stream",
       "stream": "stderr",
       "text": [
        "\n",
        "../../../../lib/liblinear-weights/predict -b 1 ../data/test_svm.txt ../data/20140625T0700_20140709T0600_cut_1000_C_0.372.model ../data/preds_SummModel_py.txt"
       ]
      },
      {
       "output_type": "stream",
       "stream": "stderr",
       "text": [
        "\n",
        "../../../../lib/liblinear-weights/train -s {model_type} -c 3.72 -e 1e-08 -B 1 -W  ../data/train_ais.txt ../data/train_svm.txt ../data/20140625T0700_20140709T0600_cut_1000_C_3.72.model"
       ]
      },
      {
       "output_type": "stream",
       "stream": "stderr",
       "text": [
        "\n",
        "../../../../lib/liblinear-weights/predict -b 1 ../data/test_svm.txt ../data/20140625T0700_20140709T0600_cut_1000_C_3.72.model ../data/preds_SummModel_py.txt"
       ]
      },
      {
       "output_type": "stream",
       "stream": "stderr",
       "text": [
        "\n",
        "../../../../lib/liblinear-weights/train -s {model_type} -c 0.0372 -e 1e-08 -B 1 -W  ../data/train_ais.txt ../data/train_svm.txt ../data/20140625T1300_20140709T1200_cut_0_C_0.0372.model"
       ]
      },
      {
       "output_type": "stream",
       "stream": "stderr",
       "text": [
        "\n",
        "../../../../lib/liblinear-weights/predict -b 1 ../data/test_svm.txt ../data/20140625T1300_20140709T1200_cut_0_C_0.0372.model ../data/preds_SummModel_py.txt"
       ]
      },
      {
       "output_type": "stream",
       "stream": "stderr",
       "text": [
        "\n",
        "../../../../lib/liblinear-weights/train -s {model_type} -c 0.372 -e 1e-08 -B 1 -W  ../data/train_ais.txt ../data/train_svm.txt ../data/20140625T1300_20140709T1200_cut_0_C_0.372.model"
       ]
      },
      {
       "output_type": "stream",
       "stream": "stderr",
       "text": [
        "\n",
        "../../../../lib/liblinear-weights/predict -b 1 ../data/test_svm.txt ../data/20140625T1300_20140709T1200_cut_0_C_0.372.model ../data/preds_SummModel_py.txt"
       ]
      },
      {
       "output_type": "stream",
       "stream": "stderr",
       "text": [
        "\n",
        "../../../../lib/liblinear-weights/train -s {model_type} -c 3.72 -e 1e-08 -B 1 -W  ../data/train_ais.txt ../data/train_svm.txt ../data/20140625T1300_20140709T1200_cut_0_C_3.72.model"
       ]
      },
      {
       "output_type": "stream",
       "stream": "stderr",
       "text": [
        "\n",
        "../../../../lib/liblinear-weights/predict -b 1 ../data/test_svm.txt ../data/20140625T1300_20140709T1200_cut_0_C_3.72.model ../data/preds_SummModel_py.txt"
       ]
      },
      {
       "output_type": "stream",
       "stream": "stderr",
       "text": [
        "\n",
        "../../../../lib/liblinear-weights/train -s {model_type} -c 0.0372 -e 1e-08 -B 1 -W  ../data/train_ais.txt ../data/train_svm.txt ../data/20140625T1300_20140709T1200_cut_100_C_0.0372.model"
       ]
      },
      {
       "output_type": "stream",
       "stream": "stderr",
       "text": [
        "\n",
        "../../../../lib/liblinear-weights/predict -b 1 ../data/test_svm.txt ../data/20140625T1300_20140709T1200_cut_100_C_0.0372.model ../data/preds_SummModel_py.txt"
       ]
      },
      {
       "output_type": "stream",
       "stream": "stderr",
       "text": [
        "\n",
        "../../../../lib/liblinear-weights/train -s {model_type} -c 0.372 -e 1e-08 -B 1 -W  ../data/train_ais.txt ../data/train_svm.txt ../data/20140625T1300_20140709T1200_cut_100_C_0.372.model"
       ]
      },
      {
       "output_type": "stream",
       "stream": "stderr",
       "text": [
        "\n",
        "../../../../lib/liblinear-weights/predict -b 1 ../data/test_svm.txt ../data/20140625T1300_20140709T1200_cut_100_C_0.372.model ../data/preds_SummModel_py.txt"
       ]
      },
      {
       "output_type": "stream",
       "stream": "stderr",
       "text": [
        "\n",
        "../../../../lib/liblinear-weights/train -s {model_type} -c 3.72 -e 1e-08 -B 1 -W  ../data/train_ais.txt ../data/train_svm.txt ../data/20140625T1300_20140709T1200_cut_100_C_3.72.model"
       ]
      },
      {
       "output_type": "stream",
       "stream": "stderr",
       "text": [
        "\n",
        "../../../../lib/liblinear-weights/predict -b 1 ../data/test_svm.txt ../data/20140625T1300_20140709T1200_cut_100_C_3.72.model ../data/preds_SummModel_py.txt"
       ]
      },
      {
       "output_type": "stream",
       "stream": "stderr",
       "text": [
        "\n",
        "../../../../lib/liblinear-weights/train -s {model_type} -c 0.0372 -e 1e-08 -B 1 -W  ../data/train_ais.txt ../data/train_svm.txt ../data/20140625T1300_20140709T1200_cut_1000_C_0.0372.model"
       ]
      },
      {
       "output_type": "stream",
       "stream": "stderr",
       "text": [
        "\n",
        "../../../../lib/liblinear-weights/predict -b 1 ../data/test_svm.txt ../data/20140625T1300_20140709T1200_cut_1000_C_0.0372.model ../data/preds_SummModel_py.txt"
       ]
      },
      {
       "output_type": "stream",
       "stream": "stderr",
       "text": [
        "\n",
        "../../../../lib/liblinear-weights/train -s {model_type} -c 0.372 -e 1e-08 -B 1 -W  ../data/train_ais.txt ../data/train_svm.txt ../data/20140625T1300_20140709T1200_cut_1000_C_0.372.model\n",
        "../../../../lib/liblinear-weights/predict -b 1 ../data/test_svm.txt ../data/20140625T1300_20140709T1200_cut_1000_C_0.372.model ../data/preds_SummModel_py.txt"
       ]
      },
      {
       "output_type": "stream",
       "stream": "stderr",
       "text": [
        "\n",
        "../../../../lib/liblinear-weights/train -s {model_type} -c 3.72 -e 1e-08 -B 1 -W  ../data/train_ais.txt ../data/train_svm.txt ../data/20140625T1300_20140709T1200_cut_1000_C_3.72.model\n",
        "../../../../lib/liblinear-weights/predict -b 1 ../data/test_svm.txt ../data/20140625T1300_20140709T1200_cut_1000_C_3.72.model ../data/preds_SummModel_py.txt"
       ]
      },
      {
       "output_type": "stream",
       "stream": "stderr",
       "text": [
        "\n",
        "../../../../lib/liblinear-weights/train -s {model_type} -c 0.0372 -e 1e-08 -B 1 -W  ../data/train_ais.txt ../data/train_svm.txt ../data/20140625T1900_20140709T1800_cut_0_C_0.0372.model"
       ]
      },
      {
       "output_type": "stream",
       "stream": "stderr",
       "text": [
        "\n",
        "../../../../lib/liblinear-weights/predict -b 1 ../data/test_svm.txt ../data/20140625T1900_20140709T1800_cut_0_C_0.0372.model ../data/preds_SummModel_py.txt"
       ]
      },
      {
       "output_type": "stream",
       "stream": "stderr",
       "text": [
        "\n",
        "../../../../lib/liblinear-weights/train -s {model_type} -c 0.372 -e 1e-08 -B 1 -W  ../data/train_ais.txt ../data/train_svm.txt ../data/20140625T1900_20140709T1800_cut_0_C_0.372.model"
       ]
      },
      {
       "output_type": "stream",
       "stream": "stderr",
       "text": [
        "\n",
        "../../../../lib/liblinear-weights/predict -b 1 ../data/test_svm.txt ../data/20140625T1900_20140709T1800_cut_0_C_0.372.model ../data/preds_SummModel_py.txt"
       ]
      },
      {
       "output_type": "stream",
       "stream": "stderr",
       "text": [
        "\n",
        "../../../../lib/liblinear-weights/train -s {model_type} -c 3.72 -e 1e-08 -B 1 -W  ../data/train_ais.txt ../data/train_svm.txt ../data/20140625T1900_20140709T1800_cut_0_C_3.72.model"
       ]
      },
      {
       "output_type": "stream",
       "stream": "stderr",
       "text": [
        "\n",
        "../../../../lib/liblinear-weights/predict -b 1 ../data/test_svm.txt ../data/20140625T1900_20140709T1800_cut_0_C_3.72.model ../data/preds_SummModel_py.txt"
       ]
      },
      {
       "output_type": "stream",
       "stream": "stderr",
       "text": [
        "\n",
        "../../../../lib/liblinear-weights/train -s {model_type} -c 0.0372 -e 1e-08 -B 1 -W  ../data/train_ais.txt ../data/train_svm.txt ../data/20140625T1900_20140709T1800_cut_100_C_0.0372.model"
       ]
      },
      {
       "output_type": "stream",
       "stream": "stderr",
       "text": [
        "\n",
        "../../../../lib/liblinear-weights/predict -b 1 ../data/test_svm.txt ../data/20140625T1900_20140709T1800_cut_100_C_0.0372.model ../data/preds_SummModel_py.txt"
       ]
      },
      {
       "output_type": "stream",
       "stream": "stderr",
       "text": [
        "\n",
        "../../../../lib/liblinear-weights/train -s {model_type} -c 0.372 -e 1e-08 -B 1 -W  ../data/train_ais.txt ../data/train_svm.txt ../data/20140625T1900_20140709T1800_cut_100_C_0.372.model"
       ]
      },
      {
       "output_type": "stream",
       "stream": "stderr",
       "text": [
        "\n",
        "../../../../lib/liblinear-weights/predict -b 1 ../data/test_svm.txt ../data/20140625T1900_20140709T1800_cut_100_C_0.372.model ../data/preds_SummModel_py.txt"
       ]
      },
      {
       "output_type": "stream",
       "stream": "stderr",
       "text": [
        "\n",
        "../../../../lib/liblinear-weights/train -s {model_type} -c 3.72 -e 1e-08 -B 1 -W  ../data/train_ais.txt ../data/train_svm.txt ../data/20140625T1900_20140709T1800_cut_100_C_3.72.model"
       ]
      },
      {
       "output_type": "stream",
       "stream": "stderr",
       "text": [
        "\n",
        "../../../../lib/liblinear-weights/predict -b 1 ../data/test_svm.txt ../data/20140625T1900_20140709T1800_cut_100_C_3.72.model ../data/preds_SummModel_py.txt"
       ]
      },
      {
       "output_type": "stream",
       "stream": "stderr",
       "text": [
        "\n",
        "../../../../lib/liblinear-weights/train -s {model_type} -c 0.0372 -e 1e-08 -B 1 -W  ../data/train_ais.txt ../data/train_svm.txt ../data/20140625T1900_20140709T1800_cut_1000_C_0.0372.model"
       ]
      },
      {
       "output_type": "stream",
       "stream": "stderr",
       "text": [
        "\n",
        "../../../../lib/liblinear-weights/predict -b 1 ../data/test_svm.txt ../data/20140625T1900_20140709T1800_cut_1000_C_0.0372.model ../data/preds_SummModel_py.txt"
       ]
      },
      {
       "output_type": "stream",
       "stream": "stderr",
       "text": [
        "\n",
        "../../../../lib/liblinear-weights/train -s {model_type} -c 0.372 -e 1e-08 -B 1 -W  ../data/train_ais.txt ../data/train_svm.txt ../data/20140625T1900_20140709T1800_cut_1000_C_0.372.model\n",
        "../../../../lib/liblinear-weights/predict -b 1 ../data/test_svm.txt ../data/20140625T1900_20140709T1800_cut_1000_C_0.372.model ../data/preds_SummModel_py.txt"
       ]
      },
      {
       "output_type": "stream",
       "stream": "stderr",
       "text": [
        "\n",
        "../../../../lib/liblinear-weights/train -s {model_type} -c 3.72 -e 1e-08 -B 1 -W  ../data/train_ais.txt ../data/train_svm.txt ../data/20140625T1900_20140709T1800_cut_1000_C_3.72.model\n",
        "../../../../lib/liblinear-weights/predict -b 1 ../data/test_svm.txt ../data/20140625T1900_20140709T1800_cut_1000_C_3.72.model ../data/preds_SummModel_py.txt"
       ]
      },
      {
       "output_type": "stream",
       "stream": "stderr",
       "text": [
        "\n",
        "../../../../lib/liblinear-weights/train -s {model_type} -c 0.0372 -e 1e-08 -B 1 -W  ../data/train_ais.txt ../data/train_svm.txt ../data/20140627T0100_20140711T0000_cut_0_C_0.0372.model"
       ]
      },
      {
       "output_type": "stream",
       "stream": "stderr",
       "text": [
        "\n",
        "../../../../lib/liblinear-weights/predict -b 1 ../data/test_svm.txt ../data/20140627T0100_20140711T0000_cut_0_C_0.0372.model ../data/preds_SummModel_py.txt"
       ]
      },
      {
       "output_type": "stream",
       "stream": "stderr",
       "text": [
        "\n",
        "../../../../lib/liblinear-weights/train -s {model_type} -c 0.372 -e 1e-08 -B 1 -W  ../data/train_ais.txt ../data/train_svm.txt ../data/20140627T0100_20140711T0000_cut_0_C_0.372.model"
       ]
      },
      {
       "output_type": "stream",
       "stream": "stderr",
       "text": [
        "\n",
        "../../../../lib/liblinear-weights/predict -b 1 ../data/test_svm.txt ../data/20140627T0100_20140711T0000_cut_0_C_0.372.model ../data/preds_SummModel_py.txt"
       ]
      },
      {
       "output_type": "stream",
       "stream": "stderr",
       "text": [
        "\n",
        "../../../../lib/liblinear-weights/train -s {model_type} -c 3.72 -e 1e-08 -B 1 -W  ../data/train_ais.txt ../data/train_svm.txt ../data/20140627T0100_20140711T0000_cut_0_C_3.72.model"
       ]
      },
      {
       "output_type": "stream",
       "stream": "stderr",
       "text": [
        "\n",
        "../../../../lib/liblinear-weights/predict -b 1 ../data/test_svm.txt ../data/20140627T0100_20140711T0000_cut_0_C_3.72.model ../data/preds_SummModel_py.txt"
       ]
      },
      {
       "output_type": "stream",
       "stream": "stderr",
       "text": [
        "\n",
        "../../../../lib/liblinear-weights/train -s {model_type} -c 0.0372 -e 1e-08 -B 1 -W  ../data/train_ais.txt ../data/train_svm.txt ../data/20140627T0100_20140711T0000_cut_100_C_0.0372.model"
       ]
      },
      {
       "output_type": "stream",
       "stream": "stderr",
       "text": [
        "\n",
        "../../../../lib/liblinear-weights/predict -b 1 ../data/test_svm.txt ../data/20140627T0100_20140711T0000_cut_100_C_0.0372.model ../data/preds_SummModel_py.txt"
       ]
      },
      {
       "output_type": "stream",
       "stream": "stderr",
       "text": [
        "\n",
        "../../../../lib/liblinear-weights/train -s {model_type} -c 0.372 -e 1e-08 -B 1 -W  ../data/train_ais.txt ../data/train_svm.txt ../data/20140627T0100_20140711T0000_cut_100_C_0.372.model"
       ]
      },
      {
       "output_type": "stream",
       "stream": "stderr",
       "text": [
        "\n",
        "../../../../lib/liblinear-weights/predict -b 1 ../data/test_svm.txt ../data/20140627T0100_20140711T0000_cut_100_C_0.372.model ../data/preds_SummModel_py.txt"
       ]
      },
      {
       "output_type": "stream",
       "stream": "stderr",
       "text": [
        "\n",
        "../../../../lib/liblinear-weights/train -s {model_type} -c 3.72 -e 1e-08 -B 1 -W  ../data/train_ais.txt ../data/train_svm.txt ../data/20140627T0100_20140711T0000_cut_100_C_3.72.model"
       ]
      },
      {
       "output_type": "stream",
       "stream": "stderr",
       "text": [
        "\n",
        "../../../../lib/liblinear-weights/predict -b 1 ../data/test_svm.txt ../data/20140627T0100_20140711T0000_cut_100_C_3.72.model ../data/preds_SummModel_py.txt"
       ]
      },
      {
       "output_type": "stream",
       "stream": "stderr",
       "text": [
        "\n",
        "../../../../lib/liblinear-weights/train -s {model_type} -c 0.0372 -e 1e-08 -B 1 -W  ../data/train_ais.txt ../data/train_svm.txt ../data/20140627T0100_20140711T0000_cut_1000_C_0.0372.model"
       ]
      },
      {
       "output_type": "stream",
       "stream": "stderr",
       "text": [
        "\n",
        "../../../../lib/liblinear-weights/predict -b 1 ../data/test_svm.txt ../data/20140627T0100_20140711T0000_cut_1000_C_0.0372.model ../data/preds_SummModel_py.txt"
       ]
      },
      {
       "output_type": "stream",
       "stream": "stderr",
       "text": [
        "\n",
        "../../../../lib/liblinear-weights/train -s {model_type} -c 0.372 -e 1e-08 -B 1 -W  ../data/train_ais.txt ../data/train_svm.txt ../data/20140627T0100_20140711T0000_cut_1000_C_0.372.model\n",
        "../../../../lib/liblinear-weights/predict -b 1 ../data/test_svm.txt ../data/20140627T0100_20140711T0000_cut_1000_C_0.372.model ../data/preds_SummModel_py.txt"
       ]
      },
      {
       "output_type": "stream",
       "stream": "stderr",
       "text": [
        "\n",
        "../../../../lib/liblinear-weights/train -s {model_type} -c 3.72 -e 1e-08 -B 1 -W  ../data/train_ais.txt ../data/train_svm.txt ../data/20140627T0100_20140711T0000_cut_1000_C_3.72.model\n",
        "../../../../lib/liblinear-weights/predict -b 1 ../data/test_svm.txt ../data/20140627T0100_20140711T0000_cut_1000_C_3.72.model ../data/preds_SummModel_py.txt"
       ]
      },
      {
       "output_type": "stream",
       "stream": "stderr",
       "text": [
        "\n",
        "../../../../lib/liblinear-weights/train -s {model_type} -c 0.0372 -e 1e-08 -B 1 -W  ../data/train_ais.txt ../data/train_svm.txt ../data/20140627T0700_20140711T0600_cut_0_C_0.0372.model"
       ]
      },
      {
       "output_type": "stream",
       "stream": "stderr",
       "text": [
        "\n",
        "../../../../lib/liblinear-weights/predict -b 1 ../data/test_svm.txt ../data/20140627T0700_20140711T0600_cut_0_C_0.0372.model ../data/preds_SummModel_py.txt"
       ]
      },
      {
       "output_type": "stream",
       "stream": "stderr",
       "text": [
        "\n",
        "../../../../lib/liblinear-weights/train -s {model_type} -c 0.372 -e 1e-08 -B 1 -W  ../data/train_ais.txt ../data/train_svm.txt ../data/20140627T0700_20140711T0600_cut_0_C_0.372.model"
       ]
      },
      {
       "output_type": "stream",
       "stream": "stderr",
       "text": [
        "\n",
        "../../../../lib/liblinear-weights/predict -b 1 ../data/test_svm.txt ../data/20140627T0700_20140711T0600_cut_0_C_0.372.model ../data/preds_SummModel_py.txt"
       ]
      },
      {
       "output_type": "stream",
       "stream": "stderr",
       "text": [
        "\n",
        "../../../../lib/liblinear-weights/train -s {model_type} -c 3.72 -e 1e-08 -B 1 -W  ../data/train_ais.txt ../data/train_svm.txt ../data/20140627T0700_20140711T0600_cut_0_C_3.72.model"
       ]
      },
      {
       "output_type": "stream",
       "stream": "stderr",
       "text": [
        "\n",
        "../../../../lib/liblinear-weights/predict -b 1 ../data/test_svm.txt ../data/20140627T0700_20140711T0600_cut_0_C_3.72.model ../data/preds_SummModel_py.txt"
       ]
      },
      {
       "output_type": "stream",
       "stream": "stderr",
       "text": [
        "\n",
        "../../../../lib/liblinear-weights/train -s {model_type} -c 0.0372 -e 1e-08 -B 1 -W  ../data/train_ais.txt ../data/train_svm.txt ../data/20140627T0700_20140711T0600_cut_100_C_0.0372.model"
       ]
      },
      {
       "output_type": "stream",
       "stream": "stderr",
       "text": [
        "\n",
        "../../../../lib/liblinear-weights/predict -b 1 ../data/test_svm.txt ../data/20140627T0700_20140711T0600_cut_100_C_0.0372.model ../data/preds_SummModel_py.txt"
       ]
      },
      {
       "output_type": "stream",
       "stream": "stderr",
       "text": [
        "\n",
        "../../../../lib/liblinear-weights/train -s {model_type} -c 0.372 -e 1e-08 -B 1 -W  ../data/train_ais.txt ../data/train_svm.txt ../data/20140627T0700_20140711T0600_cut_100_C_0.372.model"
       ]
      },
      {
       "output_type": "stream",
       "stream": "stderr",
       "text": [
        "\n",
        "../../../../lib/liblinear-weights/predict -b 1 ../data/test_svm.txt ../data/20140627T0700_20140711T0600_cut_100_C_0.372.model ../data/preds_SummModel_py.txt"
       ]
      },
      {
       "output_type": "stream",
       "stream": "stderr",
       "text": [
        "\n",
        "../../../../lib/liblinear-weights/train -s {model_type} -c 3.72 -e 1e-08 -B 1 -W  ../data/train_ais.txt ../data/train_svm.txt ../data/20140627T0700_20140711T0600_cut_100_C_3.72.model"
       ]
      },
      {
       "output_type": "stream",
       "stream": "stderr",
       "text": [
        "\n",
        "../../../../lib/liblinear-weights/predict -b 1 ../data/test_svm.txt ../data/20140627T0700_20140711T0600_cut_100_C_3.72.model ../data/preds_SummModel_py.txt"
       ]
      },
      {
       "output_type": "stream",
       "stream": "stderr",
       "text": [
        "\n",
        "../../../../lib/liblinear-weights/train -s {model_type} -c 0.0372 -e 1e-08 -B 1 -W  ../data/train_ais.txt ../data/train_svm.txt ../data/20140627T0700_20140711T0600_cut_1000_C_0.0372.model"
       ]
      },
      {
       "output_type": "stream",
       "stream": "stderr",
       "text": [
        "\n",
        "../../../../lib/liblinear-weights/predict -b 1 ../data/test_svm.txt ../data/20140627T0700_20140711T0600_cut_1000_C_0.0372.model ../data/preds_SummModel_py.txt"
       ]
      },
      {
       "output_type": "stream",
       "stream": "stderr",
       "text": [
        "\n",
        "../../../../lib/liblinear-weights/train -s {model_type} -c 0.372 -e 1e-08 -B 1 -W  ../data/train_ais.txt ../data/train_svm.txt ../data/20140627T0700_20140711T0600_cut_1000_C_0.372.model"
       ]
      },
      {
       "output_type": "stream",
       "stream": "stderr",
       "text": [
        "\n",
        "../../../../lib/liblinear-weights/predict -b 1 ../data/test_svm.txt ../data/20140627T0700_20140711T0600_cut_1000_C_0.372.model ../data/preds_SummModel_py.txt"
       ]
      },
      {
       "output_type": "stream",
       "stream": "stderr",
       "text": [
        "\n",
        "../../../../lib/liblinear-weights/train -s {model_type} -c 3.72 -e 1e-08 -B 1 -W  ../data/train_ais.txt ../data/train_svm.txt ../data/20140627T0700_20140711T0600_cut_1000_C_3.72.model"
       ]
      },
      {
       "output_type": "stream",
       "stream": "stderr",
       "text": [
        "\n",
        "../../../../lib/liblinear-weights/predict -b 1 ../data/test_svm.txt ../data/20140627T0700_20140711T0600_cut_1000_C_3.72.model ../data/preds_SummModel_py.txt"
       ]
      },
      {
       "output_type": "stream",
       "stream": "stderr",
       "text": [
        "\n",
        "../../../../lib/liblinear-weights/train -s {model_type} -c 0.0372 -e 1e-08 -B 1 -W  ../data/train_ais.txt ../data/train_svm.txt ../data/20140627T1300_20140711T1200_cut_0_C_0.0372.model"
       ]
      },
      {
       "output_type": "stream",
       "stream": "stderr",
       "text": [
        "\n",
        "../../../../lib/liblinear-weights/predict -b 1 ../data/test_svm.txt ../data/20140627T1300_20140711T1200_cut_0_C_0.0372.model ../data/preds_SummModel_py.txt"
       ]
      },
      {
       "output_type": "stream",
       "stream": "stderr",
       "text": [
        "\n",
        "../../../../lib/liblinear-weights/train -s {model_type} -c 0.372 -e 1e-08 -B 1 -W  ../data/train_ais.txt ../data/train_svm.txt ../data/20140627T1300_20140711T1200_cut_0_C_0.372.model"
       ]
      },
      {
       "output_type": "stream",
       "stream": "stderr",
       "text": [
        "\n",
        "../../../../lib/liblinear-weights/predict -b 1 ../data/test_svm.txt ../data/20140627T1300_20140711T1200_cut_0_C_0.372.model ../data/preds_SummModel_py.txt"
       ]
      },
      {
       "output_type": "stream",
       "stream": "stderr",
       "text": [
        "\n",
        "../../../../lib/liblinear-weights/train -s {model_type} -c 3.72 -e 1e-08 -B 1 -W  ../data/train_ais.txt ../data/train_svm.txt ../data/20140627T1300_20140711T1200_cut_0_C_3.72.model"
       ]
      },
      {
       "output_type": "stream",
       "stream": "stderr",
       "text": [
        "\n",
        "../../../../lib/liblinear-weights/predict -b 1 ../data/test_svm.txt ../data/20140627T1300_20140711T1200_cut_0_C_3.72.model ../data/preds_SummModel_py.txt"
       ]
      },
      {
       "output_type": "stream",
       "stream": "stderr",
       "text": [
        "\n",
        "../../../../lib/liblinear-weights/train -s {model_type} -c 0.0372 -e 1e-08 -B 1 -W  ../data/train_ais.txt ../data/train_svm.txt ../data/20140627T1300_20140711T1200_cut_100_C_0.0372.model"
       ]
      },
      {
       "output_type": "stream",
       "stream": "stderr",
       "text": [
        "\n",
        "../../../../lib/liblinear-weights/predict -b 1 ../data/test_svm.txt ../data/20140627T1300_20140711T1200_cut_100_C_0.0372.model ../data/preds_SummModel_py.txt"
       ]
      },
      {
       "output_type": "stream",
       "stream": "stderr",
       "text": [
        "\n",
        "../../../../lib/liblinear-weights/train -s {model_type} -c 0.372 -e 1e-08 -B 1 -W  ../data/train_ais.txt ../data/train_svm.txt ../data/20140627T1300_20140711T1200_cut_100_C_0.372.model"
       ]
      },
      {
       "output_type": "stream",
       "stream": "stderr",
       "text": [
        "\n",
        "../../../../lib/liblinear-weights/predict -b 1 ../data/test_svm.txt ../data/20140627T1300_20140711T1200_cut_100_C_0.372.model ../data/preds_SummModel_py.txt"
       ]
      },
      {
       "output_type": "stream",
       "stream": "stderr",
       "text": [
        "\n",
        "../../../../lib/liblinear-weights/train -s {model_type} -c 3.72 -e 1e-08 -B 1 -W  ../data/train_ais.txt ../data/train_svm.txt ../data/20140627T1300_20140711T1200_cut_100_C_3.72.model"
       ]
      },
      {
       "output_type": "stream",
       "stream": "stderr",
       "text": [
        "\n",
        "../../../../lib/liblinear-weights/predict -b 1 ../data/test_svm.txt ../data/20140627T1300_20140711T1200_cut_100_C_3.72.model ../data/preds_SummModel_py.txt"
       ]
      },
      {
       "output_type": "stream",
       "stream": "stderr",
       "text": [
        "\n",
        "../../../../lib/liblinear-weights/train -s {model_type} -c 0.0372 -e 1e-08 -B 1 -W  ../data/train_ais.txt ../data/train_svm.txt ../data/20140627T1300_20140711T1200_cut_1000_C_0.0372.model"
       ]
      },
      {
       "output_type": "stream",
       "stream": "stderr",
       "text": [
        "\n",
        "../../../../lib/liblinear-weights/predict -b 1 ../data/test_svm.txt ../data/20140627T1300_20140711T1200_cut_1000_C_0.0372.model ../data/preds_SummModel_py.txt"
       ]
      },
      {
       "output_type": "stream",
       "stream": "stderr",
       "text": [
        "\n",
        "../../../../lib/liblinear-weights/train -s {model_type} -c 0.372 -e 1e-08 -B 1 -W  ../data/train_ais.txt ../data/train_svm.txt ../data/20140627T1300_20140711T1200_cut_1000_C_0.372.model"
       ]
      },
      {
       "output_type": "stream",
       "stream": "stderr",
       "text": [
        "\n",
        "../../../../lib/liblinear-weights/predict -b 1 ../data/test_svm.txt ../data/20140627T1300_20140711T1200_cut_1000_C_0.372.model ../data/preds_SummModel_py.txt"
       ]
      },
      {
       "output_type": "stream",
       "stream": "stderr",
       "text": [
        "\n",
        "../../../../lib/liblinear-weights/train -s {model_type} -c 3.72 -e 1e-08 -B 1 -W  ../data/train_ais.txt ../data/train_svm.txt ../data/20140627T1300_20140711T1200_cut_1000_C_3.72.model"
       ]
      },
      {
       "output_type": "stream",
       "stream": "stderr",
       "text": [
        "\n",
        "../../../../lib/liblinear-weights/predict -b 1 ../data/test_svm.txt ../data/20140627T1300_20140711T1200_cut_1000_C_3.72.model ../data/preds_SummModel_py.txt"
       ]
      },
      {
       "output_type": "stream",
       "stream": "stderr",
       "text": [
        "\n",
        "../../../../lib/liblinear-weights/train -s {model_type} -c 0.0372 -e 1e-08 -B 1 -W  ../data/train_ais.txt ../data/train_svm.txt ../data/20140627T1900_20140711T1800_cut_0_C_0.0372.model"
       ]
      },
      {
       "output_type": "stream",
       "stream": "stderr",
       "text": [
        "\n",
        "../../../../lib/liblinear-weights/predict -b 1 ../data/test_svm.txt ../data/20140627T1900_20140711T1800_cut_0_C_0.0372.model ../data/preds_SummModel_py.txt"
       ]
      },
      {
       "output_type": "stream",
       "stream": "stderr",
       "text": [
        "\n",
        "../../../../lib/liblinear-weights/train -s {model_type} -c 0.372 -e 1e-08 -B 1 -W  ../data/train_ais.txt ../data/train_svm.txt ../data/20140627T1900_20140711T1800_cut_0_C_0.372.model"
       ]
      },
      {
       "output_type": "stream",
       "stream": "stderr",
       "text": [
        "\n",
        "../../../../lib/liblinear-weights/predict -b 1 ../data/test_svm.txt ../data/20140627T1900_20140711T1800_cut_0_C_0.372.model ../data/preds_SummModel_py.txt"
       ]
      },
      {
       "output_type": "stream",
       "stream": "stderr",
       "text": [
        "\n",
        "../../../../lib/liblinear-weights/train -s {model_type} -c 3.72 -e 1e-08 -B 1 -W  ../data/train_ais.txt ../data/train_svm.txt ../data/20140627T1900_20140711T1800_cut_0_C_3.72.model"
       ]
      },
      {
       "output_type": "stream",
       "stream": "stderr",
       "text": [
        "\n",
        "../../../../lib/liblinear-weights/predict -b 1 ../data/test_svm.txt ../data/20140627T1900_20140711T1800_cut_0_C_3.72.model ../data/preds_SummModel_py.txt"
       ]
      },
      {
       "output_type": "stream",
       "stream": "stderr",
       "text": [
        "\n",
        "../../../../lib/liblinear-weights/train -s {model_type} -c 0.0372 -e 1e-08 -B 1 -W  ../data/train_ais.txt ../data/train_svm.txt ../data/20140627T1900_20140711T1800_cut_100_C_0.0372.model"
       ]
      },
      {
       "output_type": "stream",
       "stream": "stderr",
       "text": [
        "\n",
        "../../../../lib/liblinear-weights/predict -b 1 ../data/test_svm.txt ../data/20140627T1900_20140711T1800_cut_100_C_0.0372.model ../data/preds_SummModel_py.txt"
       ]
      },
      {
       "output_type": "stream",
       "stream": "stderr",
       "text": [
        "\n",
        "../../../../lib/liblinear-weights/train -s {model_type} -c 0.372 -e 1e-08 -B 1 -W  ../data/train_ais.txt ../data/train_svm.txt ../data/20140627T1900_20140711T1800_cut_100_C_0.372.model"
       ]
      },
      {
       "output_type": "stream",
       "stream": "stderr",
       "text": [
        "\n",
        "../../../../lib/liblinear-weights/predict -b 1 ../data/test_svm.txt ../data/20140627T1900_20140711T1800_cut_100_C_0.372.model ../data/preds_SummModel_py.txt"
       ]
      },
      {
       "output_type": "stream",
       "stream": "stderr",
       "text": [
        "\n",
        "../../../../lib/liblinear-weights/train -s {model_type} -c 3.72 -e 1e-08 -B 1 -W  ../data/train_ais.txt ../data/train_svm.txt ../data/20140627T1900_20140711T1800_cut_100_C_3.72.model"
       ]
      },
      {
       "output_type": "stream",
       "stream": "stderr",
       "text": [
        "\n",
        "../../../../lib/liblinear-weights/predict -b 1 ../data/test_svm.txt ../data/20140627T1900_20140711T1800_cut_100_C_3.72.model ../data/preds_SummModel_py.txt"
       ]
      },
      {
       "output_type": "stream",
       "stream": "stderr",
       "text": [
        "\n",
        "../../../../lib/liblinear-weights/train -s {model_type} -c 0.0372 -e 1e-08 -B 1 -W  ../data/train_ais.txt ../data/train_svm.txt ../data/20140627T1900_20140711T1800_cut_1000_C_0.0372.model"
       ]
      },
      {
       "output_type": "stream",
       "stream": "stderr",
       "text": [
        "\n",
        "../../../../lib/liblinear-weights/predict -b 1 ../data/test_svm.txt ../data/20140627T1900_20140711T1800_cut_1000_C_0.0372.model ../data/preds_SummModel_py.txt"
       ]
      },
      {
       "output_type": "stream",
       "stream": "stderr",
       "text": [
        "\n",
        "../../../../lib/liblinear-weights/train -s {model_type} -c 0.372 -e 1e-08 -B 1 -W  ../data/train_ais.txt ../data/train_svm.txt ../data/20140627T1900_20140711T1800_cut_1000_C_0.372.model\n",
        "../../../../lib/liblinear-weights/predict -b 1 ../data/test_svm.txt ../data/20140627T1900_20140711T1800_cut_1000_C_0.372.model ../data/preds_SummModel_py.txt"
       ]
      },
      {
       "output_type": "stream",
       "stream": "stderr",
       "text": [
        "\n",
        "../../../../lib/liblinear-weights/train -s {model_type} -c 3.72 -e 1e-08 -B 1 -W  ../data/train_ais.txt ../data/train_svm.txt ../data/20140627T1900_20140711T1800_cut_1000_C_3.72.model\n",
        "../../../../lib/liblinear-weights/predict -b 1 ../data/test_svm.txt ../data/20140627T1900_20140711T1800_cut_1000_C_3.72.model ../data/preds_SummModel_py.txt"
       ]
      },
      {
       "output_type": "stream",
       "stream": "stderr",
       "text": [
        "\n",
        "../../../../lib/liblinear-weights/train -s {model_type} -c 0.0372 -e 1e-08 -B 1 -W  ../data/train_ais.txt ../data/train_svm.txt ../data/20140629T0100_20140713T0000_cut_0_C_0.0372.model"
       ]
      },
      {
       "output_type": "stream",
       "stream": "stderr",
       "text": [
        "\n",
        "../../../../lib/liblinear-weights/predict -b 1 ../data/test_svm.txt ../data/20140629T0100_20140713T0000_cut_0_C_0.0372.model ../data/preds_SummModel_py.txt"
       ]
      },
      {
       "output_type": "stream",
       "stream": "stderr",
       "text": [
        "\n",
        "../../../../lib/liblinear-weights/train -s {model_type} -c 0.372 -e 1e-08 -B 1 -W  ../data/train_ais.txt ../data/train_svm.txt ../data/20140629T0100_20140713T0000_cut_0_C_0.372.model"
       ]
      },
      {
       "output_type": "stream",
       "stream": "stderr",
       "text": [
        "\n",
        "../../../../lib/liblinear-weights/predict -b 1 ../data/test_svm.txt ../data/20140629T0100_20140713T0000_cut_0_C_0.372.model ../data/preds_SummModel_py.txt"
       ]
      },
      {
       "output_type": "stream",
       "stream": "stderr",
       "text": [
        "\n",
        "../../../../lib/liblinear-weights/train -s {model_type} -c 3.72 -e 1e-08 -B 1 -W  ../data/train_ais.txt ../data/train_svm.txt ../data/20140629T0100_20140713T0000_cut_0_C_3.72.model"
       ]
      },
      {
       "output_type": "stream",
       "stream": "stderr",
       "text": [
        "\n",
        "../../../../lib/liblinear-weights/predict -b 1 ../data/test_svm.txt ../data/20140629T0100_20140713T0000_cut_0_C_3.72.model ../data/preds_SummModel_py.txt"
       ]
      },
      {
       "output_type": "stream",
       "stream": "stderr",
       "text": [
        "\n",
        "../../../../lib/liblinear-weights/train -s {model_type} -c 0.0372 -e 1e-08 -B 1 -W  ../data/train_ais.txt ../data/train_svm.txt ../data/20140629T0100_20140713T0000_cut_100_C_0.0372.model"
       ]
      },
      {
       "output_type": "stream",
       "stream": "stderr",
       "text": [
        "\n",
        "../../../../lib/liblinear-weights/predict -b 1 ../data/test_svm.txt ../data/20140629T0100_20140713T0000_cut_100_C_0.0372.model ../data/preds_SummModel_py.txt"
       ]
      },
      {
       "output_type": "stream",
       "stream": "stderr",
       "text": [
        "\n",
        "../../../../lib/liblinear-weights/train -s {model_type} -c 0.372 -e 1e-08 -B 1 -W  ../data/train_ais.txt ../data/train_svm.txt ../data/20140629T0100_20140713T0000_cut_100_C_0.372.model"
       ]
      },
      {
       "output_type": "stream",
       "stream": "stderr",
       "text": [
        "\n",
        "../../../../lib/liblinear-weights/predict -b 1 ../data/test_svm.txt ../data/20140629T0100_20140713T0000_cut_100_C_0.372.model ../data/preds_SummModel_py.txt"
       ]
      },
      {
       "output_type": "stream",
       "stream": "stderr",
       "text": [
        "\n",
        "../../../../lib/liblinear-weights/train -s {model_type} -c 3.72 -e 1e-08 -B 1 -W  ../data/train_ais.txt ../data/train_svm.txt ../data/20140629T0100_20140713T0000_cut_100_C_3.72.model"
       ]
      },
      {
       "output_type": "stream",
       "stream": "stderr",
       "text": [
        "\n",
        "../../../../lib/liblinear-weights/predict -b 1 ../data/test_svm.txt ../data/20140629T0100_20140713T0000_cut_100_C_3.72.model ../data/preds_SummModel_py.txt"
       ]
      },
      {
       "output_type": "stream",
       "stream": "stderr",
       "text": [
        "\n",
        "../../../../lib/liblinear-weights/train -s {model_type} -c 0.0372 -e 1e-08 -B 1 -W  ../data/train_ais.txt ../data/train_svm.txt ../data/20140629T0100_20140713T0000_cut_1000_C_0.0372.model"
       ]
      },
      {
       "output_type": "stream",
       "stream": "stderr",
       "text": [
        "\n",
        "../../../../lib/liblinear-weights/predict -b 1 ../data/test_svm.txt ../data/20140629T0100_20140713T0000_cut_1000_C_0.0372.model ../data/preds_SummModel_py.txt"
       ]
      },
      {
       "output_type": "stream",
       "stream": "stderr",
       "text": [
        "\n",
        "../../../../lib/liblinear-weights/train -s {model_type} -c 0.372 -e 1e-08 -B 1 -W  ../data/train_ais.txt ../data/train_svm.txt ../data/20140629T0100_20140713T0000_cut_1000_C_0.372.model\n",
        "../../../../lib/liblinear-weights/predict -b 1 ../data/test_svm.txt ../data/20140629T0100_20140713T0000_cut_1000_C_0.372.model ../data/preds_SummModel_py.txt"
       ]
      },
      {
       "output_type": "stream",
       "stream": "stderr",
       "text": [
        "\n",
        "../../../../lib/liblinear-weights/train -s {model_type} -c 3.72 -e 1e-08 -B 1 -W  ../data/train_ais.txt ../data/train_svm.txt ../data/20140629T0100_20140713T0000_cut_1000_C_3.72.model\n",
        "../../../../lib/liblinear-weights/predict -b 1 ../data/test_svm.txt ../data/20140629T0100_20140713T0000_cut_1000_C_3.72.model ../data/preds_SummModel_py.txt"
       ]
      },
      {
       "output_type": "stream",
       "stream": "stderr",
       "text": [
        "\n",
        "../../../../lib/liblinear-weights/train -s {model_type} -c 0.0372 -e 1e-08 -B 1 -W  ../data/train_ais.txt ../data/train_svm.txt ../data/20140629T0700_20140713T0600_cut_0_C_0.0372.model"
       ]
      },
      {
       "output_type": "stream",
       "stream": "stderr",
       "text": [
        "\n",
        "../../../../lib/liblinear-weights/predict -b 1 ../data/test_svm.txt ../data/20140629T0700_20140713T0600_cut_0_C_0.0372.model ../data/preds_SummModel_py.txt"
       ]
      },
      {
       "output_type": "stream",
       "stream": "stderr",
       "text": [
        "\n",
        "../../../../lib/liblinear-weights/train -s {model_type} -c 0.372 -e 1e-08 -B 1 -W  ../data/train_ais.txt ../data/train_svm.txt ../data/20140629T0700_20140713T0600_cut_0_C_0.372.model"
       ]
      },
      {
       "output_type": "stream",
       "stream": "stderr",
       "text": [
        "\n",
        "../../../../lib/liblinear-weights/predict -b 1 ../data/test_svm.txt ../data/20140629T0700_20140713T0600_cut_0_C_0.372.model ../data/preds_SummModel_py.txt"
       ]
      },
      {
       "output_type": "stream",
       "stream": "stderr",
       "text": [
        "\n",
        "../../../../lib/liblinear-weights/train -s {model_type} -c 3.72 -e 1e-08 -B 1 -W  ../data/train_ais.txt ../data/train_svm.txt ../data/20140629T0700_20140713T0600_cut_0_C_3.72.model"
       ]
      },
      {
       "output_type": "stream",
       "stream": "stderr",
       "text": [
        "\n",
        "../../../../lib/liblinear-weights/predict -b 1 ../data/test_svm.txt ../data/20140629T0700_20140713T0600_cut_0_C_3.72.model ../data/preds_SummModel_py.txt"
       ]
      },
      {
       "output_type": "stream",
       "stream": "stderr",
       "text": [
        "\n",
        "../../../../lib/liblinear-weights/train -s {model_type} -c 0.0372 -e 1e-08 -B 1 -W  ../data/train_ais.txt ../data/train_svm.txt ../data/20140629T0700_20140713T0600_cut_100_C_0.0372.model"
       ]
      },
      {
       "output_type": "stream",
       "stream": "stderr",
       "text": [
        "\n",
        "../../../../lib/liblinear-weights/predict -b 1 ../data/test_svm.txt ../data/20140629T0700_20140713T0600_cut_100_C_0.0372.model ../data/preds_SummModel_py.txt"
       ]
      },
      {
       "output_type": "stream",
       "stream": "stderr",
       "text": [
        "\n",
        "../../../../lib/liblinear-weights/train -s {model_type} -c 0.372 -e 1e-08 -B 1 -W  ../data/train_ais.txt ../data/train_svm.txt ../data/20140629T0700_20140713T0600_cut_100_C_0.372.model"
       ]
      },
      {
       "output_type": "stream",
       "stream": "stderr",
       "text": [
        "\n",
        "../../../../lib/liblinear-weights/predict -b 1 ../data/test_svm.txt ../data/20140629T0700_20140713T0600_cut_100_C_0.372.model ../data/preds_SummModel_py.txt"
       ]
      },
      {
       "output_type": "stream",
       "stream": "stderr",
       "text": [
        "\n",
        "../../../../lib/liblinear-weights/train -s {model_type} -c 3.72 -e 1e-08 -B 1 -W  ../data/train_ais.txt ../data/train_svm.txt ../data/20140629T0700_20140713T0600_cut_100_C_3.72.model"
       ]
      },
      {
       "output_type": "stream",
       "stream": "stderr",
       "text": [
        "\n",
        "../../../../lib/liblinear-weights/predict -b 1 ../data/test_svm.txt ../data/20140629T0700_20140713T0600_cut_100_C_3.72.model ../data/preds_SummModel_py.txt"
       ]
      },
      {
       "output_type": "stream",
       "stream": "stderr",
       "text": [
        "\n",
        "../../../../lib/liblinear-weights/train -s {model_type} -c 0.0372 -e 1e-08 -B 1 -W  ../data/train_ais.txt ../data/train_svm.txt ../data/20140629T0700_20140713T0600_cut_1000_C_0.0372.model"
       ]
      },
      {
       "output_type": "stream",
       "stream": "stderr",
       "text": [
        "\n",
        "../../../../lib/liblinear-weights/predict -b 1 ../data/test_svm.txt ../data/20140629T0700_20140713T0600_cut_1000_C_0.0372.model ../data/preds_SummModel_py.txt"
       ]
      },
      {
       "output_type": "stream",
       "stream": "stderr",
       "text": [
        "\n",
        "../../../../lib/liblinear-weights/train -s {model_type} -c 0.372 -e 1e-08 -B 1 -W  ../data/train_ais.txt ../data/train_svm.txt ../data/20140629T0700_20140713T0600_cut_1000_C_0.372.model\n",
        "../../../../lib/liblinear-weights/predict -b 1 ../data/test_svm.txt ../data/20140629T0700_20140713T0600_cut_1000_C_0.372.model ../data/preds_SummModel_py.txt"
       ]
      },
      {
       "output_type": "stream",
       "stream": "stderr",
       "text": [
        "\n",
        "../../../../lib/liblinear-weights/train -s {model_type} -c 3.72 -e 1e-08 -B 1 -W  ../data/train_ais.txt ../data/train_svm.txt ../data/20140629T0700_20140713T0600_cut_1000_C_3.72.model\n",
        "../../../../lib/liblinear-weights/predict -b 1 ../data/test_svm.txt ../data/20140629T0700_20140713T0600_cut_1000_C_3.72.model ../data/preds_SummModel_py.txt"
       ]
      },
      {
       "output_type": "stream",
       "stream": "stderr",
       "text": [
        "\n",
        "../../../../lib/liblinear-weights/train -s {model_type} -c 0.0372 -e 1e-08 -B 1 -W  ../data/train_ais.txt ../data/train_svm.txt ../data/20140629T1300_20140713T1200_cut_0_C_0.0372.model"
       ]
      },
      {
       "output_type": "stream",
       "stream": "stderr",
       "text": [
        "\n",
        "../../../../lib/liblinear-weights/predict -b 1 ../data/test_svm.txt ../data/20140629T1300_20140713T1200_cut_0_C_0.0372.model ../data/preds_SummModel_py.txt"
       ]
      },
      {
       "output_type": "stream",
       "stream": "stderr",
       "text": [
        "\n",
        "../../../../lib/liblinear-weights/train -s {model_type} -c 0.372 -e 1e-08 -B 1 -W  ../data/train_ais.txt ../data/train_svm.txt ../data/20140629T1300_20140713T1200_cut_0_C_0.372.model"
       ]
      },
      {
       "output_type": "stream",
       "stream": "stderr",
       "text": [
        "\n",
        "../../../../lib/liblinear-weights/predict -b 1 ../data/test_svm.txt ../data/20140629T1300_20140713T1200_cut_0_C_0.372.model ../data/preds_SummModel_py.txt"
       ]
      },
      {
       "output_type": "stream",
       "stream": "stderr",
       "text": [
        "\n",
        "../../../../lib/liblinear-weights/train -s {model_type} -c 3.72 -e 1e-08 -B 1 -W  ../data/train_ais.txt ../data/train_svm.txt ../data/20140629T1300_20140713T1200_cut_0_C_3.72.model"
       ]
      },
      {
       "output_type": "stream",
       "stream": "stderr",
       "text": [
        "\n",
        "../../../../lib/liblinear-weights/predict -b 1 ../data/test_svm.txt ../data/20140629T1300_20140713T1200_cut_0_C_3.72.model ../data/preds_SummModel_py.txt"
       ]
      },
      {
       "output_type": "stream",
       "stream": "stderr",
       "text": [
        "\n",
        "../../../../lib/liblinear-weights/train -s {model_type} -c 0.0372 -e 1e-08 -B 1 -W  ../data/train_ais.txt ../data/train_svm.txt ../data/20140629T1300_20140713T1200_cut_100_C_0.0372.model"
       ]
      },
      {
       "output_type": "stream",
       "stream": "stderr",
       "text": [
        "\n",
        "../../../../lib/liblinear-weights/predict -b 1 ../data/test_svm.txt ../data/20140629T1300_20140713T1200_cut_100_C_0.0372.model ../data/preds_SummModel_py.txt"
       ]
      },
      {
       "output_type": "stream",
       "stream": "stderr",
       "text": [
        "\n",
        "../../../../lib/liblinear-weights/train -s {model_type} -c 0.372 -e 1e-08 -B 1 -W  ../data/train_ais.txt ../data/train_svm.txt ../data/20140629T1300_20140713T1200_cut_100_C_0.372.model"
       ]
      },
      {
       "output_type": "stream",
       "stream": "stderr",
       "text": [
        "\n",
        "../../../../lib/liblinear-weights/predict -b 1 ../data/test_svm.txt ../data/20140629T1300_20140713T1200_cut_100_C_0.372.model ../data/preds_SummModel_py.txt"
       ]
      },
      {
       "output_type": "stream",
       "stream": "stderr",
       "text": [
        "\n",
        "../../../../lib/liblinear-weights/train -s {model_type} -c 3.72 -e 1e-08 -B 1 -W  ../data/train_ais.txt ../data/train_svm.txt ../data/20140629T1300_20140713T1200_cut_100_C_3.72.model"
       ]
      },
      {
       "output_type": "stream",
       "stream": "stderr",
       "text": [
        "\n",
        "../../../../lib/liblinear-weights/predict -b 1 ../data/test_svm.txt ../data/20140629T1300_20140713T1200_cut_100_C_3.72.model ../data/preds_SummModel_py.txt"
       ]
      },
      {
       "output_type": "stream",
       "stream": "stderr",
       "text": [
        "\n",
        "../../../../lib/liblinear-weights/train -s {model_type} -c 0.0372 -e 1e-08 -B 1 -W  ../data/train_ais.txt ../data/train_svm.txt ../data/20140629T1300_20140713T1200_cut_1000_C_0.0372.model"
       ]
      },
      {
       "output_type": "stream",
       "stream": "stderr",
       "text": [
        "\n",
        "../../../../lib/liblinear-weights/predict -b 1 ../data/test_svm.txt ../data/20140629T1300_20140713T1200_cut_1000_C_0.0372.model ../data/preds_SummModel_py.txt"
       ]
      },
      {
       "output_type": "stream",
       "stream": "stderr",
       "text": [
        "\n",
        "../../../../lib/liblinear-weights/train -s {model_type} -c 0.372 -e 1e-08 -B 1 -W  ../data/train_ais.txt ../data/train_svm.txt ../data/20140629T1300_20140713T1200_cut_1000_C_0.372.model\n",
        "../../../../lib/liblinear-weights/predict -b 1 ../data/test_svm.txt ../data/20140629T1300_20140713T1200_cut_1000_C_0.372.model ../data/preds_SummModel_py.txt"
       ]
      },
      {
       "output_type": "stream",
       "stream": "stderr",
       "text": [
        "\n",
        "../../../../lib/liblinear-weights/train -s {model_type} -c 3.72 -e 1e-08 -B 1 -W  ../data/train_ais.txt ../data/train_svm.txt ../data/20140629T1300_20140713T1200_cut_1000_C_3.72.model\n",
        "../../../../lib/liblinear-weights/predict -b 1 ../data/test_svm.txt ../data/20140629T1300_20140713T1200_cut_1000_C_3.72.model ../data/preds_SummModel_py.txt"
       ]
      },
      {
       "output_type": "stream",
       "stream": "stderr",
       "text": [
        "\n",
        "../../../../lib/liblinear-weights/train -s {model_type} -c 0.0372 -e 1e-08 -B 1 -W  ../data/train_ais.txt ../data/train_svm.txt ../data/20140629T1900_20140713T1800_cut_0_C_0.0372.model"
       ]
      },
      {
       "output_type": "stream",
       "stream": "stderr",
       "text": [
        "\n",
        "../../../../lib/liblinear-weights/predict -b 1 ../data/test_svm.txt ../data/20140629T1900_20140713T1800_cut_0_C_0.0372.model ../data/preds_SummModel_py.txt"
       ]
      },
      {
       "output_type": "stream",
       "stream": "stderr",
       "text": [
        "\n",
        "../../../../lib/liblinear-weights/train -s {model_type} -c 0.372 -e 1e-08 -B 1 -W  ../data/train_ais.txt ../data/train_svm.txt ../data/20140629T1900_20140713T1800_cut_0_C_0.372.model"
       ]
      },
      {
       "output_type": "stream",
       "stream": "stderr",
       "text": [
        "\n",
        "../../../../lib/liblinear-weights/predict -b 1 ../data/test_svm.txt ../data/20140629T1900_20140713T1800_cut_0_C_0.372.model ../data/preds_SummModel_py.txt"
       ]
      },
      {
       "output_type": "stream",
       "stream": "stderr",
       "text": [
        "\n",
        "../../../../lib/liblinear-weights/train -s {model_type} -c 3.72 -e 1e-08 -B 1 -W  ../data/train_ais.txt ../data/train_svm.txt ../data/20140629T1900_20140713T1800_cut_0_C_3.72.model"
       ]
      },
      {
       "output_type": "stream",
       "stream": "stderr",
       "text": [
        "\n",
        "../../../../lib/liblinear-weights/predict -b 1 ../data/test_svm.txt ../data/20140629T1900_20140713T1800_cut_0_C_3.72.model ../data/preds_SummModel_py.txt"
       ]
      },
      {
       "output_type": "stream",
       "stream": "stderr",
       "text": [
        "\n",
        "../../../../lib/liblinear-weights/train -s {model_type} -c 0.0372 -e 1e-08 -B 1 -W  ../data/train_ais.txt ../data/train_svm.txt ../data/20140629T1900_20140713T1800_cut_100_C_0.0372.model"
       ]
      },
      {
       "output_type": "stream",
       "stream": "stderr",
       "text": [
        "\n",
        "../../../../lib/liblinear-weights/predict -b 1 ../data/test_svm.txt ../data/20140629T1900_20140713T1800_cut_100_C_0.0372.model ../data/preds_SummModel_py.txt"
       ]
      },
      {
       "output_type": "stream",
       "stream": "stderr",
       "text": [
        "\n",
        "../../../../lib/liblinear-weights/train -s {model_type} -c 0.372 -e 1e-08 -B 1 -W  ../data/train_ais.txt ../data/train_svm.txt ../data/20140629T1900_20140713T1800_cut_100_C_0.372.model\n",
        "../../../../lib/liblinear-weights/predict -b 1 ../data/test_svm.txt ../data/20140629T1900_20140713T1800_cut_100_C_0.372.model ../data/preds_SummModel_py.txt"
       ]
      },
      {
       "output_type": "stream",
       "stream": "stderr",
       "text": [
        "\n",
        "../../../../lib/liblinear-weights/train -s {model_type} -c 3.72 -e 1e-08 -B 1 -W  ../data/train_ais.txt ../data/train_svm.txt ../data/20140629T1900_20140713T1800_cut_100_C_3.72.model\n",
        "../../../../lib/liblinear-weights/predict -b 1 ../data/test_svm.txt ../data/20140629T1900_20140713T1800_cut_100_C_3.72.model ../data/preds_SummModel_py.txt"
       ]
      },
      {
       "output_type": "stream",
       "stream": "stderr",
       "text": [
        "\n",
        "../../../../lib/liblinear-weights/train -s {model_type} -c 0.0372 -e 1e-08 -B 1 -W  ../data/train_ais.txt ../data/train_svm.txt ../data/20140629T1900_20140713T1800_cut_1000_C_0.0372.model"
       ]
      },
      {
       "output_type": "stream",
       "stream": "stderr",
       "text": [
        "\n",
        "../../../../lib/liblinear-weights/predict -b 1 ../data/test_svm.txt ../data/20140629T1900_20140713T1800_cut_1000_C_0.0372.model ../data/preds_SummModel_py.txt"
       ]
      },
      {
       "output_type": "stream",
       "stream": "stderr",
       "text": [
        "\n",
        "../../../../lib/liblinear-weights/train -s {model_type} -c 0.372 -e 1e-08 -B 1 -W  ../data/train_ais.txt ../data/train_svm.txt ../data/20140629T1900_20140713T1800_cut_1000_C_0.372.model\n",
        "../../../../lib/liblinear-weights/predict -b 1 ../data/test_svm.txt ../data/20140629T1900_20140713T1800_cut_1000_C_0.372.model ../data/preds_SummModel_py.txt"
       ]
      },
      {
       "output_type": "stream",
       "stream": "stderr",
       "text": [
        "\n",
        "../../../../lib/liblinear-weights/train -s {model_type} -c 3.72 -e 1e-08 -B 1 -W  ../data/train_ais.txt ../data/train_svm.txt ../data/20140629T1900_20140713T1800_cut_1000_C_3.72.model\n",
        "../../../../lib/liblinear-weights/predict -b 1 ../data/test_svm.txt ../data/20140629T1900_20140713T1800_cut_1000_C_3.72.model ../data/preds_SummModel_py.txt"
       ]
      },
      {
       "output_type": "stream",
       "stream": "stderr",
       "text": [
        "\n",
        "../../../../lib/liblinear-weights/train -s {model_type} -c 0.0372 -e 1e-08 -B 1 -W  ../data/train_ais.txt ../data/train_svm.txt ../data/20140701T0100_20140715T0000_cut_0_C_0.0372.model"
       ]
      },
      {
       "output_type": "stream",
       "stream": "stderr",
       "text": [
        "\n",
        "../../../../lib/liblinear-weights/predict -b 1 ../data/test_svm.txt ../data/20140701T0100_20140715T0000_cut_0_C_0.0372.model ../data/preds_SummModel_py.txt"
       ]
      },
      {
       "output_type": "stream",
       "stream": "stderr",
       "text": [
        "\n",
        "../../../../lib/liblinear-weights/train -s {model_type} -c 0.372 -e 1e-08 -B 1 -W  ../data/train_ais.txt ../data/train_svm.txt ../data/20140701T0100_20140715T0000_cut_0_C_0.372.model"
       ]
      },
      {
       "output_type": "stream",
       "stream": "stderr",
       "text": [
        "\n",
        "../../../../lib/liblinear-weights/predict -b 1 ../data/test_svm.txt ../data/20140701T0100_20140715T0000_cut_0_C_0.372.model ../data/preds_SummModel_py.txt"
       ]
      },
      {
       "output_type": "stream",
       "stream": "stderr",
       "text": [
        "\n",
        "../../../../lib/liblinear-weights/train -s {model_type} -c 3.72 -e 1e-08 -B 1 -W  ../data/train_ais.txt ../data/train_svm.txt ../data/20140701T0100_20140715T0000_cut_0_C_3.72.model"
       ]
      },
      {
       "output_type": "stream",
       "stream": "stderr",
       "text": [
        "\n",
        "../../../../lib/liblinear-weights/predict -b 1 ../data/test_svm.txt ../data/20140701T0100_20140715T0000_cut_0_C_3.72.model ../data/preds_SummModel_py.txt"
       ]
      },
      {
       "output_type": "stream",
       "stream": "stderr",
       "text": [
        "\n",
        "../../../../lib/liblinear-weights/train -s {model_type} -c 0.0372 -e 1e-08 -B 1 -W  ../data/train_ais.txt ../data/train_svm.txt ../data/20140701T0100_20140715T0000_cut_100_C_0.0372.model"
       ]
      },
      {
       "output_type": "stream",
       "stream": "stderr",
       "text": [
        "\n",
        "../../../../lib/liblinear-weights/predict -b 1 ../data/test_svm.txt ../data/20140701T0100_20140715T0000_cut_100_C_0.0372.model ../data/preds_SummModel_py.txt"
       ]
      },
      {
       "output_type": "stream",
       "stream": "stderr",
       "text": [
        "\n",
        "../../../../lib/liblinear-weights/train -s {model_type} -c 0.372 -e 1e-08 -B 1 -W  ../data/train_ais.txt ../data/train_svm.txt ../data/20140701T0100_20140715T0000_cut_100_C_0.372.model"
       ]
      },
      {
       "output_type": "stream",
       "stream": "stderr",
       "text": [
        "\n",
        "../../../../lib/liblinear-weights/predict -b 1 ../data/test_svm.txt ../data/20140701T0100_20140715T0000_cut_100_C_0.372.model ../data/preds_SummModel_py.txt"
       ]
      },
      {
       "output_type": "stream",
       "stream": "stderr",
       "text": [
        "\n",
        "../../../../lib/liblinear-weights/train -s {model_type} -c 3.72 -e 1e-08 -B 1 -W  ../data/train_ais.txt ../data/train_svm.txt ../data/20140701T0100_20140715T0000_cut_100_C_3.72.model"
       ]
      },
      {
       "output_type": "stream",
       "stream": "stderr",
       "text": [
        "\n",
        "../../../../lib/liblinear-weights/predict -b 1 ../data/test_svm.txt ../data/20140701T0100_20140715T0000_cut_100_C_3.72.model ../data/preds_SummModel_py.txt"
       ]
      },
      {
       "output_type": "stream",
       "stream": "stderr",
       "text": [
        "\n",
        "../../../../lib/liblinear-weights/train -s {model_type} -c 0.0372 -e 1e-08 -B 1 -W  ../data/train_ais.txt ../data/train_svm.txt ../data/20140701T0100_20140715T0000_cut_1000_C_0.0372.model"
       ]
      },
      {
       "output_type": "stream",
       "stream": "stderr",
       "text": [
        "\n",
        "../../../../lib/liblinear-weights/predict -b 1 ../data/test_svm.txt ../data/20140701T0100_20140715T0000_cut_1000_C_0.0372.model ../data/preds_SummModel_py.txt"
       ]
      },
      {
       "output_type": "stream",
       "stream": "stderr",
       "text": [
        "\n",
        "../../../../lib/liblinear-weights/train -s {model_type} -c 0.372 -e 1e-08 -B 1 -W  ../data/train_ais.txt ../data/train_svm.txt ../data/20140701T0100_20140715T0000_cut_1000_C_0.372.model\n",
        "../../../../lib/liblinear-weights/predict -b 1 ../data/test_svm.txt ../data/20140701T0100_20140715T0000_cut_1000_C_0.372.model ../data/preds_SummModel_py.txt"
       ]
      },
      {
       "output_type": "stream",
       "stream": "stderr",
       "text": [
        "\n",
        "../../../../lib/liblinear-weights/train -s {model_type} -c 3.72 -e 1e-08 -B 1 -W  ../data/train_ais.txt ../data/train_svm.txt ../data/20140701T0100_20140715T0000_cut_1000_C_3.72.model\n",
        "../../../../lib/liblinear-weights/predict -b 1 ../data/test_svm.txt ../data/20140701T0100_20140715T0000_cut_1000_C_3.72.model ../data/preds_SummModel_py.txt"
       ]
      },
      {
       "output_type": "stream",
       "stream": "stderr",
       "text": [
        "\n",
        "../../../../lib/liblinear-weights/train -s {model_type} -c 0.0372 -e 1e-08 -B 1 -W  ../data/train_ais.txt ../data/train_svm.txt ../data/20140701T0700_20140715T0600_cut_0_C_0.0372.model"
       ]
      },
      {
       "output_type": "stream",
       "stream": "stderr",
       "text": [
        "\n",
        "../../../../lib/liblinear-weights/predict -b 1 ../data/test_svm.txt ../data/20140701T0700_20140715T0600_cut_0_C_0.0372.model ../data/preds_SummModel_py.txt"
       ]
      },
      {
       "output_type": "stream",
       "stream": "stderr",
       "text": [
        "\n",
        "../../../../lib/liblinear-weights/train -s {model_type} -c 0.372 -e 1e-08 -B 1 -W  ../data/train_ais.txt ../data/train_svm.txt ../data/20140701T0700_20140715T0600_cut_0_C_0.372.model"
       ]
      },
      {
       "output_type": "stream",
       "stream": "stderr",
       "text": [
        "\n",
        "../../../../lib/liblinear-weights/predict -b 1 ../data/test_svm.txt ../data/20140701T0700_20140715T0600_cut_0_C_0.372.model ../data/preds_SummModel_py.txt"
       ]
      },
      {
       "output_type": "stream",
       "stream": "stderr",
       "text": [
        "\n",
        "../../../../lib/liblinear-weights/train -s {model_type} -c 3.72 -e 1e-08 -B 1 -W  ../data/train_ais.txt ../data/train_svm.txt ../data/20140701T0700_20140715T0600_cut_0_C_3.72.model"
       ]
      },
      {
       "output_type": "stream",
       "stream": "stderr",
       "text": [
        "\n",
        "../../../../lib/liblinear-weights/predict -b 1 ../data/test_svm.txt ../data/20140701T0700_20140715T0600_cut_0_C_3.72.model ../data/preds_SummModel_py.txt"
       ]
      },
      {
       "output_type": "stream",
       "stream": "stderr",
       "text": [
        "\n",
        "../../../../lib/liblinear-weights/train -s {model_type} -c 0.0372 -e 1e-08 -B 1 -W  ../data/train_ais.txt ../data/train_svm.txt ../data/20140701T0700_20140715T0600_cut_100_C_0.0372.model"
       ]
      },
      {
       "output_type": "stream",
       "stream": "stderr",
       "text": [
        "\n",
        "../../../../lib/liblinear-weights/predict -b 1 ../data/test_svm.txt ../data/20140701T0700_20140715T0600_cut_100_C_0.0372.model ../data/preds_SummModel_py.txt"
       ]
      },
      {
       "output_type": "stream",
       "stream": "stderr",
       "text": [
        "\n",
        "../../../../lib/liblinear-weights/train -s {model_type} -c 0.372 -e 1e-08 -B 1 -W  ../data/train_ais.txt ../data/train_svm.txt ../data/20140701T0700_20140715T0600_cut_100_C_0.372.model"
       ]
      },
      {
       "output_type": "stream",
       "stream": "stderr",
       "text": [
        "\n",
        "../../../../lib/liblinear-weights/predict -b 1 ../data/test_svm.txt ../data/20140701T0700_20140715T0600_cut_100_C_0.372.model ../data/preds_SummModel_py.txt"
       ]
      },
      {
       "output_type": "stream",
       "stream": "stderr",
       "text": [
        "\n",
        "../../../../lib/liblinear-weights/train -s {model_type} -c 3.72 -e 1e-08 -B 1 -W  ../data/train_ais.txt ../data/train_svm.txt ../data/20140701T0700_20140715T0600_cut_100_C_3.72.model"
       ]
      },
      {
       "output_type": "stream",
       "stream": "stderr",
       "text": [
        "\n",
        "../../../../lib/liblinear-weights/predict -b 1 ../data/test_svm.txt ../data/20140701T0700_20140715T0600_cut_100_C_3.72.model ../data/preds_SummModel_py.txt"
       ]
      },
      {
       "output_type": "stream",
       "stream": "stderr",
       "text": [
        "\n",
        "../../../../lib/liblinear-weights/train -s {model_type} -c 0.0372 -e 1e-08 -B 1 -W  ../data/train_ais.txt ../data/train_svm.txt ../data/20140701T0700_20140715T0600_cut_1000_C_0.0372.model"
       ]
      },
      {
       "output_type": "stream",
       "stream": "stderr",
       "text": [
        "\n",
        "../../../../lib/liblinear-weights/predict -b 1 ../data/test_svm.txt ../data/20140701T0700_20140715T0600_cut_1000_C_0.0372.model ../data/preds_SummModel_py.txt"
       ]
      },
      {
       "output_type": "stream",
       "stream": "stderr",
       "text": [
        "\n",
        "../../../../lib/liblinear-weights/train -s {model_type} -c 0.372 -e 1e-08 -B 1 -W  ../data/train_ais.txt ../data/train_svm.txt ../data/20140701T0700_20140715T0600_cut_1000_C_0.372.model\n",
        "../../../../lib/liblinear-weights/predict -b 1 ../data/test_svm.txt ../data/20140701T0700_20140715T0600_cut_1000_C_0.372.model ../data/preds_SummModel_py.txt"
       ]
      },
      {
       "output_type": "stream",
       "stream": "stderr",
       "text": [
        "\n",
        "../../../../lib/liblinear-weights/train -s {model_type} -c 3.72 -e 1e-08 -B 1 -W  ../data/train_ais.txt ../data/train_svm.txt ../data/20140701T0700_20140715T0600_cut_1000_C_3.72.model\n",
        "../../../../lib/liblinear-weights/predict -b 1 ../data/test_svm.txt ../data/20140701T0700_20140715T0600_cut_1000_C_3.72.model ../data/preds_SummModel_py.txt"
       ]
      },
      {
       "output_type": "stream",
       "stream": "stderr",
       "text": [
        "\n",
        "../../../../lib/liblinear-weights/train -s {model_type} -c 0.0372 -e 1e-08 -B 1 -W  ../data/train_ais.txt ../data/train_svm.txt ../data/20140701T1300_20140715T1200_cut_0_C_0.0372.model"
       ]
      },
      {
       "output_type": "stream",
       "stream": "stderr",
       "text": [
        "\n",
        "../../../../lib/liblinear-weights/predict -b 1 ../data/test_svm.txt ../data/20140701T1300_20140715T1200_cut_0_C_0.0372.model ../data/preds_SummModel_py.txt"
       ]
      },
      {
       "output_type": "stream",
       "stream": "stderr",
       "text": [
        "\n",
        "../../../../lib/liblinear-weights/train -s {model_type} -c 0.372 -e 1e-08 -B 1 -W  ../data/train_ais.txt ../data/train_svm.txt ../data/20140701T1300_20140715T1200_cut_0_C_0.372.model"
       ]
      },
      {
       "output_type": "stream",
       "stream": "stderr",
       "text": [
        "\n",
        "../../../../lib/liblinear-weights/predict -b 1 ../data/test_svm.txt ../data/20140701T1300_20140715T1200_cut_0_C_0.372.model ../data/preds_SummModel_py.txt"
       ]
      },
      {
       "output_type": "stream",
       "stream": "stderr",
       "text": [
        "\n",
        "../../../../lib/liblinear-weights/train -s {model_type} -c 3.72 -e 1e-08 -B 1 -W  ../data/train_ais.txt ../data/train_svm.txt ../data/20140701T1300_20140715T1200_cut_0_C_3.72.model"
       ]
      },
      {
       "output_type": "stream",
       "stream": "stderr",
       "text": [
        "\n",
        "../../../../lib/liblinear-weights/predict -b 1 ../data/test_svm.txt ../data/20140701T1300_20140715T1200_cut_0_C_3.72.model ../data/preds_SummModel_py.txt"
       ]
      },
      {
       "output_type": "stream",
       "stream": "stderr",
       "text": [
        "\n",
        "../../../../lib/liblinear-weights/train -s {model_type} -c 0.0372 -e 1e-08 -B 1 -W  ../data/train_ais.txt ../data/train_svm.txt ../data/20140701T1300_20140715T1200_cut_100_C_0.0372.model"
       ]
      },
      {
       "output_type": "stream",
       "stream": "stderr",
       "text": [
        "\n",
        "../../../../lib/liblinear-weights/predict -b 1 ../data/test_svm.txt ../data/20140701T1300_20140715T1200_cut_100_C_0.0372.model ../data/preds_SummModel_py.txt"
       ]
      },
      {
       "output_type": "stream",
       "stream": "stderr",
       "text": [
        "\n",
        "../../../../lib/liblinear-weights/train -s {model_type} -c 0.372 -e 1e-08 -B 1 -W  ../data/train_ais.txt ../data/train_svm.txt ../data/20140701T1300_20140715T1200_cut_100_C_0.372.model\n",
        "../../../../lib/liblinear-weights/predict -b 1 ../data/test_svm.txt ../data/20140701T1300_20140715T1200_cut_100_C_0.372.model ../data/preds_SummModel_py.txt"
       ]
      },
      {
       "output_type": "stream",
       "stream": "stderr",
       "text": [
        "\n",
        "../../../../lib/liblinear-weights/train -s {model_type} -c 3.72 -e 1e-08 -B 1 -W  ../data/train_ais.txt ../data/train_svm.txt ../data/20140701T1300_20140715T1200_cut_100_C_3.72.model\n",
        "../../../../lib/liblinear-weights/predict -b 1 ../data/test_svm.txt ../data/20140701T1300_20140715T1200_cut_100_C_3.72.model ../data/preds_SummModel_py.txt"
       ]
      },
      {
       "output_type": "stream",
       "stream": "stderr",
       "text": [
        "\n",
        "../../../../lib/liblinear-weights/train -s {model_type} -c 0.0372 -e 1e-08 -B 1 -W  ../data/train_ais.txt ../data/train_svm.txt ../data/20140701T1300_20140715T1200_cut_1000_C_0.0372.model"
       ]
      },
      {
       "output_type": "stream",
       "stream": "stderr",
       "text": [
        "\n",
        "../../../../lib/liblinear-weights/predict -b 1 ../data/test_svm.txt ../data/20140701T1300_20140715T1200_cut_1000_C_0.0372.model ../data/preds_SummModel_py.txt"
       ]
      },
      {
       "output_type": "stream",
       "stream": "stderr",
       "text": [
        "\n",
        "../../../../lib/liblinear-weights/train -s {model_type} -c 0.372 -e 1e-08 -B 1 -W  ../data/train_ais.txt ../data/train_svm.txt ../data/20140701T1300_20140715T1200_cut_1000_C_0.372.model\n",
        "../../../../lib/liblinear-weights/predict -b 1 ../data/test_svm.txt ../data/20140701T1300_20140715T1200_cut_1000_C_0.372.model ../data/preds_SummModel_py.txt"
       ]
      },
      {
       "output_type": "stream",
       "stream": "stderr",
       "text": [
        "\n",
        "../../../../lib/liblinear-weights/train -s {model_type} -c 3.72 -e 1e-08 -B 1 -W  ../data/train_ais.txt ../data/train_svm.txt ../data/20140701T1300_20140715T1200_cut_1000_C_3.72.model\n",
        "../../../../lib/liblinear-weights/predict -b 1 ../data/test_svm.txt ../data/20140701T1300_20140715T1200_cut_1000_C_3.72.model ../data/preds_SummModel_py.txt"
       ]
      },
      {
       "output_type": "stream",
       "stream": "stderr",
       "text": [
        "\n",
        "../../../../lib/liblinear-weights/train -s {model_type} -c 0.0372 -e 1e-08 -B 1 -W  ../data/train_ais.txt ../data/train_svm.txt ../data/20140701T1900_20140715T1800_cut_0_C_0.0372.model"
       ]
      },
      {
       "output_type": "stream",
       "stream": "stderr",
       "text": [
        "\n",
        "../../../../lib/liblinear-weights/predict -b 1 ../data/test_svm.txt ../data/20140701T1900_20140715T1800_cut_0_C_0.0372.model ../data/preds_SummModel_py.txt"
       ]
      },
      {
       "output_type": "stream",
       "stream": "stderr",
       "text": [
        "\n",
        "../../../../lib/liblinear-weights/train -s {model_type} -c 0.372 -e 1e-08 -B 1 -W  ../data/train_ais.txt ../data/train_svm.txt ../data/20140701T1900_20140715T1800_cut_0_C_0.372.model"
       ]
      },
      {
       "output_type": "stream",
       "stream": "stderr",
       "text": [
        "\n",
        "../../../../lib/liblinear-weights/predict -b 1 ../data/test_svm.txt ../data/20140701T1900_20140715T1800_cut_0_C_0.372.model ../data/preds_SummModel_py.txt"
       ]
      },
      {
       "output_type": "stream",
       "stream": "stderr",
       "text": [
        "\n",
        "../../../../lib/liblinear-weights/train -s {model_type} -c 3.72 -e 1e-08 -B 1 -W  ../data/train_ais.txt ../data/train_svm.txt ../data/20140701T1900_20140715T1800_cut_0_C_3.72.model"
       ]
      },
      {
       "output_type": "stream",
       "stream": "stderr",
       "text": [
        "\n",
        "../../../../lib/liblinear-weights/predict -b 1 ../data/test_svm.txt ../data/20140701T1900_20140715T1800_cut_0_C_3.72.model ../data/preds_SummModel_py.txt"
       ]
      },
      {
       "output_type": "stream",
       "stream": "stderr",
       "text": [
        "\n",
        "../../../../lib/liblinear-weights/train -s {model_type} -c 0.0372 -e 1e-08 -B 1 -W  ../data/train_ais.txt ../data/train_svm.txt ../data/20140701T1900_20140715T1800_cut_100_C_0.0372.model"
       ]
      },
      {
       "output_type": "stream",
       "stream": "stderr",
       "text": [
        "\n",
        "../../../../lib/liblinear-weights/predict -b 1 ../data/test_svm.txt ../data/20140701T1900_20140715T1800_cut_100_C_0.0372.model ../data/preds_SummModel_py.txt"
       ]
      },
      {
       "output_type": "stream",
       "stream": "stderr",
       "text": [
        "\n",
        "../../../../lib/liblinear-weights/train -s {model_type} -c 0.372 -e 1e-08 -B 1 -W  ../data/train_ais.txt ../data/train_svm.txt ../data/20140701T1900_20140715T1800_cut_100_C_0.372.model\n",
        "../../../../lib/liblinear-weights/predict -b 1 ../data/test_svm.txt ../data/20140701T1900_20140715T1800_cut_100_C_0.372.model ../data/preds_SummModel_py.txt"
       ]
      },
      {
       "output_type": "stream",
       "stream": "stderr",
       "text": [
        "\n",
        "../../../../lib/liblinear-weights/train -s {model_type} -c 3.72 -e 1e-08 -B 1 -W  ../data/train_ais.txt ../data/train_svm.txt ../data/20140701T1900_20140715T1800_cut_100_C_3.72.model\n",
        "../../../../lib/liblinear-weights/predict -b 1 ../data/test_svm.txt ../data/20140701T1900_20140715T1800_cut_100_C_3.72.model ../data/preds_SummModel_py.txt"
       ]
      },
      {
       "output_type": "stream",
       "stream": "stderr",
       "text": [
        "\n",
        "../../../../lib/liblinear-weights/train -s {model_type} -c 0.0372 -e 1e-08 -B 1 -W  ../data/train_ais.txt ../data/train_svm.txt ../data/20140701T1900_20140715T1800_cut_1000_C_0.0372.model"
       ]
      },
      {
       "output_type": "stream",
       "stream": "stderr",
       "text": [
        "\n",
        "../../../../lib/liblinear-weights/predict -b 1 ../data/test_svm.txt ../data/20140701T1900_20140715T1800_cut_1000_C_0.0372.model ../data/preds_SummModel_py.txt"
       ]
      },
      {
       "output_type": "stream",
       "stream": "stderr",
       "text": [
        "\n",
        "../../../../lib/liblinear-weights/train -s {model_type} -c 0.372 -e 1e-08 -B 1 -W  ../data/train_ais.txt ../data/train_svm.txt ../data/20140701T1900_20140715T1800_cut_1000_C_0.372.model\n",
        "../../../../lib/liblinear-weights/predict -b 1 ../data/test_svm.txt ../data/20140701T1900_20140715T1800_cut_1000_C_0.372.model ../data/preds_SummModel_py.txt"
       ]
      },
      {
       "output_type": "stream",
       "stream": "stderr",
       "text": [
        "\n",
        "../../../../lib/liblinear-weights/train -s {model_type} -c 3.72 -e 1e-08 -B 1 -W  ../data/train_ais.txt ../data/train_svm.txt ../data/20140701T1900_20140715T1800_cut_1000_C_3.72.model\n",
        "../../../../lib/liblinear-weights/predict -b 1 ../data/test_svm.txt ../data/20140701T1900_20140715T1800_cut_1000_C_3.72.model ../data/preds_SummModel_py.txt"
       ]
      },
      {
       "output_type": "stream",
       "stream": "stderr",
       "text": [
        "\n"
       ]
      }
     ],
     "prompt_number": 19
    },
    {
     "cell_type": "code",
     "collapsed": false,
     "input": [
      "cProfile.run('results=train_loop(train_per_list,cut_off_list,C_list,factors,non_factors, data_path, executable_path)')"
     ],
     "language": "python",
     "metadata": {},
     "outputs": [
      {
       "output_type": "stream",
       "stream": "stderr",
       "text": [
        "../../../../lib/liblinear-weights/train -s {model_type} -c 0.372 -e 1e-08 -B 1 -W  ../data/train_ais.txt ../data/train_svm.txt ../data/20140623T0100_20140707T0000_cut_0_C_0.372.model\n",
        "../../../../lib/liblinear-weights/predict -b 1 ../data/test_svm.txt ../data/20140623T0100_20140707T0000_cut_0_C_0.372.model ../data/preds_SummModel_py.txt"
       ]
      },
      {
       "output_type": "stream",
       "stream": "stderr",
       "text": [
        "\n"
       ]
      },
      {
       "output_type": "stream",
       "stream": "stdout",
       "text": [
        "> /Users/sean/projects/dse/dse-production/projects/ctr_data_generation/src/libLinear_functions.py(533)train_loop()\n",
        "-> if type(pCTR) is pd.Series:\n"
       ]
      },
      {
       "name": "stdout",
       "output_type": "stream",
       "stream": "stdout",
       "text": [
        "(Pdb) c\n"
       ]
      },
      {
       "output_type": "stream",
       "stream": "stdout",
       "text": [
        "         137390472 function calls (137390288 primitive calls) in 571.290 seconds\n",
        "\n",
        "   Ordered by: standard name\n",
        "\n",
        "   ncalls  tottime  percall  cumtime  percall filename:lineno(function)\n",
        "        1    0.000    0.000  571.290  571.290 <string>:1(<module>)\n",
        "        6    0.000    0.000    0.000    0.000 <string>:8(__new__)\n",
        "        1    0.000    0.000    0.000    0.000 UserDict.py:18(__getitem__)\n",
        "        1    0.000    0.000    0.000    0.000 UserDict.py:70(__contains__)\n",
        "        9    0.000    0.000    0.000    0.000 __init__.py:121(iteritems)\n",
        "   611340    0.474    0.000    0.761    0.000 __init__.py:140(itervalues)\n",
        "        4    0.000    0.000    0.000    0.000 __init__.py:265(dumps)\n",
        "        2    0.000    0.000    0.000    0.000 _iotools.py:29(_is_string_like)\n",
        "        6    0.000    0.000    0.014    0.002 _methods.py:15(_amax)\n",
        "        4    0.000    0.000    0.008    0.002 _methods.py:19(_amin)\n",
        "  1222681    1.190    0.000    9.011    0.000 _methods.py:23(_sum)\n",
        "   203811    0.245    0.000    2.634    0.000 _methods.py:27(_prod)\n",
        "      185    0.000    0.000    0.005    0.000 _methods.py:31(_any)\n",
        "   203802    0.189    0.000    1.310    0.000 _methods.py:35(_all)\n",
        "        8    0.000    0.000    0.000    0.000 _strptime.py:27(_getlang)\n",
        "        8    0.000    0.000    0.000    0.000 _strptime.py:295(_strptime)\n",
        "       12    0.000    0.000    0.000    0.000 algorithms.py:381(_get_data_algo)\n",
        "       12    0.023    0.002    0.255    0.021 algorithms.py:96(factorize)\n",
        "        1    0.000    0.000    0.000    0.000 attrsettr.py:35(__getattr__)\n",
        "      176    0.000    0.000    0.000    0.000 base.py:123(__getitem__)\n",
        "       20    0.000    0.000    0.000    0.000 base.py:187(_shallow_copy)\n",
        "        2    0.000    0.000    0.000    0.000 base.py:63(__init__)\n",
        "        2    0.000    0.000    0.000    0.000 base.py:71(set_shape)\n",
        "        2    0.000    0.000    0.000    0.000 base.py:861(isspmatrix)\n",
        "       21    0.000    0.000    0.000    0.000 base.py:90(_reset_cache)\n",
        "        7    0.000    0.000    0.000    0.000 base.py:93(get_shape)\n",
        "        2    0.000    0.000    0.000    0.000 bdb.py:176(_set_stopinfo)\n",
        "        1    0.000    0.000    0.000    0.000 bdb.py:192(set_step)\n",
        "        1    0.000    0.000    0.001    0.001 bdb.py:212(set_trace)\n",
        "        1    0.000    0.000    0.000    0.000 bdb.py:23(__init__)\n",
        "        1    0.000    0.000    0.001    0.001 bdb.py:39(reset)\n",
        "        5    0.000    0.000    0.005    0.001 categorical.py:107(_set_levels)\n",
        "        5    0.000    0.000    0.000    0.000 categorical.py:115(_get_levels)\n",
        "        5    0.000    0.000    0.062    0.012 categorical.py:79(__init__)\n",
        "        5    0.001    0.000    0.062    0.012 categorical.py:92(from_array)\n",
        "        1    0.000    0.000    0.000    0.000 cmd.py:79(__init__)\n",
        "        1    0.000    0.000    0.000    0.000 common.py:1004(_maybe_upcast_putmask)\n",
        "        3    0.000    0.000    0.000    0.000 common.py:102(get_filepath_or_buffer)\n",
        "  1426518    0.557    0.000   20.182    0.000 common.py:111(isnull)\n",
        "   203802    0.056    0.000    0.056    0.000 common.py:1223(_fill_zeros)\n",
        "  1426518    2.301    0.000   19.625    0.000 common.py:132(_isnull_new)\n",
        "   407649    0.514    0.000    0.514    0.000 common.py:1753(_possibly_castable)\n",
        "       35    0.000    0.000    0.000    0.000 common.py:1778(_possibly_cast_to_datetime)\n",
        "       20    0.000    0.000    0.000    0.000 common.py:1862(_possibly_infer_to_datetimelike)\n",
        "       66    0.000    0.000    0.001    0.000 common.py:1933(_is_bool_indexer)\n",
        "        3    0.000    0.000    0.000    0.000 common.py:1956(_default_index)\n",
        "   203779    0.344    0.000    0.637    0.000 common.py:1998(_try_sort)\n",
        "        7    0.000    0.000    0.039    0.006 common.py:2006(_count_not_none)\n",
        "   203787    0.020    0.000    0.020    0.000 common.py:2007(<genexpr>)\n",
        "  1018909    5.796    0.000   11.886    0.000 common.py:202(_isnull_ndarraylike)\n",
        "   203860    1.073    0.000    2.583    0.000 common.py:2165(_asarray_tuplesafe)\n",
        "        2    0.000    0.000    0.000    0.000 common.py:2198(_index_labels_to_array)\n",
        "        1    0.000    0.000    0.000    0.000 common.py:2231(is_iterator)\n",
        "  4687138    2.614    0.000    4.497    0.000 common.py:2248(_get_dtype_type)\n",
        "   611366    0.381    0.000    0.817    0.000 common.py:2261(is_integer_dtype)\n",
        "   611340    0.722    0.000    1.427    0.000 common.py:2267(_is_int_or_datetime_dtype)\n",
        "   815213    0.507    0.000    1.937    0.000 common.py:2273(is_datetime64_dtype)\n",
        "   815172    0.492    0.000    1.803    0.000 common.py:2283(is_timedelta64_dtype)\n",
        "   611340    0.480    0.000    1.585    0.000 common.py:2293(_is_datetime_or_timedelta_dtype)\n",
        "   611368    0.375    0.000    0.762    0.000 common.py:2307(is_float_dtype)\n",
        "   611339    0.366    0.000    0.759    0.000 common.py:2317(is_bool_dtype)\n",
        "       65    0.000    0.000    0.000    0.000 common.py:2345(is_list_like)\n",
        "       10    0.000    0.000    0.000    0.000 common.py:2350(_is_sequence)\n",
        "        2    0.000    0.000    0.000    0.000 common.py:2421(_clean_fill_method)\n",
        "        4    0.000    0.000    0.041    0.010 common.py:2596(_concat_compat)\n",
        "   203791    0.138    0.000    0.201    0.000 common.py:2926(_maybe_match_name)\n",
        "   203810    2.119    0.000   13.541    0.000 common.py:300(array_equivalent)\n",
        "        3    0.000    0.000    0.000    0.000 common.py:49(_is_url)\n",
        "  2649380    1.589    0.000    3.901    0.000 common.py:58(_check)\n",
        "      102    0.000    0.000    0.000    0.000 common.py:589(_get_take_nd_function)\n",
        "      102    0.009    0.000    0.310    0.003 common.py:620(take_nd)\n",
        "        3    0.000    0.000    0.000    0.000 common.py:67(_is_s3_url)\n",
        "        4    0.000    0.000    0.000    0.000 common.py:884(_infer_dtype_from_scalar)\n",
        "       58    0.000    0.000    0.001    0.000 common.py:942(_maybe_promote)\n",
        "        1    0.000    0.000    0.001    0.001 compilerop.py:137(check_linecache_ipython)\n",
        "        2    0.000    0.000    0.000    0.000 compressed.py:1005(prune)\n",
        "        2    0.000    0.000    0.000    0.000 compressed.py:126(check_format)\n",
        "        2    0.000    0.000    0.038    0.019 compressed.py:24(__init__)\n",
        "        8    0.000    0.000    0.000    0.000 compressed.py:90(getnnz)\n",
        "        2    0.000    0.000    0.000    0.000 compressed.py:980(__set_sorted)\n",
        "        8    0.000    0.000    0.000    0.000 csr.py:192(_swap)\n",
        "        2    0.000    0.000    0.000    0.000 data.py:25(__init__)\n",
        "        4    0.000    0.000    0.000    0.000 encoder.py:119(__init__)\n",
        "        4    0.000    0.000    0.000    0.000 encoder.py:241(encode)\n",
        "        4    0.000    0.000    0.000    0.000 encoder.py:270(iterencode)\n",
        "   203806    0.148    0.000    0.148    0.000 expressions.py:164(_has_bool_dtype)\n",
        "   203802    0.169    0.000    0.317    0.000 expressions.py:174(_bool_arith_check)\n",
        "   203802    0.302    0.000    6.406    0.000 expressions.py:193(evaluate)\n",
        "   203733    0.114    0.000    1.188    0.000 expressions.py:61(_evaluate_standard)\n",
        "   203802    0.766    0.000    4.281    0.000 expressions.py:68(_can_use_numexpr)\n",
        "   203802    0.297    0.000    5.787    0.000 expressions.py:93(_evaluate_numexpr)\n",
        "       10    0.000    0.000    0.001    0.000 frame.py:1584(_ixs)\n",
        "   407653    0.952    0.000   24.060    0.000 frame.py:1655(__getitem__)\n",
        "   407626    0.445    0.000   22.239    0.000 frame.py:1680(_getitem_column)\n",
        "       11    0.000    0.000    0.002    0.000 frame.py:1694(_getitem_slice)\n",
        "       16    0.000    0.000    0.080    0.005 frame.py:1697(_getitem_array)\n",
        "       37    0.000    0.000    0.000    0.000 frame.py:183(_constructor)\n",
        "       47    0.000    0.000    0.035    0.001 frame.py:189(__init__)\n",
        "   407609    1.035    0.000    8.398    0.000 frame.py:1982(_box_item_values)\n",
        "   407609    0.479    0.000    4.888    0.000 frame.py:1989(_box_col_values)\n",
        "       24    0.000    0.000    0.048    0.002 frame.py:1994(__setitem__)\n",
        "       24    0.000    0.000    0.000    0.000 frame.py:2044(_ensure_valid_index)\n",
        "       24    0.000    0.000    0.048    0.002 frame.py:2072(_set_item)\n",
        "       24    0.000    0.000    0.042    0.002 frame.py:2113(_sanitize_column)\n",
        "        2    0.000    0.000    0.040    0.020 frame.py:2235(_reindex_axes)\n",
        "        2    0.000    0.000    0.040    0.020 frame.py:2259(_reindex_columns)\n",
        "        2    0.000    0.000    0.283    0.142 frame.py:2286(reindex)\n",
        "        1    0.000    0.000    0.020    0.020 frame.py:2299(rename)\n",
        "        4    0.000    0.000    0.044    0.011 frame.py:2645(sort)\n",
        "        4    0.000    0.000    0.044    0.011 frame.py:2681(sort_index)\n",
        "        4    0.000    0.000    0.033    0.008 frame.py:281(_init_dict)\n",
        "       20    0.000    0.000    0.000    0.000 frame.py:291(<genexpr>)\n",
        "        4    0.000    0.000    0.001    0.000 frame.py:329(_init_ndarray)\n",
        "        1    0.000    0.000    0.338    0.338 frame.py:3643(append)\n",
        "       12    0.000    0.000    0.000    0.000 frame.py:369(axes)\n",
        "        8    0.000    0.000    0.000    0.000 frame.py:373(shape)\n",
        "        1    0.000    0.000    0.000    0.000 frame.py:4071(_reduce)\n",
        "        1    0.000    0.000    0.000    0.000 frame.py:4074(<lambda>)\n",
        "        1    0.000    0.000    0.000    0.000 frame.py:4204(_get_agg_axis)\n",
        "        5    0.000    0.000    0.030    0.006 frame.py:4613(_arrays_to_mgr)\n",
        "        4    0.000    0.000    0.003    0.001 frame.py:4633(extract_index)\n",
        "        4    0.000    0.000    0.000    0.000 frame.py:4685(_prep_ndarray)\n",
        "        1    0.000    0.000    0.000    0.000 frame.py:4718(_to_arrays)\n",
        "        1    0.000    0.000    0.000    0.000 frame.py:4812(_list_to_arrays)\n",
        "        1    0.000    0.000    0.000    0.000 frame.py:4870(_convert_object_array)\n",
        "        2    0.000    0.000    0.000    0.000 frame.py:4880(convert)\n",
        "        5    0.000    0.000    0.000    0.000 frame.py:4909(_homogenize)\n",
        "        4    0.000    0.000    0.002    0.000 frame.py:539(itertuples)\n",
        "       14    0.000    0.000    0.002    0.000 frame.py:549(<genexpr>)\n",
        "       48    0.000    0.000    0.000    0.000 fromnumeric.py:1281(ravel)\n",
        "        4    0.000    0.000    0.001    0.000 fromnumeric.py:1370(nonzero)\n",
        "        1    0.000    0.000    0.000    0.000 fromnumeric.py:1762(any)\n",
        "        2    0.000    0.000    0.000    0.000 fromnumeric.py:1915(cumsum)\n",
        "   203811    0.882    0.000    3.516    0.000 fromnumeric.py:2249(prod)\n",
        "        2    0.000    0.000    0.009    0.005 fromnumeric.py:347(repeat)\n",
        "        4    0.000    0.000    0.009    0.002 fromnumeric.py:38(_wrapit)\n",
        "       14    0.000    0.000    0.000    0.000 fromnumeric.py:792(argsort)\n",
        "        2    0.000    0.000    0.000    0.000 function_base.py:3112(delete)\n",
        "       48    0.000    0.000    0.001    0.000 function_base.py:3503(append)\n",
        "       38    0.000    0.000    0.000    0.000 function_base.py:40(iterable)\n",
        "        4    0.000    0.000    0.000    0.000 functools.py:17(update_wrapper)\n",
        "        4    0.000    0.000    0.000    0.000 functools.py:39(wraps)\n",
        "        1    0.032    0.032  146.844  146.844 gen_features.py:105(fit_weighted)\n",
        "        1    0.000    0.000    0.000    0.000 gen_features.py:114(set_params)\n",
        "        2   23.982   11.991   28.571   14.285 gen_features.py:117(transform)\n",
        "        2   24.844   12.422   52.082   26.041 gen_features.py:18(csr_write_libsvm)\n",
        "        4    0.002    0.001  146.813   36.703 gen_features.py:55(make_factor_table_weighted)\n",
        "   203778    2.385    0.000  123.343    0.001 gen_features.py:65(calc_CTR)\n",
        "        1    0.000    0.000    0.000    0.000 gen_features.py:85(__init__)\n",
        "       28    0.000    0.000    0.000    0.000 generic.py:1014(_indexer)\n",
        "       17    0.000    0.000    0.000    0.000 generic.py:104(_validate_dtype)\n",
        "   407626    1.376    0.000   21.794    0.000 generic.py:1047(_get_item_cache)\n",
        "   407619    0.474    0.000    0.873    0.000 generic.py:1061(_set_as_cached)\n",
        "        5    0.000    0.000    0.000    0.000 generic.py:1099(_maybe_update_cacher)\n",
        "       30    0.000    0.000    0.000    0.000 generic.py:1122(_clear_item_cache)\n",
        "       11    0.000    0.000    0.002    0.000 generic.py:1128(_slice)\n",
        "       24    0.000    0.000    0.006    0.000 generic.py:1138(_set_item)\n",
        "       12    0.000    0.000    0.000    0.000 generic.py:1142(_set_is_copy)\n",
        "        5    0.000    0.000    0.000    0.000 generic.py:1151(_check_setitem_copy)\n",
        "       38    0.000    0.000    0.000    0.000 generic.py:117(_init_mgr)\n",
        "       20    0.000    0.000    0.298    0.015 generic.py:1217(take)\n",
        "        2    0.000    0.000    0.284    0.142 generic.py:1437(drop)\n",
        "        5    0.000    0.000    0.000    0.000 generic.py:1492(_update_inplace)\n",
        "        2    0.000    0.000    0.283    0.142 generic.py:1594(reindex)\n",
        "        2    0.000    0.000    0.000    0.000 generic.py:1650(_needs_reindex_multi)\n",
        "        2    0.000    0.000    0.040    0.020 generic.py:1709(_reindex_with_indexers)\n",
        "       48    0.000    0.000    0.000    0.000 generic.py:1812(__finalize__)\n",
        "   407652    0.412    0.000    0.418    0.000 generic.py:1829(__getattr__)\n",
        "   815273    0.689    0.000    0.689    0.000 generic.py:1845(__setattr__)\n",
        "       11    0.000    0.000    0.771    0.070 generic.py:1870(_consolidate_inplace)\n",
        "       11    0.000    0.000    0.747    0.068 generic.py:1871(<lambda>)\n",
        "        2    0.000    0.000    0.241    0.121 generic.py:1874(consolidate)\n",
        "        1    0.000    0.000    0.000    0.000 generic.py:1898(_is_mixed_type)\n",
        "        1    0.000    0.000    0.000    0.000 generic.py:1900(<lambda>)\n",
        "       12    0.000    0.000    0.747    0.062 generic.py:1931(_protect_consolidate)\n",
        "        2    0.000    0.000    0.000    0.000 generic.py:1948(as_matrix)\n",
        "        2    0.000    0.000    0.000    0.000 generic.py:1989(values)\n",
        "        4    0.000    0.000    0.001    0.000 generic.py:2025(dtypes)\n",
        "        4    0.000    0.000    0.002    0.000 generic.py:2119(convert_objects)\n",
        "        3    0.000    0.000    0.000    0.000 generic.py:238(_construct_axes_from_arguments)\n",
        "        4    0.000    0.000    0.287    0.072 generic.py:2724(groupby)\n",
        "        1    0.000    0.000    0.000    0.000 generic.py:273(_from_axes)\n",
        "       53    0.000    0.000    0.000    0.000 generic.py:284(_get_axis_number)\n",
        "      114    0.000    0.000    0.000    0.000 generic.py:297(_get_axis_name)\n",
        "      112    0.000    0.000    0.000    0.000 generic.py:310(_get_axis)\n",
        "       38    0.000    0.000    0.000    0.000 generic.py:314(_get_block_manager_axis)\n",
        "        4    0.001    0.000    0.001    0.000 generic.py:3506(abs)\n",
        "       20    0.000    0.000    0.000    0.000 generic.py:358(_info_axis)\n",
        "   611340    0.769    0.000   51.506    0.000 generic.py:3773(stat_func)\n",
        "       44    0.000    0.000    0.000    0.000 generic.py:378(ndim)\n",
        "        1    0.000    0.000    0.020    0.020 generic.py:532(rename)\n",
        "        1    0.000    0.000    0.000    0.000 generic.py:544(_get_rename_function)\n",
        "        7    0.000    0.000    0.000    0.000 generic.py:546(f)\n",
        "        8    0.000    0.000    0.000    0.000 generic.py:639(__hash__)\n",
        "        4    0.000    0.000    0.001    0.000 generic.py:711(__abs__)\n",
        "        4    0.000    0.000    0.000    0.000 generic.py:740(__getstate__)\n",
        "   815297    1.345    0.000    1.345    0.000 generic.py:87(__init__)\n",
        "        2    0.000    0.000    0.000    0.000 genericpath.py:15(exists)\n",
        "       12    0.000    0.000    0.000    0.000 getlimits.py:244(__init__)\n",
        "        4    0.000    0.000    0.000    0.000 getlimits.py:255(min)\n",
        "        8    0.000    0.000    0.000    0.000 getlimits.py:269(max)\n",
        "        4    0.000    0.000    0.287    0.072 groupby.py:1133(groupby)\n",
        "        4    0.000    0.000    0.000    0.000 groupby.py:1168(__init__)\n",
        "        6    0.000    0.000    0.000    0.000 groupby.py:1175(shape)\n",
        "       18    0.000    0.000    0.000    0.000 groupby.py:1177(<genexpr>)\n",
        "        4    0.000    0.000    0.348    0.087 groupby.py:1200(_get_splitter)\n",
        "        4    0.054    0.013    1.504    0.376 groupby.py:1204(_get_group_keys)\n",
        "        4    0.023    0.006  127.523   31.881 groupby.py:1213(apply)\n",
        "        2    0.000    0.000    0.000    0.000 groupby.py:1255(labels)\n",
        "        4    0.000    0.000    0.000    0.000 groupby.py:1259(levels)\n",
        "        4    0.000    0.000    0.000    0.000 groupby.py:1263(names)\n",
        "        4    0.005    0.001    0.348    0.087 groupby.py:1302(group_info)\n",
        "        4    0.004    0.001    0.343    0.086 groupby.py:1311(_get_compressed_labels)\n",
        "        4    0.000    0.000    0.000    0.000 groupby.py:1334(_overflow_possible)\n",
        "        7    0.000    0.000    0.000    0.000 groupby.py:1793(__init__)\n",
        "       14    0.000    0.000    0.000    0.000 groupby.py:1913(ngroups)\n",
        "       14    0.000    0.000    0.225    0.016 groupby.py:1921(labels)\n",
        "       25    0.000    0.000    0.000    0.000 groupby.py:1927(group_index)\n",
        "        7    0.025    0.004    0.225    0.032 groupby.py:1933(_make_labels)\n",
        "        4    0.000    0.000    0.001    0.000 groupby.py:1950(_get_grouper)\n",
        "       11    0.000    0.000    0.000    0.000 groupby.py:2004(<genexpr>)\n",
        "       11    0.000    0.000    0.000    0.000 groupby.py:2005(<genexpr>)\n",
        "       11    0.000    0.000    0.000    0.000 groupby.py:2010(<genexpr>)\n",
        "        7    0.000    0.000    0.000    0.000 groupby.py:2059(_is_label_like)\n",
        "        7    0.000    0.000    0.000    0.000 groupby.py:2063(_convert_grouper)\n",
        "        4    0.280    0.070   17.999    4.500 groupby.py:2620(_wrap_applied_output)\n",
        "   203778    0.058    0.000    0.058    0.000 groupby.py:2718(<genexpr>)\n",
        "        4    0.000    0.000    0.000    0.000 groupby.py:3192(__init__)\n",
        "        4    0.000    0.000    0.078    0.020 groupby.py:3199(slabels)\n",
        "        4    0.000    0.000    0.038    0.009 groupby.py:3204(sort_idx)\n",
        "        4    0.000    0.000    0.223    0.056 groupby.py:3226(_get_sorted_data)\n",
        "        4    0.000    0.000    0.000    0.000 groupby.py:3248(__init__)\n",
        "        4    0.000    0.000  125.648   31.412 groupby.py:3251(fast_apply)\n",
        "        4    0.000    0.000    0.000    0.000 groupby.py:3292(get_splitter)\n",
        "        2    0.045    0.022    0.048    0.024 groupby.py:3307(get_group_index)\n",
        "        4    0.000    0.000    0.000    0.000 groupby.py:3330(_int64_overflow_possible)\n",
        "        4    0.004    0.001    0.016    0.004 groupby.py:3416(_nargsort)\n",
        "        2    0.000    0.000    0.133    0.067 groupby.py:3450(__init__)\n",
        "        2    0.011    0.005    0.129    0.065 groupby.py:3460(_populate_tables)\n",
        "   106013    0.255    0.000    1.317    0.000 groupby.py:3464(get_key)\n",
        "   424024    0.308    0.000    1.061    0.000 groupby.py:3465(<genexpr>)\n",
        "        2    0.003    0.002    0.066    0.033 groupby.py:3488(_compress_group_index)\n",
        "        2    0.004    0.002    0.022    0.011 groupby.py:3508(_reorder_by_uniques)\n",
        "        4    0.000    0.000    0.000    0.000 groupby.py:3546(_intercept_function)\n",
        "        4    0.000    0.000    0.287    0.072 groupby.py:364(__init__)\n",
        "        4    0.000    0.000    0.000    0.000 groupby.py:457(_selected_obj)\n",
        "        4    0.000    0.000    0.000    0.000 groupby.py:479(__getattr__)\n",
        "        4    0.871    0.218  146.406   36.601 groupby.py:587(apply)\n",
        "   203778    0.197    0.000  123.540    0.001 groupby.py:633(f)\n",
        "        4    0.012    0.003  145.534   36.384 groupby.py:639(_python_apply_general)\n",
        "        1    0.000    0.000    0.000    0.000 hmac.py:100(_current)\n",
        "        1    0.000    0.000    0.000    0.000 hmac.py:119(hexdigest)\n",
        "        1    0.000    0.000    0.000    0.000 hmac.py:30(__init__)\n",
        "        4    0.000    0.000    0.000    0.000 hmac.py:83(update)\n",
        "        1    0.000    0.000    0.000    0.000 hmac.py:88(copy)\n",
        "   203864    2.151    0.000    8.764    0.000 index.py:114(__new__)\n",
        "   815261    0.755    0.000    2.599    0.000 index.py:1173(get_loc)\n",
        "        1    0.000    0.000    0.000    0.000 index.py:1183(get_value)\n",
        "       14    0.000    0.000    0.005    0.000 index.py:1244(get_indexer)\n",
        "       14    0.000    0.000    0.000    0.000 index.py:1327(_possibly_promote)\n",
        "       14    0.000    0.000    0.000    0.000 index.py:1359(_get_method)\n",
        "        2    0.000    0.000    0.000    0.000 index.py:1369(reindex)\n",
        "        2    0.000    0.000    0.000    0.000 index.py:1785(delete)\n",
        "       24    0.000    0.000    0.003    0.000 index.py:1795(insert)\n",
        "        2    0.000    0.000    0.001    0.000 index.py:1815(drop)\n",
        "       19    0.000    0.000    0.000    0.000 index.py:1867(__new__)\n",
        "       24    0.000    0.000    0.000    0.000 index.py:1899(inferred_type)\n",
        "   611440    0.140    0.000    0.140    0.000 index.py:1908(is_all_dates)\n",
        "   203825    0.148    0.000    0.388    0.000 index.py:1915(equals)\n",
        "       18    0.000    0.000    0.000    0.000 index.py:193(_simple_new)\n",
        "   407636    0.315    0.000    0.468    0.000 index.py:199(is_)\n",
        "        8    0.000    0.000    0.001    0.000 index.py:2162(__new__)\n",
        "   203937    0.218    0.000    0.218    0.000 index.py:218(_reset_identity)\n",
        "       80    0.000    0.000    0.000    0.000 index.py:2218(_get_levels)\n",
        "       49    0.000    0.000    0.000    0.000 index.py:222(view)\n",
        "        8    0.000    0.000    0.000    0.000 index.py:2221(_set_levels)\n",
        "       28    0.000    0.000    0.000    0.000 index.py:2230(<genexpr>)\n",
        "      162    0.000    0.000    0.000    0.000 index.py:2280(_get_labels)\n",
        "        8    0.000    0.000    0.000    0.000 index.py:2283(_set_labels)\n",
        "       28    0.000    0.000    0.000    0.000 index.py:2288(<genexpr>)\n",
        "        8    0.000    0.000    0.000    0.000 index.py:2370(__array_finalize__)\n",
        "       19    0.000    0.000    0.000    0.000 index.py:241(_coerce_to_ndarray)\n",
        "      126    0.000    0.000    0.001    0.000 index.py:2431(__len__)\n",
        "       16    0.000    0.000    0.000    0.000 index.py:2434(_get_names)\n",
        "       36    0.000    0.000    0.000    0.000 index.py:2435(<genexpr>)\n",
        "        8    0.000    0.000    0.000    0.000 index.py:2437(_set_names)\n",
        "        4    0.000    0.000    0.093    0.023 index.py:2501(values)\n",
        "        4    0.000    0.000    0.000    0.000 index.py:2526(_is_v2)\n",
        "   203929    0.233    0.000    0.545    0.000 index.py:256(__array_finalize__)\n",
        "       20    0.000    0.000    0.000    0.000 index.py:264(_shallow_copy)\n",
        "        4    0.000    0.000    0.000    0.000 index.py:267(copy)\n",
        "       48    0.000    0.000    0.000    0.000 index.py:2731(is_all_dates)\n",
        "        2    0.000    0.000    0.063    0.031 index.py:2762(from_arrays)\n",
        "        2    0.000    0.000    0.068    0.034 index.py:2807(from_tuples)\n",
        "       20    0.000    0.000    0.000    0.000 index.py:2896(nlevels)\n",
        "        4    0.000    0.000    0.003    0.001 index.py:2904(__contains__)\n",
        "        2    0.000    0.000    0.000    0.000 index.py:2913(__reduce__)\n",
        "        6    0.000    0.000    0.007    0.001 index.py:2963(take)\n",
        "        4    0.000    0.000    0.003    0.001 index.py:3386(get_loc)\n",
        "       52    0.000    0.000    0.000    0.000 index.py:352(dtype)\n",
        "        4    0.000    0.000    0.003    0.001 index.py:3546(_get_level_indexer)\n",
        "        2    0.000    0.000    0.000    0.000 index.py:362(_get_names)\n",
        "   203867    0.159    0.000    0.188    0.000 index.py:365(_set_names)\n",
        "       22    0.000    0.000    0.007    0.000 index.py:3690(equals)\n",
        "       22    0.000    0.000    0.000    0.000 index.py:373(set_names)\n",
        "   611663    0.303    0.000    0.489    0.000 index.py:3936(_ensure_index)\n",
        "       20    0.000    0.000    0.000    0.000 index.py:3966(_ensure_frozen)\n",
        "       20    0.000    0.000    0.000    0.000 index.py:398(rename)\n",
        "        1    0.000    0.000    0.000    0.000 index.py:3980(_get_combined_index)\n",
        "        1    0.000    0.000    0.000    0.000 index.py:3995(_get_distinct_indexes)\n",
        "        3    0.000    0.000    0.000    0.000 index.py:3996(<genexpr>)\n",
        "        2    0.000    0.000    0.000    0.000 index.py:3999(_union_indexes)\n",
        "        2    0.000    0.000    0.000    0.000 index.py:4040(_sanitize_and_check)\n",
        "        4    0.167    0.042   14.328    3.582 index.py:4079(_all_indexes_same)\n",
        "        4    0.000    0.000    0.000    0.000 index.py:415(_has_complex_internals)\n",
        "   407746    0.267    0.000    1.319    0.000 index.py:443(values)\n",
        "       35    0.004    0.000    0.005    0.000 index.py:460(is_unique)\n",
        "       30    0.000    0.000    0.000    0.000 index.py:464(is_integer)\n",
        "       18    0.000    0.000    0.000    0.000 index.py:479(_convert_scalar_indexer)\n",
        "       11    0.000    0.000    0.000    0.000 index.py:508(_validate_slicer)\n",
        "       11    0.000    0.000    0.000    0.000 index.py:516(_convert_slice_indexer_getitem)\n",
        "       11    0.000    0.000    0.000    0.000 index.py:523(_convert_slice_indexer)\n",
        "       33    0.000    0.000    0.000    0.000 index.py:550(validate)\n",
        "       22    0.000    0.000    0.000    0.000 index.py:564(is_int)\n",
        "        8    0.000    0.000    0.000    0.000 index.py:611(_convert_list_indexer_for_mixed)\n",
        "       54    0.000    0.000    0.000    0.000 index.py:652(_engine)\n",
        "       50    0.000    0.000    0.000    0.000 index.py:655(<lambda>)\n",
        "        4    0.000    0.000    0.000    0.000 index.py:665(inferred_type)\n",
        "   203782    0.429    0.000    1.443    0.000 index.py:672(is_all_dates)\n",
        "       13    0.000    0.000    0.093    0.007 index.py:676(__iter__)\n",
        "       10    0.000    0.000    0.000    0.000 index.py:679(__reduce__)\n",
        "   407785    0.524    0.000    0.585    0.000 index.py:698(__contains__)\n",
        "   823421    1.512    0.000    2.315    0.000 index.py:709(__getitem__)\n",
        "        1    0.000    0.000    0.002    0.002 index.py:740(append)\n",
        "        1    0.000    0.000    0.000    0.000 index.py:771(_ensure_compat_concat)\n",
        "       18    0.000    0.000    0.058    0.003 index.py:783(take)\n",
        "   203789    0.364    0.000   14.162    0.000 index.py:844(equals)\n",
        "        2    0.000    0.000    0.000    0.000 index.py:859(identical)\n",
        "        1    0.000    0.000    0.000    0.000 index.py:972(union)\n",
        "    20/10    0.000    0.000    0.002    0.000 indexing.py:1140(__getitem__)\n",
        "       10    0.000    0.000    0.000    0.000 indexing.py:125(_has_valid_tuple)\n",
        "       30    0.000    0.000    0.000    0.000 indexing.py:1301(_has_valid_type)\n",
        "       20    0.000    0.000    0.000    0.000 indexing.py:1324(_is_valid_integer)\n",
        "       10    0.000    0.000    0.000    0.000 indexing.py:134(_is_nested_tuple_indexer)\n",
        "       10    0.000    0.000    0.002    0.000 indexing.py:1345(_getitem_tuple)\n",
        "       10    0.000    0.000    0.000    0.000 indexing.py:1374(_get_slice_axis)\n",
        "       20    0.000    0.000    0.001    0.000 indexing.py:1386(_getitem_axis)\n",
        "       51    0.000    0.000    0.001    0.000 indexing.py:1520(_convert_to_index_sliceable)\n",
        "       18    0.000    0.000    0.000    0.000 indexing.py:154(_convert_scalar_indexer)\n",
        "        9    0.000    0.000    0.000    0.000 indexing.py:1556(_check_bool_indexer)\n",
        "       20    0.029    0.001    0.030    0.002 indexing.py:1616(_maybe_convert_indices)\n",
        "        8    0.000    0.000    0.000    0.000 indexing.py:1652(_is_nested_tuple)\n",
        "       20    0.000    0.000    0.000    0.000 indexing.py:1671(_is_label_like)\n",
        "       38    0.000    0.000    0.000    0.000 indexing.py:1676(_is_list_like)\n",
        "       10    0.000    0.000    0.000    0.000 indexing.py:1683(_need_slice)\n",
        "       16    0.000    0.000    0.000    0.000 indexing.py:42(__init__)\n",
        "       10    0.000    0.000    0.001    0.000 indexing.py:754(_getitem_lowerdim)\n",
        "       10    0.000    0.000    0.001    0.000 indexing.py:89(_get_loc)\n",
        "        8    0.000    0.000    0.002    0.000 indexing.py:982(_convert_to_indexer)\n",
        "   815364    1.034    0.000    1.278    0.000 internals.py:108(mgr_locs)\n",
        "        4    0.000    0.000    0.000    0.000 internals.py:1238(__init__)\n",
        "       23    0.000    0.000    0.000    0.000 internals.py:144(_slice)\n",
        "       22    0.000    0.000    0.000    0.000 internals.py:148(getitem_block)\n",
        "       72    0.000    0.000    0.000    0.000 internals.py:169(shape)\n",
        "      264    0.000    0.000    0.000    0.000 internals.py:177(dtype)\n",
        "   815364    1.459    0.000    5.158    0.000 internals.py:1804(make_block)\n",
        "      136    0.000    0.000    0.000    0.000 internals.py:181(ftype)\n",
        "       59    0.001    0.000    0.007    0.000 internals.py:1909(__init__)\n",
        "      243    0.001    0.000    0.002    0.000 internals.py:1950(shape)\n",
        "      729    0.000    0.000    0.001    0.000 internals.py:1952(<genexpr>)\n",
        "      243    0.000    0.000    0.000    0.000 internals.py:1954(ndim)\n",
        "        1    0.000    0.000    0.000    0.000 internals.py:1958(set_axis)\n",
        "        1    0.000    0.000    0.015    0.015 internals.py:1969(rename_axis)\n",
        "       14    0.000    0.000    0.000    0.000 internals.py:1992(_is_single_block)\n",
        "       70    0.003    0.000    0.006    0.000 internals.py:2004(_rebuild_blknos_and_blklocs)\n",
        "   815414    0.213    0.000    0.213    0.000 internals.py:2025(_get_items)\n",
        "        4    0.000    0.000    0.000    0.000 internals.py:2044(get_dtypes)\n",
        "        4    0.000    0.000    0.000    0.000 internals.py:2052(__getstate__)\n",
        "   407619    0.398    0.000    0.398    0.000 internals.py:208(iget)\n",
        "       22    0.000    0.000    0.000    0.000 internals.py:2102(__len__)\n",
        "       43    0.000    0.000    0.001    0.000 internals.py:2117(_verify_integrity)\n",
        "      115    0.000    0.000    0.000    0.000 internals.py:2119(<genexpr>)\n",
        "        5    0.000    0.000    0.016    0.003 internals.py:2129(apply)\n",
        "        5    0.000    0.000    0.000    0.000 internals.py:2175(<genexpr>)\n",
        "        4    0.000    0.000    0.002    0.000 internals.py:2239(convert)\n",
        "       94    0.000    0.000    0.000    0.000 internals.py:2289(is_consolidated)\n",
        "       69    0.000    0.000    0.001    0.000 internals.py:2297(_consolidate_check)\n",
        "        1    0.000    0.000    0.000    0.000 internals.py:2302(is_mixed_type)\n",
        "       11    0.000    0.000    0.002    0.000 internals.py:2368(get_slice)\n",
        "        1    0.000    0.000    0.015    0.015 internals.py:2395(copy)\n",
        "        2    0.000    0.000    0.000    0.000 internals.py:2415(as_matrix)\n",
        "       11    0.000    0.000    0.747    0.068 internals.py:2535(consolidate)\n",
        "       83    0.000    0.000    0.765    0.009 internals.py:2550(_consolidate_inplace)\n",
        "   407609    1.085    0.000   10.830    0.000 internals.py:2558(get)\n",
        "   407619    2.203    0.000    6.769    0.000 internals.py:2586(iget)\n",
        "       24    0.000    0.000    0.005    0.000 internals.py:2656(set)\n",
        "       24    0.001    0.000    0.005    0.000 internals.py:2764(insert)\n",
        "       26    0.000    0.000    0.216    0.008 internals.py:2828(reindex_indexer)\n",
        "       10    0.000    0.000    0.090    0.009 internals.py:2874(_slice_take_blocks_ax0)\n",
        "       24    0.016    0.001    0.307    0.013 internals.py:2961(take)\n",
        "   815250    2.196    0.000    6.254    0.000 internals.py:3035(__init__)\n",
        "  1630522    0.493    0.000    0.493    0.000 internals.py:3082(_block)\n",
        "  1630521    0.827    0.000    1.321    0.000 internals.py:3086(_values)\n",
        "        1    0.000    0.000    0.000    0.000 internals.py:3129(get_slice)\n",
        "        2    0.000    0.000    0.000    0.000 internals.py:3136(index)\n",
        "   407658    0.219    0.000    0.551    0.000 internals.py:3145(dtype)\n",
        "  1222863    0.987    0.000    2.943    0.000 internals.py:3165(values)\n",
        "        4    0.000    0.000    0.001    0.000 internals.py:3214(create_block_manager_from_blocks)\n",
        "        5    0.000    0.000    0.029    0.006 internals.py:3233(create_block_manager_from_arrays)\n",
        "        5    0.000    0.000    0.029    0.006 internals.py:3243(form_blocks)\n",
        "        8    0.000    0.000    0.027    0.003 internals.py:3356(_multi_blockify)\n",
        "       21    0.000    0.000    0.000    0.000 internals.py:3360(<lambda>)\n",
        "        8    0.026    0.003    0.027    0.003 internals.py:3390(_stack_arrays)\n",
        "       21    0.000    0.000    0.000    0.000 internals.py:3393(_asarray_compat)\n",
        "        8    0.000    0.000    0.000    0.000 internals.py:3399(_shape_compat)\n",
        "       11    0.000    0.000    0.763    0.069 internals.py:3476(_consolidate)\n",
        "       80    0.000    0.000    0.000    0.000 internals.py:3482(<lambda>)\n",
        "       18    0.621    0.035    0.763    0.042 internals.py:3497(_merge_blocks)\n",
        "       14    0.000    0.000    0.140    0.010 internals.py:3533(_vstack)\n",
        "       32    0.000    0.000    0.000    0.000 internals.py:3565(_get_blkno_placements)\n",
        "        4    0.000    0.000    0.001    0.000 internals.py:358(convert)\n",
        "        1    0.000    0.000    0.000    0.000 internals.py:3617(_transform_index)\n",
        "        1    0.012    0.012    0.093    0.093 internals.py:3671(concatenate_block_managers)\n",
        "        4    0.000    0.000    0.000    0.000 internals.py:3695(get_empty_dtype_and_na)\n",
        "        4    0.000    0.000    0.080    0.020 internals.py:3767(concatenate_join_units)\n",
        "       12    0.000    0.000    0.000    0.000 internals.py:3791(<genexpr>)\n",
        "        2    0.000    0.000    0.000    0.000 internals.py:3799(get_mgr_concatenation_plan)\n",
        "        5    0.000    0.000    0.000    0.000 internals.py:3876(combine_concat_plans)\n",
        "       10    0.000    0.000    0.000    0.000 internals.py:3900(_next_or_none)\n",
        "        8    0.000    0.000    0.000    0.000 internals.py:3968(__init__)\n",
        "        8    0.000    0.000    0.000    0.000 internals.py:3978(needs_filling)\n",
        "        8    0.000    0.000    0.000    0.000 internals.py:3987(dtype)\n",
        "        8    0.000    0.000    0.000    0.000 internals.py:4019(is_sparse)\n",
        "        8    0.000    0.000    0.039    0.005 internals.py:4023(get_reindexed_values)\n",
        "       24    0.000    0.000    0.000    0.000 internals.py:4068(_fast_count_smallints)\n",
        "       10    0.000    0.000    0.000    0.000 internals.py:4079(_preprocess_slice_or_indexer)\n",
        "        6    0.000    0.000    0.015    0.003 internals.py:435(copy)\n",
        "   815364    1.674    0.000    3.516    0.000 internals.py:59(__init__)\n",
        "       80    0.000    0.000    0.000    0.000 internals.py:74(_consolidate_key)\n",
        "       32    0.001    0.000    0.211    0.007 internals.py:742(take_nd)\n",
        "       42    0.000    0.000    0.000    0.000 internals.py:771(get_values)\n",
        "       40    0.000    0.000    0.000    0.000 internals.py:87(fill_value)\n",
        "   815658    0.195    0.000    0.195    0.000 internals.py:91(mgr_locs)\n",
        "   407673    0.294    0.000    2.483    0.000 internals.py:95(make_block_same_class)\n",
        "        1    0.000    0.000    0.000    0.000 iostream.py:112(_flush_from_subprocesses)\n",
        "        1    0.000    0.000    0.001    0.001 iostream.py:140(flush)\n",
        "        4    0.000    0.000    0.001    0.000 iostream.py:196(write)\n",
        "        1    0.000    0.000    0.000    0.000 iostream.py:227(_flush_buffer)\n",
        "        1    0.000    0.000    0.000    0.000 iostream.py:236(_new_buffer)\n",
        "        6    0.000    0.000    0.000    0.000 iostream.py:86(_is_master_process)\n",
        "        1    0.000    0.000    0.000    0.000 iostream.py:89(_is_master_thread)\n",
        "        5    0.000    0.000    0.000    0.000 iostream.py:95(_check_mp_mode)\n",
        "        4    0.000    0.000    0.000    0.000 jsonapi.py:31(dumps)\n",
        "        1    0.000    0.000    0.000    0.000 jsonutil.py:114(date_default)\n",
        "        1    0.017    0.017    0.678    0.678 libLinear_functions.py:219(create_sparse_cat)\n",
        "        1    0.006    0.006  174.247  174.247 libLinear_functions.py:259(create_sparse)\n",
        "        1    0.005    0.005   62.931   62.931 libLinear_functions.py:268(write_sparse)\n",
        "        1    0.000    0.000    1.668    1.668 libLinear_functions.py:288(write_sparse_test)\n",
        "        2    0.000    0.000    0.000    0.000 libLinear_functions.py:32(add_hour)\n",
        "        1    0.001    0.001    0.005    0.005 libLinear_functions.py:382(log_loss_weighted)\n",
        "        1    0.000    0.000   48.086   48.086 libLinear_functions.py:400(fit)\n",
        "        1    0.000    0.000    0.255    0.255 libLinear_functions.py:414(predict)\n",
        "        1  281.767  281.767  571.290  571.290 libLinear_functions.py:491(train_loop)\n",
        "        6    0.000    0.000    0.000    0.000 libLinear_functions.py:84(date_name)\n",
        "        1    0.000    0.000    0.001    0.001 linecache.py:43(checkcache)\n",
        "        8    0.000    0.000    0.000    0.000 locale.py:363(normalize)\n",
        "        8    0.000    0.000    0.000    0.000 locale.py:447(_parse_localename)\n",
        "        8    0.000    0.000    0.000    0.000 locale.py:546(getlocale)\n",
        "        1    0.000    0.000    0.338    0.338 merge.py:666(concat)\n",
        "        1    0.000    0.000    0.245    0.245 merge.py:726(__init__)\n",
        "        1    0.000    0.000    0.093    0.093 merge.py:850(get_result)\n",
        "        1    0.000    0.000    0.000    0.000 merge.py:884(_get_result_dim)\n",
        "        1    0.000    0.000    0.003    0.003 merge.py:890(_get_new_axes)\n",
        "        1    0.000    0.000    0.000    0.000 merge.py:914(_get_comb_axis)\n",
        "        1    0.000    0.000    0.002    0.002 merge.py:926(_get_concat_axis)\n",
        "        1    0.000    0.000    0.000    0.000 merge.py:972(_maybe_check_integrity)\n",
        "        1    0.000    0.000    0.002    0.002 merge.py:980(_concat_indexes)\n",
        "   611340    0.132    0.000    0.132    0.000 nanops.py:129(_get_fill_value)\n",
        "   611340    2.874    0.000   21.685    0.000 nanops.py:152(_get_values)\n",
        "   611340    0.347    0.000    1.774    0.000 nanops.py:205(_na_ok_dtype)\n",
        "   611340    0.304    0.000    1.889    0.000 nanops.py:209(_view_if_needed)\n",
        "   611340    0.522    0.000    2.377    0.000 nanops.py:215(_wrap_results)\n",
        "   611340    1.710    0.000   37.993    0.000 nanops.py:252(nansum)\n",
        "  1222681    0.780    0.000    1.891    0.000 nanops.py:36(check)\n",
        "   611340    2.942    0.000   47.013    0.000 nanops.py:41(_f)\n",
        "  1834021    1.084    0.000    2.974    0.000 nanops.py:44(<genexpr>)\n",
        "   611340    2.437    0.000    6.583    0.000 nanops.py:559(_maybe_null_out)\n",
        "   611340    1.805    0.000   39.894    0.000 nanops.py:66(f)\n",
        "       69    0.000    0.000    0.000    0.000 necompiler.py:462(getContext)\n",
        "      138    0.000    0.000    0.000    0.000 necompiler.py:611(getType)\n",
        "       69    0.019    0.000    0.020    0.000 necompiler.py:662(evaluate)\n",
        "        2    9.619    4.809   11.630    5.815 npyio.py:887(savetxt)\n",
        "        2    0.000    0.000    0.000    0.000 numeric.py:136(ones)\n",
        "  2453760    2.418    0.000    3.300    0.000 numeric.py:1810(isscalar)\n",
        "       22    0.010    0.000    0.011    0.000 numeric.py:2222(array_equal)\n",
        "  1019609    0.610    0.000    3.798    0.000 numeric.py:392(asarray)\n",
        "   203943    0.111    0.000    0.265    0.000 numeric.py:462(asanyarray)\n",
        "       28    0.000    0.000    0.000    0.000 numeric.py:586(require)\n",
        "       28    0.000    0.000    0.000    0.000 numerictypes.py:667(issubclass_)\n",
        "       28    0.000    0.000    0.000    0.000 numerictypes.py:735(issubdtype)\n",
        "   203802    0.212    0.000    2.096    0.000 ops.py:420(maybe_convert_for_time_op)\n",
        "   203802    0.459    0.000    6.922    0.000 ops.py:449(na_op)\n",
        "   203802    1.683    0.000   19.716    0.000 ops.py:469(wrapper)\n",
        "   203802    0.026    0.000    0.026    0.000 ops.py:479(<lambda>)\n",
        "       13    0.001    0.000    0.001    0.000 ops.py:524(na_op)\n",
        "       13    0.000    0.000    0.004    0.000 ops.py:547(wrapper)\n",
        "        3    0.000    0.000    0.000    0.000 parsers.py:1010(_do_date_conversions)\n",
        "        3    0.004    0.001    0.004    0.001 parsers.py:1025(__init__)\n",
        "        3    0.000    0.000    0.000    0.000 parsers.py:1105(_set_noconvert_columns)\n",
        "        3    0.000    0.000    0.459    0.153 parsers.py:1133(read)\n",
        "       20    0.000    0.000    0.000    0.000 parsers.py:1189(<genexpr>)\n",
        "        3    0.000    0.000    0.000    0.000 parsers.py:1970(_make_date_converter)\n",
        "        3    0.000    0.000    0.000    0.000 parsers.py:2002(_process_date_conversion)\n",
        "        3    0.000    0.000    0.000    0.000 parsers.py:2085(_clean_na_values)\n",
        "        3    0.005    0.002    0.501    0.167 parsers.py:214(_read)\n",
        "        3    0.000    0.000    0.501    0.167 parsers.py:320(parser_f)\n",
        "        3    0.000    0.000    0.005    0.002 parsers.py:502(__init__)\n",
        "        3    0.000    0.000    0.000    0.000 parsers.py:544(_get_options_with_defaults)\n",
        "        3    0.000    0.000    0.000    0.000 parsers.py:569(_clean_options)\n",
        "        3    0.000    0.000    0.004    0.001 parsers.py:677(_make_engine)\n",
        "        3    0.000    0.000    0.492    0.164 parsers.py:690(read)\n",
        "        3    0.000    0.000    0.000    0.000 parsers.py:709(_create_index)\n",
        "        9    0.000    0.000    0.000    0.000 parsers.py:719(_is_index_col)\n",
        "        3    0.000    0.000    0.000    0.000 parsers.py:725(__init__)\n",
        "        3    0.000    0.000    0.000    0.000 parsers.py:777(_has_complex_date_col)\n",
        "        6    0.000    0.000    0.000    0.000 parsers.py:849(_maybe_make_multi_index_columns)\n",
        "        3    0.000    0.000    0.000    0.000 parsers.py:857(_make_index)\n",
        "        1    0.000    0.000    0.001    0.001 pdb.py:107(reset)\n",
        "        1    0.000    0.000    0.000    0.000 pdb.py:111(forget)\n",
        "        1    0.000    0.000    0.001    0.001 pdb.py:1250(set_trace)\n",
        "        1    0.000    0.000    0.000    0.000 pdb.py:61(__init__)\n",
        "        1    0.000    0.000    0.000    0.000 poll.py:77(poll)\n",
        "        1    0.000    0.000    0.000    0.000 posixpath.py:68(join)\n",
        "        1    0.000    0.000    0.000    0.000 py3compat.py:13(no_code)\n",
        "   815250    6.153    0.000   35.456    0.000 series.py:134(__init__)\n",
        "   611339    1.161    0.000   50.737    0.000 series.py:2006(_reduce)\n",
        "        4    0.000    0.000    0.000    0.000 series.py:2066(isin)\n",
        "   407619    0.671    0.000    4.409    0.000 series.py:238(from_array)\n",
        "   407649    1.721    0.000    3.467    0.000 series.py:2397(_sanitize_array)\n",
        "   407649    0.305    0.000    0.820    0.000 series.py:2410(_try_cast)\n",
        "   203821    0.040    0.000    0.040    0.000 series.py:248(_constructor)\n",
        "   815250    2.145    0.000    4.200    0.000 series.py:263(_set_axis)\n",
        "   815250    0.472    0.000    0.472    0.000 series.py:285(_set_subtyp)\n",
        "   407658    0.284    0.000    0.834    0.000 series.py:311(dtype)\n",
        "       20    0.000    0.000    0.000    0.000 series.py:333(ndim)\n",
        "       10    0.000    0.000    0.000    0.000 series.py:361(__len__)\n",
        "   203813    0.106    0.000    0.677    0.000 series.py:368(__array__)\n",
        "       14    0.000    0.000    0.001    0.000 series.py:374(__array_wrap__)\n",
        "       14    0.000    0.000    0.000    0.000 series.py:381(__array_prepare__)\n",
        "        1    0.000    0.000    0.000    0.000 series.py:482(__getitem__)\n",
        "        1    0.000    0.000    0.000    0.000 series.py:526(_get_with)\n",
        "        1    0.000    0.000    0.000    0.000 series.py:586(_get_values)\n",
        "       17    0.000    0.000    0.000    0.000 series.py:74(f)\n",
        "       24    0.000    0.000    0.000    0.000 series.py:956(__iter__)\n",
        "   611518    0.345    0.000    1.643    0.000 series.py:984(values)\n",
        "   611345    0.526    0.000    2.170    0.000 series.py:995(get_values)\n",
        "        1    0.000    0.000    0.000    0.000 session.py:192(msg_header)\n",
        "        1    0.000    0.000    0.000    0.000 session.py:196(extract_header)\n",
        "        1    0.000    0.000    0.000    0.000 session.py:426(msg_id)\n",
        "        1    0.000    0.000    0.000    0.000 session.py:478(msg_header)\n",
        "        1    0.000    0.000    0.000    0.000 session.py:481(msg)\n",
        "        1    0.000    0.000    0.000    0.000 session.py:500(sign)\n",
        "        1    0.000    0.000    0.000    0.000 session.py:515(serialize)\n",
        "        1    0.000    0.000    0.001    0.001 session.py:574(send)\n",
        "        4    0.000    0.000    0.000    0.000 session.py:83(<lambda>)\n",
        "       18    0.155    0.009    1.367    0.076 shape_base.py:179(vstack)\n",
        "   203836    0.655    0.000    0.989    0.000 shape_base.py:60(atleast_2d)\n",
        "        1    0.000    0.000    0.000    0.000 socket.py:232(send_multipart)\n",
        "        2    0.000    0.000    0.000    0.000 sputils.py:102(to_native)\n",
        "        2    0.000    0.000    0.000    0.000 sputils.py:106(getdtype)\n",
        "        4    0.000    0.000    0.015    0.004 sputils.py:132(get_index_dtype)\n",
        "        2    0.000    0.000    0.000    0.000 sputils.py:204(isshape)\n",
        "        1    0.000    0.000    0.000    0.000 threading.py:1152(currentThread)\n",
        "        1    0.000    0.000    0.000    0.000 threading.py:983(ident)\n",
        "       12    0.000    0.000    0.000    0.000 traitlets.py:325(__get__)\n",
        "        2    0.000    0.000    0.000    0.000 type_check.py:237(iscomplexobj)\n",
        "        6    0.000    0.000    0.000    0.000 urlparse.py:137(urlparse)\n",
        "        6    0.000    0.000    0.000    0.000 urlparse.py:168(urlsplit)\n",
        "        4    0.000    0.000    0.000    0.000 utf_8.py:15(decode)\n",
        "        1    0.000    0.000    0.000    0.000 uuid.py:101(__init__)\n",
        "        1    0.000    0.000    0.000    0.000 uuid.py:197(__str__)\n",
        "        1    0.000    0.000    0.000    0.000 uuid.py:546(uuid4)\n",
        "        4    0.000    0.000    0.000    0.000 {_codecs.utf_8_decode}\n",
        "        8    0.000    0.000    0.000    0.000 {_locale.setlocale}\n",
        "        4    0.000    0.000    0.001    0.000 {abs}\n",
        "       16    0.000    0.000    0.000    0.000 {all}\n",
        "   611375    0.442    0.000    3.416    0.000 {any}\n",
        "        6    0.000    0.000    0.000    0.000 {built-in method __new__ of type object at 0x100183980}\n",
        "        1    0.000    0.000    0.000    0.000 {built-in method now}\n",
        "        8    0.000    0.000    0.001    0.000 {built-in method strptime}\n",
        "        1    0.881    0.881    0.881    0.881 {cPickle.dump}\n",
        "        7    0.000    0.000    0.000    0.000 {callable}\n",
        "      176    0.000    0.000    0.000    0.000 {function __getitem__ at 0x1066dfc80}\n",
        "5706761/5706751    3.678    0.000    4.749    0.000 {getattr}\n",
        "  1426786    1.027    0.000    1.027    0.000 {hasattr}\n",
        "   407789    0.061    0.000    0.061    0.000 {hash}\n",
        "        2    0.000    0.000    0.000    0.000 {id}\n",
        " 22632966    6.873    0.000   10.774    0.000 {isinstance}\n",
        "  6929834    1.816    0.000    1.816    0.000 {issubclass}\n",
        "    85/75    0.000    0.000    0.000    0.000 {iter}\n",
        "5505532/5505378    0.813    0.000    0.814    0.000 {len}\n",
        "        1    0.000    0.000    0.000    0.000 {locals}\n",
        "        3    0.000    0.000    0.000    0.000 {map}\n",
        "        5    0.000    0.000    0.000    0.000 {max}\n",
        "        2    0.000    0.000    0.000    0.000 {method '__array_wrap__' of 'numpy.ndarray' objects}\n",
        "        2    0.000    0.000    0.000    0.000 {method 'add' of 'set' objects}\n",
        "   203802    0.117    0.000    1.426    0.000 {method 'all' of 'numpy.ndarray' objects}\n",
        "      168    0.000    0.000    0.005    0.000 {method 'any' of 'numpy.ndarray' objects}\n",
        "   204147    0.024    0.000    0.024    0.000 {method 'append' of 'list' objects}\n",
        "       32    0.033    0.001    0.033    0.001 {method 'argsort' of 'numpy.ndarray' objects}\n",
        "       34    0.019    0.001    0.019    0.001 {method 'astype' of 'numpy.ndarray' objects}\n",
        "       34    0.000    0.000    0.000    0.000 {method 'clear' of 'dict' objects}\n",
        "        1    0.000    0.000    0.000    0.000 {method 'close' of '_io.StringIO' objects}\n",
        "        2    0.001    0.000    0.001    0.000 {method 'close' of 'file' objects}\n",
        "        3    0.000    0.000    0.000    0.000 {method 'copy' of '_hashlib.HASH' objects}\n",
        "       84    0.000    0.000    0.000    0.000 {method 'copy' of 'dict' objects}\n",
        "   611372    1.207    0.000    1.207    0.000 {method 'copy' of 'numpy.ndarray' objects}\n",
        "        1    0.000    0.000    0.000    0.000 {method 'count' of 'list' objects}\n",
        "        2    0.000    0.000    0.000    0.000 {method 'count' of 'str' objects}\n",
        "        2    0.000    0.000    0.000    0.000 {method 'cumsum' of 'numpy.ndarray' objects}\n",
        "        4    0.000    0.000    0.000    0.000 {method 'decode' of 'str' objects}\n",
        "        1    0.000    0.000    0.000    0.000 {method 'digest' of '_hashlib.HASH' objects}\n",
        "        1    0.000    0.000    0.000    0.000 {method 'disable' of '_lsprof.Profiler' objects}\n",
        "        8    0.000    0.000    0.000    0.000 {method 'end' of '_sre.SRE_Match' objects}\n",
        "        3    0.000    0.000    0.000    0.000 {method 'endswith' of 'str' objects}\n",
        "       18    0.000    0.000    0.002    0.000 {method 'extend' of 'list' objects}\n",
        "      142    0.000    0.000    0.000    0.000 {method 'fill' of 'numpy.ndarray' objects}\n",
        "  8572647   22.865    0.000   22.865    0.000 {method 'format' of 'str' objects}\n",
        "   408118    0.056    0.000    0.056    0.000 {method 'get' of 'dict' objects}\n",
        "       14    0.002    0.000    0.002    0.000 {method 'get_indexer' of 'pandas.index.IndexEngine' objects}\n",
        "   318011    0.078    0.000    0.078    0.000 {method 'get_item' of 'pandas.hashtable.Int64HashTable' objects}\n",
        "        7    0.106    0.015    0.106    0.015 {method 'get_labels' of 'pandas.hashtable.Int64HashTable' objects}\n",
        "        5    0.035    0.007    0.035    0.007 {method 'get_labels' of 'pandas.hashtable.PyObjectHashTable' objects}\n",
        "        2    0.041    0.021    0.041    0.021 {method 'get_labels_groupby' of 'pandas.hashtable.Int64HashTable' objects}\n",
        "   815261    1.003    0.000    1.003    0.000 {method 'get_loc' of 'pandas.index.IndexEngine' objects}\n",
        "        1    0.000    0.000    0.000    0.000 {method 'get_value' of 'pandas.index.IndexEngine' objects}\n",
        "        1    0.000    0.000    0.000    0.000 {method 'getvalue' of '_io.StringIO' objects}\n",
        "        8    0.000    0.000    0.000    0.000 {method 'groupdict' of '_sre.SRE_Match' objects}\n",
        "        1    0.000    0.000    0.000    0.000 {method 'hexdigest' of '_hashlib.HASH' objects}\n",
        "        1    0.000    0.000    0.000    0.000 {method 'isoformat' of 'datetime.datetime' objects}\n",
        "      122    0.000    0.000    0.000    0.000 {method 'items' of 'dict' objects}\n",
        "        9    0.000    0.000    0.000    0.000 {method 'iteritems' of 'dict' objects}\n",
        "        8    0.000    0.000    0.000    0.000 {method 'iterkeys' of 'dict' objects}\n",
        "   611342    0.162    0.000    0.162    0.000 {method 'itervalues' of 'dict' objects}\n",
        "        6    0.000    0.000    0.000    0.000 {method 'join' of 'str' objects}\n",
        "        4    0.000    0.000    0.000    0.000 {method 'keys' of 'dict' objects}\n",
        "        5    0.106    0.021    0.106    0.021 {method 'map' of 'pandas.hashtable.Int64HashTable' objects}\n",
        "        8    0.000    0.000    0.000    0.000 {method 'match' of '_sre.SRE_Pattern' objects}\n",
        "        6    0.000    0.000    0.014    0.002 {method 'max' of 'numpy.ndarray' objects}\n",
        "        4    0.000    0.000    0.008    0.002 {method 'min' of 'numpy.ndarray' objects}\n",
        "        2    0.000    0.000    0.000    0.000 {method 'newbyteorder' of 'numpy.dtype' objects}\n",
        "       12    0.003    0.000    0.003    0.000 {method 'nonzero' of 'numpy.ndarray' objects}\n",
        "      171    0.000    0.000    0.000    0.000 {method 'pop' of 'dict' objects}\n",
        "       14    0.007    0.001    0.007    0.001 {method 'put' of 'numpy.ndarray' objects}\n",
        "   407604    0.225    0.000    0.225    0.000 {method 'ravel' of 'numpy.ndarray' objects}\n",
        "        3    0.459    0.153    0.459    0.153 {method 'read' of 'pandas.parser.TextReader' objects}\n",
        "  1630489   11.356    0.000   11.356    0.000 {method 'reduce' of 'numpy.ufunc' objects}\n",
        "        2    0.009    0.005    0.009    0.005 {method 'repeat' of 'numpy.ndarray' objects}\n",
        "   407556    0.366    0.000    0.366    0.000 {method 'reshape' of 'numpy.ndarray' objects}\n",
        "        7    0.000    0.000    0.000    0.000 {method 'send' of 'zmq.backend.cython.socket.Socket' objects}\n",
        "       12    0.000    0.000    0.000    0.000 {method 'split' of 'str' objects}\n",
        "        7    0.000    0.000    0.000    0.000 {method 'startswith' of 'str' objects}\n",
        "        2    0.000    0.000    0.000    0.000 {method 'strftime' of 'datetime.date' objects}\n",
        "  1222681    0.773    0.000    9.784    0.000 {method 'sum' of 'numpy.ndarray' objects}\n",
        "       57    0.122    0.002    0.122    0.002 {method 'take' of 'numpy.ndarray' objects}\n",
        "        7    0.000    0.000    0.000    0.000 {method 'to_array' of 'pandas.hashtable.Int64Vector' objects}\n",
        "        5    0.000    0.000    0.000    0.000 {method 'to_array' of 'pandas.hashtable.ObjectVector' objects}\n",
        "       16    0.000    0.000    0.000    0.000 {method 'toordinal' of 'datetime.date' objects}\n",
        "        8    0.000    0.000    0.000    0.000 {method 'translate' of 'str' objects}\n",
        "        5    0.000    0.000    0.000    0.000 {method 'update' of '_hashlib.HASH' objects}\n",
        "        5    0.000    0.000    0.000    0.000 {method 'update' of 'dict' objects}\n",
        "       29    0.000    0.000    0.000    0.000 {method 'upper' of 'str' objects}\n",
        "       15    0.000    0.000    0.000    0.000 {method 'values' of 'dict' objects}\n",
        "  1426850    1.373    0.000    1.918    0.000 {method 'view' of 'numpy.ndarray' objects}\n",
        "        8    0.000    0.000    0.000    0.000 {method 'weekday' of 'datetime.date' objects}\n",
        "        4    0.000    0.000    0.000    0.000 {method 'write' of '_io.StringIO' objects}\n",
        "  3316484    2.010    0.000    2.010    0.000 {method 'write' of 'file' objects}\n",
        "       44    0.000    0.000    0.000    0.000 {min}\n",
        "       10    0.000    0.000    0.000    0.000 {next}\n",
        "        4    0.000    0.000    0.000    0.000 {numpy.core._dotblas.inner}\n",
        "      153    0.007    0.000    0.007    0.000 {numpy.core.multiarray.arange}\n",
        "  1631309    2.684    0.000    3.773    0.000 {numpy.core.multiarray.array}\n",
        "        2    0.000    0.000    0.000    0.000 {numpy.core.multiarray.can_cast}\n",
        "      115    0.268    0.002    0.268    0.002 {numpy.core.multiarray.concatenate}\n",
        "        2    0.000    0.000    0.000    0.000 {numpy.core.multiarray.copyto}\n",
        "   407852    0.580    0.000    0.580    0.000 {numpy.core.multiarray.empty}\n",
        "   611355    1.359    0.000    1.359    0.000 {numpy.core.multiarray.putmask}\n",
        "        9    0.002    0.000    0.002    0.000 {numpy.core.multiarray.zeros}\n",
        "        6    0.004    0.001    0.004    0.001 {open}\n",
        "   203729    1.075    0.000    1.075    0.000 {operator.mul}\n",
        "        2    0.000    0.000    0.000    0.000 {operator.sub}\n",
        "        2    0.000    0.000    0.000    0.000 {operator.truediv}\n",
        "      138    0.000    0.000    0.000    0.000 {pandas.algos.ensure_int64}\n",
        "        9    0.000    0.000    0.000    0.000 {pandas.algos.ensure_object}\n",
        "       50    0.000    0.000    0.000    0.000 {pandas.algos.ensure_platform_int}\n",
        "        4    0.038    0.009    0.038    0.009 {pandas.algos.groupsort_indexer}\n",
        "       58    0.058    0.001    0.058    0.001 {pandas.algos.take_1d_int64_int64}\n",
        "        4    0.000    0.000    0.000    0.000 {pandas.algos.take_1d_object_object}\n",
        "        6    0.018    0.003    0.018    0.003 {pandas.algos.take_2d_axis0_float64_float64}\n",
        "       14    0.102    0.007    0.102    0.007 {pandas.algos.take_2d_axis0_int64_int64}\n",
        "       16    0.045    0.003    0.045    0.003 {pandas.algos.take_2d_axis1_float64_float64}\n",
        "        4    0.067    0.017    0.067    0.017 {pandas.algos.take_2d_axis1_int64_int64}\n",
        "       13    0.000    0.000    0.000    0.000 {pandas.index.convert_scalar}\n",
        "        4    1.376    0.344  125.313   31.328 {pandas.lib.apply_frame_axis0}\n",
        "   407609    0.179    0.000    0.179    0.000 {pandas.lib.checknull}\n",
        "        3    0.000    0.000    0.000    0.000 {pandas.lib.clean_index_list}\n",
        "   203778    4.656    0.000    4.656    0.000 {pandas.lib.fast_multiget}\n",
        "        4    0.088    0.022    0.088    0.022 {pandas.lib.fast_zip}\n",
        "        4    0.033    0.008    0.033    0.008 {pandas.lib.generate_slices}\n",
        "       12    0.000    0.000    0.000    0.000 {pandas.lib.get_blkno_indexers}\n",
        "   203851    1.582    0.000    1.582    0.000 {pandas.lib.infer_dtype}\n",
        "       24    0.000    0.000    0.000    0.000 {pandas.lib.is_bool}\n",
        "   203782    0.367    0.000    0.367    0.000 {pandas.lib.is_datetime_array}\n",
        "       69    0.000    0.000    0.000    0.000 {pandas.lib.is_float}\n",
        "      142    0.000    0.000    0.000    0.000 {pandas.lib.is_integer}\n",
        "        4    0.000    0.000    0.000    0.000 {pandas.lib.is_possible_datetimelike_array}\n",
        "        4    0.000    0.000    0.000    0.000 {pandas.lib.ismember}\n",
        "   407552    1.992    0.000    1.992    0.000 {pandas.lib.isnullobj}\n",
        "  1426518    0.814    0.000    3.004    0.000 {pandas.lib.isscalar}\n",
        "   203807    1.403    0.000    1.403    0.000 {pandas.lib.list_to_object_array}\n",
        "        2    0.000    0.000    0.000    0.000 {pandas.lib.maybe_convert_objects}\n",
        "        3    0.005    0.002    0.005    0.002 {pandas.lib.to_object_array_tuples}\n",
        "  2037959    1.772    0.000    3.943    0.000 {pandas.lib.values_from_object}\n",
        "        7    0.000    0.000    0.000    0.000 {posix.getpid}\n",
        "       66    0.000    0.000    0.000    0.000 {posix.stat}\n",
        "        2   48.316   24.158   48.316   24.158 {posix.system}\n",
        "        1    0.000    0.000    0.000    0.000 {posix.urandom}\n",
        "        2    0.000    0.000    0.001    0.000 {print}\n",
        "       10    0.015    0.001    0.015    0.001 {range}\n",
        "       28    0.000    0.000    0.000    0.000 {setattr}\n",
        "   407671    0.496    0.000    0.496    0.000 {sorted}\n",
        "       54    0.019    0.000    0.040    0.001 {sum}\n",
        "       70    0.000    0.000    0.000    0.000 {sys._getframe}\n",
        "        1    0.000    0.000    0.000    0.000 {sys.settrace}\n",
        "        1    0.000    0.000    0.000 "
       ]
      },
      {
       "output_type": "stream",
       "stream": "stdout",
       "text": [
        "   0.000 {thread.get_ident}\n",
        "        4    0.000    0.000    0.000    0.000 {time.time}\n",
        "  1714938    8.746    0.000    8.839    0.000 {zip}\n",
        "        1    0.000    0.000    0.000    0.000 {zmq.backend.cython._poll.zmq_poll}\n",
        "\n",
        "\n"
       ]
      }
     ],
     "prompt_number": 59
    },
    {
     "cell_type": "code",
     "collapsed": false,
     "input": [
      "cProfile.run('results=train_loop(train_per_list,cut_off_list,C_list,factors,non_factors, data_path, executable_path)')"
     ],
     "language": "python",
     "metadata": {},
     "outputs": [
      {
       "output_type": "stream",
       "stream": "stderr",
       "text": [
        "../../../../lib/liblinear-weights/train -s {model_type} -c 0.372 -e 1e-08 -B 1 -W  ../data/train_ais.txt ../data/train_svm.txt ../data/20140623T0100_20140707T0000_cut_0_C_0.372.model\n",
        "../../../../lib/liblinear-weights/predict -b 1 ../data/test_svm.txt ../data/20140623T0100_20140707T0000_cut_0_C_0.372.model ../data/preds_SummModel_py.txt"
       ]
      },
      {
       "output_type": "stream",
       "stream": "stdout",
       "text": [
        "         13637386 function calls (13637162 primitive calls) in 138.976 seconds\n",
        "\n",
        "   Ordered by: standard name\n",
        "\n",
        "   ncalls  tottime  percall  cumtime  percall filename:lineno(function)\n",
        "        1    0.051    0.051  138.976  138.976 <string>:1(<module>)\n",
        "        6    0.000    0.000    0.000    0.000 <string>:8(__new__)\n",
        "        9    0.000    0.000    0.000    0.000 __init__.py:121(iteritems)\n",
        "        4    0.000    0.000    0.000    0.000 __init__.py:140(itervalues)\n",
        "        4    0.000    0.000    0.000    0.000 __init__.py:265(dumps)\n",
        "        2    0.000    0.000    0.000    0.000 _iotools.py:29(_is_string_like)\n",
        "        6    0.000    0.000    0.013    0.002 _methods.py:15(_amax)\n",
        "        4    0.000    0.000    0.008    0.002 _methods.py:19(_amin)\n",
        "       11    0.000    0.000    0.004    0.000 _methods.py:23(_sum)\n",
        "       29    0.000    0.000    0.001    0.000 _methods.py:27(_prod)\n",
        "      149    0.000    0.000    0.002    0.000 _methods.py:31(_any)\n",
        "       44    0.000    0.000    0.001    0.000 _methods.py:35(_all)\n",
        "        8    0.000    0.000    0.000    0.000 _strptime.py:27(_getlang)\n",
        "        8    0.000    0.000    0.000    0.000 _strptime.py:295(_strptime)\n",
        "       12    0.000    0.000    0.000    0.000 algorithms.py:381(_get_data_algo)\n",
        "       12    0.008    0.001    0.116    0.010 algorithms.py:96(factorize)\n",
        "        1    0.000    0.000    0.000    0.000 attrsettr.py:35(__getattr__)\n",
        "      196    0.000    0.000    0.000    0.000 base.py:123(__getitem__)\n",
        "       25    0.000    0.000    0.000    0.000 base.py:187(_shallow_copy)\n",
        "        2    0.000    0.000    0.000    0.000 base.py:63(__init__)\n",
        "        2    0.000    0.000    0.000    0.000 base.py:71(set_shape)\n",
        "        2    0.000    0.000    0.000    0.000 base.py:861(isspmatrix)\n",
        "       29    0.000    0.000    0.000    0.000 base.py:90(_reset_cache)\n",
        "        7    0.000    0.000    0.000    0.000 base.py:93(get_shape)\n",
        "        5    0.000    0.000    0.002    0.000 categorical.py:107(_set_levels)\n",
        "        5    0.000    0.000    0.000    0.000 categorical.py:115(_get_levels)\n",
        "        5    0.000    0.000    0.015    0.003 categorical.py:79(__init__)\n",
        "        5    0.000    0.000    0.015    0.003 categorical.py:92(from_array)\n",
        "        1    0.000    0.000    0.000    0.000 common.py:1004(_maybe_upcast_putmask)\n",
        "        3    0.000    0.000    0.000    0.000 common.py:102(get_filepath_or_buffer)\n",
        "       89    0.000    0.000    0.004    0.000 common.py:111(isnull)\n",
        "       24    0.000    0.000    0.000    0.000 common.py:1223(_fill_zeros)\n",
        "       89    0.000    0.000    0.004    0.000 common.py:132(_isnull_new)\n",
        "       89    0.000    0.000    0.000    0.000 common.py:1753(_possibly_castable)\n",
        "       31    0.000    0.000    0.000    0.000 common.py:1778(_possibly_cast_to_datetime)\n",
        "       16    0.000    0.000    0.000    0.000 common.py:1862(_possibly_infer_to_datetimelike)\n",
        "       62    0.000    0.000    0.000    0.000 common.py:1933(_is_bool_indexer)\n",
        "        3    0.000    0.000    0.000    0.000 common.py:1956(_default_index)\n",
        "        8    0.000    0.000    0.000    0.000 common.py:1965(ensure_float)\n",
        "        1    0.000    0.000    0.000    0.000 common.py:1998(_try_sort)\n",
        "       11    0.000    0.000    0.000    0.000 common.py:2006(_count_not_none)\n",
        "       33    0.000    0.000    0.000    0.000 common.py:2007(<genexpr>)\n",
        "       33    0.003    0.000    0.004    0.000 common.py:202(_isnull_ndarraylike)\n",
        "       85    0.001    0.000    0.001    0.000 common.py:2165(_asarray_tuplesafe)\n",
        "        2    0.000    0.000    0.000    0.000 common.py:2198(_index_labels_to_array)\n",
        "        1    0.000    0.000    0.000    0.000 common.py:2231(is_iterator)\n",
        "      206    0.000    0.000    0.000    0.000 common.py:2248(_get_dtype_type)\n",
        "       26    0.000    0.000    0.000    0.000 common.py:2261(is_integer_dtype)\n",
        "        4    0.000    0.000    0.000    0.000 common.py:2267(_is_int_or_datetime_dtype)\n",
        "       87    0.000    0.000    0.000    0.000 common.py:2273(is_datetime64_dtype)\n",
        "       50    0.000    0.000    0.000    0.000 common.py:2283(is_timedelta64_dtype)\n",
        "        4    0.000    0.000    0.000    0.000 common.py:2293(_is_datetime_or_timedelta_dtype)\n",
        "        4    0.000    0.000    0.000    0.000 common.py:2301(is_numeric_dtype)\n",
        "       28    0.000    0.000    0.000    0.000 common.py:2307(is_float_dtype)\n",
        "        3    0.000    0.000    0.000    0.000 common.py:2317(is_bool_dtype)\n",
        "       62    0.000    0.000    0.000    0.000 common.py:2345(is_list_like)\n",
        "        6    0.000    0.000    0.000    0.000 common.py:2350(_is_sequence)\n",
        "        6    0.000    0.000    0.000    0.000 common.py:2421(_clean_fill_method)\n",
        "        4    0.000    0.000    0.043    0.011 common.py:2596(_concat_compat)\n",
        "       17    0.000    0.000    0.000    0.000 common.py:2926(_maybe_match_name)\n",
        "       44    0.000    0.000    0.003    0.000 common.py:300(array_equivalent)\n",
        "        3    0.000    0.000    0.000    0.000 common.py:49(_is_url)\n",
        "      301    0.000    0.000    0.001    0.000 common.py:58(_check)\n",
        "       90    0.000    0.000    0.000    0.000 common.py:589(_get_take_nd_function)\n",
        "       90    0.002    0.000    0.157    0.002 common.py:620(take_nd)\n",
        "        3    0.000    0.000    0.000    0.000 common.py:67(_is_s3_url)\n",
        "        4    0.000    0.000    0.000    0.000 common.py:884(_infer_dtype_from_scalar)\n",
        "       50    0.000    0.000    0.001    0.000 common.py:942(_maybe_promote)\n",
        "        2    0.000    0.000    0.000    0.000 compressed.py:1005(prune)\n",
        "        2    0.000    0.000    0.000    0.000 compressed.py:126(check_format)\n",
        "        2    0.000    0.000    0.039    0.020 compressed.py:24(__init__)\n",
        "        8    0.000    0.000    0.000    0.000 compressed.py:90(getnnz)\n",
        "        2    0.000    0.000    0.000    0.000 compressed.py:980(__set_sorted)\n",
        "        8    0.000    0.000    0.000    0.000 csr.py:192(_swap)\n",
        "        2    0.000    0.000    0.000    0.000 data.py:25(__init__)\n",
        "        4    0.000    0.000    0.000    0.000 encoder.py:119(__init__)\n",
        "        4    0.000    0.000    0.000    0.000 encoder.py:241(encode)\n",
        "        4    0.000    0.000    0.000    0.000 encoder.py:270(iterencode)\n",
        "       28    0.000    0.000    0.000    0.000 expressions.py:164(_has_bool_dtype)\n",
        "       24    0.000    0.000    0.000    0.000 expressions.py:174(_bool_arith_check)\n",
        "       24    0.000    0.000    0.008    0.000 expressions.py:193(evaluate)\n",
        "        8    0.000    0.000    0.000    0.000 expressions.py:61(_evaluate_standard)\n",
        "       24    0.000    0.000    0.001    0.000 expressions.py:68(_can_use_numexpr)\n",
        "       24    0.000    0.000    0.008    0.000 expressions.py:93(_evaluate_numexpr)\n",
        "       10    0.000    0.000    0.001    0.000 frame.py:1584(_ixs)\n",
        "       79    0.001    0.000    0.070    0.001 frame.py:1655(__getitem__)\n",
        "       64    0.000    0.000    0.005    0.000 frame.py:1680(_getitem_column)\n",
        "        3    0.000    0.000    0.001    0.000 frame.py:1694(_getitem_slice)\n",
        "       12    0.000    0.000    0.064    0.005 frame.py:1697(_getitem_array)\n",
        "       25    0.000    0.000    0.000    0.000 frame.py:183(_constructor)\n",
        "       35    0.000    0.000    0.032    0.001 frame.py:189(__init__)\n",
        "       56    0.000    0.000    0.002    0.000 frame.py:1982(_box_item_values)\n",
        "       56    0.000    0.000    0.001    0.000 frame.py:1989(_box_col_values)\n",
        "       20    0.000    0.000    0.025    0.001 frame.py:1994(__setitem__)\n",
        "       20    0.000    0.000    0.000    0.000 frame.py:2044(_ensure_valid_index)\n",
        "       20    0.000    0.000    0.024    0.001 frame.py:2072(_set_item)\n",
        "       20    0.002    0.000    0.020    0.001 frame.py:2113(_sanitize_column)\n",
        "        6    0.000    0.000    0.054    0.009 frame.py:2235(_reindex_axes)\n",
        "        6    0.000    0.000    0.054    0.009 frame.py:2259(_reindex_columns)\n",
        "        6    0.000    0.000    0.302    0.050 frame.py:2286(reindex)\n",
        "        5    0.000    0.000    0.025    0.005 frame.py:2299(rename)\n",
        "        4    0.001    0.000    0.042    0.010 frame.py:2645(sort)\n",
        "        4    0.001    0.000    0.041    0.010 frame.py:2681(sort_index)\n",
        "        4    0.000    0.000    0.031    0.008 frame.py:281(_init_dict)\n",
        "       20    0.000    0.000    0.000    0.000 frame.py:291(<genexpr>)\n",
        "        1    0.000    0.000    0.338    0.338 frame.py:3643(append)\n",
        "       12    0.000    0.000    0.000    0.000 frame.py:369(axes)\n",
        "        4    0.000    0.000    0.000    0.000 frame.py:373(shape)\n",
        "        1    0.000    0.000    0.000    0.000 frame.py:4071(_reduce)\n",
        "        1    0.000    0.000    0.000    0.000 frame.py:4074(<lambda>)\n",
        "        1    0.000    0.000    0.000    0.000 frame.py:4204(_get_agg_axis)\n",
        "        5    0.000    0.000    0.027    0.005 frame.py:4613(_arrays_to_mgr)\n",
        "        4    0.000    0.000    0.003    0.001 frame.py:4633(extract_index)\n",
        "        1    0.000    0.000    0.000    0.000 frame.py:4718(_to_arrays)\n",
        "        1    0.000    0.000    0.000    0.000 frame.py:4812(_list_to_arrays)\n",
        "        1    0.000    0.000    0.000    0.000 frame.py:4870(_convert_object_array)\n",
        "        2    0.000    0.000    0.000    0.000 frame.py:4880(convert)\n",
        "        5    0.000    0.000    0.000    0.000 frame.py:4909(_homogenize)\n",
        "        4    0.000    0.000    0.002    0.000 frame.py:539(itertuples)\n",
        "       14    0.000    0.000    0.002    0.000 frame.py:549(<genexpr>)\n",
        "       40    0.000    0.000    0.000    0.000 fromnumeric.py:1281(ravel)\n",
        "        4    0.000    0.000    0.001    0.000 fromnumeric.py:1370(nonzero)\n",
        "        1    0.000    0.000    0.000    0.000 fromnumeric.py:1762(any)\n",
        "        2    0.000    0.000    0.000    0.000 fromnumeric.py:1915(cumsum)\n",
        "       29    0.000    0.000    0.001    0.000 fromnumeric.py:2249(prod)\n",
        "        2    0.000    0.000    0.009    0.004 fromnumeric.py:347(repeat)\n",
        "        4    0.000    0.000    0.009    0.002 fromnumeric.py:38(_wrapit)\n",
        "        4    0.000    0.000    0.000    0.000 fromnumeric.py:683(sort)\n",
        "       10    0.000    0.000    0.000    0.000 fromnumeric.py:792(argsort)\n",
        "       10    0.002    0.000    0.003    0.000 function_base.py:3112(delete)\n",
        "       40    0.000    0.000    0.000    0.000 function_base.py:3503(append)\n",
        "       34    0.000    0.000    0.000    0.000 function_base.py:40(iterable)\n",
        "        1    0.008    0.008    0.347    0.347 gen_features.py:100(fit)\n",
        "        1    0.000    0.000    0.000    0.000 gen_features.py:123(set_params)\n",
        "        2   23.946   11.973   28.529   14.264 gen_features.py:126(transform)\n",
        "        2   23.446   11.723   49.609   24.804 gen_features.py:18(csr_write_libsvm)\n",
        "        4    0.008    0.002    0.329    0.082 gen_features.py:46(make_factor_table)\n",
        "        1    0.000    0.000    0.000    0.000 gen_features.py:91(__init__)\n",
        "       24    0.000    0.000    0.000    0.000 generic.py:1014(_indexer)\n",
        "       13    0.000    0.000    0.000    0.000 generic.py:104(_validate_dtype)\n",
        "       64    0.000    0.000    0.004    0.000 generic.py:1047(_get_item_cache)\n",
        "       66    0.000    0.000    0.000    0.000 generic.py:1061(_set_as_cached)\n",
        "        9    0.000    0.000    0.000    0.000 generic.py:1099(_maybe_update_cacher)\n",
        "       34    0.000    0.000    0.000    0.000 generic.py:1122(_clear_item_cache)\n",
        "        3    0.000    0.000    0.001    0.000 generic.py:1128(_slice)\n",
        "       20    0.000    0.000    0.004    0.000 generic.py:1138(_set_item)\n",
        "        4    0.000    0.000    0.000    0.000 generic.py:1142(_set_is_copy)\n",
        "        9    0.000    0.000    0.000    0.000 generic.py:1151(_check_setitem_copy)\n",
        "       30    0.000    0.000    0.000    0.000 generic.py:117(_init_mgr)\n",
        "        4    0.000    0.000    0.004    0.001 generic.py:1184(__delitem__)\n",
        "       12    0.000    0.000    0.060    0.005 generic.py:1217(take)\n",
        "        2    0.000    0.000    0.291    0.145 generic.py:1437(drop)\n",
        "        9    0.000    0.000    0.000    0.000 generic.py:1492(_update_inplace)\n",
        "        6    0.000    0.000    0.302    0.050 generic.py:1594(reindex)\n",
        "        6    0.000    0.000    0.000    0.000 generic.py:1650(_needs_reindex_multi)\n",
        "        6    0.000    0.000    0.053    0.009 generic.py:1709(_reindex_with_indexers)\n",
        "       48    0.000    0.000    0.000    0.000 generic.py:1812(__finalize__)\n",
        "       82    0.000    0.000    0.006    0.000 generic.py:1829(__getattr__)\n",
        "      179    0.021    0.000    0.021    0.000 generic.py:1845(__setattr__)\n",
        "       23    0.000    0.000    0.485    0.021 generic.py:1870(_consolidate_inplace)\n",
        "       23    0.000    0.000    0.472    0.021 generic.py:1871(<lambda>)\n",
        "        2    0.000    0.000    0.237    0.118 generic.py:1874(consolidate)\n",
        "        1    0.000    0.000    0.000    0.000 generic.py:1898(_is_mixed_type)\n",
        "        1    0.000    0.000    0.000    0.000 generic.py:1900(<lambda>)\n",
        "       24    0.000    0.000    0.472    0.020 generic.py:1931(_protect_consolidate)\n",
        "        2    0.000    0.000    0.000    0.000 generic.py:1948(as_matrix)\n",
        "        2    0.000    0.000    0.000    0.000 generic.py:1989(values)\n",
        "        4    0.000    0.000    0.001    0.000 generic.py:2119(convert_objects)\n",
        "       11    0.000    0.000    0.000    0.000 generic.py:238(_construct_axes_from_arguments)\n",
        "        4    0.000    0.000    0.001    0.000 generic.py:2724(groupby)\n",
        "        1    0.000    0.000    0.000    0.000 generic.py:273(_from_axes)\n",
        "       53    0.000    0.000    0.000    0.000 generic.py:284(_get_axis_number)\n",
        "       90    0.000    0.000    0.000    0.000 generic.py:297(_get_axis_name)\n",
        "       88    0.000    0.000    0.000    0.000 generic.py:310(_get_axis)\n",
        "       30    0.000    0.000    0.000    0.000 generic.py:314(_get_block_manager_axis)\n",
        "        4    0.001    0.000    0.001    0.000 generic.py:3506(abs)\n",
        "       22    0.000    0.000    0.000    0.000 generic.py:358(_info_axis)\n",
        "        4    0.000    0.000    0.010    0.003 generic.py:3773(stat_func)\n",
        "       44    0.000    0.000    0.000    0.000 generic.py:378(ndim)\n",
        "        5    0.000    0.000    0.025    0.005 generic.py:532(rename)\n",
        "        5    0.000    0.000    0.000    0.000 generic.py:544(_get_rename_function)\n",
        "       15    0.000    0.000    0.000    0.000 generic.py:546(f)\n",
        "        8    0.000    0.000    0.000    0.000 generic.py:639(__hash__)\n",
        "        4    0.000    0.000    0.001    0.000 generic.py:711(__abs__)\n",
        "        4    0.000    0.000    0.000    0.000 generic.py:740(__getstate__)\n",
        "      172    0.000    0.000    0.000    0.000 generic.py:87(__init__)\n",
        "        2    0.000    0.000    0.000    0.000 genericpath.py:15(exists)\n",
        "       12    0.000    0.000    0.000    0.000 getlimits.py:244(__init__)\n",
        "        4    0.000    0.000    0.000    0.000 getlimits.py:255(min)\n",
        "        8    0.000    0.000    0.000    0.000 getlimits.py:269(max)\n",
        "        4    0.000    0.000    0.249    0.062 groupby.py:103(f)\n",
        "        4    0.000    0.000    0.001    0.000 groupby.py:1133(groupby)\n",
        "        4    0.000    0.000    0.000    0.000 groupby.py:1168(__init__)\n",
        "        8    0.000    0.000    0.000    0.000 groupby.py:1175(shape)\n",
        "       25    0.000    0.000    0.000    0.000 groupby.py:1177(<genexpr>)\n",
        "        4    0.000    0.000    0.000    0.000 groupby.py:1263(names)\n",
        "        4    0.001    0.000    0.174    0.043 groupby.py:1302(group_info)\n",
        "        4    0.003    0.001    0.173    0.043 groupby.py:1311(_get_compressed_labels)\n",
        "        4    0.000    0.000    0.000    0.000 groupby.py:1334(_overflow_possible)\n",
        "        4    0.001    0.000    0.201    0.050 groupby.py:1338(ngroups)\n",
        "        4    0.000    0.000    0.201    0.050 groupby.py:1342(result_index)\n",
        "        4    0.000    0.000    0.184    0.046 groupby.py:1347(get_group_levels)\n",
        "        4    0.000    0.000    0.000    0.000 groupby.py:1394(_get_aggregate_function)\n",
        "        4    0.000    0.000    0.000    0.000 groupby.py:1398(get_func)\n",
        "        4    0.000    0.000    0.232    0.058 groupby.py:1431(aggregate)\n",
        "        4    0.000    0.000    0.029    0.007 groupby.py:1495(_aggregate)\n",
        "        7    0.000    0.000    0.000    0.000 groupby.py:1793(__init__)\n",
        "       17    0.000    0.000    0.000    0.000 groupby.py:1913(ngroups)\n",
        "        9    0.000    0.000    0.113    0.013 groupby.py:1921(labels)\n",
        "       26    0.000    0.000    0.000    0.000 groupby.py:1927(group_index)\n",
        "        7    0.010    0.001    0.113    0.016 groupby.py:1933(_make_labels)\n",
        "        4    0.000    0.000    0.001    0.000 groupby.py:1950(_get_grouper)\n",
        "       11    0.000    0.000    0.000    0.000 groupby.py:2004(<genexpr>)\n",
        "       11    0.000    0.000    0.000    0.000 groupby.py:2005(<genexpr>)\n",
        "       11    0.000    0.000    0.000    0.000 groupby.py:2010(<genexpr>)\n",
        "        7    0.000    0.000    0.000    0.000 groupby.py:2059(_is_label_like)\n",
        "        7    0.000    0.000    0.000    0.000 groupby.py:2063(_convert_grouper)\n",
        "        4    0.000    0.000    0.249    0.062 groupby.py:2357(_cython_agg_general)\n",
        "        4    0.001    0.000    0.247    0.062 groupby.py:2384(_cython_agg_blocks)\n",
        "        4    0.000    0.000    0.012    0.003 groupby.py:2425(_obj_with_exclusions)\n",
        "        4    0.000    0.000    0.001    0.000 groupby.py:2985(__getitem__)\n",
        "        4    0.000    0.000    0.012    0.003 groupby.py:3030(_get_data_to_aggregate)\n",
        "        4    0.000    0.000    0.002    0.001 groupby.py:3060(_wrap_agged_blocks)\n",
        "        2    0.016    0.008    0.018    0.009 groupby.py:3307(get_group_index)\n",
        "        4    0.000    0.000    0.000    0.000 groupby.py:3330(_int64_overflow_possible)\n",
        "        2    0.009    0.004    0.009    0.004 groupby.py:3338(decons_group_index)\n",
        "        4    0.003    0.001    0.015    0.004 groupby.py:3416(_nargsort)\n",
        "        2    0.000    0.000    0.038    0.019 groupby.py:3488(_compress_group_index)\n",
        "        2    0.002    0.001    0.017    0.009 groupby.py:3508(_reorder_by_uniques)\n",
        "        8    0.000    0.000    0.001    0.000 groupby.py:364(__init__)\n",
        "        4    0.000    0.000    0.000    0.000 groupby.py:451(_selection_list)\n",
        "        4    0.000    0.000    0.001    0.000 groupby.py:467(_set_selection_from_grouper)\n",
        "        4    0.000    0.000    0.000    0.000 groupby.py:479(__getattr__)\n",
        "        1    0.000    0.000    0.000    0.000 hmac.py:100(_current)\n",
        "        1    0.000    0.000    0.000    0.000 hmac.py:119(hexdigest)\n",
        "        1    0.000    0.000    0.000    0.000 hmac.py:30(__init__)\n",
        "        4    0.000    0.000    0.000    0.000 hmac.py:83(update)\n",
        "        1    0.000    0.000    0.000    0.000 hmac.py:88(copy)\n",
        "        4    0.000    0.000    0.001    0.000 index.py:1046(intersection)\n",
        "        4    0.000    0.000    0.000    0.000 index.py:1093(diff)\n",
        "       93    0.001    0.000    0.004    0.000 index.py:114(__new__)\n",
        "      151    0.000    0.000    0.003    0.000 index.py:1173(get_loc)\n",
        "        1    0.000    0.000    0.000    0.000 index.py:1183(get_value)\n",
        "       16    0.000    0.000    0.001    0.000 index.py:1244(get_indexer)\n",
        "       16    0.000    0.000    0.000    0.000 index.py:1327(_possibly_promote)\n",
        "       16    0.000    0.000    0.000    0.000 index.py:1359(_get_method)\n",
        "        6    0.000    0.000    0.001    0.000 index.py:1369(reindex)\n",
        "        2    0.000    0.000    0.000    0.000 index.py:1785(delete)\n",
        "       20    0.000    0.000    0.002    0.000 index.py:1795(insert)\n",
        "        2    0.000    0.000    0.001    0.000 index.py:1815(drop)\n",
        "       14    0.000    0.000    0.000    0.000 index.py:1867(__new__)\n",
        "        6    0.000    0.000    0.000    0.000 index.py:1899(inferred_type)\n",
        "      103    0.000    0.000    0.000    0.000 index.py:1908(is_all_dates)\n",
        "       43    0.000    0.000    0.002    0.000 index.py:1915(equals)\n",
        "       28    0.000    0.000    0.000    0.000 index.py:193(_simple_new)\n",
        "      100    0.000    0.000    0.000    0.000 index.py:199(is_)\n",
        "        8    0.000    0.000    0.001    0.000 index.py:2162(__new__)\n",
        "      181    0.000    0.000    0.000    0.000 index.py:218(_reset_identity)\n",
        "       92    0.000    0.000    0.000    0.000 index.py:2218(_get_levels)\n",
        "    67/62    0.000    0.000    0.001    0.000 index.py:222(view)\n",
        "       10    0.000    0.000    0.001    0.000 index.py:2221(_set_levels)\n",
        "       35    0.000    0.000    0.000    0.000 index.py:2230(<genexpr>)\n",
        "      184    0.000    0.000    0.000    0.000 index.py:2280(_get_labels)\n",
        "       10    0.000    0.000    0.000    0.000 index.py:2283(_set_labels)\n",
        "       35    0.000    0.000    0.000    0.000 index.py:2288(<genexpr>)\n",
        "       10    0.000    0.000    0.000    0.000 index.py:2370(__array_finalize__)\n",
        "       14    0.000    0.000    0.000    0.000 index.py:241(_coerce_to_ndarray)\n",
        "      146    0.000    0.000    0.001    0.000 index.py:2431(__len__)\n",
        "       20    0.000    0.000    0.000    0.000 index.py:2434(_get_names)\n",
        "       45    0.000    0.000    0.000    0.000 index.py:2435(<genexpr>)\n",
        "       10    0.000    0.000    0.000    0.000 index.py:2437(_set_names)\n",
        "        4    0.000    0.000    0.174    0.044 index.py:2501(values)\n",
        "        4    0.000    0.000    0.000    0.000 index.py:2526(_is_v2)\n",
        "      171    0.000    0.000    0.001    0.000 index.py:256(__array_finalize__)\n",
        "       25    0.000    0.000    0.000    0.000 index.py:264(_shallow_copy)\n",
        "       54    0.000    0.000    0.000    0.000 index.py:2731(is_all_dates)\n",
        "        4    0.000    0.000    0.016    0.004 index.py:2762(from_arrays)\n",
        "       24    0.000    0.000    0.000    0.000 index.py:2896(nlevels)\n",
        "        4    0.000    0.000    0.003    0.001 index.py:2904(__contains__)\n",
        "        2    0.000    0.000    0.000    0.000 index.py:2913(__reduce__)\n",
        "        6    0.000    0.000    0.008    0.001 index.py:2963(take)\n",
        "        4    0.000    0.000    0.003    0.001 index.py:3386(get_loc)\n",
        "        4    0.000    0.000    0.000    0.000 index.py:343(_assert_can_do_setop)\n",
        "        4    0.000    0.000    0.000    0.000 index.py:346(tolist)\n",
        "       46    0.000    0.000    0.000    0.000 index.py:352(dtype)\n",
        "        4    0.000    0.000    0.003    0.001 index.py:3546(_get_level_indexer)\n",
        "        2    0.000    0.000    0.000    0.000 index.py:362(_get_names)\n",
        "      106    0.000    0.000    0.000    0.000 index.py:365(_set_names)\n",
        "       26    0.000    0.000    0.008    0.000 index.py:3690(equals)\n",
        "       27    0.000    0.000    0.000    0.000 index.py:373(set_names)\n",
        "      327    0.000    0.000    0.002    0.000 index.py:3936(_ensure_index)\n",
        "       25    0.000    0.000    0.000    0.000 index.py:3966(_ensure_frozen)\n",
        "       25    0.000    0.000    0.000    0.000 index.py:398(rename)\n",
        "        1    0.000    0.000    0.000    0.000 index.py:3980(_get_combined_index)\n",
        "        1    0.000    0.000    0.000    0.000 index.py:3995(_get_distinct_indexes)\n",
        "        3    0.000    0.000    0.000    0.000 index.py:3996(<genexpr>)\n",
        "        2    0.000    0.000    0.000    0.000 index.py:3999(_union_indexes)\n",
        "        2    0.000    0.000    0.000    0.000 index.py:4040(_sanitize_and_check)\n",
        "      194    0.000    0.000    0.001    0.000 index.py:443(values)\n",
        "        4    0.000    0.000    0.000    0.000 index.py:453(is_monotonic)\n",
        "       34    0.002    0.000    0.002    0.000 index.py:460(is_unique)\n",
        "       10    0.000    0.000    0.000    0.000 index.py:464(is_integer)\n",
        "       14    0.000    0.000    0.000    0.000 index.py:479(_convert_scalar_indexer)\n",
        "        3    0.000    0.000    0.000    0.000 index.py:508(_validate_slicer)\n",
        "        3    0.000    0.000    0.000    0.000 index.py:516(_convert_slice_indexer_getitem)\n",
        "        3    0.000    0.000    0.000    0.000 index.py:523(_convert_slice_indexer)\n",
        "        9    0.000    0.000    0.000    0.000 index.py:550(validate)\n",
        "        6    0.000    0.000    0.000    0.000 index.py:564(is_int)\n",
        "        4    0.000    0.000    0.000    0.000 index.py:611(_convert_list_indexer_for_mixed)\n",
        "       44    0.000    0.000    0.000    0.000 index.py:652(_engine)\n",
        "       45    0.000    0.000    0.000    0.000 index.py:655(<lambda>)\n",
        "        5    0.000    0.000    0.000    0.000 index.py:665(inferred_type)\n",
        "       25    0.000    0.000    0.174    0.007 index.py:676(__iter__)\n",
        "       10    0.000    0.000    0.000    0.000 index.py:679(__reduce__)\n",
        "      209    0.004    0.000    0.004    0.000 index.py:698(__contains__)\n",
        "       92    0.000    0.000    0.001    0.000 index.py:709(__getitem__)\n",
        "        1    0.000    0.000    0.003    0.003 index.py:740(append)\n",
        "        1    0.000    0.000    0.000    0.000 index.py:771(_ensure_compat_concat)\n",
        "       23    0.000    0.000    0.004    0.000 index.py:783(take)\n",
        "       31    0.000    0.000    0.001    0.000 index.py:844(equals)\n",
        "        6    0.000    0.000    0.000    0.000 index.py:859(identical)\n",
        "        4    0.000    0.000    0.000    0.000 index.py:960(__sub__)\n",
        "        1    0.000    0.000    0.000    0.000 index.py:972(union)\n",
        "        4    0.000    0.000    0.000    0.000 index_tricks.py:220(_retval)\n",
        "        4    0.000    0.000    0.000    0.000 index_tricks.py:240(__getitem__)\n",
        "    20/10    0.000    0.000    0.002    0.000 indexing.py:1140(__getitem__)\n",
        "       10    0.000    0.000    0.000    0.000 indexing.py:125(_has_valid_tuple)\n",
        "       30    0.000    0.000    0.000    0.000 indexing.py:1301(_has_valid_type)\n",
        "       20    0.000    0.000    0.000    0.000 indexing.py:1324(_is_valid_integer)\n",
        "       10    0.000    0.000    0.000    0.000 indexing.py:134(_is_nested_tuple_indexer)\n",
        "       10    0.000    0.000    0.002    0.000 indexing.py:1345(_getitem_tuple)\n",
        "       10    0.000    0.000    0.000    0.000 indexing.py:1374(_get_slice_axis)\n",
        "       20    0.000    0.000    0.001    0.000 indexing.py:1386(_getitem_axis)\n",
        "       35    0.000    0.000    0.000    0.000 indexing.py:1520(_convert_to_index_sliceable)\n",
        "       14    0.000    0.000    0.000    0.000 indexing.py:154(_convert_scalar_indexer)\n",
        "        9    0.000    0.000    0.000    0.000 indexing.py:1556(_check_bool_indexer)\n",
        "       12    0.002    0.000    0.002    0.000 indexing.py:1616(_maybe_convert_indices)\n",
        "        4    0.000    0.000    0.000    0.000 indexing.py:1652(_is_nested_tuple)\n",
        "       20    0.000    0.000    0.000    0.000 indexing.py:1671(_is_label_like)\n",
        "       34    0.000    0.000    0.000    0.000 indexing.py:1676(_is_list_like)\n",
        "       10    0.000    0.000    0.000    0.000 indexing.py:1683(_need_slice)\n",
        "       16    0.000    0.000    0.000    0.000 indexing.py:42(__init__)\n",
        "       10    0.000    0.000    0.001    0.000 indexing.py:754(_getitem_lowerdim)\n",
        "       10    0.000    0.000    0.001    0.000 indexing.py:89(_get_loc)\n",
        "        4    0.000    0.000    0.001    0.000 indexing.py:982(_convert_to_indexer)\n",
        "      243    0.000    0.000    0.001    0.000 internals.py:108(mgr_locs)\n",
        "        7    0.000    0.000    0.000    0.000 internals.py:144(_slice)\n",
        "        6    0.000    0.000    0.000    0.000 internals.py:148(getitem_block)\n",
        "       52    0.000    0.000    0.000    0.000 internals.py:169(shape)\n",
        "      204    0.000    0.000    0.000    0.000 internals.py:177(dtype)\n",
        "      227    0.001    0.000    0.003    0.000 internals.py:1804(make_block)\n",
        "      100    0.000    0.000    0.000    0.000 internals.py:181(ftype)\n",
        "       51    0.000    0.000    0.006    0.000 internals.py:1909(__init__)\n",
        "      215    0.001    0.000    0.001    0.000 internals.py:1950(shape)\n",
        "      645    0.000    0.000    0.001    0.000 internals.py:1952(<genexpr>)\n",
        "      195    0.000    0.000    0.000    0.000 internals.py:1954(ndim)\n",
        "        5    0.000    0.000    0.000    0.000 internals.py:1958(set_axis)\n",
        "        5    0.000    0.000    0.016    0.003 internals.py:1969(rename_axis)\n",
        "       14    0.000    0.000    0.000    0.000 internals.py:1992(_is_single_block)\n",
        "       62    0.002    0.000    0.005    0.000 internals.py:2004(_rebuild_blknos_and_blklocs)\n",
        "      296    0.000    0.000    0.000    0.000 internals.py:2025(_get_items)\n",
        "        4    0.000    0.000    0.000    0.000 internals.py:2052(__getstate__)\n",
        "       66    0.000    0.000    0.000    0.000 internals.py:208(iget)\n",
        "       22    0.000    0.000    0.000    0.000 internals.py:2102(__len__)\n",
        "       35    0.000    0.000    0.001    0.000 internals.py:2117(_verify_integrity)\n",
        "       87    0.000    0.000    0.000    0.000 internals.py:2119(<genexpr>)\n",
        "        9    0.000    0.000    0.017    0.002 internals.py:2129(apply)\n",
        "        9    0.000    0.000    0.000    0.000 internals.py:2175(<genexpr>)\n",
        "        4    0.000    0.000    0.003    0.001 internals.py:221(delete)\n",
        "        4    0.000    0.000    0.001    0.000 internals.py:2239(convert)\n",
        "       86    0.000    0.000    0.000    0.000 internals.py:2289(is_consolidated)\n",
        "       57    0.000    0.000    0.001    0.000 internals.py:2297(_consolidate_check)\n",
        "        1    0.000    0.000    0.000    0.000 internals.py:2302(is_mixed_type)\n",
        "        4    0.000    0.000    0.001    0.000 internals.py:2337(get_numeric_data)\n",
        "        4    0.000    0.000    0.001    0.000 internals.py:2347(combine)\n",
        "        3    0.000    0.000    0.000    0.000 internals.py:2368(get_slice)\n",
        "        5    0.000    0.000    0.016    0.003 internals.py:2395(copy)\n",
        "        2    0.000    0.000    0.000    0.000 internals.py:2415(as_matrix)\n",
        "       23    0.000    0.000    0.472    0.021 internals.py:2535(consolidate)\n",
        "       63    0.000    0.000    0.487    0.008 internals.py:2550(_consolidate_inplace)\n",
        "       56    0.000    0.000    0.002    0.000 internals.py:2558(get)\n",
        "       66    0.001    0.000    0.002    0.000 internals.py:2586(iget)\n",
        "        4    0.000    0.000    0.004    0.001 internals.py:2618(delete)\n",
        "       12    0.000    0.000    0.000    0.000 internals.py:2651(<genexpr>)\n",
        "       20    0.000    0.000    0.004    0.000 internals.py:2656(set)\n",
        "       20    0.000    0.000    0.003    0.000 internals.py:2764(insert)\n",
        "       22    0.000    0.000    0.098    0.004 internals.py:2828(reindex_indexer)\n",
        "       10    0.000    0.000    0.083    0.008 internals.py:2874(_slice_take_blocks_ax0)\n",
        "       16    0.001    0.000    0.074    0.005 internals.py:2961(take)\n",
        "      137    0.000    0.000    0.001    0.000 internals.py:3035(__init__)\n",
        "      276    0.000    0.000    0.000    0.000 internals.py:3082(_block)\n",
        "      275    0.000    0.000    0.000    0.000 internals.py:3086(_values)\n",
        "        1    0.000    0.000    0.000    0.000 internals.py:3129(get_slice)\n",
        "        2    0.000    0.000    0.000    0.000 internals.py:3136(index)\n",
        "       94    0.000    0.000    0.000    0.000 internals.py:3145(dtype)\n",
        "      181    0.000    0.000    0.001    0.000 internals.py:3165(values)\n",
        "        5    0.000    0.000    0.027    0.005 internals.py:3233(create_block_manager_from_arrays)\n",
        "        5    0.000    0.000    0.026    0.005 internals.py:3243(form_blocks)\n",
        "        8    0.000    0.000    0.025    0.003 internals.py:3356(_multi_blockify)\n",
        "       21    0.000    0.000    0.000    0.000 internals.py:3360(<lambda>)\n",
        "        8    0.024    0.003    0.025    0.003 internals.py:3390(_stack_arrays)\n",
        "       21    0.000    0.000    0.000    0.000 internals.py:3393(_asarray_compat)\n",
        "        8    0.000    0.000    0.000    0.000 internals.py:3399(_shape_compat)\n",
        "        7    0.000    0.000    0.486    0.069 internals.py:3476(_consolidate)\n",
        "       64    0.000    0.000    0.000    0.000 internals.py:3482(<lambda>)\n",
        "       10    0.387    0.039    0.486    0.049 internals.py:3497(_merge_blocks)\n",
        "       10    0.000    0.000    0.098    0.010 internals.py:3533(_vstack)\n",
        "       32    0.000    0.000    0.000    0.000 internals.py:3565(_get_blkno_placements)\n",
        "        4    0.000    0.000    0.001    0.000 internals.py:358(convert)\n",
        "        5    0.000    0.000    0.000    0.000 internals.py:3617(_transform_index)\n",
        "        1    0.011    0.011    0.097    0.097 internals.py:3671(concatenate_block_managers)\n",
        "        4    0.000    0.000    0.000    0.000 internals.py:3695(get_empty_dtype_and_na)\n",
        "        4    0.000    0.000    0.000    0.000 internals.py:371(_try_cast_result)\n",
        "        4    0.000    0.000    0.086    0.021 internals.py:3767(concatenate_join_units)\n",
        "       12    0.000    0.000    0.000    0.000 internals.py:3791(<genexpr>)\n",
        "        2    0.000    0.000    0.000    0.000 internals.py:3799(get_mgr_concatenation_plan)\n",
        "        5    0.000    0.000    0.000    0.000 internals.py:3876(combine_concat_plans)\n",
        "       10    0.000    0.000    0.000    0.000 internals.py:3900(_next_or_none)\n",
        "        8    0.000    0.000    0.000    0.000 internals.py:3968(__init__)\n",
        "        8    0.000    0.000    0.000    0.000 internals.py:3978(needs_filling)\n",
        "        8    0.000    0.000    0.000    0.000 internals.py:3987(dtype)\n",
        "        8    0.000    0.000    0.000    0.000 internals.py:4019(is_sparse)\n",
        "        8    0.000    0.000    0.042    0.005 internals.py:4023(get_reindexed_values)\n",
        "        4    0.000    0.000    0.000    0.000 internals.py:403(_try_operate)\n",
        "       24    0.000    0.000    0.000    0.000 internals.py:4068(_fast_count_smallints)\n",
        "       10    0.000    0.000    0.000    0.000 internals.py:4079(_preprocess_slice_or_indexer)\n",
        "        4    0.000    0.000    0.000    0.000 internals.py:411(_try_coerce_result)\n",
        "        4    0.000    0.000    0.000    0.000 internals.py:415(_try_coerce_and_cast_result)\n",
        "       14    0.000    0.000    0.016    0.001 internals.py:435(copy)\n",
        "      227    0.001    0.000    0.002    0.000 internals.py:59(__init__)\n",
        "       64    0.000    0.000    0.000    0.000 internals.py:74(_consolidate_key)\n",
        "       24    0.000    0.000    0.093    0.004 internals.py:742(take_nd)\n",
        "       34    0.000    0.000    0.000    0.000 internals.py:771(get_values)\n",
        "       32    0.000    0.000    0.000    0.000 internals.py:87(fill_value)\n",
        "      481    0.000    0.000    0.000    0.000 internals.py:91(mgr_locs)\n",
        "       96    0.000    0.000    0.001    0.000 internals.py:95(make_block_same_class)\n",
        "        1    0.000    0.000    0.000    0.000 iostream.py:112(_flush_from_subprocesses)\n",
        "        1    0.000    0.000    0.000    0.000 iostream.py:140(flush)\n",
        "        4    0.000    0.000    0.001    0.000 iostream.py:196(write)\n",
        "        1    0.000    0.000    0.000    0.000 iostream.py:227(_flush_buffer)\n",
        "        1    0.000    0.000    0.000    0.000 iostream.py:236(_new_buffer)\n",
        "        6    0.000    0.000    0.000    0.000 iostream.py:86(_is_master_process)\n",
        "        1    0.000    0.000    0.000    0.000 iostream.py:89(_is_master_thread)\n",
        "        5    0.000    0.000    0.000    0.000 iostream.py:95(_check_mp_mode)\n",
        "        4    0.000    0.000    0.000    0.000 jsonapi.py:31(dumps)\n",
        "        1    0.000    0.000    0.000    0.000 jsonutil.py:114(date_default)\n",
        "        1    0.021    0.021    1.043    1.043 libLinear_functions.py:219(create_sparse_cat)\n",
        "        1    0.006    0.006   27.258   27.258 libLinear_functions.py:259(create_sparse)\n",
        "        1    0.002    0.002   60.132   60.132 libLinear_functions.py:265(write_sparse)\n",
        "        1    0.000    0.000    1.691    1.691 libLinear_functions.py:285(write_sparse_test)\n",
        "        2    0.000    0.000    0.000    0.000 libLinear_functions.py:32(add_hour)\n",
        "        1    0.001    0.001    0.004    0.004 libLinear_functions.py:379(log_loss_weighted)\n",
        "        1    0.000    0.000   46.793   46.793 libLinear_functions.py:397(fit)\n",
        "        1    0.000    0.000    0.238    0.238 libLinear_functions.py:411(predict)\n",
        "        1    0.013    0.013  138.925  138.925 libLinear_functions.py:488(train_loop)\n",
        "        6    0.000    0.000    0.000    0.000 libLinear_functions.py:84(date_name)\n",
        "        8    0.000    0.000    0.000    0.000 locale.py:363(normalize)\n",
        "        8    0.000    0.000    0.000    0.000 locale.py:447(_parse_localename)\n",
        "        8    0.000    0.000    0.000    0.000 locale.py:546(getlocale)\n",
        "        1    0.000    0.000    0.338    0.338 merge.py:666(concat)\n",
        "        1    0.000    0.000    0.241    0.241 merge.py:726(__init__)\n",
        "        1    0.000    0.000    0.097    0.097 merge.py:850(get_result)\n",
        "        1    0.000    0.000    0.000    0.000 merge.py:884(_get_result_dim)\n",
        "        1    0.000    0.000    0.003    0.003 merge.py:890(_get_new_axes)\n",
        "        1    0.000    0.000    0.000    0.000 merge.py:914(_get_comb_axis)\n",
        "        1    0.000    0.000    0.003    0.003 merge.py:926(_get_concat_axis)\n",
        "        1    0.000    0.000    0.000    0.000 merge.py:972(_maybe_check_integrity)\n",
        "        1    0.000    0.000    0.003    0.003 merge.py:980(_concat_indexes)\n",
        "        4    0.000    0.000    0.000    0.000 nanops.py:129(_get_fill_value)\n",
        "        4    0.000    0.000    0.005    0.001 nanops.py:152(_get_values)\n",
        "        4    0.000    0.000    0.000    0.000 nanops.py:205(_na_ok_dtype)\n",
        "        4    0.000    0.000    0.000    0.000 nanops.py:209(_view_if_needed)\n",
        "        4    0.000    0.000    0.000    0.000 nanops.py:215(_wrap_results)\n",
        "        4    0.000    0.000    0.008    0.002 nanops.py:252(nansum)\n",
        "        9    0.000    0.000    0.000    0.000 nanops.py:36(check)\n",
        "        4    0.000    0.000    0.010    0.002 nanops.py:41(_f)\n",
        "       13    0.000    0.000    0.000    0.000 nanops.py:44(<genexpr>)\n",
        "        4    0.000    0.000    0.002    0.000 nanops.py:559(_maybe_null_out)\n",
        "        4    0.001    0.000    0.010    0.002 nanops.py:66(f)\n",
        "       16    0.000    0.000    0.000    0.000 necompiler.py:462(getContext)\n",
        "       32    0.000    0.000    0.000    0.000 necompiler.py:611(getType)\n",
        "       16    0.007    0.000    0.007    0.000 necompiler.py:662(evaluate)\n",
        "        2    9.371    4.685   11.338    5.669 npyio.py:887(savetxt)\n",
        "       10    0.000    0.000    0.000    0.000 numeric.py:136(ones)\n",
        "      232    0.000    0.000    0.000    0.000 numeric.py:1810(isscalar)\n",
        "       18    0.002    0.000    0.002    0.000 numeric.py:2222(array_equal)\n",
        "      616    0.000    0.000    0.002    0.000 numeric.py:392(asarray)\n",
        "      154    0.000    0.000    0.000    0.000 numeric.py:462(asanyarray)\n",
        "       28    0.000    0.000    0.000    0.000 numeric.py:586(require)\n",
        "        8    0.000    0.000    0.003    0.000 numeric.py:78(zeros_like)\n",
        "       28    0.000    0.000    0.000    0.000 numerictypes.py:667(issubclass_)\n",
        "       28    0.000    0.000    0.000    0.000 numerictypes.py:735(issubdtype)\n",
        "        8    0.000    0.000    0.000    0.000 numerictypes.py:948(_can_coerce_all)\n",
        "        4    0.000    0.000    0.000    0.000 numerictypes.py:963(find_common_type)\n",
        "       24    0.000    0.000    0.000    0.000 ops.py:420(maybe_convert_for_time_op)\n",
        "       24    0.000    0.000    0.009    0.000 ops.py:449(na_op)\n",
        "       24    0.000    0.000    0.011    0.000 ops.py:469(wrapper)\n",
        "       24    0.000    0.000    0.000    0.000 ops.py:479(<lambda>)\n",
        "       13    0.001    0.000    0.001    0.000 ops.py:524(na_op)\n",
        "       13    0.000    0.000    0.004    0.000 ops.py:547(wrapper)\n",
        "        4    0.000    0.000    0.001    0.000 ops.py:681(flex_wrapper)\n",
        "        3    0.000    0.000    0.000    0.000 parsers.py:1010(_do_date_conversions)\n",
        "        3    0.004    0.001    0.004    0.001 parsers.py:1025(__init__)\n",
        "        3    0.000    0.000    0.000    0.000 parsers.py:1105(_set_noconvert_columns)\n",
        "        3    0.000    0.000    0.456    0.152 parsers.py:1133(read)\n",
        "       20    0.000    0.000    0.000    0.000 parsers.py:1189(<genexpr>)\n",
        "        3    0.000    0.000    0.000    0.000 parsers.py:1970(_make_date_converter)\n",
        "        3    0.000    0.000    0.000    0.000 parsers.py:2002(_process_date_conversion)\n",
        "        3    0.000    0.000    0.000    0.000 parsers.py:2085(_clean_na_values)\n",
        "        3    0.005    0.002    0.495    0.165 parsers.py:214(_read)\n",
        "        3    0.000    0.000    0.496    0.165 parsers.py:320(parser_f)\n",
        "        3    0.000    0.000    0.004    0.001 parsers.py:502(__init__)\n",
        "        3    0.000    0.000    0.000    0.000 parsers.py:544(_get_options_with_defaults)\n",
        "        3    0.000    0.000    0.000    0.000 parsers.py:569(_clean_options)\n",
        "        3    0.000    0.000    0.004    0.001 parsers.py:677(_make_engine)\n",
        "        3    0.000    0.000    0.486    0.162 parsers.py:690(read)\n",
        "        3    0.000    0.000    0.000    0.000 parsers.py:709(_create_index)\n",
        "        9    0.000    0.000    0.000    0.000 parsers.py:719(_is_index_col)\n",
        "        3    0.000    0.000    0.000    0.000 parsers.py:725(__init__)\n",
        "        3    0.000    0.000    0.000    0.000 parsers.py:777(_has_complex_date_col)\n",
        "        6    0.000    0.000    0.000    0.000 parsers.py:849(_maybe_make_multi_index_columns)\n",
        "        3    0.000    0.000    0.000    0.000 parsers.py:857(_make_index)\n",
        "        1    0.000    0.000    0.000    0.000 poll.py:77(poll)\n",
        "        1    0.000    0.000    0.000    0.000 py3compat.py:13(no_code)\n",
        "      137    0.001    0.000    0.004    0.000 series.py:134(__init__)\n",
        "        4    0.000    0.000    0.001    0.000 series.py:1416(_binop)\n",
        "        3    0.000    0.000    0.010    0.003 series.py:2006(_reduce)\n",
        "       66    0.000    0.000    0.001    0.000 series.py:238(from_array)\n",
        "       89    0.001    0.000    0.002    0.000 series.py:2397(_sanitize_array)\n",
        "       89    0.000    0.000    0.001    0.000 series.py:2410(_try_cast)\n",
        "       43    0.000    0.000    0.000    0.000 series.py:248(_constructor)\n",
        "      137    0.000    0.000    0.000    0.000 series.py:263(_set_axis)\n",
        "      137    0.000    0.000    0.000    0.000 series.py:285(_set_subtyp)\n",
        "       94    0.000    0.000    0.000    0.000 series.py:311(dtype)\n",
        "       20    0.000    0.000    0.000    0.000 series.py:333(ndim)\n",
        "       10    0.000    0.000    0.000    0.000 series.py:361(__len__)\n",
        "       23    0.000    0.000    0.000    0.000 series.py:368(__array__)\n",
        "       14    0.000    0.000    0.001    0.000 series.py:374(__array_wrap__)\n",
        "       14    0.000    0.000    0.000    0.000 series.py:381(__array_prepare__)\n",
        "        1    0.000    0.000    0.000    0.000 series.py:482(__getitem__)\n",
        "        1    0.000    0.000    0.000    0.000 series.py:526(_get_with)\n",
        "        1    0.000    0.000    0.000    0.000 series.py:586(_get_values)\n",
        "       13    0.000    0.000    0.000    0.000 series.py:74(f)\n",
        "       24    0.000    0.000    0.000    0.000 series.py:956(__iter__)\n",
        "      176    0.000    0.000    0.001    0.000 series.py:984(values)\n",
        "        5    0.000    0.000    0.000    0.000 series.py:995(get_values)\n",
        "        1    0.000    0.000    0.000    0.000 session.py:192(msg_header)\n",
        "        1    0.000    0.000    0.000    0.000 session.py:196(extract_header)\n",
        "        1    0.000    0.000    0.000    0.000 session.py:426(msg_id)\n",
        "        1    0.000    0.000    0.000    0.000 session.py:478(msg_header)\n",
        "        1    0.000    0.000    0.000    0.000 session.py:481(msg)\n",
        "        1    0.000    0.000    0.000    0.000 session.py:500(sign)\n",
        "        1    0.000    0.000    0.000    0.000 session.py:515(serialize)\n",
        "        1    0.000    0.000    0.000    0.000 session.py:574(send)\n",
        "        4    0.000    0.000    0.000    0.000 session.py:83(<lambda>)\n",
        "       10    0.000    0.000    0.097    0.010 shape_base.py:179(vstack)\n",
        "       54    0.000    0.000    0.000    0.000 shape_base.py:60(atleast_2d)\n",
        "        1    0.000    0.000    0.000    0.000 socket.py:232(send_multipart)\n",
        "        2    0.000    0.000    0.000    0.000 sputils.py:102(to_native)\n",
        "        2    0.000    0.000    0.000    0.000 sputils.py:106(getdtype)\n",
        "        4    0.000    0.000    0.015    0.004 sputils.py:132(get_index_dtype)\n",
        "        2    0.000    0.000    0.000    0.000 sputils.py:204(isshape)\n",
        "        1    0.000    0.000    0.000    0.000 threading.py:1152(currentThread)\n",
        "        1    0.000    0.000    0.000    0.000 threading.py:983(ident)\n",
        "       12    0.000    0.000    0.000    0.000 traitlets.py:325(__get__)\n",
        "        2    0.000    0.000    0.000    0.000 type_check.py:237(iscomplexobj)\n",
        "        6    0.000    0.000    0.000    0.000 urlparse.py:137(urlparse)\n",
        "        6    0.000    0.000    0.000    0.000 urlparse.py:168(urlsplit)\n",
        "        4    0.000    0.000    0.000    0.000 utf_8.py:15(decode)\n",
        "        1    0.000    0.000    0.000    0.000 uuid.py:101(__init__)\n",
        "        1    0.000    0.000    0.000    0.000 uuid.py:197(__str__)\n",
        "        1    0.000    0.000    0.000    0.000 uuid.py:546(uuid4)\n",
        "        4    0.000    0.000    0.000    0.000 {_codecs.utf_8_decode}\n",
        "        8    0.000    0.000    0.000    0.000 {_locale.setlocale}\n",
        "        4    0.000    0.000    0.001    0.000 {abs}\n",
        "       20    0.000    0.000    0.000    0.000 {all}\n",
        "       41    0.000    0.000    0.000    0.000 {any}\n",
        "        6    0.000    0.000    0.000    0.000 {built-in method __new__ of type object at 0x100183980}\n",
        "        1    0.000    0.000    0.000    0.000 {built-in method now}\n",
        "        8    0.000    0.000    0.000    0.000 {built-in method strptime}\n",
        "        1    0.873    0.873    0.874    0.874 {cPickle.dump}\n",
        "        7    0.000    0.000    0.000    0.000 {callable}\n",
        "      196    0.000    0.000    0.000    0.000 {function __getitem__ at 0x10670bc80}\n",
        "  926/916    0.001    0.000    0.001    0.000 {getattr}\n",
        "      241    0.000    0.000    0.000    0.000 {hasattr}\n",
        "      213    0.000    0.000    0.000    0.000 {hash}\n",
        "        2    0.000    0.000    0.000    0.000 {id}\n",
        "     5130    0.002    0.000    0.003    0.000 {isinstance}\n",
        "     1226    0.000    0.000    0.000    0.000 {issubclass}\n",
        "    89/79    0.000    0.000    0.000    0.000 {iter}\n",
        "3304/3130    0.001    0.000    0.002    0.000 {len}\n",
        "        1    0.000    0.000    0.000    0.000 {locals}\n",
        "        3    0.000    0.000    0.000    0.000 {map}\n",
        "        5    0.000    0.000    0.000    0.000 {max}\n",
        "        2    0.000    0.000    0.000    0.000 {method '__array_wrap__' of 'numpy.ndarray' objects}\n",
        "        8    0.000    0.000    0.000    0.000 {method 'add' of 'pandas.lib.BlockPlacement' objects}\n",
        "        2    0.000    0.000    0.000    0.000 {method 'add' of 'set' objects}\n",
        "       44    0.000    0.000    0.001    0.000 {method 'all' of 'numpy.ndarray' objects}\n",
        "      128    0.000    0.000    0.002    0.000 {method 'any' of 'numpy.ndarray' objects}\n",
        "      289    0.000    0.000    0.000    0.000 {method 'append' of 'list' objects}\n",
        "       28    0.020    0.001    0.020    0.001 {method 'argsort' of 'numpy.ndarray' objects}\n",
        "       26    0.002    0.000    0.002    0.000 {method 'astype' of 'numpy.ndarray' objects}\n",
        "       38    0.000    0.000    0.000    0.000 {method 'clear' of 'dict' objects}\n",
        "        1    0.000    0.000    0.000    0.000 {method 'close' of '_io.StringIO' objects}\n",
        "        2    0.001    0.000    0.001    0.000 {method 'close' of 'file' objects}\n",
        "        3    0.000    0.000    0.000    0.000 {method 'copy' of '_hashlib.HASH' objects}\n",
        "       31    0.000    0.000    0.000    0.000 {method 'copy' of 'dict' objects}\n",
        "       36    0.024    0.001    0.024    0.001 {method 'copy' of 'numpy.ndarray' objects}\n",
        "        1    0.000    0.000    0.000    0.000 {method 'count' of 'list' objects}\n",
        "        2    0.000    0.000    0.000    0.000 {method 'count' of 'str' objects}\n",
        "        6    0.000    0.000    0.000    0.000 {method 'cumsum' of 'numpy.ndarray' objects}\n",
        "        4    0.000    0.000    0.000    0.000 {method 'decode' of 'str' objects}\n",
        "        4    0.000    0.000    0.000    0.000 {method 'delete' of 'pandas.lib.BlockPlacement' objects}\n",
        "        1    0.000    0.000    0.000    0.000 {method 'digest' of '_hashlib.HASH' objects}\n",
        "        1    0.000    0.000    0.000    0.000 {method 'disable' of '_lsprof.Profiler' objects}\n",
        "        8    0.000    0.000    0.000    0.000 {method 'end' of '_sre.SRE_Match' objects}\n",
        "        2    0.000    0.000    0.000    0.000 {method 'endswith' of 'str' objects}\n",
        "       18    0.000    0.000    0.002    0.000 {method 'extend' of 'list' objects}\n",
        "      130    0.002    0.000    0.002    0.000 {method 'fill' of 'numpy.ndarray' objects}\n",
        "  8572647   21.950    0.000   21.950    0.000 {method 'format' of 'str' objects}\n",
        "      590    0.000    0.000    0.000    0.000 {method 'get' of 'dict' objects}\n",
        "       16    0.000    0.000    0.000    0.000 {method 'get_indexer' of 'pandas.index.IndexEngine' objects}\n",
        "       12    0.063    0.005    0.063    0.005 {method 'get_labels' of 'pandas.hashtable.Int64HashTable' objects}\n",
        "        2    0.020    0.010    0.020    0.010 {method 'get_labels_groupby' of 'pandas.hashtable.Int64HashTable' objects}\n",
        "      151    0.003    0.000    0.003    0.000 {method 'get_loc' of 'pandas.index.IndexEngine' objects}\n",
        "        1    0.000    0.000    0.000    0.000 {method 'get_value' of 'pandas.index.IndexEngine' objects}\n",
        "        1    0.000    0.000    0.000    0.000 {method 'getvalue' of '_io.StringIO' objects}\n",
        "        8    0.000    0.000    0.000    0.000 {method 'groupdict' of '_sre.SRE_Match' objects}\n",
        "        1    0.000    0.000    0.000    0.000 {method 'hexdigest' of '_hashlib.HASH' objects}\n",
        "        1    0.000    0.000    0.000    0.000 {method 'isoformat' of 'datetime.datetime' objects}\n",
        "       65    0.000    0.000    0.000    0.000 {method 'items' of 'dict' objects}\n",
        "        9    0.000    0.000    0.000    0.000 {method 'iteritems' of 'dict' objects}\n",
        "        8    0.000    0.000    0.000    0.000 {method 'iterkeys' of 'dict' objects}\n",
        "        6    0.000    0.000    0.000    0.000 {method 'itervalues' of 'dict' objects}\n",
        "        6    0.000    0.000    0.000    0.000 {method 'join' of 'str' objects}\n",
        "        7    0.000    0.000    0.000    0.000 {method 'keys' of 'dict' objects}\n",
        "        8    0.000    0.000    0.000    0.000 {method 'match' of '_sre.SRE_Pattern' objects}\n",
        "        6    0.000    0.000    0.014    0.002 {method 'max' of 'numpy.ndarray' objects}\n",
        "        4    0.000    0.000    0.008    0.002 {method 'min' of 'numpy.ndarray' objects}\n",
        "        2    0.000    0.000    0.000    0.000 {method 'newbyteorder' of 'numpy.dtype' objects}\n",
        "       28    0.003    0.000    0.003    0.000 {method 'nonzero' of 'numpy.ndarray' objects}\n",
        "       65    0.000    0.000    0.000    0.000 {method 'pop' of 'dict' objects}\n",
        "       14    0.006    0.000    0.006    0.000 {method 'put' of 'numpy.ndarray' objects}\n",
        "       56    0.000    0.000    0.000    0.000 {method 'ravel' of 'numpy.ndarray' objects}\n",
        "        3    0.456    0.152    0.456    0.152 {method 'read' of 'pandas.parser.TextReader' objects}\n",
        "      243    0.027    0.000    0.027    0.000 {method 'reduce' of 'numpy.ufunc' objects}\n",
        "        2    0.009    0.004    0.009    0.004 {method 'repeat' of 'numpy.ndarray' objects}\n",
        "       16    0.000    0.000    0.000    0.000 {method 'reshape' of 'numpy.ndarray' objects}\n",
        "        7    0.000    0.000    0.000    0.000 {method 'send' of 'zmq.backend.cython.socket.Socket' objects}\n",
        "        4    0.000    0.000    0.000    0.000 {method 'sort' of 'numpy.ndarray' objects}\n",
        "       12    0.000    0.000    0.000    0.000 {method 'split' of 'str' objects}\n",
        "        6    0.000    0.000    0.000    0.000 {method 'startswith' of 'str' objects}\n",
        "        2    0.000    0.000    0.000    0.000 {method 'strftime' of 'datetime.date' objects}\n",
        "        9    0.000    0.000    0.003    0.000 {method 'sum' of 'numpy.ndarray' objects}\n",
        "        8    0.000    0.000    0.000    0.000 {method 'swapaxes' of 'numpy.ndarray' objects}\n",
        "       66    0.039    0.001    0.039    0.001 {method 'take' of 'numpy.ndarray' objects}\n",
        "       12    0.000    0.000    0.000    0.000 {method 'to_array' of 'pandas.hashtable.Int64Vector' objects}\n",
        "       16    0.000    0.000    0.000    0.000 {method 'toordinal' of 'datetime.date' objects}\n",
        "        8    0.000    0.000    0.000    0.000 {method 'translate' of 'str' objects}\n",
        "        8    0.000    0.000    0.000    0.000 {method 'transpose' of 'numpy.ndarray' objects}\n",
        "        5    0.000    0.000    0.000    0.000 {method 'update' of '_hashlib.HASH' objects}\n",
        "       29    0.000    0.000    0.000    0.000 {method 'upper' of 'str' objects}\n",
        "       23    0.000    0.000    0.000    0.000 {method 'values' of 'dict' objects}\n",
        "  437/422    0.001    0.000    0.001    0.000 {method 'view' of 'numpy.ndarray' objects}\n",
        "        8    0.000    0.000    0.000    0.000 {method 'weekday' of 'datetime.date' objects}\n",
        "        4    0.000    0.000    0.000    0.000 {method 'write' of '_io.StringIO' objects}\n",
        "  3316484    1.966    0.000    1.966    0.000 {method 'write' of 'file' objects}\n",
        "       36    0.000    0.000    0.000    0.000 {min}\n",
        "       10    0.000    0.000    0.000    0.000 {next}\n",
        "      125    0.006    0.000    0.006    0.000 {numpy.core.multiarray.arange}\n",
        "      966    0.019    0.000    0.019    0.000 {numpy.core.multiarray.array}\n",
        "       10    0.000    0.000    0.000    0.000 {numpy.core.multiarray.can_cast}\n",
        "       99    0.144    0.001    0.144    0.001 {numpy.core.multiarray.concatenate}\n",
        "       18    0.003    0.000    0.003    0.000 {numpy.core.multiarray.copyto}\n",
        "        8    0.000    0.000    0.000    0.000 {numpy.core.multiarray.empty_like}\n",
        "      292    0.007    0.000    0.007    0.000 {numpy.core.multiarray.empty}\n",
        "       24    0.006    0.000    0.006    0.000 {numpy.core.multiarray.putmask}\n",
        "       17    0.001    0.000    0.001    0.000 {numpy.core.multiarray.zeros}\n",
        "        4    0.000    0.000    0.000    0.000 {numpy.lib._compiled_base.bincount}\n",
        "        4    0.004    0.001    0.004    0.001 {open}\n",
        "        4    0.000    0.000    0.000    0.000 {operator.mul}\n",
        "        2    0.000    0.000    0.000    0.000 {operator.sub}\n",
        "        6    0.000    0.000    0.000    0.000 {operator.truediv}\n",
        "      131    0.000    0.000    0.000    0.000 {pandas.algos.ensure_int64}\n",
        "       62    0.000    0.000    0.000    0.000 {pandas.algos.ensure_platform_int}\n",
        "        4    0.026    0.007    0.029    0.007 {pandas.algos.group_add_float64}\n",
        "       58    0.021    0.000    0.021    0.000 {pandas.algos.take_1d_int64_int64}\n",
        "       10    0.031    0.003    0.031    0.003 {pandas.algos.take_2d_axis0_float64_float64}\n",
        "       10    0.086    0.009    0.086    0.009 {pandas.algos.take_2d_axis0_int64_int64}\n",
        "       12    0.010    0.001    0.010    0.001 {pandas.algos.take_2d_axis1_float64_float64}\n",
        "       13    0.000    0.000    0.000    0.000 {pandas.index.convert_scalar}\n",
        "       56    0.000    0.000    0.000    0.000 {pandas.lib.checknull}\n",
        "       11    0.000    0.000    0.000    0.000 {pandas.lib.clean_index_list}\n",
        "        4    0.168    0.042    0.168    0.042 {pandas.lib.fast_zip}\n",
        "       12    0.000    0.000    0.000    0.000 {pandas.lib.get_blkno_indexers}\n",
        "        4    0.000    0.000    0.000    0.000 {pandas.lib.get_reverse_indexer}\n",
        "       81    0.001    0.000    0.001    0.000 {pandas.lib.infer_dtype}\n",
        "       24    0.000    0.000    0.000    0.000 {pandas.lib.is_bool}\n",
        "       57    0.000    0.000    0.000    0.000 {pandas.lib.is_float}\n",
        "      114    0.000    0.000    0.000    0.000 {pandas.lib.is_integer}\n",
        "       12    0.000    0.000    0.000    0.000 {pandas.lib.isnullobj}\n",
        "       89    0.000    0.000    0.000    0.000 {pandas.lib.isscalar}\n",
        "       37    0.000    0.000    0.000    0.000 {pandas.lib.list_to_object_array}\n",
        "        2    0.000    0.000    0.000    0.000 {pandas.lib.maybe_convert_objects}\n",
        "        2    0.000    0.000    0.000    0.000 {pandas.lib.row_bool_subset}\n",
        "        1    0.000    0.000    0.000    0.000 {pandas.lib.to_object_array_tuples}\n",
        "      173    0.000    0.000    0.000    0.000 {pandas.lib.values_from_object}\n",
        "        7    0.000    0.000    0.000    0.000 {posix.getpid}\n",
        "        2    0.000    0.000    0.000    0.000 {posix.stat}\n",
        "        2   47.009   23.505   47.009   23.505 {posix.system}\n",
        "        1    0.000    0.000    0.000    0.000 {posix.urandom}\n",
        "        2    0.000    0.000    0.001    0.000 {print}\n",
        "       26    0.021    0.001    0.021    0.001 {range}\n",
        "       16    0.000    0.000    0.000    0.000 {setattr}\n",
        "       74    0.000    0.000    0.000    0.000 {sorted}\n",
        "       50    0.000    0.000    0.000    0.000 {sum}\n",
        "       16    0.000    0.000    0.000    0.000 {sys._getframe}\n",
        "        1    0.000    0.000    0.000    0.000 {thread.get_ident}\n",
        "        4    0.000    0.000    0.000    0.000 {time.time}\n",
        "  1714885    8.485    0.000    8.659    0.000 {zip}\n",
        "        1    0.000    0.000    0.000    0.000 {zmq.backend.cython._poll.zmq_poll}\n",
        "\n",
        "\n"
       ]
      },
      {
       "output_type": "stream",
       "stream": "stderr",
       "text": [
        "\n"
       ]
      }
     ],
     "prompt_number": 15
    },
    {
     "cell_type": "code",
     "collapsed": false,
     "input": [
      "sumll"
     ],
     "language": "python",
     "metadata": {},
     "outputs": [
      {
       "metadata": {},
       "output_type": "pyout",
       "prompt_number": 50,
       "text": [
        "0.031897676804572124"
       ]
      }
     ],
     "prompt_number": 50
    },
    {
     "cell_type": "code",
     "collapsed": false,
     "input": [
      "results"
     ],
     "language": "python",
     "metadata": {},
     "outputs": [
      {
       "metadata": {},
       "output_type": "pyout",
       "prompt_number": 60,
       "text": [
        "[[['2014-06-23 01:00:00', '2014-07-07 00:00:00'],\n",
        "  0,\n",
        "  0.372,\n",
        "  0.031897676804572124]]"
       ]
      }
     ],
     "prompt_number": 60
    },
    {
     "cell_type": "code",
     "collapsed": false,
     "input": [
      "results"
     ],
     "language": "python",
     "metadata": {},
     "outputs": [
      {
       "metadata": {},
       "output_type": "pyout",
       "prompt_number": 12,
       "text": [
        "[[['2014-06-23 01:00:00', '2014-07-07 00:00:00'],\n",
        "  0,\n",
        "  0.372,\n",
        "  0.031897676804572124]]"
       ]
      }
     ],
     "prompt_number": 12
    },
    {
     "cell_type": "code",
     "collapsed": false,
     "input": [
      "pCTR = predict(executable_path, data_path, test_file,\n",
      "                               model_file, probability_file)"
     ],
     "language": "python",
     "metadata": {},
     "outputs": [
      {
       "output_type": "stream",
       "stream": "stderr",
       "text": [
        "../../../../lib/liblinear-weights/predict -b 1 ../data/test_svm.txt ../data/20140623T0100_20140707T0000_cut_0_C_0.372.model ../data/preds_SummModel_py.txt\n"
       ]
      }
     ],
     "prompt_number": 36
    },
    {
     "cell_type": "code",
     "collapsed": false,
     "input": [
      "pCTR[0:10]"
     ],
     "language": "python",
     "metadata": {},
     "outputs": [
      {
       "metadata": {},
       "output_type": "pyout",
       "prompt_number": 37,
       "text": [
        "0    0.185277\n",
        "1    0.142385\n",
        "2    0.201285\n",
        "3    0.198646\n",
        "4    0.195574\n",
        "5    0.192764\n",
        "6    0.103059\n",
        "7    0.003928\n",
        "8    0.044237\n",
        "9    0.078333\n",
        "Name: pCTR, dtype: float64"
       ]
      }
     ],
     "prompt_number": 37
    },
    {
     "cell_type": "code",
     "collapsed": false,
     "input": [
      "pCTR is pd.Series"
     ],
     "language": "python",
     "metadata": {},
     "outputs": [
      {
       "metadata": {},
       "output_type": "pyout",
       "prompt_number": 53,
       "text": [
        "False"
       ]
      }
     ],
     "prompt_number": 53
    },
    {
     "cell_type": "code",
     "collapsed": false,
     "input": [
      "MySQL_save_data_loop(con_dict_dse, sql_table, train_per_start, hours_inc, n_inc, \n",
      "                         sql_fields, rtb_flag, data_path+'val')"
     ],
     "language": "python",
     "metadata": {},
     "outputs": [
      {
       "output_type": "stream",
       "stream": "stderr",
       "text": [
        "SELECT banner_height, banner_width, site, ad,  SUM(`clicks`) as clicks,\n",
        "             SUM(`instances`) as instances FROM `aggregated_ctr`\n",
        "             WHERE date >= '2014-07-07 19:00:00' AND date <= '2014-07-07 21:00:00' AND\n",
        "             (rtb in (1, 0)) GROUP BY banner_height, banner_width, site, ad;\n",
        "             \n",
        "SELECT banner_height, banner_width, site, ad,  SUM(`clicks`) as clicks,\n",
        "             SUM(`instances`) as instances FROM `aggregated_ctr`\n",
        "             WHERE date >= '2014-07-09 19:00:00' AND date <= '2014-07-09 21:00:00' AND\n",
        "             (rtb in (1, 0)) GROUP BY banner_height, banner_width, site, ad;\n",
        "             "
       ]
      },
      {
       "output_type": "stream",
       "stream": "stderr",
       "text": [
        "\n",
        "SELECT banner_height, banner_width, site, ad,  SUM(`clicks`) as clicks,\n",
        "             SUM(`instances`) as instances FROM `aggregated_ctr`\n",
        "             WHERE date >= '2014-07-11 19:00:00' AND date <= '2014-07-11 21:00:00' AND\n",
        "             (rtb in (1, 0)) GROUP BY banner_height, banner_width, site, ad;\n",
        "             "
       ]
      },
      {
       "output_type": "stream",
       "stream": "stderr",
       "text": [
        "\n",
        "SELECT banner_height, banner_width, site, ad,  SUM(`clicks`) as clicks,\n",
        "             SUM(`instances`) as instances FROM `aggregated_ctr`\n",
        "             WHERE date >= '2014-07-13 19:00:00' AND date <= '2014-07-13 21:00:00' AND\n",
        "             (rtb in (1, 0)) GROUP BY banner_height, banner_width, site, ad;\n",
        "             "
       ]
      },
      {
       "output_type": "stream",
       "stream": "stderr",
       "text": [
        "\n",
        "SELECT banner_height, banner_width, site, ad,  SUM(`clicks`) as clicks,\n",
        "             SUM(`instances`) as instances FROM `aggregated_ctr`\n",
        "             WHERE date >= '2014-07-15 19:00:00' AND date <= '2014-07-15 21:00:00' AND\n",
        "             (rtb in (1, 0)) GROUP BY banner_height, banner_width, site, ad;\n",
        "             "
       ]
      },
      {
       "output_type": "stream",
       "stream": "stderr",
       "text": [
        "\n",
        "SELECT banner_height, banner_width, site, ad,  SUM(`clicks`) as clicks,\n",
        "             SUM(`instances`) as instances FROM `aggregated_ctr`\n",
        "             WHERE date >= '2014-07-17 19:00:00' AND date <= '2014-07-17 21:00:00' AND\n",
        "             (rtb in (1, 0)) GROUP BY banner_height, banner_width, site, ad;\n",
        "             "
       ]
      },
      {
       "output_type": "stream",
       "stream": "stderr",
       "text": [
        "\n",
        "SELECT banner_height, banner_width, site, ad,  SUM(`clicks`) as clicks,\n",
        "             SUM(`instances`) as instances FROM `aggregated_ctr`\n",
        "             WHERE date >= '2014-07-19 19:00:00' AND date <= '2014-07-19 21:00:00' AND\n",
        "             (rtb in (1, 0)) GROUP BY banner_height, banner_width, site, ad;\n",
        "             "
       ]
      },
      {
       "output_type": "stream",
       "stream": "stderr",
       "text": [
        "\n",
        "SELECT banner_height, banner_width, site, ad,  SUM(`clicks`) as clicks,\n",
        "             SUM(`instances`) as instances FROM `aggregated_ctr`\n",
        "             WHERE date >= '2014-07-21 19:00:00' AND date <= '2014-07-21 21:00:00' AND\n",
        "             (rtb in (1, 0)) GROUP BY banner_height, banner_width, site, ad;\n",
        "             "
       ]
      },
      {
       "output_type": "stream",
       "stream": "stderr",
       "text": [
        "\n",
        "SELECT banner_height, banner_width, site, ad,  SUM(`clicks`) as clicks,\n",
        "             SUM(`instances`) as instances FROM `aggregated_ctr`\n",
        "             WHERE date >= '2014-07-23 19:00:00' AND date <= '2014-07-23 21:00:00' AND\n",
        "             (rtb in (1, 0)) GROUP BY banner_height, banner_width, site, ad;\n",
        "             "
       ]
      },
      {
       "output_type": "stream",
       "stream": "stderr",
       "text": [
        "\n",
        "SELECT banner_height, banner_width, site, ad,  SUM(`clicks`) as clicks,\n",
        "             SUM(`instances`) as instances FROM `aggregated_ctr`\n",
        "             WHERE date >= '2014-07-25 19:00:00' AND date <= '2014-07-25 21:00:00' AND\n",
        "             (rtb in (1, 0)) GROUP BY banner_height, banner_width, site, ad;\n",
        "             "
       ]
      },
      {
       "output_type": "stream",
       "stream": "stderr",
       "text": [
        "\n"
       ]
      }
     ],
     "prompt_number": 127
    },
    {
     "cell_type": "code",
     "collapsed": false,
     "input": [
      "train_df.to_csv(data_path+ 'train_df_20140624_20140630.csv') # set index=False? to avoid need for removing unnamed"
     ],
     "language": "python",
     "metadata": {},
     "outputs": [],
     "prompt_number": 10
    },
    {
     "cell_type": "code",
     "collapsed": false,
     "input": [
      "train_df=pd.read_csv(data_path+'train_df_201406230100_201407070000.csv')"
     ],
     "language": "python",
     "metadata": {},
     "outputs": [],
     "prompt_number": 88
    },
    {
     "cell_type": "code",
     "collapsed": false,
     "input": [
      "del train_df['Unnamed: 0']"
     ],
     "language": "python",
     "metadata": {},
     "outputs": [],
     "prompt_number": 90
    },
    {
     "cell_type": "code",
     "collapsed": false,
     "input": [
      "train_df=pd.read_csv(data_path+ 'train_df_20140624_20140630.csv')\n",
      "del train_df['Unnamed: 0']"
     ],
     "language": "python",
     "metadata": {},
     "outputs": [],
     "prompt_number": 7
    },
    {
     "cell_type": "code",
     "collapsed": false,
     "input": [
      "con_dict.values()"
     ],
     "language": "python",
     "metadata": {},
     "outputs": [
      {
       "output_type": "stream",
       "stream": "stderr",
       "text": [
        "[autoreload of libLinear_functions failed: Traceback (most recent call last):\n",
        "  File \"/Users/sean/anaconda/lib/python2.7/site-packages/IPython/extensions/autoreload.py\", line 247, in check\n",
        "    superreload(m, reload, self.old_objects)\n",
        "  File \"libLinear_functions.py\", line 95\n",
        "    sql_table, train_per, features, rtb_flag)\n",
        "SyntaxError: non-keyword arg after keyword arg\n",
        "]\n"
       ]
      },
      {
       "ename": "NameError",
       "evalue": "name 'con_dict' is not defined",
       "output_type": "pyerr",
       "traceback": [
        "\u001b[0;31m---------------------------------------------------------------------------\u001b[0m\n\u001b[0;31mNameError\u001b[0m                                 Traceback (most recent call last)",
        "\u001b[0;32m<ipython-input-66-6d20a27d5326>\u001b[0m in \u001b[0;36m<module>\u001b[0;34m()\u001b[0m\n\u001b[0;32m----> 1\u001b[0;31m \u001b[0mcon_dict\u001b[0m\u001b[0;34m.\u001b[0m\u001b[0mvalues\u001b[0m\u001b[0;34m(\u001b[0m\u001b[0;34m)\u001b[0m\u001b[0;34m\u001b[0m\u001b[0m\n\u001b[0m",
        "\u001b[0;31mNameError\u001b[0m: name 'con_dict' is not defined"
       ]
      }
     ],
     "prompt_number": 66
    },
    {
     "cell_type": "heading",
     "level": 1,
     "metadata": {},
     "source": [
      "Get Linked Data from Database tables"
     ]
    },
    {
     "cell_type": "code",
     "collapsed": false,
     "input": [
      "con_dict_mad={'host':'db.lqm.io','db':'madvertise_production','user':'readonly','passwd':'z0q909TVZj'}\n",
      "con_dict_dse={'host':'db.lqm.io','db':'dse','user':'dse','passwd':'dSe@lQm'}"
     ],
     "language": "python",
     "metadata": {},
     "outputs": [],
     "prompt_number": 14
    },
    {
     "cell_type": "code",
     "collapsed": false,
     "input": [
      "train_df_mrg=libLinear_functions.MySQL_getfields(con_dict, train_df,'ads','ad',['name','account_id','campaign_id'])\n",
      "train_df_mrg.rename(columns={'name':'ad_name','account_id':'ad_account_id'},inplace=True)\n",
      "train_df_mrg=libLinear_functions.MySQL_getfields(con_dict, train_df_mrg,'campaigns','campaign_id',['name'])\n",
      "train_df_mrg.rename(columns={'name':'campaign_name'},inplace=True)\n",
      "train_df_mrg=libLinear_functions.MySQL_getfields(con_dict, train_df_mrg,'sites','site',['name','account_id'])\n",
      "train_df_mrg.rename(columns={'name':'site_name','account_id':'pub_account_id'},inplace=True)\n"
     ],
     "language": "python",
     "metadata": {},
     "outputs": []
    },
    {
     "cell_type": "code",
     "collapsed": false,
     "input": [
      "train_df_mrg.to_csv('../data/ext/train_df_20140624_20140630_exta.csv',index=False)"
     ],
     "language": "python",
     "metadata": {},
     "outputs": [],
     "prompt_number": 47
    },
    {
     "cell_type": "code",
     "collapsed": false,
     "input": [
      "train_df_mrg=pd.read_csv('../data/ext/train_df_20140624_20140630_exta.csv')"
     ],
     "language": "python",
     "metadata": {},
     "outputs": [],
     "prompt_number": 39
    },
    {
     "cell_type": "code",
     "collapsed": false,
     "input": [
      "train_df_mrg.columns"
     ],
     "language": "python",
     "metadata": {},
     "outputs": [
      {
       "metadata": {},
       "output_type": "pyout",
       "prompt_number": 48,
       "text": [
        "Index([u'date', u'banner_height', u'banner_width', u'site', u'ad', u'clicks', u'instances', u'ad_name', u'ad_account_id', u'campaign_id', u'campaign_name', u'site_name', u'pub_account_id'], dtype='object')"
       ]
      }
     ],
     "prompt_number": 48
    },
    {
     "cell_type": "code",
     "collapsed": false,
     "input": [
      "train_df_mrg[0:10]"
     ],
     "language": "python",
     "metadata": {},
     "outputs": [
      {
       "html": [
        "<div style=\"max-height:1000px;max-width:1500px;overflow:auto;\">\n",
        "<table border=\"1\" class=\"dataframe\">\n",
        "  <thead>\n",
        "    <tr style=\"text-align: right;\">\n",
        "      <th></th>\n",
        "      <th>date</th>\n",
        "      <th>banner_height</th>\n",
        "      <th>banner_width</th>\n",
        "      <th>site</th>\n",
        "      <th>ad</th>\n",
        "      <th>clicks</th>\n",
        "      <th>instances</th>\n",
        "      <th>ad_name</th>\n",
        "      <th>ad_account_id</th>\n",
        "      <th>campaign_id</th>\n",
        "      <th>campaign_name</th>\n",
        "      <th>site_name</th>\n",
        "      <th>pub_account_id</th>\n",
        "    </tr>\n",
        "  </thead>\n",
        "  <tbody>\n",
        "    <tr>\n",
        "      <th>0</th>\n",
        "      <td> 2014-06-24 01:00:00</td>\n",
        "      <td> 0</td>\n",
        "      <td> 0</td>\n",
        "      <td> 34567</td>\n",
        "      <td> 39503</td>\n",
        "      <td> 0</td>\n",
        "      <td>  1</td>\n",
        "      <td> Inter iOS</td>\n",
        "      <td> 6778</td>\n",
        "      <td> 4808</td>\n",
        "      <td> HP Toner</td>\n",
        "      <td> agltb3B1Yi1pbmNyDAsSA0FwcBiSzacVDA: Fruit Ninj...</td>\n",
        "      <td> 3622</td>\n",
        "    </tr>\n",
        "    <tr>\n",
        "      <th>1</th>\n",
        "      <td> 2014-06-24 05:00:00</td>\n",
        "      <td> 0</td>\n",
        "      <td> 0</td>\n",
        "      <td> 34567</td>\n",
        "      <td> 39503</td>\n",
        "      <td> 0</td>\n",
        "      <td>  1</td>\n",
        "      <td> Inter iOS</td>\n",
        "      <td> 6778</td>\n",
        "      <td> 4808</td>\n",
        "      <td> HP Toner</td>\n",
        "      <td> agltb3B1Yi1pbmNyDAsSA0FwcBiSzacVDA: Fruit Ninj...</td>\n",
        "      <td> 3622</td>\n",
        "    </tr>\n",
        "    <tr>\n",
        "      <th>2</th>\n",
        "      <td> 2014-06-24 06:00:00</td>\n",
        "      <td> 0</td>\n",
        "      <td> 0</td>\n",
        "      <td> 34567</td>\n",
        "      <td> 39503</td>\n",
        "      <td> 0</td>\n",
        "      <td> 12</td>\n",
        "      <td> Inter iOS</td>\n",
        "      <td> 6778</td>\n",
        "      <td> 4808</td>\n",
        "      <td> HP Toner</td>\n",
        "      <td> agltb3B1Yi1pbmNyDAsSA0FwcBiSzacVDA: Fruit Ninj...</td>\n",
        "      <td> 3622</td>\n",
        "    </tr>\n",
        "    <tr>\n",
        "      <th>3</th>\n",
        "      <td> 2014-06-24 07:00:00</td>\n",
        "      <td> 0</td>\n",
        "      <td> 0</td>\n",
        "      <td> 34567</td>\n",
        "      <td> 39503</td>\n",
        "      <td> 0</td>\n",
        "      <td>  5</td>\n",
        "      <td> Inter iOS</td>\n",
        "      <td> 6778</td>\n",
        "      <td> 4808</td>\n",
        "      <td> HP Toner</td>\n",
        "      <td> agltb3B1Yi1pbmNyDAsSA0FwcBiSzacVDA: Fruit Ninj...</td>\n",
        "      <td> 3622</td>\n",
        "    </tr>\n",
        "    <tr>\n",
        "      <th>4</th>\n",
        "      <td> 2014-06-24 08:00:00</td>\n",
        "      <td> 0</td>\n",
        "      <td> 0</td>\n",
        "      <td> 34567</td>\n",
        "      <td> 39503</td>\n",
        "      <td> 2</td>\n",
        "      <td>  6</td>\n",
        "      <td> Inter iOS</td>\n",
        "      <td> 6778</td>\n",
        "      <td> 4808</td>\n",
        "      <td> HP Toner</td>\n",
        "      <td> agltb3B1Yi1pbmNyDAsSA0FwcBiSzacVDA: Fruit Ninj...</td>\n",
        "      <td> 3622</td>\n",
        "    </tr>\n",
        "    <tr>\n",
        "      <th>5</th>\n",
        "      <td> 2014-06-24 09:00:00</td>\n",
        "      <td> 0</td>\n",
        "      <td> 0</td>\n",
        "      <td> 34567</td>\n",
        "      <td> 39503</td>\n",
        "      <td> 1</td>\n",
        "      <td>  7</td>\n",
        "      <td> Inter iOS</td>\n",
        "      <td> 6778</td>\n",
        "      <td> 4808</td>\n",
        "      <td> HP Toner</td>\n",
        "      <td> agltb3B1Yi1pbmNyDAsSA0FwcBiSzacVDA: Fruit Ninj...</td>\n",
        "      <td> 3622</td>\n",
        "    </tr>\n",
        "    <tr>\n",
        "      <th>6</th>\n",
        "      <td> 2014-06-24 11:00:00</td>\n",
        "      <td> 0</td>\n",
        "      <td> 0</td>\n",
        "      <td> 34567</td>\n",
        "      <td> 39503</td>\n",
        "      <td> 1</td>\n",
        "      <td> 11</td>\n",
        "      <td> Inter iOS</td>\n",
        "      <td> 6778</td>\n",
        "      <td> 4808</td>\n",
        "      <td> HP Toner</td>\n",
        "      <td> agltb3B1Yi1pbmNyDAsSA0FwcBiSzacVDA: Fruit Ninj...</td>\n",
        "      <td> 3622</td>\n",
        "    </tr>\n",
        "    <tr>\n",
        "      <th>7</th>\n",
        "      <td> 2014-06-24 12:00:00</td>\n",
        "      <td> 0</td>\n",
        "      <td> 0</td>\n",
        "      <td> 34567</td>\n",
        "      <td> 39503</td>\n",
        "      <td> 0</td>\n",
        "      <td>  2</td>\n",
        "      <td> Inter iOS</td>\n",
        "      <td> 6778</td>\n",
        "      <td> 4808</td>\n",
        "      <td> HP Toner</td>\n",
        "      <td> agltb3B1Yi1pbmNyDAsSA0FwcBiSzacVDA: Fruit Ninj...</td>\n",
        "      <td> 3622</td>\n",
        "    </tr>\n",
        "    <tr>\n",
        "      <th>8</th>\n",
        "      <td> 2014-06-24 13:00:00</td>\n",
        "      <td> 0</td>\n",
        "      <td> 0</td>\n",
        "      <td> 34567</td>\n",
        "      <td> 39503</td>\n",
        "      <td> 1</td>\n",
        "      <td>  4</td>\n",
        "      <td> Inter iOS</td>\n",
        "      <td> 6778</td>\n",
        "      <td> 4808</td>\n",
        "      <td> HP Toner</td>\n",
        "      <td> agltb3B1Yi1pbmNyDAsSA0FwcBiSzacVDA: Fruit Ninj...</td>\n",
        "      <td> 3622</td>\n",
        "    </tr>\n",
        "    <tr>\n",
        "      <th>9</th>\n",
        "      <td> 2014-06-24 14:00:00</td>\n",
        "      <td> 0</td>\n",
        "      <td> 0</td>\n",
        "      <td> 34567</td>\n",
        "      <td> 39503</td>\n",
        "      <td> 0</td>\n",
        "      <td>  1</td>\n",
        "      <td> Inter iOS</td>\n",
        "      <td> 6778</td>\n",
        "      <td> 4808</td>\n",
        "      <td> HP Toner</td>\n",
        "      <td> agltb3B1Yi1pbmNyDAsSA0FwcBiSzacVDA: Fruit Ninj...</td>\n",
        "      <td> 3622</td>\n",
        "    </tr>\n",
        "  </tbody>\n",
        "</table>\n",
        "</div>"
       ],
       "metadata": {},
       "output_type": "pyout",
       "prompt_number": 49,
       "text": [
        "                  date  banner_height  banner_width   site     ad  clicks  \\\n",
        "0  2014-06-24 01:00:00              0             0  34567  39503       0   \n",
        "1  2014-06-24 05:00:00              0             0  34567  39503       0   \n",
        "2  2014-06-24 06:00:00              0             0  34567  39503       0   \n",
        "3  2014-06-24 07:00:00              0             0  34567  39503       0   \n",
        "4  2014-06-24 08:00:00              0             0  34567  39503       2   \n",
        "5  2014-06-24 09:00:00              0             0  34567  39503       1   \n",
        "6  2014-06-24 11:00:00              0             0  34567  39503       1   \n",
        "7  2014-06-24 12:00:00              0             0  34567  39503       0   \n",
        "8  2014-06-24 13:00:00              0             0  34567  39503       1   \n",
        "9  2014-06-24 14:00:00              0             0  34567  39503       0   \n",
        "\n",
        "   instances    ad_name  ad_account_id  campaign_id campaign_name  \\\n",
        "0          1  Inter iOS           6778         4808      HP Toner   \n",
        "1          1  Inter iOS           6778         4808      HP Toner   \n",
        "2         12  Inter iOS           6778         4808      HP Toner   \n",
        "3          5  Inter iOS           6778         4808      HP Toner   \n",
        "4          6  Inter iOS           6778         4808      HP Toner   \n",
        "5          7  Inter iOS           6778         4808      HP Toner   \n",
        "6         11  Inter iOS           6778         4808      HP Toner   \n",
        "7          2  Inter iOS           6778         4808      HP Toner   \n",
        "8          4  Inter iOS           6778         4808      HP Toner   \n",
        "9          1  Inter iOS           6778         4808      HP Toner   \n",
        "\n",
        "                                           site_name  pub_account_id  \n",
        "0  agltb3B1Yi1pbmNyDAsSA0FwcBiSzacVDA: Fruit Ninj...            3622  \n",
        "1  agltb3B1Yi1pbmNyDAsSA0FwcBiSzacVDA: Fruit Ninj...            3622  \n",
        "2  agltb3B1Yi1pbmNyDAsSA0FwcBiSzacVDA: Fruit Ninj...            3622  \n",
        "3  agltb3B1Yi1pbmNyDAsSA0FwcBiSzacVDA: Fruit Ninj...            3622  \n",
        "4  agltb3B1Yi1pbmNyDAsSA0FwcBiSzacVDA: Fruit Ninj...            3622  \n",
        "5  agltb3B1Yi1pbmNyDAsSA0FwcBiSzacVDA: Fruit Ninj...            3622  \n",
        "6  agltb3B1Yi1pbmNyDAsSA0FwcBiSzacVDA: Fruit Ninj...            3622  \n",
        "7  agltb3B1Yi1pbmNyDAsSA0FwcBiSzacVDA: Fruit Ninj...            3622  \n",
        "8  agltb3B1Yi1pbmNyDAsSA0FwcBiSzacVDA: Fruit Ninj...            3622  \n",
        "9  agltb3B1Yi1pbmNyDAsSA0FwcBiSzacVDA: Fruit Ninj...            3622  "
       ]
      }
     ],
     "prompt_number": 49
    },
    {
     "cell_type": "code",
     "collapsed": false,
     "input": [
      "factors+=['campaign_id','ad_account_id','pub_account_id','campaign_id*site']"
     ],
     "language": "python",
     "metadata": {},
     "outputs": [],
     "prompt_number": 11
    },
    {
     "cell_type": "code",
     "collapsed": false,
     "input": [
      "import gen_features"
     ],
     "language": "python",
     "metadata": {},
     "outputs": [],
     "prompt_number": 12
    },
    {
     "cell_type": "heading",
     "level": 1,
     "metadata": {},
     "source": [
      "Generate k-fold Cross validation Data"
     ]
    },
    {
     "cell_type": "code",
     "collapsed": false,
     "input": [
      "%load_ext autoreload"
     ],
     "language": "python",
     "metadata": {},
     "outputs": [],
     "prompt_number": 16
    },
    {
     "cell_type": "code",
     "collapsed": false,
     "input": [
      "%autoreload 1 #Reload all modules imported with %aimport every time before executing the Python code typed (0 disables)"
     ],
     "language": "python",
     "metadata": {},
     "outputs": [],
     "prompt_number": 22
    },
    {
     "cell_type": "code",
     "collapsed": false,
     "input": [
      "%aimport libLinear_functions"
     ],
     "language": "python",
     "metadata": {},
     "outputs": [],
     "prompt_number": 23
    },
    {
     "cell_type": "code",
     "collapsed": false,
     "input": [
      "%autoreload 2"
     ],
     "language": "python",
     "metadata": {},
     "outputs": [],
     "prompt_number": 17
    },
    {
     "cell_type": "code",
     "collapsed": false,
     "input": [
      "n_cross=10\n"
     ],
     "language": "python",
     "metadata": {},
     "outputs": [],
     "prompt_number": 13
    },
    {
     "cell_type": "code",
     "collapsed": false,
     "input": [
      "single_fields = list(set(sum([fs.split('*') for fs in factors], []))) # remove cross terms\n",
      "print single_fields"
     ],
     "language": "python",
     "metadata": {},
     "outputs": [
      {
       "output_type": "stream",
       "stream": "stdout",
       "text": [
        "['ad_account_id', 'ad', 'pub_account_id', 'campaign_id', 'site', 'date', 'banner_height', 'banner_width']\n"
       ]
      }
     ],
     "prompt_number": 16
    },
    {
     "cell_type": "code",
     "collapsed": false,
     "input": [
      "%run libLinear_functions.py"
     ],
     "language": "python",
     "metadata": {},
     "outputs": [],
     "prompt_number": 61
    },
    {
     "cell_type": "code",
     "collapsed": false,
     "input": [
      "fold_data=make_kfold(train_df_mrg, single_fields, n_cross,'date')"
     ],
     "language": "python",
     "metadata": {},
     "outputs": [],
     "prompt_number": 50
    },
    {
     "cell_type": "code",
     "collapsed": false,
     "input": [
      "fold_data.to_csv('../data/ext/fold_df_20140624_20140630_exta.csv')"
     ],
     "language": "python",
     "metadata": {},
     "outputs": [],
     "prompt_number": 52
    },
    {
     "cell_type": "code",
     "collapsed": false,
     "input": [
      "fold_data.shape"
     ],
     "language": "python",
     "metadata": {},
     "outputs": [
      {
       "metadata": {},
       "output_type": "pyout",
       "prompt_number": 53,
       "text": [
        "(1316708, 2)"
       ]
      }
     ],
     "prompt_number": 53
    },
    {
     "cell_type": "code",
     "collapsed": false,
     "input": [
      "fold_data[0:10]"
     ],
     "language": "python",
     "metadata": {},
     "outputs": [
      {
       "html": [
        "<div style=\"max-height:1000px;max-width:1500px;overflow:auto;\">\n",
        "<table border=\"1\" class=\"dataframe\">\n",
        "  <thead>\n",
        "    <tr style=\"text-align: right;\">\n",
        "      <th></th>\n",
        "      <th></th>\n",
        "      <th></th>\n",
        "      <th></th>\n",
        "      <th></th>\n",
        "      <th></th>\n",
        "      <th></th>\n",
        "      <th></th>\n",
        "      <th>clicks</th>\n",
        "      <th>instances</th>\n",
        "    </tr>\n",
        "    <tr>\n",
        "      <th>fold</th>\n",
        "      <th>ad_account_id</th>\n",
        "      <th>ad</th>\n",
        "      <th>pub_account_id</th>\n",
        "      <th>campaign_id</th>\n",
        "      <th>site</th>\n",
        "      <th>banner_height</th>\n",
        "      <th>banner_width</th>\n",
        "      <th></th>\n",
        "      <th></th>\n",
        "    </tr>\n",
        "  </thead>\n",
        "  <tbody>\n",
        "    <tr>\n",
        "      <th rowspan=\"10\" valign=\"top\">0</th>\n",
        "      <th rowspan=\"10\" valign=\"top\">196</th>\n",
        "      <th rowspan=\"8\" valign=\"top\">38207</th>\n",
        "      <th rowspan=\"4\" valign=\"top\">80  </th>\n",
        "      <th rowspan=\"4\" valign=\"top\">4534</th>\n",
        "      <th>12695  </th>\n",
        "      <th>90</th>\n",
        "      <th>728</th>\n",
        "      <td> 0</td>\n",
        "      <td>    1</td>\n",
        "    </tr>\n",
        "    <tr>\n",
        "      <th>20304  </th>\n",
        "      <th>90</th>\n",
        "      <th>728</th>\n",
        "      <td> 0</td>\n",
        "      <td>    2</td>\n",
        "    </tr>\n",
        "    <tr>\n",
        "      <th>21215  </th>\n",
        "      <th>90</th>\n",
        "      <th>728</th>\n",
        "      <td> 2</td>\n",
        "      <td> 5588</td>\n",
        "    </tr>\n",
        "    <tr>\n",
        "      <th>21220  </th>\n",
        "      <th>90</th>\n",
        "      <th>728</th>\n",
        "      <td> 4</td>\n",
        "      <td>  860</td>\n",
        "    </tr>\n",
        "    <tr>\n",
        "      <th>431 </th>\n",
        "      <th>4534</th>\n",
        "      <th>11128  </th>\n",
        "      <th>90</th>\n",
        "      <th>728</th>\n",
        "      <td> 1</td>\n",
        "      <td>   66</td>\n",
        "    </tr>\n",
        "    <tr>\n",
        "      <th>1490</th>\n",
        "      <th>4534</th>\n",
        "      <th>21335  </th>\n",
        "      <th>90</th>\n",
        "      <th>728</th>\n",
        "      <td> 0</td>\n",
        "      <td>   22</td>\n",
        "    </tr>\n",
        "    <tr>\n",
        "      <th rowspan=\"2\" valign=\"top\">6023</th>\n",
        "      <th rowspan=\"2\" valign=\"top\">4534</th>\n",
        "      <th>4828391</th>\n",
        "      <th>90</th>\n",
        "      <th>728</th>\n",
        "      <td> 0</td>\n",
        "      <td>    2</td>\n",
        "    </tr>\n",
        "    <tr>\n",
        "      <th>5182081</th>\n",
        "      <th>90</th>\n",
        "      <th>728</th>\n",
        "      <td> 0</td>\n",
        "      <td>  323</td>\n",
        "    </tr>\n",
        "    <tr>\n",
        "      <th rowspan=\"2\" valign=\"top\">38208</th>\n",
        "      <th rowspan=\"2\" valign=\"top\">80  </th>\n",
        "      <th rowspan=\"2\" valign=\"top\">4534</th>\n",
        "      <th>21215  </th>\n",
        "      <th>90</th>\n",
        "      <th>728</th>\n",
        "      <td> 2</td>\n",
        "      <td> 5480</td>\n",
        "    </tr>\n",
        "    <tr>\n",
        "      <th>21220  </th>\n",
        "      <th>90</th>\n",
        "      <th>728</th>\n",
        "      <td> 1</td>\n",
        "      <td>  887</td>\n",
        "    </tr>\n",
        "  </tbody>\n",
        "</table>\n",
        "</div>"
       ],
       "metadata": {},
       "output_type": "pyout",
       "prompt_number": 51,
       "text": [
        "                                                                                        clicks  \\\n",
        "fold ad_account_id ad    pub_account_id campaign_id site    banner_height banner_width           \n",
        "0    196           38207 80             4534        12695   90            728                0   \n",
        "                                                    20304   90            728                0   \n",
        "                                                    21215   90            728                2   \n",
        "                                                    21220   90            728                4   \n",
        "                         431            4534        11128   90            728                1   \n",
        "                         1490           4534        21335   90            728                0   \n",
        "                         6023           4534        4828391 90            728                0   \n",
        "                                                    5182081 90            728                0   \n",
        "                   38208 80             4534        21215   90            728                2   \n",
        "                                                    21220   90            728                1   \n",
        "\n",
        "                                                                                        instances  \n",
        "fold ad_account_id ad    pub_account_id campaign_id site    banner_height banner_width             \n",
        "0    196           38207 80             4534        12695   90            728                   1  \n",
        "                                                    20304   90            728                   2  \n",
        "                                                    21215   90            728                5588  \n",
        "                                                    21220   90            728                 860  \n",
        "                         431            4534        11128   90            728                  66  \n",
        "                         1490           4534        21335   90            728                  22  \n",
        "                         6023           4534        4828391 90            728                   2  \n",
        "                                                    5182081 90            728                 323  \n",
        "                   38208 80             4534        21215   90            728                5480  \n",
        "                                                    21220   90            728                 887  "
       ]
      }
     ],
     "prompt_number": 51
    },
    {
     "cell_type": "code",
     "collapsed": false,
     "input": [
      "%time z.next()[0]"
     ],
     "language": "python",
     "metadata": {},
     "outputs": [
      {
       "output_type": "stream",
       "stream": "stdout",
       "text": [
        "CPU times: user 721 ms, sys: 473 ms, total: 1.19 s\n",
        "Wall time: 1.19 s\n"
       ]
      },
      {
       "html": [
        "<div style=\"max-height:1000px;max-width:1500px;overflow:auto;\">\n",
        "<table border=\"1\" class=\"dataframe\">\n",
        "  <thead>\n",
        "    <tr style=\"text-align: right;\">\n",
        "      <th></th>\n",
        "      <th></th>\n",
        "      <th></th>\n",
        "      <th></th>\n",
        "      <th>clicks</th>\n",
        "      <th>instances</th>\n",
        "    </tr>\n",
        "    <tr>\n",
        "      <th>banner_height</th>\n",
        "      <th>banner_width</th>\n",
        "      <th>site</th>\n",
        "      <th>ad</th>\n",
        "      <th></th>\n",
        "      <th></th>\n",
        "    </tr>\n",
        "  </thead>\n",
        "  <tbody>\n",
        "    <tr>\n",
        "      <th rowspan=\"30\" valign=\"top\">0   </th>\n",
        "      <th rowspan=\"30\" valign=\"top\">0   </th>\n",
        "      <th>9789   </th>\n",
        "      <th>39413</th>\n",
        "      <td>   0</td>\n",
        "      <td>    1</td>\n",
        "    </tr>\n",
        "    <tr>\n",
        "      <th rowspan=\"3\" valign=\"top\">34543  </th>\n",
        "      <th>39917</th>\n",
        "      <td>   0</td>\n",
        "      <td>    9</td>\n",
        "    </tr>\n",
        "    <tr>\n",
        "      <th>39919</th>\n",
        "      <td>   0</td>\n",
        "      <td>    4</td>\n",
        "    </tr>\n",
        "    <tr>\n",
        "      <th>39921</th>\n",
        "      <td>   0</td>\n",
        "      <td>    3</td>\n",
        "    </tr>\n",
        "    <tr>\n",
        "      <th rowspan=\"4\" valign=\"top\">34567  </th>\n",
        "      <th>39503</th>\n",
        "      <td> 121</td>\n",
        "      <td>  706</td>\n",
        "    </tr>\n",
        "    <tr>\n",
        "      <th>40386</th>\n",
        "      <td>  10</td>\n",
        "      <td>   64</td>\n",
        "    </tr>\n",
        "    <tr>\n",
        "      <th>40388</th>\n",
        "      <td>  22</td>\n",
        "      <td>   88</td>\n",
        "    </tr>\n",
        "    <tr>\n",
        "      <th>40390</th>\n",
        "      <td>  38</td>\n",
        "      <td>  117</td>\n",
        "    </tr>\n",
        "    <tr>\n",
        "      <th rowspan=\"2\" valign=\"top\">34576  </th>\n",
        "      <th>39917</th>\n",
        "      <td>   0</td>\n",
        "      <td>    1</td>\n",
        "    </tr>\n",
        "    <tr>\n",
        "      <th>39921</th>\n",
        "      <td>   0</td>\n",
        "      <td>    1</td>\n",
        "    </tr>\n",
        "    <tr>\n",
        "      <th rowspan=\"3\" valign=\"top\">34582  </th>\n",
        "      <th>39917</th>\n",
        "      <td>   2</td>\n",
        "      <td>   45</td>\n",
        "    </tr>\n",
        "    <tr>\n",
        "      <th>39919</th>\n",
        "      <td>   1</td>\n",
        "      <td>   38</td>\n",
        "    </tr>\n",
        "    <tr>\n",
        "      <th>39921</th>\n",
        "      <td>   0</td>\n",
        "      <td>   20</td>\n",
        "    </tr>\n",
        "    <tr>\n",
        "      <th rowspan=\"3\" valign=\"top\">34604  </th>\n",
        "      <th>39917</th>\n",
        "      <td>   4</td>\n",
        "      <td>   28</td>\n",
        "    </tr>\n",
        "    <tr>\n",
        "      <th>39919</th>\n",
        "      <td>   3</td>\n",
        "      <td>   31</td>\n",
        "    </tr>\n",
        "    <tr>\n",
        "      <th>39921</th>\n",
        "      <td>   1</td>\n",
        "      <td>   25</td>\n",
        "    </tr>\n",
        "    <tr>\n",
        "      <th rowspan=\"2\" valign=\"top\">34632  </th>\n",
        "      <th>39917</th>\n",
        "      <td>   1</td>\n",
        "      <td>    9</td>\n",
        "    </tr>\n",
        "    <tr>\n",
        "      <th>39919</th>\n",
        "      <td>   1</td>\n",
        "      <td>   10</td>\n",
        "    </tr>\n",
        "    <tr>\n",
        "      <th rowspan=\"3\" valign=\"top\">34800  </th>\n",
        "      <th>39917</th>\n",
        "      <td>   3</td>\n",
        "      <td>   14</td>\n",
        "    </tr>\n",
        "    <tr>\n",
        "      <th>39919</th>\n",
        "      <td>   8</td>\n",
        "      <td>   19</td>\n",
        "    </tr>\n",
        "    <tr>\n",
        "      <th>39921</th>\n",
        "      <td>   2</td>\n",
        "      <td>    5</td>\n",
        "    </tr>\n",
        "    <tr>\n",
        "      <th rowspan=\"3\" valign=\"top\">34848  </th>\n",
        "      <th>39503</th>\n",
        "      <td>   2</td>\n",
        "      <td>   12</td>\n",
        "    </tr>\n",
        "    <tr>\n",
        "      <th>40388</th>\n",
        "      <td>   0</td>\n",
        "      <td>    5</td>\n",
        "    </tr>\n",
        "    <tr>\n",
        "      <th>40390</th>\n",
        "      <td>   0</td>\n",
        "      <td>    7</td>\n",
        "    </tr>\n",
        "    <tr>\n",
        "      <th rowspan=\"3\" valign=\"top\">34889  </th>\n",
        "      <th>39917</th>\n",
        "      <td>  10</td>\n",
        "      <td>   30</td>\n",
        "    </tr>\n",
        "    <tr>\n",
        "      <th>39919</th>\n",
        "      <td>   5</td>\n",
        "      <td>   20</td>\n",
        "    </tr>\n",
        "    <tr>\n",
        "      <th>39921</th>\n",
        "      <td>   8</td>\n",
        "      <td>   21</td>\n",
        "    </tr>\n",
        "    <tr>\n",
        "      <th rowspan=\"3\" valign=\"top\">34911  </th>\n",
        "      <th>39917</th>\n",
        "      <td>   0</td>\n",
        "      <td>    1</td>\n",
        "    </tr>\n",
        "    <tr>\n",
        "      <th>39919</th>\n",
        "      <td>   0</td>\n",
        "      <td>    4</td>\n",
        "    </tr>\n",
        "    <tr>\n",
        "      <th>39921</th>\n",
        "      <td>   0</td>\n",
        "      <td>    1</td>\n",
        "    </tr>\n",
        "    <tr>\n",
        "      <th>...</th>\n",
        "      <th>...</th>\n",
        "      <th>...</th>\n",
        "      <th>...</th>\n",
        "      <td>...</td>\n",
        "      <td>...</td>\n",
        "    </tr>\n",
        "    <tr>\n",
        "      <th rowspan=\"23\" valign=\"top\">480 </th>\n",
        "      <th rowspan=\"23\" valign=\"top\">320 </th>\n",
        "      <th rowspan=\"3\" valign=\"top\">7045542</th>\n",
        "      <th>39478</th>\n",
        "      <td>   0</td>\n",
        "      <td>    1</td>\n",
        "    </tr>\n",
        "    <tr>\n",
        "      <th>39479</th>\n",
        "      <td>   0</td>\n",
        "      <td>    1</td>\n",
        "    </tr>\n",
        "    <tr>\n",
        "      <th>40331</th>\n",
        "      <td>   0</td>\n",
        "      <td>    8</td>\n",
        "    </tr>\n",
        "    <tr>\n",
        "      <th>7054646</th>\n",
        "      <th>40331</th>\n",
        "      <td>   1</td>\n",
        "      <td>    2</td>\n",
        "    </tr>\n",
        "    <tr>\n",
        "      <th rowspan=\"2\" valign=\"top\">7054669</th>\n",
        "      <th>39478</th>\n",
        "      <td>   0</td>\n",
        "      <td>    1</td>\n",
        "    </tr>\n",
        "    <tr>\n",
        "      <th>39479</th>\n",
        "      <td>   0</td>\n",
        "      <td>    2</td>\n",
        "    </tr>\n",
        "    <tr>\n",
        "      <th>7055001</th>\n",
        "      <th>40331</th>\n",
        "      <td>   0</td>\n",
        "      <td>   17</td>\n",
        "    </tr>\n",
        "    <tr>\n",
        "      <th>7057212</th>\n",
        "      <th>40331</th>\n",
        "      <td>   1</td>\n",
        "      <td>    4</td>\n",
        "    </tr>\n",
        "    <tr>\n",
        "      <th>7074373</th>\n",
        "      <th>39479</th>\n",
        "      <td>   0</td>\n",
        "      <td>    1</td>\n",
        "    </tr>\n",
        "    <tr>\n",
        "      <th>7083715</th>\n",
        "      <th>40331</th>\n",
        "      <td>   0</td>\n",
        "      <td>    2</td>\n",
        "    </tr>\n",
        "    <tr>\n",
        "      <th>7084317</th>\n",
        "      <th>40331</th>\n",
        "      <td>   3</td>\n",
        "      <td>   42</td>\n",
        "    </tr>\n",
        "    <tr>\n",
        "      <th>7087298</th>\n",
        "      <th>40331</th>\n",
        "      <td>   0</td>\n",
        "      <td>    2</td>\n",
        "    </tr>\n",
        "    <tr>\n",
        "      <th rowspan=\"2\" valign=\"top\">7087299</th>\n",
        "      <th>39479</th>\n",
        "      <td>   0</td>\n",
        "      <td>    2</td>\n",
        "    </tr>\n",
        "    <tr>\n",
        "      <th>40331</th>\n",
        "      <td>   0</td>\n",
        "      <td>    3</td>\n",
        "    </tr>\n",
        "    <tr>\n",
        "      <th rowspan=\"2\" valign=\"top\">7087309</th>\n",
        "      <th>39479</th>\n",
        "      <td>   0</td>\n",
        "      <td>    1</td>\n",
        "    </tr>\n",
        "    <tr>\n",
        "      <th>40331</th>\n",
        "      <td>   0</td>\n",
        "      <td>    4</td>\n",
        "    </tr>\n",
        "    <tr>\n",
        "      <th rowspan=\"5\" valign=\"top\">7087313</th>\n",
        "      <th>39478</th>\n",
        "      <td>   0</td>\n",
        "      <td>    2</td>\n",
        "    </tr>\n",
        "    <tr>\n",
        "      <th>39479</th>\n",
        "      <td>   0</td>\n",
        "      <td>    1</td>\n",
        "    </tr>\n",
        "    <tr>\n",
        "      <th>39480</th>\n",
        "      <td>   0</td>\n",
        "      <td>    3</td>\n",
        "    </tr>\n",
        "    <tr>\n",
        "      <th>40239</th>\n",
        "      <td>   0</td>\n",
        "      <td>    1</td>\n",
        "    </tr>\n",
        "    <tr>\n",
        "      <th>40331</th>\n",
        "      <td>   0</td>\n",
        "      <td>   52</td>\n",
        "    </tr>\n",
        "    <tr>\n",
        "      <th>7087351</th>\n",
        "      <th>40331</th>\n",
        "      <td>   0</td>\n",
        "      <td>    1</td>\n",
        "    </tr>\n",
        "    <tr>\n",
        "      <th>7087654</th>\n",
        "      <th>40331</th>\n",
        "      <td>   0</td>\n",
        "      <td>   11</td>\n",
        "    </tr>\n",
        "    <tr>\n",
        "      <th>768 </th>\n",
        "      <th>1024</th>\n",
        "      <th>21217  </th>\n",
        "      <th>39506</th>\n",
        "      <td>   0</td>\n",
        "      <td> 6266</td>\n",
        "    </tr>\n",
        "    <tr>\n",
        "      <th rowspan=\"2\" valign=\"top\">800 </th>\n",
        "      <th rowspan=\"2\" valign=\"top\">480 </th>\n",
        "      <th>9789   </th>\n",
        "      <th>35357</th>\n",
        "      <td>   0</td>\n",
        "      <td>    7</td>\n",
        "    </tr>\n",
        "    <tr>\n",
        "      <th>1440870</th>\n",
        "      <th>40325</th>\n",
        "      <td>   0</td>\n",
        "      <td>    2</td>\n",
        "    </tr>\n",
        "    <tr>\n",
        "      <th>960 </th>\n",
        "      <th>540 </th>\n",
        "      <th>9789   </th>\n",
        "      <th>35357</th>\n",
        "      <td>   0</td>\n",
        "      <td>    4</td>\n",
        "    </tr>\n",
        "    <tr>\n",
        "      <th>1024</th>\n",
        "      <th>600 </th>\n",
        "      <th>9789   </th>\n",
        "      <th>35357</th>\n",
        "      <td>   0</td>\n",
        "      <td>    1</td>\n",
        "    </tr>\n",
        "    <tr>\n",
        "      <th rowspan=\"2\" valign=\"top\">1280</th>\n",
        "      <th>720 </th>\n",
        "      <th>9789   </th>\n",
        "      <th>35357</th>\n",
        "      <td>   0</td>\n",
        "      <td>    3</td>\n",
        "    </tr>\n",
        "    <tr>\n",
        "      <th>800 </th>\n",
        "      <th>9789   </th>\n",
        "      <th>35357</th>\n",
        "      <td>   0</td>\n",
        "      <td>    1</td>\n",
        "    </tr>\n",
        "  </tbody>\n",
        "</table>\n",
        "<p>399155 rows \u00d7 2 columns</p>\n",
        "</div>"
       ],
       "metadata": {},
       "output_type": "pyout",
       "prompt_number": 200,
       "text": [
        "                                          clicks  instances\n",
        "banner_height banner_width site    ad                      \n",
        "0             0            9789    39413       0          1\n",
        "                           34543   39917       0          9\n",
        "                                   39919       0          4\n",
        "                                   39921       0          3\n",
        "                           34567   39503     121        706\n",
        "                                   40386      10         64\n",
        "                                   40388      22         88\n",
        "                                   40390      38        117\n",
        "                           34576   39917       0          1\n",
        "                                   39921       0          1\n",
        "                           34582   39917       2         45\n",
        "                                   39919       1         38\n",
        "                                   39921       0         20\n",
        "                           34604   39917       4         28\n",
        "                                   39919       3         31\n",
        "                                   39921       1         25\n",
        "                           34632   39917       1          9\n",
        "                                   39919       1         10\n",
        "                           34800   39917       3         14\n",
        "                                   39919       8         19\n",
        "                                   39921       2          5\n",
        "                           34848   39503       2         12\n",
        "                                   40388       0          5\n",
        "                                   40390       0          7\n",
        "                           34889   39917      10         30\n",
        "                                   39919       5         20\n",
        "                                   39921       8         21\n",
        "                           34911   39917       0          1\n",
        "                                   39919       0          4\n",
        "                                   39921       0          1\n",
        "...                                          ...        ...\n",
        "480           320          7045542 39478       0          1\n",
        "                                   39479       0          1\n",
        "                                   40331       0          8\n",
        "                           7054646 40331       1          2\n",
        "                           7054669 39478       0          1\n",
        "                                   39479       0          2\n",
        "                           7055001 40331       0         17\n",
        "                           7057212 40331       1          4\n",
        "                           7074373 39479       0          1\n",
        "                           7083715 40331       0          2\n",
        "                           7084317 40331       3         42\n",
        "                           7087298 40331       0          2\n",
        "                           7087299 39479       0          2\n",
        "                                   40331       0          3\n",
        "                           7087309 39479       0          1\n",
        "                                   40331       0          4\n",
        "                           7087313 39478       0          2\n",
        "                                   39479       0          1\n",
        "                                   39480       0          3\n",
        "                                   40239       0          1\n",
        "                                   40331       0         52\n",
        "                           7087351 40331       0          1\n",
        "                           7087654 40331       0         11\n",
        "768           1024         21217   39506       0       6266\n",
        "800           480          9789    35357       0          7\n",
        "                           1440870 40325       0          2\n",
        "960           540          9789    35357       0          4\n",
        "1024          600          9789    35357       0          1\n",
        "1280          720          9789    35357       0          3\n",
        "              800          9789    35357       0          1\n",
        "\n",
        "[399155 rows x 2 columns]"
       ]
      }
     ],
     "prompt_number": 200
    },
    {
     "cell_type": "code",
     "collapsed": false,
     "input": [
      "%run libLinear_functions.py"
     ],
     "language": "python",
     "metadata": {},
     "outputs": [],
     "prompt_number": 64
    },
    {
     "cell_type": "code",
     "collapsed": false,
     "input": [
      "factors_nodate=factors[:]\n",
      "factors_nodate.remove('date')"
     ],
     "language": "python",
     "metadata": {},
     "outputs": [],
     "prompt_number": 61
    },
    {
     "cell_type": "code",
     "collapsed": false,
     "input": [
      "write_kfolds(fold_data, n_cross, factors_nodate, non_factors, cut_off,\n",
      "                 data_path+'ext/', 'fold')"
     ],
     "language": "python",
     "metadata": {},
     "outputs": [],
     "prompt_number": 65
    },
    {
     "cell_type": "heading",
     "level": 1,
     "metadata": {},
     "source": [
      "Create Sparse Matrices for the dummy variables"
     ]
    },
    {
     "cell_type": "code",
     "collapsed": false,
     "input": [
      "sc, mad_sparse_train, weights, targets=libLinear_functions.make_sparse_(train_df_mrg, factors, non_factors, cut_off)"
     ],
     "language": "python",
     "metadata": {},
     "outputs": [],
     "prompt_number": 225
    },
    {
     "cell_type": "code",
     "collapsed": false,
     "input": [
      "print mad_sparse_train.data.shape\n",
      "print mad_sparse_train.indptr.shape\n",
      "print mad_sparse_train.indices.shape"
     ],
     "language": "python",
     "metadata": {},
     "outputs": [
      {
       "output_type": "stream",
       "stream": "stdout",
       "text": [
        "(49443606,)\n",
        "(5493735,)\n",
        "(49443606,)\n"
       ]
      }
     ],
     "prompt_number": 230
    },
    {
     "cell_type": "code",
     "collapsed": false,
     "input": [
      "sc.len_factors"
     ],
     "language": "python",
     "metadata": {},
     "outputs": [
      {
       "metadata": {},
       "output_type": "pyout",
       "prompt_number": 226,
       "text": [
        "[144, 58643, 761, 19, 63495, 221, 62, 124, 256123]"
       ]
      }
     ],
     "prompt_number": 226
    },
    {
     "cell_type": "code",
     "collapsed": false,
     "input": [
      "data_path"
     ],
     "language": "python",
     "metadata": {},
     "outputs": [
      {
       "metadata": {},
       "output_type": "pyout",
       "prompt_number": 227,
       "text": [
        "'../data/'"
       ]
      }
     ],
     "prompt_number": 227
    },
    {
     "cell_type": "code",
     "collapsed": false,
     "input": [
      "train_df.shape"
     ],
     "language": "python",
     "metadata": {},
     "outputs": [
      {
       "metadata": {},
       "output_type": "pyout",
       "prompt_number": 244,
       "text": [
        "(2751382, 7)"
       ]
      }
     ],
     "prompt_number": 244
    },
    {
     "cell_type": "code",
     "collapsed": false,
     "input": [
      "weights[0:10]"
     ],
     "language": "python",
     "metadata": {},
     "outputs": [
      {
       "metadata": {},
       "output_type": "pyout",
       "prompt_number": 245,
       "text": [
        "array([  1.,   1.,  12.,   5.,   4.,   6.,  10.,   2.,   3.,   1.])"
       ]
      }
     ],
     "prompt_number": 245
    },
    {
     "cell_type": "code",
     "collapsed": false,
     "input": [
      "factors"
     ],
     "language": "python",
     "metadata": {},
     "outputs": [
      {
       "metadata": {},
       "output_type": "pyout",
       "prompt_number": 240,
       "text": [
        "['date',\n",
        " 'site',\n",
        " 'ad',\n",
        " 'banner_width*banner_height',\n",
        " 'site*banner_width*banner_height',\n",
        " 'campaign_id',\n",
        " 'ad_account_id',\n",
        " 'pub_account_id',\n",
        " 'campaign_id*site']"
       ]
      }
     ],
     "prompt_number": 240
    },
    {
     "cell_type": "code",
     "collapsed": false,
     "input": [
      "train_df.columns"
     ],
     "language": "python",
     "metadata": {},
     "outputs": [
      {
       "metadata": {},
       "output_type": "pyout",
       "prompt_number": 246,
       "text": [
        "Index([u'date', u'banner_height', u'banner_width', u'site', u'ad', u'clicks', u'instances'], dtype='object')"
       ]
      }
     ],
     "prompt_number": 246
    },
    {
     "cell_type": "code",
     "collapsed": false,
     "input": [
      "libLinear_functions.write_sparse(sc, mad_sparse_train, weights, targets, data_path+'ext/')"
     ],
     "language": "python",
     "metadata": {},
     "outputs": [],
     "prompt_number": 229
    },
    {
     "cell_type": "code",
     "collapsed": false,
     "input": [
      "targets.shape"
     ],
     "language": "python",
     "metadata": {},
     "outputs": [
      {
       "metadata": {},
       "output_type": "pyout",
       "prompt_number": 247,
       "text": [
        "(5493734,)"
       ]
      }
     ],
     "prompt_number": 247
    },
    {
     "cell_type": "code",
     "collapsed": false,
     "input": [
      "factors"
     ],
     "language": "python",
     "metadata": {},
     "outputs": [
      {
       "metadata": {},
       "output_type": "pyout",
       "prompt_number": 248,
       "text": [
        "['date',\n",
        " 'site',\n",
        " 'ad',\n",
        " 'banner_width*banner_height',\n",
        " 'site*banner_width*banner_height',\n",
        " 'campaign_id',\n",
        " 'ad_account_id',\n",
        " 'pub_account_id',\n",
        " 'campaign_id*site']"
       ]
      }
     ],
     "prompt_number": 248
    },
    {
     "cell_type": "code",
     "collapsed": false,
     "input": [
      "spio.mmwrite(data_path+'/ext/mad_sparse_train_mm',mad_sparse_train,field='integer')"
     ],
     "language": "python",
     "metadata": {},
     "outputs": [],
     "prompt_number": 238
    },
    {
     "cell_type": "code",
     "collapsed": false,
     "input": [
      "import scipy.io as spio"
     ],
     "language": "python",
     "metadata": {},
     "outputs": [],
     "prompt_number": 237
    },
    {
     "cell_type": "code",
     "collapsed": false,
     "input": [
      "libLinear_functions.make_sparse(train_df,factors,non_factors,cut_off,data_path+'test0/')"
     ],
     "language": "python",
     "metadata": {},
     "outputs": [],
     "prompt_number": 93
    },
    {
     "cell_type": "heading",
     "level": 1,
     "metadata": {},
     "source": [
      "Train model"
     ]
    },
    {
     "cell_type": "code",
     "collapsed": false,
     "input": [
      "tol=0.00000001\n",
      "c=0.37170075843439998\n",
      "bias=1"
     ],
     "language": "python",
     "metadata": {},
     "outputs": [],
     "prompt_number": 98
    },
    {
     "cell_type": "code",
     "collapsed": false,
     "input": [
      "weights_file='train_ais.txt'\n",
      "train_file='train_svm.txt'\n",
      "model_file='model_summ.model'\n",
      "probability_file='preds_SummModel_py.txt'"
     ],
     "language": "python",
     "metadata": {},
     "outputs": [],
     "prompt_number": 94
    },
    {
     "cell_type": "code",
     "collapsed": false,
     "input": [
      "fit(executable_path, data_path+'test0/', train_file,\n",
      "        'model_summ_0_03717.model', weights_file, model_type=0, reg_param=c/10, tol=tol, has_intercept=True)"
     ],
     "language": "python",
     "metadata": {},
     "outputs": [
      {
       "output_type": "stream",
       "stream": "stderr",
       "text": [
        "../../../../lib/liblinear-weights/train -s {model_type} -c 0.0371700758434 -e 1e-08 -B 1 -W  ../data/test0/train_ais.txt ../data/test0/train_svm.txt ../data/test0/model_summ_0_03717.model\n"
       ]
      },
      {
       "metadata": {},
       "output_type": "pyout",
       "prompt_number": 101,
       "text": [
        "0"
       ]
      }
     ],
     "prompt_number": 101
    },
    {
     "cell_type": "code",
     "collapsed": false,
     "input": [
      "%run libLinear_functions.py"
     ],
     "language": "python",
     "metadata": {},
     "outputs": [],
     "prompt_number": 48
    },
    {
     "cell_type": "heading",
     "level": 1,
     "metadata": {},
     "source": [
      "TO DO: write predict function that reads data, generates sparse file and calculates metrics etc."
     ]
    },
    {
     "cell_type": "code",
     "collapsed": false,
     "input": [
      "cmd=executable_path+'/train -s 0 -c '+str(c)+' -e '+str(tol)+' -B '+str(bias)+ \\\n",
      "    ' -W '+data_path+ weights_file +' '+ \\\n",
      "    data_path+ train_file + ' '+ \\\n",
      "    data_path+ model_file \n",
      "print(cmd)\n",
      "os.system(executable_path+'/train -s 0 -c '+str(c)+' -e '+str(tol)+' -B '+str(bias)+' -W '+data_path+'train_ais.txt '+data_path+'train_svm.txt '+data_path+'model_summ.model')\n"
     ],
     "language": "python",
     "metadata": {},
     "outputs": [
      {
       "output_type": "stream",
       "stream": "stdout",
       "text": [
        "../../../lib/liblinear-weights//train -s 0 -c 0.371700758434 -e 1e-08 -B 1 -W ../data/train_ais.txt ../data/train_svm.txt ../data/model_summ.model\n"
       ]
      },
      {
       "metadata": {},
       "output_type": "pyout",
       "prompt_number": 16,
       "text": [
        "0"
       ]
      }
     ],
     "prompt_number": 16
    },
    {
     "cell_type": "heading",
     "level": 1,
     "metadata": {},
     "source": [
      "Analyse results"
     ]
    },
    {
     "cell_type": "code",
     "collapsed": false,
     "input": [
      "# output probabilities\n",
      "predict_cmd='./'+executable_path+'predict -b 1 '+ \\\n",
      "    data_path + train_file + ' ' + \\\n",
      "    data_path + model_file + ' ' + \\\n",
      "    data_path + probability_file \n",
      "os.system(predict_cmd) \n",
      "\n",
      "  "
     ],
     "language": "python",
     "metadata": {},
     "outputs": [
      {
       "metadata": {},
       "output_type": "pyout",
       "prompt_number": 17,
       "text": [
        "0"
       ]
      }
     ],
     "prompt_number": 17
    },
    {
     "cell_type": "code",
     "collapsed": false,
     "input": [
      "y_train, x_train      = liblinearutil.svm_read_problem(data_path+train_file)\n",
      "y_train=np.array(y_train)\n",
      "W_val             = np.loadtxt(data_path+weights_file)                \n",
      "results_SummModel = pd.read_csv(data_path+probability_file,sep=' ')\n",
      "p_val1            = results_SummModel['1'].values   "
     ],
     "language": "python",
     "metadata": {},
     "outputs": [],
     "prompt_number": 18
    },
    {
     "cell_type": "code",
     "collapsed": false,
     "input": [
      "print results_SummModel.columns\n",
      "print results_SummModel.shape"
     ],
     "language": "python",
     "metadata": {},
     "outputs": [
      {
       "output_type": "stream",
       "stream": "stdout",
       "text": [
        "Index([u'labels', u'0', u'1'], dtype='object')\n",
        "(834698, 3)\n"
       ]
      }
     ],
     "prompt_number": 19
    },
    {
     "cell_type": "code",
     "collapsed": false,
     "input": [
      "pCTR=pd.Series(p_val1,name='pCTR')"
     ],
     "language": "python",
     "metadata": {},
     "outputs": [],
     "prompt_number": 59
    },
    {
     "cell_type": "code",
     "collapsed": false,
     "input": [
      "pCTR[0:10]"
     ],
     "language": "python",
     "metadata": {},
     "outputs": [
      {
       "metadata": {},
       "output_type": "pyout",
       "prompt_number": 60,
       "text": [
        "0    0.122469\n",
        "1    0.020644\n",
        "2    0.019972\n",
        "3    0.022406\n",
        "4    0.182780\n",
        "5    0.205326\n",
        "6    0.205176\n",
        "7    0.206835\n",
        "8    0.107143\n",
        "9    0.115415\n",
        "Name: pCTR, dtype: float64"
       ]
      }
     ],
     "prompt_number": 60
    },
    {
     "cell_type": "code",
     "collapsed": false,
     "input": [
      "%matplotlib inline"
     ],
     "language": "python",
     "metadata": {},
     "outputs": [],
     "prompt_number": 76
    },
    {
     "cell_type": "code",
     "collapsed": false,
     "input": [
      "auc_w=libLinear_functions.W_ROC_AUC(p_val1,y_train,W_val)"
     ],
     "language": "python",
     "metadata": {},
     "outputs": [],
     "prompt_number": 22
    },
    {
     "cell_type": "code",
     "collapsed": false,
     "input": [
      "auc_w"
     ],
     "language": "python",
     "metadata": {},
     "outputs": [
      {
       "metadata": {},
       "output_type": "pyout",
       "prompt_number": 23,
       "text": [
        "0.80951101314786433"
       ]
      }
     ],
     "prompt_number": 23
    },
    {
     "cell_type": "code",
     "collapsed": false,
     "input": [
      "log_w=libLinear_functions.W_LogLos(p_val1,y_train,W_val)"
     ],
     "language": "python",
     "metadata": {},
     "outputs": [],
     "prompt_number": 93
    },
    {
     "cell_type": "code",
     "collapsed": false,
     "input": [
      "print log_w, log_w2"
     ],
     "language": "python",
     "metadata": {},
     "outputs": [
      {
       "output_type": "stream",
       "stream": "stdout",
       "text": [
        "0.0272478430366 -6.1725810375\n"
       ]
      }
     ],
     "prompt_number": 94
    },
    {
     "cell_type": "code",
     "collapsed": false,
     "input": [
      "log_w1,_ =libLinear_functions.log_loss_weighted(p_val1,y_train,W_val)"
     ],
     "language": "python",
     "metadata": {},
     "outputs": [],
     "prompt_number": 25
    },
    {
     "cell_type": "code",
     "collapsed": false,
     "input": [
      "log_w1"
     ],
     "language": "python",
     "metadata": {},
     "outputs": [
      {
       "metadata": {},
       "output_type": "pyout",
       "prompt_number": 26,
       "text": [
        "0.027247843036602389"
       ]
      }
     ],
     "prompt_number": 26
    },
    {
     "cell_type": "code",
     "collapsed": false,
     "input": [
      "417349*2"
     ],
     "language": "python",
     "metadata": {},
     "outputs": [
      {
       "metadata": {},
       "output_type": "pyout",
       "prompt_number": 109,
       "text": [
        "834698"
       ]
      }
     ],
     "prompt_number": 109
    },
    {
     "cell_type": "code",
     "collapsed": false,
     "input": [
      "train_df['pCTR']=p_val1[0:train_df.shape[0]]\n",
      "train_df['CTR']=train_df['clicks']/train_df['instances']\n",
      "train_df['sse']=1.0/train_df.instances.sum() *(train_df.clicks *(1-train_df.pCTR)**2 + (train_df.instances-train_df.clicks) *(train_df.pCTR)**2) \n",
      "train_df['log_loss']=-1.0/train_df.instances.sum() *(train_df.clicks *np.log(train_df.pCTR) + (train_df.instances-train_df.clicks) *np.log(1-train_df.pCTR))\n"
     ],
     "language": "python",
     "metadata": {},
     "outputs": [],
     "prompt_number": 27
    },
    {
     "cell_type": "code",
     "collapsed": false,
     "input": [
      "train_df.log_loss.sum()"
     ],
     "language": "python",
     "metadata": {},
     "outputs": [
      {
       "metadata": {},
       "output_type": "pyout",
       "prompt_number": 133,
       "text": [
        "0.027247843036601931"
       ]
      }
     ],
     "prompt_number": 133
    },
    {
     "cell_type": "code",
     "collapsed": false,
     "input": [
      "np.sqrt(train_df.sse.sum())"
     ],
     "language": "python",
     "metadata": {},
     "outputs": [
      {
       "metadata": {},
       "output_type": "pyout",
       "prompt_number": 145,
       "text": [
        "0.069152974386760657"
       ]
      }
     ],
     "prompt_number": 145
    },
    {
     "cell_type": "code",
     "collapsed": false,
     "input": [
      "np.unique(y_train)"
     ],
     "language": "python",
     "metadata": {},
     "outputs": [
      {
       "metadata": {},
       "output_type": "pyout",
       "prompt_number": 126,
       "text": [
        "array([ 0.,  1.])"
       ]
      }
     ],
     "prompt_number": 126
    },
    {
     "cell_type": "code",
     "collapsed": false,
     "input": [
      "train_df_ad=train_df[['ad','clicks','instances','sse','log_loss']].groupby(['ad']).sum().sort('log_loss',ascending=False)"
     ],
     "language": "python",
     "metadata": {},
     "outputs": [],
     "prompt_number": 33
    },
    {
     "cell_type": "code",
     "collapsed": false,
     "input": [
      "train_df_ad['log_loss%']=train_df_ad['log_loss']/train_df_ad['log_loss'].sum()*100\n",
      "train_df_ad['log_loss%_cum']=train_df_ad['log_loss%'].cumsum()\n",
      "\n",
      "train_df_ad[0:50]\n"
     ],
     "language": "python",
     "metadata": {},
     "outputs": [
      {
       "html": [
        "<div style=\"max-height:1000px;max-width:1500px;overflow:auto;\">\n",
        "<table border=\"1\" class=\"dataframe\">\n",
        "  <thead>\n",
        "    <tr style=\"text-align: right;\">\n",
        "      <th></th>\n",
        "      <th>clicks</th>\n",
        "      <th>instances</th>\n",
        "      <th>sse</th>\n",
        "      <th>log_loss</th>\n",
        "      <th>log_loss%</th>\n",
        "      <th>log_loss%_cum</th>\n",
        "    </tr>\n",
        "    <tr>\n",
        "      <th>ad</th>\n",
        "      <th></th>\n",
        "      <th></th>\n",
        "      <th></th>\n",
        "      <th></th>\n",
        "      <th></th>\n",
        "      <th></th>\n",
        "    </tr>\n",
        "  </thead>\n",
        "  <tbody>\n",
        "    <tr>\n",
        "      <th>39728</th>\n",
        "      <td> 21687</td>\n",
        "      <td> 2801445</td>\n",
        "      <td> 0.000247</td>\n",
        "      <td> 0.001389</td>\n",
        "      <td> 5.098086</td>\n",
        "      <td>  5.098086</td>\n",
        "    </tr>\n",
        "    <tr>\n",
        "      <th>39912</th>\n",
        "      <td> 13224</td>\n",
        "      <td> 1292342</td>\n",
        "      <td> 0.000151</td>\n",
        "      <td> 0.000820</td>\n",
        "      <td> 3.011156</td>\n",
        "      <td>  8.109243</td>\n",
        "    </tr>\n",
        "    <tr>\n",
        "      <th>38656</th>\n",
        "      <td> 12798</td>\n",
        "      <td> 1406417</td>\n",
        "      <td> 0.000146</td>\n",
        "      <td> 0.000812</td>\n",
        "      <td> 2.980261</td>\n",
        "      <td> 11.089503</td>\n",
        "    </tr>\n",
        "    <tr>\n",
        "      <th>39913</th>\n",
        "      <td> 12994</td>\n",
        "      <td> 1239852</td>\n",
        "      <td> 0.000148</td>\n",
        "      <td> 0.000807</td>\n",
        "      <td> 2.963399</td>\n",
        "      <td> 14.052903</td>\n",
        "    </tr>\n",
        "    <tr>\n",
        "      <th>40096</th>\n",
        "      <td>  9416</td>\n",
        "      <td>  744317</td>\n",
        "      <td> 0.000107</td>\n",
        "      <td> 0.000553</td>\n",
        "      <td> 2.028185</td>\n",
        "      <td> 16.081087</td>\n",
        "    </tr>\n",
        "    <tr>\n",
        "      <th>39840</th>\n",
        "      <td>  8595</td>\n",
        "      <td>  869005</td>\n",
        "      <td> 0.000098</td>\n",
        "      <td> 0.000545</td>\n",
        "      <td> 1.999725</td>\n",
        "      <td> 18.080813</td>\n",
        "    </tr>\n",
        "    <tr>\n",
        "      <th>39636</th>\n",
        "      <td>  7620</td>\n",
        "      <td> 1023413</td>\n",
        "      <td> 0.000087</td>\n",
        "      <td> 0.000495</td>\n",
        "      <td> 1.815923</td>\n",
        "      <td> 19.896736</td>\n",
        "    </tr>\n",
        "    <tr>\n",
        "      <th>40207</th>\n",
        "      <td>  6994</td>\n",
        "      <td>  868082</td>\n",
        "      <td> 0.000080</td>\n",
        "      <td> 0.000456</td>\n",
        "      <td> 1.674822</td>\n",
        "      <td> 21.571558</td>\n",
        "    </tr>\n",
        "    <tr>\n",
        "      <th>37320</th>\n",
        "      <td>  5855</td>\n",
        "      <td> 1898984</td>\n",
        "      <td> 0.000067</td>\n",
        "      <td> 0.000419</td>\n",
        "      <td> 1.537056</td>\n",
        "      <td> 23.108614</td>\n",
        "    </tr>\n",
        "    <tr>\n",
        "      <th>39865</th>\n",
        "      <td>  6196</td>\n",
        "      <td> 1071631</td>\n",
        "      <td> 0.000071</td>\n",
        "      <td> 0.000405</td>\n",
        "      <td> 1.486990</td>\n",
        "      <td> 24.595604</td>\n",
        "    </tr>\n",
        "    <tr>\n",
        "      <th>38964</th>\n",
        "      <td>  6413</td>\n",
        "      <td> 1432138</td>\n",
        "      <td> 0.000072</td>\n",
        "      <td> 0.000395</td>\n",
        "      <td> 1.451217</td>\n",
        "      <td> 26.046821</td>\n",
        "    </tr>\n",
        "    <tr>\n",
        "      <th>39929</th>\n",
        "      <td>  6120</td>\n",
        "      <td> 1203287</td>\n",
        "      <td> 0.000070</td>\n",
        "      <td> 0.000389</td>\n",
        "      <td> 1.426140</td>\n",
        "      <td> 27.472961</td>\n",
        "    </tr>\n",
        "    <tr>\n",
        "      <th>39560</th>\n",
        "      <td>  5324</td>\n",
        "      <td> 1052443</td>\n",
        "      <td> 0.000061</td>\n",
        "      <td> 0.000363</td>\n",
        "      <td> 1.330458</td>\n",
        "      <td> 28.803419</td>\n",
        "    </tr>\n",
        "    <tr>\n",
        "      <th>39391</th>\n",
        "      <td>  6180</td>\n",
        "      <td>  529967</td>\n",
        "      <td> 0.000070</td>\n",
        "      <td> 0.000361</td>\n",
        "      <td> 1.324074</td>\n",
        "      <td> 30.127494</td>\n",
        "    </tr>\n",
        "    <tr>\n",
        "      <th>40396</th>\n",
        "      <td>  5669</td>\n",
        "      <td>  567679</td>\n",
        "      <td> 0.000065</td>\n",
        "      <td> 0.000352</td>\n",
        "      <td> 1.291980</td>\n",
        "      <td> 31.419474</td>\n",
        "    </tr>\n",
        "    <tr>\n",
        "      <th>39503</th>\n",
        "      <td>  9887</td>\n",
        "      <td>   79250</td>\n",
        "      <td> 0.000098</td>\n",
        "      <td> 0.000335</td>\n",
        "      <td> 1.228681</td>\n",
        "      <td> 32.648154</td>\n",
        "    </tr>\n",
        "    <tr>\n",
        "      <th>39702</th>\n",
        "      <td>  5206</td>\n",
        "      <td>  669869</td>\n",
        "      <td> 0.000060</td>\n",
        "      <td> 0.000332</td>\n",
        "      <td> 1.219931</td>\n",
        "      <td> 33.868085</td>\n",
        "    </tr>\n",
        "    <tr>\n",
        "      <th>39741</th>\n",
        "      <td>  5573</td>\n",
        "      <td>  707713</td>\n",
        "      <td> 0.000063</td>\n",
        "      <td> 0.000332</td>\n",
        "      <td> 1.218684</td>\n",
        "      <td> 35.086769</td>\n",
        "    </tr>\n",
        "    <tr>\n",
        "      <th>39688</th>\n",
        "      <td>  5079</td>\n",
        "      <td>  642136</td>\n",
        "      <td> 0.000058</td>\n",
        "      <td> 0.000330</td>\n",
        "      <td> 1.210236</td>\n",
        "      <td> 36.297004</td>\n",
        "    </tr>\n",
        "    <tr>\n",
        "      <th>39976</th>\n",
        "      <td>  4543</td>\n",
        "      <td> 1158020</td>\n",
        "      <td> 0.000052</td>\n",
        "      <td> 0.000310</td>\n",
        "      <td> 1.137488</td>\n",
        "      <td> 37.434492</td>\n",
        "    </tr>\n",
        "    <tr>\n",
        "      <th>38851</th>\n",
        "      <td>  4415</td>\n",
        "      <td>  966087</td>\n",
        "      <td> 0.000050</td>\n",
        "      <td> 0.000306</td>\n",
        "      <td> 1.123876</td>\n",
        "      <td> 38.558368</td>\n",
        "    </tr>\n",
        "    <tr>\n",
        "      <th>39279</th>\n",
        "      <td>  4293</td>\n",
        "      <td> 1385121</td>\n",
        "      <td> 0.000049</td>\n",
        "      <td> 0.000295</td>\n",
        "      <td> 1.082429</td>\n",
        "      <td> 39.640797</td>\n",
        "    </tr>\n",
        "    <tr>\n",
        "      <th>39317</th>\n",
        "      <td>  4646</td>\n",
        "      <td>  443075</td>\n",
        "      <td> 0.000053</td>\n",
        "      <td> 0.000293</td>\n",
        "      <td> 1.074156</td>\n",
        "      <td> 40.714953</td>\n",
        "    </tr>\n",
        "    <tr>\n",
        "      <th>40395</th>\n",
        "      <td>  4208</td>\n",
        "      <td>  871133</td>\n",
        "      <td> 0.000048</td>\n",
        "      <td> 0.000266</td>\n",
        "      <td> 0.975086</td>\n",
        "      <td> 41.690039</td>\n",
        "    </tr>\n",
        "    <tr>\n",
        "      <th>38755</th>\n",
        "      <td>  4172</td>\n",
        "      <td>  347818</td>\n",
        "      <td> 0.000048</td>\n",
        "      <td> 0.000258</td>\n",
        "      <td> 0.947974</td>\n",
        "      <td> 42.638013</td>\n",
        "    </tr>\n",
        "    <tr>\n",
        "      <th>39419</th>\n",
        "      <td>  4041</td>\n",
        "      <td>  662427</td>\n",
        "      <td> 0.000046</td>\n",
        "      <td> 0.000257</td>\n",
        "      <td> 0.941758</td>\n",
        "      <td> 43.579770</td>\n",
        "    </tr>\n",
        "    <tr>\n",
        "      <th>40391</th>\n",
        "      <td>  3845</td>\n",
        "      <td>  919008</td>\n",
        "      <td> 0.000044</td>\n",
        "      <td> 0.000246</td>\n",
        "      <td> 0.901789</td>\n",
        "      <td> 44.481559</td>\n",
        "    </tr>\n",
        "    <tr>\n",
        "      <th>38574</th>\n",
        "      <td>  3143</td>\n",
        "      <td>  973211</td>\n",
        "      <td> 0.000036</td>\n",
        "      <td> 0.000245</td>\n",
        "      <td> 0.899577</td>\n",
        "      <td> 45.381136</td>\n",
        "    </tr>\n",
        "    <tr>\n",
        "      <th>39827</th>\n",
        "      <td>  2972</td>\n",
        "      <td> 1477361</td>\n",
        "      <td> 0.000034</td>\n",
        "      <td> 0.000242</td>\n",
        "      <td> 0.887884</td>\n",
        "      <td> 46.269021</td>\n",
        "    </tr>\n",
        "    <tr>\n",
        "      <th>39738</th>\n",
        "      <td>  3587</td>\n",
        "      <td>  622910</td>\n",
        "      <td> 0.000041</td>\n",
        "      <td> 0.000233</td>\n",
        "      <td> 0.856115</td>\n",
        "      <td> 47.125136</td>\n",
        "    </tr>\n",
        "    <tr>\n",
        "      <th>39709</th>\n",
        "      <td>  3362</td>\n",
        "      <td>  510461</td>\n",
        "      <td> 0.000039</td>\n",
        "      <td> 0.000228</td>\n",
        "      <td> 0.835762</td>\n",
        "      <td> 47.960898</td>\n",
        "    </tr>\n",
        "    <tr>\n",
        "      <th>40394</th>\n",
        "      <td>  3591</td>\n",
        "      <td>  799726</td>\n",
        "      <td> 0.000041</td>\n",
        "      <td> 0.000226</td>\n",
        "      <td> 0.827768</td>\n",
        "      <td> 48.788666</td>\n",
        "    </tr>\n",
        "    <tr>\n",
        "      <th>40066</th>\n",
        "      <td>  3332</td>\n",
        "      <td>  399342</td>\n",
        "      <td> 0.000038</td>\n",
        "      <td> 0.000213</td>\n",
        "      <td> 0.782285</td>\n",
        "      <td> 49.570951</td>\n",
        "    </tr>\n",
        "    <tr>\n",
        "      <th>40392</th>\n",
        "      <td>  3343</td>\n",
        "      <td>  787566</td>\n",
        "      <td> 0.000038</td>\n",
        "      <td> 0.000212</td>\n",
        "      <td> 0.777456</td>\n",
        "      <td> 50.348408</td>\n",
        "    </tr>\n",
        "    <tr>\n",
        "      <th>39978</th>\n",
        "      <td>  3271</td>\n",
        "      <td>  462832</td>\n",
        "      <td> 0.000037</td>\n",
        "      <td> 0.000211</td>\n",
        "      <td> 0.772911</td>\n",
        "      <td> 51.121319</td>\n",
        "    </tr>\n",
        "    <tr>\n",
        "      <th>40393</th>\n",
        "      <td>  3309</td>\n",
        "      <td>  767944</td>\n",
        "      <td> 0.000038</td>\n",
        "      <td> 0.000207</td>\n",
        "      <td> 0.761109</td>\n",
        "      <td> 51.882427</td>\n",
        "    </tr>\n",
        "    <tr>\n",
        "      <th>39852</th>\n",
        "      <td>  3029</td>\n",
        "      <td>  443528</td>\n",
        "      <td> 0.000035</td>\n",
        "      <td> 0.000204</td>\n",
        "      <td> 0.748597</td>\n",
        "      <td> 52.631024</td>\n",
        "    </tr>\n",
        "    <tr>\n",
        "      <th>40202</th>\n",
        "      <td>  2373</td>\n",
        "      <td> 1380149</td>\n",
        "      <td> 0.000027</td>\n",
        "      <td> 0.000191</td>\n",
        "      <td> 0.700404</td>\n",
        "      <td> 53.331429</td>\n",
        "    </tr>\n",
        "    <tr>\n",
        "      <th>38857</th>\n",
        "      <td>  2320</td>\n",
        "      <td> 1077732</td>\n",
        "      <td> 0.000027</td>\n",
        "      <td> 0.000189</td>\n",
        "      <td> 0.693302</td>\n",
        "      <td> 54.024731</td>\n",
        "    </tr>\n",
        "    <tr>\n",
        "      <th>39280</th>\n",
        "      <td>  3720</td>\n",
        "      <td> 1112240</td>\n",
        "      <td> 0.000037</td>\n",
        "      <td> 0.000182</td>\n",
        "      <td> 0.666353</td>\n",
        "      <td> 54.691084</td>\n",
        "    </tr>\n",
        "    <tr>\n",
        "      <th>40064</th>\n",
        "      <td>  2792</td>\n",
        "      <td>  333202</td>\n",
        "      <td> 0.000032</td>\n",
        "      <td> 0.000178</td>\n",
        "      <td> 0.654408</td>\n",
        "      <td> 55.345492</td>\n",
        "    </tr>\n",
        "    <tr>\n",
        "      <th>40326</th>\n",
        "      <td>  2596</td>\n",
        "      <td>  570648</td>\n",
        "      <td> 0.000030</td>\n",
        "      <td> 0.000175</td>\n",
        "      <td> 0.644066</td>\n",
        "      <td> 55.989558</td>\n",
        "    </tr>\n",
        "    <tr>\n",
        "      <th>39497</th>\n",
        "      <td>  2136</td>\n",
        "      <td> 1049418</td>\n",
        "      <td> 0.000025</td>\n",
        "      <td> 0.000175</td>\n",
        "      <td> 0.642751</td>\n",
        "      <td> 56.632309</td>\n",
        "    </tr>\n",
        "    <tr>\n",
        "      <th>39729</th>\n",
        "      <td>  2564</td>\n",
        "      <td>  437847</td>\n",
        "      <td> 0.000029</td>\n",
        "      <td> 0.000174</td>\n",
        "      <td> 0.639612</td>\n",
        "      <td> 57.271921</td>\n",
        "    </tr>\n",
        "    <tr>\n",
        "      <th>39938</th>\n",
        "      <td>  2738</td>\n",
        "      <td>  352399</td>\n",
        "      <td> 0.000031</td>\n",
        "      <td> 0.000167</td>\n",
        "      <td> 0.612458</td>\n",
        "      <td> 57.884379</td>\n",
        "    </tr>\n",
        "    <tr>\n",
        "      <th>39730</th>\n",
        "      <td>  2498</td>\n",
        "      <td>  357150</td>\n",
        "      <td> 0.000029</td>\n",
        "      <td> 0.000166</td>\n",
        "      <td> 0.609264</td>\n",
        "      <td> 58.493643</td>\n",
        "    </tr>\n",
        "    <tr>\n",
        "      <th>40142</th>\n",
        "      <td>  2410</td>\n",
        "      <td>  355912</td>\n",
        "      <td> 0.000028</td>\n",
        "      <td> 0.000162</td>\n",
        "      <td> 0.593091</td>\n",
        "      <td> 59.086734</td>\n",
        "    </tr>\n",
        "    <tr>\n",
        "      <th>39939</th>\n",
        "      <td>  2616</td>\n",
        "      <td>  325261</td>\n",
        "      <td> 0.000029</td>\n",
        "      <td> 0.000158</td>\n",
        "      <td> 0.580855</td>\n",
        "      <td> 59.667589</td>\n",
        "    </tr>\n",
        "    <tr>\n",
        "      <th>39698</th>\n",
        "      <td>  1925</td>\n",
        "      <td>  878954</td>\n",
        "      <td> 0.000022</td>\n",
        "      <td> 0.000156</td>\n",
        "      <td> 0.571682</td>\n",
        "      <td> 60.239271</td>\n",
        "    </tr>\n",
        "    <tr>\n",
        "      <th>39199</th>\n",
        "      <td>  2444</td>\n",
        "      <td>  298068</td>\n",
        "      <td> 0.000028</td>\n",
        "      <td> 0.000155</td>\n",
        "      <td> 0.568482</td>\n",
        "      <td> 60.807753</td>\n",
        "    </tr>\n",
        "  </tbody>\n",
        "</table>\n",
        "</div>"
       ],
       "metadata": {},
       "output_type": "pyout",
       "prompt_number": 35,
       "text": [
        "       clicks  instances       sse  log_loss  log_loss%  log_loss%_cum\n",
        "ad                                                                    \n",
        "39728   21687    2801445  0.000247  0.001389   5.098086       5.098086\n",
        "39912   13224    1292342  0.000151  0.000820   3.011156       8.109243\n",
        "38656   12798    1406417  0.000146  0.000812   2.980261      11.089503\n",
        "39913   12994    1239852  0.000148  0.000807   2.963399      14.052903\n",
        "40096    9416     744317  0.000107  0.000553   2.028185      16.081087\n",
        "39840    8595     869005  0.000098  0.000545   1.999725      18.080813\n",
        "39636    7620    1023413  0.000087  0.000495   1.815923      19.896736\n",
        "40207    6994     868082  0.000080  0.000456   1.674822      21.571558\n",
        "37320    5855    1898984  0.000067  0.000419   1.537056      23.108614\n",
        "39865    6196    1071631  0.000071  0.000405   1.486990      24.595604\n",
        "38964    6413    1432138  0.000072  0.000395   1.451217      26.046821\n",
        "39929    6120    1203287  0.000070  0.000389   1.426140      27.472961\n",
        "39560    5324    1052443  0.000061  0.000363   1.330458      28.803419\n",
        "39391    6180     529967  0.000070  0.000361   1.324074      30.127494\n",
        "40396    5669     567679  0.000065  0.000352   1.291980      31.419474\n",
        "39503    9887      79250  0.000098  0.000335   1.228681      32.648154\n",
        "39702    5206     669869  0.000060  0.000332   1.219931      33.868085\n",
        "39741    5573     707713  0.000063  0.000332   1.218684      35.086769\n",
        "39688    5079     642136  0.000058  0.000330   1.210236      36.297004\n",
        "39976    4543    1158020  0.000052  0.000310   1.137488      37.434492\n",
        "38851    4415     966087  0.000050  0.000306   1.123876      38.558368\n",
        "39279    4293    1385121  0.000049  0.000295   1.082429      39.640797\n",
        "39317    4646     443075  0.000053  0.000293   1.074156      40.714953\n",
        "40395    4208     871133  0.000048  0.000266   0.975086      41.690039\n",
        "38755    4172     347818  0.000048  0.000258   0.947974      42.638013\n",
        "39419    4041     662427  0.000046  0.000257   0.941758      43.579770\n",
        "40391    3845     919008  0.000044  0.000246   0.901789      44.481559\n",
        "38574    3143     973211  0.000036  0.000245   0.899577      45.381136\n",
        "39827    2972    1477361  0.000034  0.000242   0.887884      46.269021\n",
        "39738    3587     622910  0.000041  0.000233   0.856115      47.125136\n",
        "39709    3362     510461  0.000039  0.000228   0.835762      47.960898\n",
        "40394    3591     799726  0.000041  0.000226   0.827768      48.788666\n",
        "40066    3332     399342  0.000038  0.000213   0.782285      49.570951\n",
        "40392    3343     787566  0.000038  0.000212   0.777456      50.348408\n",
        "39978    3271     462832  0.000037  0.000211   0.772911      51.121319\n",
        "40393    3309     767944  0.000038  0.000207   0.761109      51.882427\n",
        "39852    3029     443528  0.000035  0.000204   0.748597      52.631024\n",
        "40202    2373    1380149  0.000027  0.000191   0.700404      53.331429\n",
        "38857    2320    1077732  0.000027  0.000189   0.693302      54.024731\n",
        "39280    3720    1112240  0.000037  0.000182   0.666353      54.691084\n",
        "40064    2792     333202  0.000032  0.000178   0.654408      55.345492\n",
        "40326    2596     570648  0.000030  0.000175   0.644066      55.989558\n",
        "39497    2136    1049418  0.000025  0.000175   0.642751      56.632309\n",
        "39729    2564     437847  0.000029  0.000174   0.639612      57.271921\n",
        "39938    2738     352399  0.000031  0.000167   0.612458      57.884379\n",
        "39730    2498     357150  0.000029  0.000166   0.609264      58.493643\n",
        "40142    2410     355912  0.000028  0.000162   0.593091      59.086734\n",
        "39939    2616     325261  0.000029  0.000158   0.580855      59.667589\n",
        "39698    1925     878954  0.000022  0.000156   0.571682      60.239271\n",
        "39199    2444     298068  0.000028  0.000155   0.568482      60.807753"
       ]
      }
     ],
     "prompt_number": 35
    },
    {
     "cell_type": "code",
     "collapsed": false,
     "input": [
      "# merge campaigns, site names"
     ],
     "language": "python",
     "metadata": {},
     "outputs": []
    },
    {
     "cell_type": "code",
     "collapsed": false,
     "input": [
      "train_df_ad['log_loss%_cum']"
     ],
     "language": "python",
     "metadata": {},
     "outputs": [
      {
       "metadata": {},
       "output_type": "pyout",
       "prompt_number": 48,
       "text": [
        "ad\n",
        "39728     5.098086\n",
        "39912     8.109243\n",
        "38656    11.089503\n",
        "39913    14.052903\n",
        "40096    16.081087\n",
        "39840    18.080813\n",
        "39636    19.896736\n",
        "40207    21.571558\n",
        "37320    23.108614\n",
        "39865    24.595604\n",
        "38964    26.046821\n",
        "39929    27.472961\n",
        "39560    28.803419\n",
        "39391    30.127494\n",
        "40396    31.419474\n",
        "...\n",
        "39451     99.999998\n",
        "39442     99.999999\n",
        "39972     99.999999\n",
        "39963     99.999999\n",
        "39343     99.999999\n",
        "39882     99.999999\n",
        "39880     99.999999\n",
        "40021     99.999999\n",
        "40019    100.000000\n",
        "17600    100.000000\n",
        "17597    100.000000\n",
        "28630    100.000000\n",
        "39870    100.000000\n",
        "40022    100.000000\n",
        "39872    100.000000\n",
        "Name: log_loss%_cum, Length: 803, dtype: float64"
       ]
      }
     ],
     "prompt_number": 48
    },
    {
     "cell_type": "code",
     "collapsed": false,
     "input": [
      "quantiles=np.array([1,5,10,25,50,75,90,95,99])\n",
      "quant_ll=np.searchsorted(train_df_ad['log_loss%_cum'].values,quantiles)+1\n",
      "print np.vstack((quantiles,quant_ll)).T"
     ],
     "language": "python",
     "metadata": {},
     "outputs": [
      {
       "output_type": "stream",
       "stream": "stdout",
       "text": [
        "[[  1   1]\n",
        " [  5   1]\n",
        " [ 10   3]\n",
        " [ 25  11]\n",
        " [ 50  34]\n",
        " [ 75  84]\n",
        " [ 90 163]\n",
        " [ 95 230]\n",
        " [ 99 388]]\n"
       ]
      }
     ],
     "prompt_number": 51
    },
    {
     "cell_type": "code",
     "collapsed": false,
     "input": [
      "quant_ll"
     ],
     "language": "python",
     "metadata": {},
     "outputs": [
      {
       "metadata": {},
       "output_type": "pyout",
       "prompt_number": 50,
       "text": [
        "array([  0,   0,   2,  10,  33,  83, 162, 229, 387])"
       ]
      }
     ],
     "prompt_number": 50
    },
    {
     "cell_type": "code",
     "collapsed": false,
     "input": [
      "campaigns_df=train_df_mrg[['campaign_name','instances','clicks','log_loss','sse']].groupby('campaign_name').sum()"
     ],
     "language": "python",
     "metadata": {},
     "outputs": [],
     "prompt_number": 57
    },
    {
     "cell_type": "code",
     "collapsed": false,
     "input": [
      "train_df_mrg[0:5].T"
     ],
     "language": "python",
     "metadata": {},
     "outputs": [
      {
       "html": [
        "<div style=\"max-height:1000px;max-width:1500px;overflow:auto;\">\n",
        "<table border=\"1\" class=\"dataframe\">\n",
        "  <thead>\n",
        "    <tr style=\"text-align: right;\">\n",
        "      <th></th>\n",
        "      <th>0</th>\n",
        "      <th>111094</th>\n",
        "      <th>131920</th>\n",
        "      <th>152183</th>\n",
        "      <th>184175</th>\n",
        "    </tr>\n",
        "  </thead>\n",
        "  <tbody>\n",
        "    <tr>\n",
        "      <th>date</th>\n",
        "      <td>                               2014-06-24 01:00:00</td>\n",
        "      <td>                               2014-06-24 05:00:00</td>\n",
        "      <td>                               2014-06-24 06:00:00</td>\n",
        "      <td>                               2014-06-24 07:00:00</td>\n",
        "      <td>                               2014-06-24 08:00:00</td>\n",
        "    </tr>\n",
        "    <tr>\n",
        "      <th>banner_height</th>\n",
        "      <td>                                                 0</td>\n",
        "      <td>                                                 0</td>\n",
        "      <td>                                                 0</td>\n",
        "      <td>                                                 0</td>\n",
        "      <td>                                                 0</td>\n",
        "    </tr>\n",
        "    <tr>\n",
        "      <th>banner_width</th>\n",
        "      <td>                                                 0</td>\n",
        "      <td>                                                 0</td>\n",
        "      <td>                                                 0</td>\n",
        "      <td>                                                 0</td>\n",
        "      <td>                                                 0</td>\n",
        "    </tr>\n",
        "    <tr>\n",
        "      <th>site</th>\n",
        "      <td>                                             34567</td>\n",
        "      <td>                                             34567</td>\n",
        "      <td>                                             34567</td>\n",
        "      <td>                                             34567</td>\n",
        "      <td>                                             34567</td>\n",
        "    </tr>\n",
        "    <tr>\n",
        "      <th>ad</th>\n",
        "      <td>                                             39503</td>\n",
        "      <td>                                             39503</td>\n",
        "      <td>                                             39503</td>\n",
        "      <td>                                             39503</td>\n",
        "      <td>                                             39503</td>\n",
        "    </tr>\n",
        "    <tr>\n",
        "      <th>clicks</th>\n",
        "      <td>                                                 0</td>\n",
        "      <td>                                                 0</td>\n",
        "      <td>                                                 0</td>\n",
        "      <td>                                                 0</td>\n",
        "      <td>                                                 2</td>\n",
        "    </tr>\n",
        "    <tr>\n",
        "      <th>instances</th>\n",
        "      <td>                                                 1</td>\n",
        "      <td>                                                 1</td>\n",
        "      <td>                                                12</td>\n",
        "      <td>                                                 5</td>\n",
        "      <td>                                                 6</td>\n",
        "    </tr>\n",
        "    <tr>\n",
        "      <th>ad_name</th>\n",
        "      <td>                                         Inter iOS</td>\n",
        "      <td>                                         Inter iOS</td>\n",
        "      <td>                                         Inter iOS</td>\n",
        "      <td>                                         Inter iOS</td>\n",
        "      <td>                                         Inter iOS</td>\n",
        "    </tr>\n",
        "    <tr>\n",
        "      <th>ad_account_id</th>\n",
        "      <td>                                              6778</td>\n",
        "      <td>                                              6778</td>\n",
        "      <td>                                              6778</td>\n",
        "      <td>                                              6778</td>\n",
        "      <td>                                              6778</td>\n",
        "    </tr>\n",
        "    <tr>\n",
        "      <th>campaign_id</th>\n",
        "      <td>                                              4808</td>\n",
        "      <td>                                              4808</td>\n",
        "      <td>                                              4808</td>\n",
        "      <td>                                              4808</td>\n",
        "      <td>                                              4808</td>\n",
        "    </tr>\n",
        "    <tr>\n",
        "      <th>campaign_name</th>\n",
        "      <td>                                          HP Toner</td>\n",
        "      <td>                                          HP Toner</td>\n",
        "      <td>                                          HP Toner</td>\n",
        "      <td>                                          HP Toner</td>\n",
        "      <td>                                          HP Toner</td>\n",
        "    </tr>\n",
        "    <tr>\n",
        "      <th>site_name</th>\n",
        "      <td> agltb3B1Yi1pbmNyDAsSA0FwcBiSzacVDA: Fruit Ninj...</td>\n",
        "      <td> agltb3B1Yi1pbmNyDAsSA0FwcBiSzacVDA: Fruit Ninj...</td>\n",
        "      <td> agltb3B1Yi1pbmNyDAsSA0FwcBiSzacVDA: Fruit Ninj...</td>\n",
        "      <td> agltb3B1Yi1pbmNyDAsSA0FwcBiSzacVDA: Fruit Ninj...</td>\n",
        "      <td> agltb3B1Yi1pbmNyDAsSA0FwcBiSzacVDA: Fruit Ninj...</td>\n",
        "    </tr>\n",
        "    <tr>\n",
        "      <th>pub_account_id</th>\n",
        "      <td>                                              3622</td>\n",
        "      <td>                                              3622</td>\n",
        "      <td>                                              3622</td>\n",
        "      <td>                                              3622</td>\n",
        "      <td>                                              3622</td>\n",
        "    </tr>\n",
        "  </tbody>\n",
        "</table>\n",
        "</div>"
       ],
       "metadata": {},
       "output_type": "pyout",
       "prompt_number": 211,
       "text": [
        "                                                           0       \\\n",
        "date                                          2014-06-24 01:00:00   \n",
        "banner_height                                                   0   \n",
        "banner_width                                                    0   \n",
        "site                                                        34567   \n",
        "ad                                                          39503   \n",
        "clicks                                                          0   \n",
        "instances                                                       1   \n",
        "ad_name                                                 Inter iOS   \n",
        "ad_account_id                                                6778   \n",
        "campaign_id                                                  4808   \n",
        "campaign_name                                            HP Toner   \n",
        "site_name       agltb3B1Yi1pbmNyDAsSA0FwcBiSzacVDA: Fruit Ninj...   \n",
        "pub_account_id                                               3622   \n",
        "\n",
        "                                                           111094  \\\n",
        "date                                          2014-06-24 05:00:00   \n",
        "banner_height                                                   0   \n",
        "banner_width                                                    0   \n",
        "site                                                        34567   \n",
        "ad                                                          39503   \n",
        "clicks                                                          0   \n",
        "instances                                                       1   \n",
        "ad_name                                                 Inter iOS   \n",
        "ad_account_id                                                6778   \n",
        "campaign_id                                                  4808   \n",
        "campaign_name                                            HP Toner   \n",
        "site_name       agltb3B1Yi1pbmNyDAsSA0FwcBiSzacVDA: Fruit Ninj...   \n",
        "pub_account_id                                               3622   \n",
        "\n",
        "                                                           131920  \\\n",
        "date                                          2014-06-24 06:00:00   \n",
        "banner_height                                                   0   \n",
        "banner_width                                                    0   \n",
        "site                                                        34567   \n",
        "ad                                                          39503   \n",
        "clicks                                                          0   \n",
        "instances                                                      12   \n",
        "ad_name                                                 Inter iOS   \n",
        "ad_account_id                                                6778   \n",
        "campaign_id                                                  4808   \n",
        "campaign_name                                            HP Toner   \n",
        "site_name       agltb3B1Yi1pbmNyDAsSA0FwcBiSzacVDA: Fruit Ninj...   \n",
        "pub_account_id                                               3622   \n",
        "\n",
        "                                                           152183  \\\n",
        "date                                          2014-06-24 07:00:00   \n",
        "banner_height                                                   0   \n",
        "banner_width                                                    0   \n",
        "site                                                        34567   \n",
        "ad                                                          39503   \n",
        "clicks                                                          0   \n",
        "instances                                                       5   \n",
        "ad_name                                                 Inter iOS   \n",
        "ad_account_id                                                6778   \n",
        "campaign_id                                                  4808   \n",
        "campaign_name                                            HP Toner   \n",
        "site_name       agltb3B1Yi1pbmNyDAsSA0FwcBiSzacVDA: Fruit Ninj...   \n",
        "pub_account_id                                               3622   \n",
        "\n",
        "                                                           184175  \n",
        "date                                          2014-06-24 08:00:00  \n",
        "banner_height                                                   0  \n",
        "banner_width                                                    0  \n",
        "site                                                        34567  \n",
        "ad                                                          39503  \n",
        "clicks                                                          2  \n",
        "instances                                                       6  \n",
        "ad_name                                                 Inter iOS  \n",
        "ad_account_id                                                6778  \n",
        "campaign_id                                                  4808  \n",
        "campaign_name                                            HP Toner  \n",
        "site_name       agltb3B1Yi1pbmNyDAsSA0FwcBiSzacVDA: Fruit Ninj...  \n",
        "pub_account_id                                               3622  "
       ]
      }
     ],
     "prompt_number": 211
    },
    {
     "cell_type": "code",
     "collapsed": false,
     "input": [],
     "language": "python",
     "metadata": {},
     "outputs": [
      {
       "ename": "KeyError",
       "evalue": "\"['site_id'] not in index\"",
       "output_type": "pyerr",
       "traceback": [
        "\u001b[0;31m---------------------------------------------------------------------------\u001b[0m\n\u001b[0;31mKeyError\u001b[0m                                  Traceback (most recent call last)",
        "\u001b[0;32m<ipython-input-222-8380170cd828>\u001b[0m in \u001b[0;36m<module>\u001b[0;34m()\u001b[0m\n\u001b[0;32m----> 1\u001b[0;31m \u001b[0msc\u001b[0m\u001b[0;34m,\u001b[0m \u001b[0mmad_sparse_train\u001b[0m\u001b[0;34m,\u001b[0m \u001b[0mweights\u001b[0m\u001b[0;34m,\u001b[0m \u001b[0mtargets\u001b[0m\u001b[0;34m=\u001b[0m\u001b[0mlibLinear_functions\u001b[0m\u001b[0;34m.\u001b[0m\u001b[0mmake_sparse_\u001b[0m\u001b[0;34m(\u001b[0m\u001b[0mtrain_df_mrg\u001b[0m\u001b[0;34m,\u001b[0m \u001b[0mfactors\u001b[0m\u001b[0;34m,\u001b[0m \u001b[0mnon_factors\u001b[0m\u001b[0;34m,\u001b[0m \u001b[0mcut_off\u001b[0m\u001b[0;34m)\u001b[0m\u001b[0;34m\u001b[0m\u001b[0m\n\u001b[0m",
        "\u001b[0;32m/Users/sean/projects/dse/dse-production/projects/ctr_data_generation/src/libLinear_functions.py\u001b[0m in \u001b[0;36mmake_sparse_\u001b[0;34m(train_df, factors, non_factors, cut_off)\u001b[0m\n\u001b[1;32m    187\u001b[0m     \u001b[0msc\u001b[0m \u001b[0;34m=\u001b[0m \u001b[0mgen_features\u001b[0m\u001b[0;34m.\u001b[0m\u001b[0mSparseCat\u001b[0m\u001b[0;34m(\u001b[0m\u001b[0mfactors\u001b[0m\u001b[0;34m,\u001b[0m \u001b[0mnon_factors\u001b[0m\u001b[0;34m)\u001b[0m\u001b[0;34m\u001b[0m\u001b[0m\n\u001b[1;32m    188\u001b[0m     \u001b[0msc\u001b[0m\u001b[0;34m.\u001b[0m\u001b[0mset_params\u001b[0m\u001b[0;34m(\u001b[0m\u001b[0mcount_cutoff\u001b[0m\u001b[0;34m=\u001b[0m\u001b[0mcut_off\u001b[0m\u001b[0;34m)\u001b[0m\u001b[0;34m\u001b[0m\u001b[0m\n\u001b[0;32m--> 189\u001b[0;31m     \u001b[0mweights\u001b[0m \u001b[0;34m=\u001b[0m \u001b[0mclick_noclick_df\u001b[0m\u001b[0;34m[\u001b[0m\u001b[0;34m'ais'\u001b[0m\u001b[0;34m]\u001b[0m\u001b[0;34m.\u001b[0m\u001b[0mvalues\u001b[0m\u001b[0;34m\u001b[0m\u001b[0m\n\u001b[0m\u001b[1;32m    190\u001b[0m     \u001b[0mtargets\u001b[0m \u001b[0;34m=\u001b[0m \u001b[0mclick_noclick_df\u001b[0m\u001b[0;34m[\u001b[0m\u001b[0;34m'clicks'\u001b[0m\u001b[0;34m]\u001b[0m\u001b[0;34m.\u001b[0m\u001b[0mvalues\u001b[0m\u001b[0;34m\u001b[0m\u001b[0m\n\u001b[1;32m    191\u001b[0m \u001b[0;34m\u001b[0m\u001b[0m\n",
        "\u001b[0;32m/Users/sean/projects/dse/dse-production/projects/ctr_data_generation/src/gen_features.pyc\u001b[0m in \u001b[0;36mfit_weighted\u001b[0;34m(self, X, weights)\u001b[0m\n\u001b[1;32m    110\u001b[0m             \u001b[0mfs\u001b[0m\u001b[0;34m=\u001b[0m\u001b[0mf\u001b[0m\u001b[0;34m.\u001b[0m\u001b[0msplit\u001b[0m\u001b[0;34m(\u001b[0m\u001b[0;34m'*'\u001b[0m\u001b[0;34m)\u001b[0m \u001b[0;31m# either 'ad' or 'ad*site*device' etc\u001b[0m\u001b[0;34m\u001b[0m\u001b[0m\n\u001b[1;32m    111\u001b[0m             \u001b[0;31m# keep ordering or not? no checking of duplicates etc\u001b[0m\u001b[0;34m\u001b[0m\u001b[0;34m\u001b[0m\u001b[0m\n\u001b[0;32m--> 112\u001b[0;31m             \u001b[0mself\u001b[0m\u001b[0;34m.\u001b[0m\u001b[0mfactors_table_\u001b[0m\u001b[0;34m[\u001b[0m\u001b[0mf\u001b[0m\u001b[0;34m]\u001b[0m\u001b[0;34m,\u001b[0m\u001b[0mself\u001b[0m\u001b[0;34m.\u001b[0m\u001b[0mclick_rate_\u001b[0m\u001b[0;34m=\u001b[0m\u001b[0mmake_factor_table_weighted\u001b[0m\u001b[0;34m(\u001b[0m\u001b[0mX\u001b[0m\u001b[0;34m,\u001b[0m\u001b[0mfs\u001b[0m\u001b[0;34m,\u001b[0m\u001b[0mweights\u001b[0m\u001b[0;34m)\u001b[0m\u001b[0;34m\u001b[0m\u001b[0m\n\u001b[0m\u001b[1;32m    113\u001b[0m \u001b[0;34m\u001b[0m\u001b[0m\n\u001b[1;32m    114\u001b[0m     \u001b[0;32mdef\u001b[0m \u001b[0mset_params\u001b[0m\u001b[0;34m(\u001b[0m\u001b[0mself\u001b[0m\u001b[0;34m,\u001b[0m\u001b[0mcount_cutoff\u001b[0m\u001b[0;34m)\u001b[0m\u001b[0;34m:\u001b[0m\u001b[0;34m\u001b[0m\u001b[0m\n",
        "\u001b[0;32m/Users/sean/projects/dse/dse-production/projects/ctr_data_generation/src/gen_features.pyc\u001b[0m in \u001b[0;36mmake_factor_table_weighted\u001b[0;34m(dataframe, fac_name, weights)\u001b[0m\n\u001b[1;32m     55\u001b[0m \u001b[0;32mdef\u001b[0m \u001b[0mmake_factor_table_weighted\u001b[0m\u001b[0;34m(\u001b[0m\u001b[0mdataframe\u001b[0m\u001b[0;34m,\u001b[0m\u001b[0mfac_name\u001b[0m\u001b[0;34m,\u001b[0m\u001b[0mweights\u001b[0m\u001b[0;34m)\u001b[0m\u001b[0;34m:\u001b[0m\u001b[0;34m\u001b[0m\u001b[0m\n\u001b[1;32m     56\u001b[0m     \u001b[0;31m# http://stackoverflow.com/questions/10951341/pandas-dataframe-aggregate-function-using-multiple-columns\u001b[0m\u001b[0;34m\u001b[0m\u001b[0;34m\u001b[0m\u001b[0m\n\u001b[0;32m---> 57\u001b[0;31m     \u001b[0mweights_df\u001b[0m\u001b[0;34m=\u001b[0m\u001b[0mdataframe\u001b[0m\u001b[0;34m[\u001b[0m\u001b[0mfac_name\u001b[0m\u001b[0;34m]\u001b[0m \u001b[0;31m# need to deal with list of names\u001b[0m\u001b[0;34m\u001b[0m\u001b[0m\n\u001b[0m\u001b[1;32m     58\u001b[0m     \u001b[0mweights_df\u001b[0m\u001b[0;34m[\u001b[0m\u001b[0;34m'count'\u001b[0m\u001b[0;34m]\u001b[0m\u001b[0;34m=\u001b[0m\u001b[0mweights\u001b[0m\u001b[0;34m\u001b[0m\u001b[0m\n\u001b[1;32m     59\u001b[0m     \u001b[0mweights_df\u001b[0m\u001b[0;34m[\u001b[0m\u001b[0;34m'clicks'\u001b[0m\u001b[0;34m]\u001b[0m\u001b[0;34m=\u001b[0m\u001b[0mdataframe\u001b[0m\u001b[0;34m[\u001b[0m\u001b[0;34m'clicks'\u001b[0m\u001b[0;34m]\u001b[0m\u001b[0;34m\u001b[0m\u001b[0m\n",
        "\u001b[0;32m/Users/sean/anaconda/lib/python2.7/site-packages/pandas/core/frame.pyc\u001b[0m in \u001b[0;36m__getitem__\u001b[0;34m(self, key)\u001b[0m\n\u001b[1;32m   1670\u001b[0m         \u001b[0;32mif\u001b[0m \u001b[0misinstance\u001b[0m\u001b[0;34m(\u001b[0m\u001b[0mkey\u001b[0m\u001b[0;34m,\u001b[0m \u001b[0;34m(\u001b[0m\u001b[0mSeries\u001b[0m\u001b[0;34m,\u001b[0m \u001b[0mnp\u001b[0m\u001b[0;34m.\u001b[0m\u001b[0mndarray\u001b[0m\u001b[0;34m,\u001b[0m \u001b[0mlist\u001b[0m\u001b[0;34m)\u001b[0m\u001b[0;34m)\u001b[0m\u001b[0;34m:\u001b[0m\u001b[0;34m\u001b[0m\u001b[0m\n\u001b[1;32m   1671\u001b[0m             \u001b[0;31m# either boolean or fancy integer index\u001b[0m\u001b[0;34m\u001b[0m\u001b[0;34m\u001b[0m\u001b[0m\n\u001b[0;32m-> 1672\u001b[0;31m             \u001b[0;32mreturn\u001b[0m \u001b[0mself\u001b[0m\u001b[0;34m.\u001b[0m\u001b[0m_getitem_array\u001b[0m\u001b[0;34m(\u001b[0m\u001b[0mkey\u001b[0m\u001b[0;34m)\u001b[0m\u001b[0;34m\u001b[0m\u001b[0m\n\u001b[0m\u001b[1;32m   1673\u001b[0m         \u001b[0;32melif\u001b[0m \u001b[0misinstance\u001b[0m\u001b[0;34m(\u001b[0m\u001b[0mkey\u001b[0m\u001b[0;34m,\u001b[0m \u001b[0mDataFrame\u001b[0m\u001b[0;34m)\u001b[0m\u001b[0;34m:\u001b[0m\u001b[0;34m\u001b[0m\u001b[0m\n\u001b[1;32m   1674\u001b[0m             \u001b[0;32mreturn\u001b[0m \u001b[0mself\u001b[0m\u001b[0;34m.\u001b[0m\u001b[0m_getitem_frame\u001b[0m\u001b[0;34m(\u001b[0m\u001b[0mkey\u001b[0m\u001b[0;34m)\u001b[0m\u001b[0;34m\u001b[0m\u001b[0m\n",
        "\u001b[0;32m/Users/sean/anaconda/lib/python2.7/site-packages/pandas/core/frame.pyc\u001b[0m in \u001b[0;36m_getitem_array\u001b[0;34m(self, key)\u001b[0m\n\u001b[1;32m   1714\u001b[0m             \u001b[0;32mreturn\u001b[0m \u001b[0mself\u001b[0m\u001b[0;34m.\u001b[0m\u001b[0mtake\u001b[0m\u001b[0;34m(\u001b[0m\u001b[0mindexer\u001b[0m\u001b[0;34m,\u001b[0m \u001b[0maxis\u001b[0m\u001b[0;34m=\u001b[0m\u001b[0;36m0\u001b[0m\u001b[0;34m,\u001b[0m \u001b[0mconvert\u001b[0m\u001b[0;34m=\u001b[0m\u001b[0mFalse\u001b[0m\u001b[0;34m)\u001b[0m\u001b[0;34m\u001b[0m\u001b[0m\n\u001b[1;32m   1715\u001b[0m         \u001b[0;32melse\u001b[0m\u001b[0;34m:\u001b[0m\u001b[0;34m\u001b[0m\u001b[0m\n\u001b[0;32m-> 1716\u001b[0;31m             \u001b[0mindexer\u001b[0m \u001b[0;34m=\u001b[0m \u001b[0mself\u001b[0m\u001b[0;34m.\u001b[0m\u001b[0mix\u001b[0m\u001b[0;34m.\u001b[0m\u001b[0m_convert_to_indexer\u001b[0m\u001b[0;34m(\u001b[0m\u001b[0mkey\u001b[0m\u001b[0;34m,\u001b[0m \u001b[0maxis\u001b[0m\u001b[0;34m=\u001b[0m\u001b[0;36m1\u001b[0m\u001b[0;34m)\u001b[0m\u001b[0;34m\u001b[0m\u001b[0m\n\u001b[0m\u001b[1;32m   1717\u001b[0m             \u001b[0;32mreturn\u001b[0m \u001b[0mself\u001b[0m\u001b[0;34m.\u001b[0m\u001b[0mtake\u001b[0m\u001b[0;34m(\u001b[0m\u001b[0mindexer\u001b[0m\u001b[0;34m,\u001b[0m \u001b[0maxis\u001b[0m\u001b[0;34m=\u001b[0m\u001b[0;36m1\u001b[0m\u001b[0;34m,\u001b[0m \u001b[0mconvert\u001b[0m\u001b[0;34m=\u001b[0m\u001b[0mTrue\u001b[0m\u001b[0;34m)\u001b[0m\u001b[0;34m\u001b[0m\u001b[0m\n\u001b[1;32m   1718\u001b[0m \u001b[0;34m\u001b[0m\u001b[0m\n",
        "\u001b[0;32m/Users/sean/anaconda/lib/python2.7/site-packages/pandas/core/indexing.pyc\u001b[0m in \u001b[0;36m_convert_to_indexer\u001b[0;34m(self, obj, axis, is_setter)\u001b[0m\n\u001b[1;32m   1083\u001b[0m                     \u001b[0;32mif\u001b[0m \u001b[0misinstance\u001b[0m\u001b[0;34m(\u001b[0m\u001b[0mobj\u001b[0m\u001b[0;34m,\u001b[0m \u001b[0mtuple\u001b[0m\u001b[0;34m)\u001b[0m \u001b[0;32mand\u001b[0m \u001b[0mis_setter\u001b[0m\u001b[0;34m:\u001b[0m\u001b[0;34m\u001b[0m\u001b[0m\n\u001b[1;32m   1084\u001b[0m                         \u001b[0;32mreturn\u001b[0m \u001b[0;34m{\u001b[0m\u001b[0;34m'key'\u001b[0m\u001b[0;34m:\u001b[0m \u001b[0mobj\u001b[0m\u001b[0;34m}\u001b[0m\u001b[0;34m\u001b[0m\u001b[0m\n\u001b[0;32m-> 1085\u001b[0;31m                     \u001b[0;32mraise\u001b[0m \u001b[0mKeyError\u001b[0m\u001b[0;34m(\u001b[0m\u001b[0;34m'%s not in index'\u001b[0m \u001b[0;34m%\u001b[0m \u001b[0mobjarr\u001b[0m\u001b[0;34m[\u001b[0m\u001b[0mmask\u001b[0m\u001b[0;34m]\u001b[0m\u001b[0;34m)\u001b[0m\u001b[0;34m\u001b[0m\u001b[0m\n\u001b[0m\u001b[1;32m   1086\u001b[0m \u001b[0;34m\u001b[0m\u001b[0m\n\u001b[1;32m   1087\u001b[0m                 \u001b[0;32mreturn\u001b[0m \u001b[0mindexer\u001b[0m\u001b[0;34m\u001b[0m\u001b[0m\n",
        "\u001b[0;31mKeyError\u001b[0m: \"['site_id'] not in index\""
       ]
      }
     ],
     "prompt_number": 222
    },
    {
     "cell_type": "code",
     "collapsed": false,
     "input": [
      "campaigns_df.sort('log_loss',ascending=False)[0:50].plot(kind='bar',subplots=True)"
     ],
     "language": "python",
     "metadata": {},
     "outputs": [
      {
       "metadata": {},
       "output_type": "pyout",
       "prompt_number": 197,
       "text": [
        "array([<matplotlib.axes.AxesSubplot object at 0x146566c50>,\n",
        "       <matplotlib.axes.AxesSubplot object at 0x10f79aa50>,\n",
        "       <matplotlib.axes.AxesSubplot object at 0x1482d5b50>,\n",
        "       <matplotlib.axes.AxesSubplot object at 0x147be7690>], dtype=object)"
       ]
      }
     ],
     "prompt_number": 197
    },
    {
     "cell_type": "code",
     "collapsed": false,
     "input": [
      "appnope.nope()"
     ],
     "language": "python",
     "metadata": {},
     "outputs": [],
     "prompt_number": 41
    },
    {
     "cell_type": "code",
     "collapsed": false,
     "input": [
      "import appnope"
     ],
     "language": "python",
     "metadata": {},
     "outputs": [],
     "prompt_number": 35
    },
    {
     "cell_type": "code",
     "collapsed": false,
     "input": [
      "%matplotlib osx"
     ],
     "language": "python",
     "metadata": {},
     "outputs": [],
     "prompt_number": 40
    },
    {
     "cell_type": "code",
     "collapsed": false,
     "input": [
      "campaigns_df.shape"
     ],
     "language": "python",
     "metadata": {},
     "outputs": [
      {
       "ename": "NameError",
       "evalue": "name 'campaigns_df' is not defined",
       "output_type": "pyerr",
       "traceback": [
        "\u001b[0;31m---------------------------------------------------------------------------\u001b[0m\n\u001b[0;31mNameError\u001b[0m                                 Traceback (most recent call last)",
        "\u001b[0;32m<ipython-input-42-c51ddbfdc484>\u001b[0m in \u001b[0;36m<module>\u001b[0;34m()\u001b[0m\n\u001b[0;32m----> 1\u001b[0;31m \u001b[0mcampaigns_df\u001b[0m\u001b[0;34m.\u001b[0m\u001b[0mshape\u001b[0m\u001b[0;34m\u001b[0m\u001b[0m\n\u001b[0m",
        "\u001b[0;31mNameError\u001b[0m: name 'campaigns_df' is not defined"
       ]
      }
     ],
     "prompt_number": 42
    },
    {
     "cell_type": "code",
     "collapsed": false,
     "input": [
      "campaigns_df[0:100]"
     ],
     "language": "python",
     "metadata": {},
     "outputs": []
    }
   ],
   "metadata": {}
  }
 ]
}